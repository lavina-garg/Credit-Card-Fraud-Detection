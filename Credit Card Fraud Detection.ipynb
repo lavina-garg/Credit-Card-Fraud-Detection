{
  "nbformat": 4,
  "nbformat_minor": 5,
  "metadata": {
    "colab": {
      "name": "eda_(2).ipynb",
      "provenance": []
    },
    "kernelspec": {
      "display_name": "Python 3",
      "language": "python",
      "name": "python3"
    },
    "language_info": {
      "codemirror_mode": {
        "name": "ipython",
        "version": 3
      },
      "file_extension": ".py",
      "mimetype": "text/x-python",
      "name": "python",
      "nbconvert_exporter": "python",
      "pygments_lexer": "ipython3",
      "version": "3.8.8"
    }
  },
  "cells": [
    {
      "cell_type": "code",
      "metadata": {
        "id": "d44f85d6-cc5c-4511-a03a-b4c19b4c1d56",
        "colab": {
          "base_uri": "https://localhost:8080/"
        },
        "outputId": "18547c41-433e-483a-9e67-6b201df5a3d4"
      },
      "source": [
        "import numpy as np\n",
        "import pandas as pd\n",
        "import io\n",
        "import matplotlib.pyplot as plt\n",
        "import seaborn as sns\n",
        "import matplotlib as mpl\n",
        "from datetime import datetime\n",
        "from imblearn.over_sampling import SMOTE\n",
        "import warnings\n",
        "warnings.filterwarnings('ignore')\n",
        "%matplotlib inline"
      ],
      "id": "d44f85d6-cc5c-4511-a03a-b4c19b4c1d56",
      "execution_count": 1,
      "outputs": [
        {
          "output_type": "stream",
          "text": [
            "/usr/local/lib/python3.7/dist-packages/sklearn/externals/six.py:31: FutureWarning: The module is deprecated in version 0.21 and will be removed in version 0.23 since we've dropped support for Python 2.7. Please rely on the official version of six (https://pypi.org/project/six/).\n",
            "  \"(https://pypi.org/project/six/).\", FutureWarning)\n",
            "/usr/local/lib/python3.7/dist-packages/sklearn/utils/deprecation.py:144: FutureWarning: The sklearn.neighbors.base module is  deprecated in version 0.22 and will be removed in version 0.24. The corresponding classes / functions should instead be imported from sklearn.neighbors. Anything that cannot be imported from sklearn.neighbors is now part of the private API.\n",
            "  warnings.warn(message, FutureWarning)\n"
          ],
          "name": "stderr"
        }
      ]
    },
    {
      "cell_type": "code",
      "metadata": {
        "colab": {
          "base_uri": "https://localhost:8080/"
        },
        "id": "HMX-4q1bXnbz",
        "outputId": "0abd07fa-fab0-4700-b246-da188e22441f"
      },
      "source": [
        "pip install folium"
      ],
      "id": "HMX-4q1bXnbz",
      "execution_count": 2,
      "outputs": [
        {
          "output_type": "stream",
          "text": [
            "Requirement already satisfied: folium in /usr/local/lib/python3.7/dist-packages (0.8.3)\n",
            "Requirement already satisfied: numpy in /usr/local/lib/python3.7/dist-packages (from folium) (1.19.5)\n",
            "Requirement already satisfied: branca>=0.3.0 in /usr/local/lib/python3.7/dist-packages (from folium) (0.4.2)\n",
            "Requirement already satisfied: six in /usr/local/lib/python3.7/dist-packages (from folium) (1.15.0)\n",
            "Requirement already satisfied: requests in /usr/local/lib/python3.7/dist-packages (from folium) (2.23.0)\n",
            "Requirement already satisfied: jinja2 in /usr/local/lib/python3.7/dist-packages (from folium) (2.11.3)\n",
            "Requirement already satisfied: MarkupSafe>=0.23 in /usr/local/lib/python3.7/dist-packages (from jinja2->folium) (2.0.1)\n",
            "Requirement already satisfied: chardet<4,>=3.0.2 in /usr/local/lib/python3.7/dist-packages (from requests->folium) (3.0.4)\n",
            "Requirement already satisfied: certifi>=2017.4.17 in /usr/local/lib/python3.7/dist-packages (from requests->folium) (2021.5.30)\n",
            "Requirement already satisfied: urllib3!=1.25.0,!=1.25.1,<1.26,>=1.21.1 in /usr/local/lib/python3.7/dist-packages (from requests->folium) (1.24.3)\n",
            "Requirement already satisfied: idna<3,>=2.5 in /usr/local/lib/python3.7/dist-packages (from requests->folium) (2.10)\n"
          ],
          "name": "stdout"
        }
      ]
    },
    {
      "cell_type": "code",
      "metadata": {
        "colab": {
          "base_uri": "https://localhost:8080/"
        },
        "id": "g9bjj7PMGHA-",
        "outputId": "4e1d35ac-6ac1-49c0-d9ea-f66b7a5e746d"
      },
      "source": [
        "! pip install kaggle\n"
      ],
      "id": "g9bjj7PMGHA-",
      "execution_count": 3,
      "outputs": [
        {
          "output_type": "stream",
          "text": [
            "Requirement already satisfied: kaggle in /usr/local/lib/python3.7/dist-packages (1.5.12)\n",
            "Requirement already satisfied: six>=1.10 in /usr/local/lib/python3.7/dist-packages (from kaggle) (1.15.0)\n",
            "Requirement already satisfied: certifi in /usr/local/lib/python3.7/dist-packages (from kaggle) (2021.5.30)\n",
            "Requirement already satisfied: python-dateutil in /usr/local/lib/python3.7/dist-packages (from kaggle) (2.8.2)\n",
            "Requirement already satisfied: python-slugify in /usr/local/lib/python3.7/dist-packages (from kaggle) (5.0.2)\n",
            "Requirement already satisfied: requests in /usr/local/lib/python3.7/dist-packages (from kaggle) (2.23.0)\n",
            "Requirement already satisfied: tqdm in /usr/local/lib/python3.7/dist-packages (from kaggle) (4.62.0)\n",
            "Requirement already satisfied: urllib3 in /usr/local/lib/python3.7/dist-packages (from kaggle) (1.24.3)\n",
            "Requirement already satisfied: text-unidecode>=1.3 in /usr/local/lib/python3.7/dist-packages (from python-slugify->kaggle) (1.3)\n",
            "Requirement already satisfied: chardet<4,>=3.0.2 in /usr/local/lib/python3.7/dist-packages (from requests->kaggle) (3.0.4)\n",
            "Requirement already satisfied: idna<3,>=2.5 in /usr/local/lib/python3.7/dist-packages (from requests->kaggle) (2.10)\n"
          ],
          "name": "stdout"
        }
      ]
    },
    {
      "cell_type": "code",
      "metadata": {
        "id": "hgY0t9L5GNiJ",
        "colab": {
          "base_uri": "https://localhost:8080/"
        },
        "outputId": "a1df6579-e526-4de1-a4e0-1f90117a6178"
      },
      "source": [
        "! mkdir ~/.kaggle"
      ],
      "id": "hgY0t9L5GNiJ",
      "execution_count": 4,
      "outputs": [
        {
          "output_type": "stream",
          "text": [
            "mkdir: cannot create directory ‘/root/.kaggle’: File exists\n"
          ],
          "name": "stdout"
        }
      ]
    },
    {
      "cell_type": "code",
      "metadata": {
        "id": "h3aOrNoaGWHA"
      },
      "source": [
        "! cp kaggle.json ~/.kaggle/"
      ],
      "id": "h3aOrNoaGWHA",
      "execution_count": 5,
      "outputs": []
    },
    {
      "cell_type": "code",
      "metadata": {
        "id": "2YiLHQ9OGd8-"
      },
      "source": [
        "! chmod 600 ~/.kaggle/kaggle.json"
      ],
      "id": "2YiLHQ9OGd8-",
      "execution_count": 6,
      "outputs": []
    },
    {
      "cell_type": "code",
      "metadata": {
        "colab": {
          "base_uri": "https://localhost:8080/"
        },
        "id": "ur5Ut55KGu4r",
        "outputId": "b0d4a17c-56bc-4195-8196-980292fc1066"
      },
      "source": [
        "! kaggle datasets download kartik2112/fraud-detection -f fraudTrain.csv"
      ],
      "id": "ur5Ut55KGu4r",
      "execution_count": 7,
      "outputs": [
        {
          "output_type": "stream",
          "text": [
            "fraudTrain.csv.zip: Skipping, found more recently modified local copy (use --force to force download)\n"
          ],
          "name": "stdout"
        }
      ]
    },
    {
      "cell_type": "code",
      "metadata": {
        "colab": {
          "base_uri": "https://localhost:8080/"
        },
        "id": "vWm_kLr2H08w",
        "outputId": "69a26c84-45e5-40a2-c8c2-94cad5f28b36"
      },
      "source": [
        "! kaggle datasets download kartik2112/fraud-detection -f fraudTest.csv"
      ],
      "id": "vWm_kLr2H08w",
      "execution_count": 8,
      "outputs": [
        {
          "output_type": "stream",
          "text": [
            "fraudTest.csv.zip: Skipping, found more recently modified local copy (use --force to force download)\n"
          ],
          "name": "stdout"
        }
      ]
    },
    {
      "cell_type": "code",
      "metadata": {
        "colab": {
          "base_uri": "https://localhost:8080/"
        },
        "id": "Gau6vZ1QHIDa",
        "outputId": "1cb5575c-3ebb-4a9f-e367-711e33a9d127"
      },
      "source": [
        "! unzip fraudTrain.csv\n"
      ],
      "id": "Gau6vZ1QHIDa",
      "execution_count": 9,
      "outputs": [
        {
          "output_type": "stream",
          "text": [
            "Archive:  fraudTrain.csv\n",
            "  End-of-central-directory signature not found.  Either this file is not\n",
            "  a zipfile, or it constitutes one disk of a multi-part archive.  In the\n",
            "  latter case the central directory and zipfile comment will be found on\n",
            "  the last disk(s) of this archive.\n",
            "Archive:  fraudTrain.csv.zip\n",
            "replace fraudTrain.csv? [y]es, [n]o, [A]ll, [N]one, [r]ename: y\n",
            "  inflating: fraudTrain.csv          \n"
          ],
          "name": "stdout"
        }
      ]
    },
    {
      "cell_type": "code",
      "metadata": {
        "colab": {
          "base_uri": "https://localhost:8080/"
        },
        "id": "0NgIngeJHUHe",
        "outputId": "ebf98cb5-6172-4df0-856a-58b85b49034f"
      },
      "source": [
        "! unzip fraudTest.csv"
      ],
      "id": "0NgIngeJHUHe",
      "execution_count": 10,
      "outputs": [
        {
          "output_type": "stream",
          "text": [
            "Archive:  fraudTest.csv\n",
            "  End-of-central-directory signature not found.  Either this file is not\n",
            "  a zipfile, or it constitutes one disk of a multi-part archive.  In the\n",
            "  latter case the central directory and zipfile comment will be found on\n",
            "  the last disk(s) of this archive.\n",
            "Archive:  fraudTest.csv.zip\n",
            "replace fraudTest.csv? [y]es, [n]o, [A]ll, [N]one, [r]ename: y\n",
            "  inflating: fraudTest.csv           \n"
          ],
          "name": "stdout"
        }
      ]
    },
    {
      "cell_type": "code",
      "metadata": {
        "colab": {
          "base_uri": "https://localhost:8080/",
          "height": 492
        },
        "id": "721a2244-db67-4b40-8454-10c8ba9240c5",
        "outputId": "a7f179a7-5d24-4b04-b3e8-544b5a5b41b0"
      },
      "source": [
        "#Reading two data sets and combining them into single data frame\n",
        "df1 = pd.read_csv('fraudTrain.csv')\n",
        "df1 = df1.drop(df1.columns[0], axis=1)\n",
        "\n",
        "\n",
        "df2 = pd.read_csv('fraudTest.csv')\n",
        "df2 = df2.drop(df2.columns[0], axis=1)\n",
        "\n",
        "df = pd.concat([df1,df2])\n",
        "df.head()"
      ],
      "id": "721a2244-db67-4b40-8454-10c8ba9240c5",
      "execution_count": 11,
      "outputs": [
        {
          "output_type": "execute_result",
          "data": {
            "text/html": [
              "<div>\n",
              "<style scoped>\n",
              "    .dataframe tbody tr th:only-of-type {\n",
              "        vertical-align: middle;\n",
              "    }\n",
              "\n",
              "    .dataframe tbody tr th {\n",
              "        vertical-align: top;\n",
              "    }\n",
              "\n",
              "    .dataframe thead th {\n",
              "        text-align: right;\n",
              "    }\n",
              "</style>\n",
              "<table border=\"1\" class=\"dataframe\">\n",
              "  <thead>\n",
              "    <tr style=\"text-align: right;\">\n",
              "      <th></th>\n",
              "      <th>trans_date_trans_time</th>\n",
              "      <th>cc_num</th>\n",
              "      <th>merchant</th>\n",
              "      <th>category</th>\n",
              "      <th>amt</th>\n",
              "      <th>first</th>\n",
              "      <th>last</th>\n",
              "      <th>gender</th>\n",
              "      <th>street</th>\n",
              "      <th>city</th>\n",
              "      <th>state</th>\n",
              "      <th>zip</th>\n",
              "      <th>lat</th>\n",
              "      <th>long</th>\n",
              "      <th>city_pop</th>\n",
              "      <th>job</th>\n",
              "      <th>dob</th>\n",
              "      <th>trans_num</th>\n",
              "      <th>unix_time</th>\n",
              "      <th>merch_lat</th>\n",
              "      <th>merch_long</th>\n",
              "      <th>is_fraud</th>\n",
              "    </tr>\n",
              "  </thead>\n",
              "  <tbody>\n",
              "    <tr>\n",
              "      <th>0</th>\n",
              "      <td>2019-01-01 00:00:18</td>\n",
              "      <td>2703186189652095</td>\n",
              "      <td>fraud_Rippin, Kub and Mann</td>\n",
              "      <td>misc_net</td>\n",
              "      <td>4.97</td>\n",
              "      <td>Jennifer</td>\n",
              "      <td>Banks</td>\n",
              "      <td>F</td>\n",
              "      <td>561 Perry Cove</td>\n",
              "      <td>Moravian Falls</td>\n",
              "      <td>NC</td>\n",
              "      <td>28654</td>\n",
              "      <td>36.0788</td>\n",
              "      <td>-81.1781</td>\n",
              "      <td>3495</td>\n",
              "      <td>Psychologist, counselling</td>\n",
              "      <td>1988-03-09</td>\n",
              "      <td>0b242abb623afc578575680df30655b9</td>\n",
              "      <td>1325376018</td>\n",
              "      <td>36.011293</td>\n",
              "      <td>-82.048315</td>\n",
              "      <td>0</td>\n",
              "    </tr>\n",
              "    <tr>\n",
              "      <th>1</th>\n",
              "      <td>2019-01-01 00:00:44</td>\n",
              "      <td>630423337322</td>\n",
              "      <td>fraud_Heller, Gutmann and Zieme</td>\n",
              "      <td>grocery_pos</td>\n",
              "      <td>107.23</td>\n",
              "      <td>Stephanie</td>\n",
              "      <td>Gill</td>\n",
              "      <td>F</td>\n",
              "      <td>43039 Riley Greens Suite 393</td>\n",
              "      <td>Orient</td>\n",
              "      <td>WA</td>\n",
              "      <td>99160</td>\n",
              "      <td>48.8878</td>\n",
              "      <td>-118.2105</td>\n",
              "      <td>149</td>\n",
              "      <td>Special educational needs teacher</td>\n",
              "      <td>1978-06-21</td>\n",
              "      <td>1f76529f8574734946361c461b024d99</td>\n",
              "      <td>1325376044</td>\n",
              "      <td>49.159047</td>\n",
              "      <td>-118.186462</td>\n",
              "      <td>0</td>\n",
              "    </tr>\n",
              "    <tr>\n",
              "      <th>2</th>\n",
              "      <td>2019-01-01 00:00:51</td>\n",
              "      <td>38859492057661</td>\n",
              "      <td>fraud_Lind-Buckridge</td>\n",
              "      <td>entertainment</td>\n",
              "      <td>220.11</td>\n",
              "      <td>Edward</td>\n",
              "      <td>Sanchez</td>\n",
              "      <td>M</td>\n",
              "      <td>594 White Dale Suite 530</td>\n",
              "      <td>Malad City</td>\n",
              "      <td>ID</td>\n",
              "      <td>83252</td>\n",
              "      <td>42.1808</td>\n",
              "      <td>-112.2620</td>\n",
              "      <td>4154</td>\n",
              "      <td>Nature conservation officer</td>\n",
              "      <td>1962-01-19</td>\n",
              "      <td>a1a22d70485983eac12b5b88dad1cf95</td>\n",
              "      <td>1325376051</td>\n",
              "      <td>43.150704</td>\n",
              "      <td>-112.154481</td>\n",
              "      <td>0</td>\n",
              "    </tr>\n",
              "    <tr>\n",
              "      <th>3</th>\n",
              "      <td>2019-01-01 00:01:16</td>\n",
              "      <td>3534093764340240</td>\n",
              "      <td>fraud_Kutch, Hermiston and Farrell</td>\n",
              "      <td>gas_transport</td>\n",
              "      <td>45.00</td>\n",
              "      <td>Jeremy</td>\n",
              "      <td>White</td>\n",
              "      <td>M</td>\n",
              "      <td>9443 Cynthia Court Apt. 038</td>\n",
              "      <td>Boulder</td>\n",
              "      <td>MT</td>\n",
              "      <td>59632</td>\n",
              "      <td>46.2306</td>\n",
              "      <td>-112.1138</td>\n",
              "      <td>1939</td>\n",
              "      <td>Patent attorney</td>\n",
              "      <td>1967-01-12</td>\n",
              "      <td>6b849c168bdad6f867558c3793159a81</td>\n",
              "      <td>1325376076</td>\n",
              "      <td>47.034331</td>\n",
              "      <td>-112.561071</td>\n",
              "      <td>0</td>\n",
              "    </tr>\n",
              "    <tr>\n",
              "      <th>4</th>\n",
              "      <td>2019-01-01 00:03:06</td>\n",
              "      <td>375534208663984</td>\n",
              "      <td>fraud_Keeling-Crist</td>\n",
              "      <td>misc_pos</td>\n",
              "      <td>41.96</td>\n",
              "      <td>Tyler</td>\n",
              "      <td>Garcia</td>\n",
              "      <td>M</td>\n",
              "      <td>408 Bradley Rest</td>\n",
              "      <td>Doe Hill</td>\n",
              "      <td>VA</td>\n",
              "      <td>24433</td>\n",
              "      <td>38.4207</td>\n",
              "      <td>-79.4629</td>\n",
              "      <td>99</td>\n",
              "      <td>Dance movement psychotherapist</td>\n",
              "      <td>1986-03-28</td>\n",
              "      <td>a41d7549acf90789359a9aa5346dcb46</td>\n",
              "      <td>1325376186</td>\n",
              "      <td>38.674999</td>\n",
              "      <td>-78.632459</td>\n",
              "      <td>0</td>\n",
              "    </tr>\n",
              "  </tbody>\n",
              "</table>\n",
              "</div>"
            ],
            "text/plain": [
              "  trans_date_trans_time            cc_num  ...  merch_long is_fraud\n",
              "0   2019-01-01 00:00:18  2703186189652095  ...  -82.048315        0\n",
              "1   2019-01-01 00:00:44      630423337322  ... -118.186462        0\n",
              "2   2019-01-01 00:00:51    38859492057661  ... -112.154481        0\n",
              "3   2019-01-01 00:01:16  3534093764340240  ... -112.561071        0\n",
              "4   2019-01-01 00:03:06   375534208663984  ...  -78.632459        0\n",
              "\n",
              "[5 rows x 22 columns]"
            ]
          },
          "metadata": {
            "tags": []
          },
          "execution_count": 11
        }
      ]
    },
    {
      "cell_type": "markdown",
      "metadata": {
        "id": "ca73c1a6-da55-484f-8074-ff2f40800527"
      },
      "source": [
        "# EDA"
      ],
      "id": "ca73c1a6-da55-484f-8074-ff2f40800527"
    },
    {
      "cell_type": "code",
      "metadata": {
        "id": "6f74931e-eae7-457a-a6f1-9d5f5bf7bf57",
        "colab": {
          "base_uri": "https://localhost:8080/"
        },
        "outputId": "5661ec63-88eb-440f-cbe9-0956a03e4b87"
      },
      "source": [
        "df.shape"
      ],
      "id": "6f74931e-eae7-457a-a6f1-9d5f5bf7bf57",
      "execution_count": 12,
      "outputs": [
        {
          "output_type": "execute_result",
          "data": {
            "text/plain": [
              "(1852394, 22)"
            ]
          },
          "metadata": {
            "tags": []
          },
          "execution_count": 12
        }
      ]
    },
    {
      "cell_type": "code",
      "metadata": {
        "id": "ee6a6604-75c5-46fc-afd5-2f3e20ea120d",
        "colab": {
          "base_uri": "https://localhost:8080/"
        },
        "outputId": "23c5cae9-8495-4767-e726-3664abc7a5d0"
      },
      "source": [
        "df.info()"
      ],
      "id": "ee6a6604-75c5-46fc-afd5-2f3e20ea120d",
      "execution_count": 13,
      "outputs": [
        {
          "output_type": "stream",
          "text": [
            "<class 'pandas.core.frame.DataFrame'>\n",
            "Int64Index: 1852394 entries, 0 to 555718\n",
            "Data columns (total 22 columns):\n",
            " #   Column                 Dtype  \n",
            "---  ------                 -----  \n",
            " 0   trans_date_trans_time  object \n",
            " 1   cc_num                 int64  \n",
            " 2   merchant               object \n",
            " 3   category               object \n",
            " 4   amt                    float64\n",
            " 5   first                  object \n",
            " 6   last                   object \n",
            " 7   gender                 object \n",
            " 8   street                 object \n",
            " 9   city                   object \n",
            " 10  state                  object \n",
            " 11  zip                    int64  \n",
            " 12  lat                    float64\n",
            " 13  long                   float64\n",
            " 14  city_pop               int64  \n",
            " 15  job                    object \n",
            " 16  dob                    object \n",
            " 17  trans_num              object \n",
            " 18  unix_time              int64  \n",
            " 19  merch_lat              float64\n",
            " 20  merch_long             float64\n",
            " 21  is_fraud               int64  \n",
            "dtypes: float64(5), int64(5), object(12)\n",
            "memory usage: 325.1+ MB\n"
          ],
          "name": "stdout"
        }
      ]
    },
    {
      "cell_type": "code",
      "metadata": {
        "id": "a2eb968f-c645-4e27-891a-1e067164e0ea",
        "colab": {
          "base_uri": "https://localhost:8080/"
        },
        "outputId": "2e4da686-4056-4ba4-88b4-5f76a15b9a7a"
      },
      "source": [
        "#Checking null values\n",
        "df.isnull().sum()"
      ],
      "id": "a2eb968f-c645-4e27-891a-1e067164e0ea",
      "execution_count": 14,
      "outputs": [
        {
          "output_type": "execute_result",
          "data": {
            "text/plain": [
              "trans_date_trans_time    0\n",
              "cc_num                   0\n",
              "merchant                 0\n",
              "category                 0\n",
              "amt                      0\n",
              "first                    0\n",
              "last                     0\n",
              "gender                   0\n",
              "street                   0\n",
              "city                     0\n",
              "state                    0\n",
              "zip                      0\n",
              "lat                      0\n",
              "long                     0\n",
              "city_pop                 0\n",
              "job                      0\n",
              "dob                      0\n",
              "trans_num                0\n",
              "unix_time                0\n",
              "merch_lat                0\n",
              "merch_long               0\n",
              "is_fraud                 0\n",
              "dtype: int64"
            ]
          },
          "metadata": {
            "tags": []
          },
          "execution_count": 14
        }
      ]
    },
    {
      "cell_type": "code",
      "metadata": {
        "id": "9710d697-6f62-4060-aa05-3ef035a88248",
        "colab": {
          "base_uri": "https://localhost:8080/",
          "height": 295
        },
        "outputId": "9576fd00-c124-41f7-abf6-99c95a01ffec"
      },
      "source": [
        "df.describe()"
      ],
      "id": "9710d697-6f62-4060-aa05-3ef035a88248",
      "execution_count": 15,
      "outputs": [
        {
          "output_type": "execute_result",
          "data": {
            "text/html": [
              "<div>\n",
              "<style scoped>\n",
              "    .dataframe tbody tr th:only-of-type {\n",
              "        vertical-align: middle;\n",
              "    }\n",
              "\n",
              "    .dataframe tbody tr th {\n",
              "        vertical-align: top;\n",
              "    }\n",
              "\n",
              "    .dataframe thead th {\n",
              "        text-align: right;\n",
              "    }\n",
              "</style>\n",
              "<table border=\"1\" class=\"dataframe\">\n",
              "  <thead>\n",
              "    <tr style=\"text-align: right;\">\n",
              "      <th></th>\n",
              "      <th>cc_num</th>\n",
              "      <th>amt</th>\n",
              "      <th>zip</th>\n",
              "      <th>lat</th>\n",
              "      <th>long</th>\n",
              "      <th>city_pop</th>\n",
              "      <th>unix_time</th>\n",
              "      <th>merch_lat</th>\n",
              "      <th>merch_long</th>\n",
              "      <th>is_fraud</th>\n",
              "    </tr>\n",
              "  </thead>\n",
              "  <tbody>\n",
              "    <tr>\n",
              "      <th>count</th>\n",
              "      <td>1.852394e+06</td>\n",
              "      <td>1.852394e+06</td>\n",
              "      <td>1.852394e+06</td>\n",
              "      <td>1.852394e+06</td>\n",
              "      <td>1.852394e+06</td>\n",
              "      <td>1.852394e+06</td>\n",
              "      <td>1.852394e+06</td>\n",
              "      <td>1.852394e+06</td>\n",
              "      <td>1.852394e+06</td>\n",
              "      <td>1.852394e+06</td>\n",
              "    </tr>\n",
              "    <tr>\n",
              "      <th>mean</th>\n",
              "      <td>4.173860e+17</td>\n",
              "      <td>7.006357e+01</td>\n",
              "      <td>4.881326e+04</td>\n",
              "      <td>3.853931e+01</td>\n",
              "      <td>-9.022783e+01</td>\n",
              "      <td>8.864367e+04</td>\n",
              "      <td>1.358674e+09</td>\n",
              "      <td>3.853898e+01</td>\n",
              "      <td>-9.022794e+01</td>\n",
              "      <td>5.210015e-03</td>\n",
              "    </tr>\n",
              "    <tr>\n",
              "      <th>std</th>\n",
              "      <td>1.309115e+18</td>\n",
              "      <td>1.592540e+02</td>\n",
              "      <td>2.688185e+04</td>\n",
              "      <td>5.071470e+00</td>\n",
              "      <td>1.374789e+01</td>\n",
              "      <td>3.014876e+05</td>\n",
              "      <td>1.819508e+07</td>\n",
              "      <td>5.105604e+00</td>\n",
              "      <td>1.375969e+01</td>\n",
              "      <td>7.199217e-02</td>\n",
              "    </tr>\n",
              "    <tr>\n",
              "      <th>min</th>\n",
              "      <td>6.041621e+10</td>\n",
              "      <td>1.000000e+00</td>\n",
              "      <td>1.257000e+03</td>\n",
              "      <td>2.002710e+01</td>\n",
              "      <td>-1.656723e+02</td>\n",
              "      <td>2.300000e+01</td>\n",
              "      <td>1.325376e+09</td>\n",
              "      <td>1.902742e+01</td>\n",
              "      <td>-1.666716e+02</td>\n",
              "      <td>0.000000e+00</td>\n",
              "    </tr>\n",
              "    <tr>\n",
              "      <th>25%</th>\n",
              "      <td>1.800429e+14</td>\n",
              "      <td>9.640000e+00</td>\n",
              "      <td>2.623700e+04</td>\n",
              "      <td>3.466890e+01</td>\n",
              "      <td>-9.679800e+01</td>\n",
              "      <td>7.410000e+02</td>\n",
              "      <td>1.343017e+09</td>\n",
              "      <td>3.474012e+01</td>\n",
              "      <td>-9.689944e+01</td>\n",
              "      <td>0.000000e+00</td>\n",
              "    </tr>\n",
              "    <tr>\n",
              "      <th>50%</th>\n",
              "      <td>3.521417e+15</td>\n",
              "      <td>4.745000e+01</td>\n",
              "      <td>4.817400e+04</td>\n",
              "      <td>3.935430e+01</td>\n",
              "      <td>-8.747690e+01</td>\n",
              "      <td>2.443000e+03</td>\n",
              "      <td>1.357089e+09</td>\n",
              "      <td>3.936890e+01</td>\n",
              "      <td>-8.744069e+01</td>\n",
              "      <td>0.000000e+00</td>\n",
              "    </tr>\n",
              "    <tr>\n",
              "      <th>75%</th>\n",
              "      <td>4.642255e+15</td>\n",
              "      <td>8.310000e+01</td>\n",
              "      <td>7.204200e+04</td>\n",
              "      <td>4.194040e+01</td>\n",
              "      <td>-8.015800e+01</td>\n",
              "      <td>2.032800e+04</td>\n",
              "      <td>1.374581e+09</td>\n",
              "      <td>4.195626e+01</td>\n",
              "      <td>-8.024511e+01</td>\n",
              "      <td>0.000000e+00</td>\n",
              "    </tr>\n",
              "    <tr>\n",
              "      <th>max</th>\n",
              "      <td>4.992346e+18</td>\n",
              "      <td>2.894890e+04</td>\n",
              "      <td>9.992100e+04</td>\n",
              "      <td>6.669330e+01</td>\n",
              "      <td>-6.795030e+01</td>\n",
              "      <td>2.906700e+06</td>\n",
              "      <td>1.388534e+09</td>\n",
              "      <td>6.751027e+01</td>\n",
              "      <td>-6.695090e+01</td>\n",
              "      <td>1.000000e+00</td>\n",
              "    </tr>\n",
              "  </tbody>\n",
              "</table>\n",
              "</div>"
            ],
            "text/plain": [
              "             cc_num           amt  ...    merch_long      is_fraud\n",
              "count  1.852394e+06  1.852394e+06  ...  1.852394e+06  1.852394e+06\n",
              "mean   4.173860e+17  7.006357e+01  ... -9.022794e+01  5.210015e-03\n",
              "std    1.309115e+18  1.592540e+02  ...  1.375969e+01  7.199217e-02\n",
              "min    6.041621e+10  1.000000e+00  ... -1.666716e+02  0.000000e+00\n",
              "25%    1.800429e+14  9.640000e+00  ... -9.689944e+01  0.000000e+00\n",
              "50%    3.521417e+15  4.745000e+01  ... -8.744069e+01  0.000000e+00\n",
              "75%    4.642255e+15  8.310000e+01  ... -8.024511e+01  0.000000e+00\n",
              "max    4.992346e+18  2.894890e+04  ... -6.695090e+01  1.000000e+00\n",
              "\n",
              "[8 rows x 10 columns]"
            ]
          },
          "metadata": {
            "tags": []
          },
          "execution_count": 15
        }
      ]
    },
    {
      "cell_type": "code",
      "metadata": {
        "id": "38b9babb-909a-42c0-abda-9edcf8abdb6c",
        "colab": {
          "base_uri": "https://localhost:8080/"
        },
        "outputId": "654583ef-2001-48dd-a692-0a71ee80985c"
      },
      "source": [
        "df.duplicated()"
      ],
      "id": "38b9babb-909a-42c0-abda-9edcf8abdb6c",
      "execution_count": 16,
      "outputs": [
        {
          "output_type": "execute_result",
          "data": {
            "text/plain": [
              "0         False\n",
              "1         False\n",
              "2         False\n",
              "3         False\n",
              "4         False\n",
              "          ...  \n",
              "555714    False\n",
              "555715    False\n",
              "555716    False\n",
              "555717    False\n",
              "555718    False\n",
              "Length: 1852394, dtype: bool"
            ]
          },
          "metadata": {
            "tags": []
          },
          "execution_count": 16
        }
      ]
    },
    {
      "cell_type": "code",
      "metadata": {
        "id": "87d193b0-69d0-4a4d-9ca6-c1cc91468eb2",
        "colab": {
          "base_uri": "https://localhost:8080/"
        },
        "outputId": "6a4710c9-e17e-48b0-8553-4579f08eae37"
      },
      "source": [
        "df.duplicated().sum()"
      ],
      "id": "87d193b0-69d0-4a4d-9ca6-c1cc91468eb2",
      "execution_count": 17,
      "outputs": [
        {
          "output_type": "execute_result",
          "data": {
            "text/plain": [
              "0"
            ]
          },
          "metadata": {
            "tags": []
          },
          "execution_count": 17
        }
      ]
    },
    {
      "cell_type": "code",
      "metadata": {
        "id": "60fb5e81-b144-4f18-a484-3fe8732d496f",
        "colab": {
          "base_uri": "https://localhost:8080/",
          "height": 110
        },
        "outputId": "1a1e8fa9-0c03-4266-98dc-02109b824b13"
      },
      "source": [
        "df_fraud=df[['is_fraud','trans_date_trans_time']].groupby('is_fraud').count().reset_index()\n",
        "df_fraud.columns=['is_fraud','count']\n",
        "df_fraud['percentage']=(df_fraud['count']/df_fraud['count'].sum())*100\n",
        "df_fraud"
      ],
      "id": "60fb5e81-b144-4f18-a484-3fe8732d496f",
      "execution_count": 18,
      "outputs": [
        {
          "output_type": "execute_result",
          "data": {
            "text/html": [
              "<div>\n",
              "<style scoped>\n",
              "    .dataframe tbody tr th:only-of-type {\n",
              "        vertical-align: middle;\n",
              "    }\n",
              "\n",
              "    .dataframe tbody tr th {\n",
              "        vertical-align: top;\n",
              "    }\n",
              "\n",
              "    .dataframe thead th {\n",
              "        text-align: right;\n",
              "    }\n",
              "</style>\n",
              "<table border=\"1\" class=\"dataframe\">\n",
              "  <thead>\n",
              "    <tr style=\"text-align: right;\">\n",
              "      <th></th>\n",
              "      <th>is_fraud</th>\n",
              "      <th>count</th>\n",
              "      <th>percentage</th>\n",
              "    </tr>\n",
              "  </thead>\n",
              "  <tbody>\n",
              "    <tr>\n",
              "      <th>0</th>\n",
              "      <td>0</td>\n",
              "      <td>1842743</td>\n",
              "      <td>99.478999</td>\n",
              "    </tr>\n",
              "    <tr>\n",
              "      <th>1</th>\n",
              "      <td>1</td>\n",
              "      <td>9651</td>\n",
              "      <td>0.521001</td>\n",
              "    </tr>\n",
              "  </tbody>\n",
              "</table>\n",
              "</div>"
            ],
            "text/plain": [
              "   is_fraud    count  percentage\n",
              "0         0  1842743   99.478999\n",
              "1         1     9651    0.521001"
            ]
          },
          "metadata": {
            "tags": []
          },
          "execution_count": 18
        }
      ]
    },
    {
      "cell_type": "code",
      "metadata": {
        "id": "529eb3c8-e3b7-4ab4-96f3-fc087b066b57",
        "colab": {
          "base_uri": "https://localhost:8080/"
        },
        "outputId": "a4c0087c-4524-4beb-e483-ab9913ef079c"
      },
      "source": [
        "#Finiding unique values in each column\n",
        "df.nunique()"
      ],
      "id": "529eb3c8-e3b7-4ab4-96f3-fc087b066b57",
      "execution_count": 19,
      "outputs": [
        {
          "output_type": "execute_result",
          "data": {
            "text/plain": [
              "trans_date_trans_time    1819551\n",
              "cc_num                       999\n",
              "merchant                     693\n",
              "category                      14\n",
              "amt                        60616\n",
              "first                        355\n",
              "last                         486\n",
              "gender                         2\n",
              "street                       999\n",
              "city                         906\n",
              "state                         51\n",
              "zip                          985\n",
              "lat                          983\n",
              "long                         983\n",
              "city_pop                     891\n",
              "job                          497\n",
              "dob                          984\n",
              "trans_num                1852394\n",
              "unix_time                1819583\n",
              "merch_lat                1754157\n",
              "merch_long               1809753\n",
              "is_fraud                       2\n",
              "dtype: int64"
            ]
          },
          "metadata": {
            "tags": []
          },
          "execution_count": 19
        }
      ]
    },
    {
      "cell_type": "code",
      "metadata": {
        "id": "85a548f0-8f25-4b70-845f-911e1d2625c9"
      },
      "source": [
        "df['trans_date_trans_time'] = pd.to_datetime(df['trans_date_trans_time'])"
      ],
      "id": "85a548f0-8f25-4b70-845f-911e1d2625c9",
      "execution_count": 20,
      "outputs": []
    },
    {
      "cell_type": "code",
      "metadata": {
        "id": "25f17432-6fc9-4359-a3c2-48a249f03391",
        "colab": {
          "base_uri": "https://localhost:8080/"
        },
        "outputId": "738def6c-2ccb-45b3-c968-07cee63ddd88"
      },
      "source": [
        "df.dtypes"
      ],
      "id": "25f17432-6fc9-4359-a3c2-48a249f03391",
      "execution_count": 21,
      "outputs": [
        {
          "output_type": "execute_result",
          "data": {
            "text/plain": [
              "trans_date_trans_time    datetime64[ns]\n",
              "cc_num                            int64\n",
              "merchant                         object\n",
              "category                         object\n",
              "amt                             float64\n",
              "first                            object\n",
              "last                             object\n",
              "gender                           object\n",
              "street                           object\n",
              "city                             object\n",
              "state                            object\n",
              "zip                               int64\n",
              "lat                             float64\n",
              "long                            float64\n",
              "city_pop                          int64\n",
              "job                              object\n",
              "dob                              object\n",
              "trans_num                        object\n",
              "unix_time                         int64\n",
              "merch_lat                       float64\n",
              "merch_long                      float64\n",
              "is_fraud                          int64\n",
              "dtype: object"
            ]
          },
          "metadata": {
            "tags": []
          },
          "execution_count": 21
        }
      ]
    },
    {
      "cell_type": "code",
      "metadata": {
        "id": "00ae80b1-6ad3-486a-ab26-0564de84995a",
        "colab": {
          "base_uri": "https://localhost:8080/"
        },
        "outputId": "46ca6652-5e0f-461d-eadd-f4cf27853c63"
      },
      "source": [
        "df['trans_hour'] = df['trans_date_trans_time'].dt.hour\n",
        "df['trans_hour']"
      ],
      "id": "00ae80b1-6ad3-486a-ab26-0564de84995a",
      "execution_count": 22,
      "outputs": [
        {
          "output_type": "execute_result",
          "data": {
            "text/plain": [
              "0          0\n",
              "1          0\n",
              "2          0\n",
              "3          0\n",
              "4          0\n",
              "          ..\n",
              "555714    23\n",
              "555715    23\n",
              "555716    23\n",
              "555717    23\n",
              "555718    23\n",
              "Name: trans_hour, Length: 1852394, dtype: int64"
            ]
          },
          "metadata": {
            "tags": []
          },
          "execution_count": 22
        }
      ]
    },
    {
      "cell_type": "code",
      "metadata": {
        "id": "ed6e7999-e663-4e07-8f0e-1c24ed8ca539",
        "colab": {
          "base_uri": "https://localhost:8080/"
        },
        "outputId": "6da5ecf3-3c69-4cb2-9124-07689ed22de7"
      },
      "source": [
        "df['day_of_week'] = df['trans_date_trans_time'].dt.day_name()\n",
        "df['day_of_week']\n"
      ],
      "id": "ed6e7999-e663-4e07-8f0e-1c24ed8ca539",
      "execution_count": 23,
      "outputs": [
        {
          "output_type": "execute_result",
          "data": {
            "text/plain": [
              "0          Tuesday\n",
              "1          Tuesday\n",
              "2          Tuesday\n",
              "3          Tuesday\n",
              "4          Tuesday\n",
              "            ...   \n",
              "555714    Thursday\n",
              "555715    Thursday\n",
              "555716    Thursday\n",
              "555717    Thursday\n",
              "555718    Thursday\n",
              "Name: day_of_week, Length: 1852394, dtype: object"
            ]
          },
          "metadata": {
            "tags": []
          },
          "execution_count": 23
        }
      ]
    },
    {
      "cell_type": "code",
      "metadata": {
        "id": "cd262e35-3a05-4695-a21e-fdcc9ee412ee",
        "colab": {
          "base_uri": "https://localhost:8080/",
          "height": 492
        },
        "outputId": "48be1d20-13f1-47ab-db88-bfa6a7beec72"
      },
      "source": [
        "df.head()"
      ],
      "id": "cd262e35-3a05-4695-a21e-fdcc9ee412ee",
      "execution_count": 24,
      "outputs": [
        {
          "output_type": "execute_result",
          "data": {
            "text/html": [
              "<div>\n",
              "<style scoped>\n",
              "    .dataframe tbody tr th:only-of-type {\n",
              "        vertical-align: middle;\n",
              "    }\n",
              "\n",
              "    .dataframe tbody tr th {\n",
              "        vertical-align: top;\n",
              "    }\n",
              "\n",
              "    .dataframe thead th {\n",
              "        text-align: right;\n",
              "    }\n",
              "</style>\n",
              "<table border=\"1\" class=\"dataframe\">\n",
              "  <thead>\n",
              "    <tr style=\"text-align: right;\">\n",
              "      <th></th>\n",
              "      <th>trans_date_trans_time</th>\n",
              "      <th>cc_num</th>\n",
              "      <th>merchant</th>\n",
              "      <th>category</th>\n",
              "      <th>amt</th>\n",
              "      <th>first</th>\n",
              "      <th>last</th>\n",
              "      <th>gender</th>\n",
              "      <th>street</th>\n",
              "      <th>city</th>\n",
              "      <th>state</th>\n",
              "      <th>zip</th>\n",
              "      <th>lat</th>\n",
              "      <th>long</th>\n",
              "      <th>city_pop</th>\n",
              "      <th>job</th>\n",
              "      <th>dob</th>\n",
              "      <th>trans_num</th>\n",
              "      <th>unix_time</th>\n",
              "      <th>merch_lat</th>\n",
              "      <th>merch_long</th>\n",
              "      <th>is_fraud</th>\n",
              "      <th>trans_hour</th>\n",
              "      <th>day_of_week</th>\n",
              "    </tr>\n",
              "  </thead>\n",
              "  <tbody>\n",
              "    <tr>\n",
              "      <th>0</th>\n",
              "      <td>2019-01-01 00:00:18</td>\n",
              "      <td>2703186189652095</td>\n",
              "      <td>fraud_Rippin, Kub and Mann</td>\n",
              "      <td>misc_net</td>\n",
              "      <td>4.97</td>\n",
              "      <td>Jennifer</td>\n",
              "      <td>Banks</td>\n",
              "      <td>F</td>\n",
              "      <td>561 Perry Cove</td>\n",
              "      <td>Moravian Falls</td>\n",
              "      <td>NC</td>\n",
              "      <td>28654</td>\n",
              "      <td>36.0788</td>\n",
              "      <td>-81.1781</td>\n",
              "      <td>3495</td>\n",
              "      <td>Psychologist, counselling</td>\n",
              "      <td>1988-03-09</td>\n",
              "      <td>0b242abb623afc578575680df30655b9</td>\n",
              "      <td>1325376018</td>\n",
              "      <td>36.011293</td>\n",
              "      <td>-82.048315</td>\n",
              "      <td>0</td>\n",
              "      <td>0</td>\n",
              "      <td>Tuesday</td>\n",
              "    </tr>\n",
              "    <tr>\n",
              "      <th>1</th>\n",
              "      <td>2019-01-01 00:00:44</td>\n",
              "      <td>630423337322</td>\n",
              "      <td>fraud_Heller, Gutmann and Zieme</td>\n",
              "      <td>grocery_pos</td>\n",
              "      <td>107.23</td>\n",
              "      <td>Stephanie</td>\n",
              "      <td>Gill</td>\n",
              "      <td>F</td>\n",
              "      <td>43039 Riley Greens Suite 393</td>\n",
              "      <td>Orient</td>\n",
              "      <td>WA</td>\n",
              "      <td>99160</td>\n",
              "      <td>48.8878</td>\n",
              "      <td>-118.2105</td>\n",
              "      <td>149</td>\n",
              "      <td>Special educational needs teacher</td>\n",
              "      <td>1978-06-21</td>\n",
              "      <td>1f76529f8574734946361c461b024d99</td>\n",
              "      <td>1325376044</td>\n",
              "      <td>49.159047</td>\n",
              "      <td>-118.186462</td>\n",
              "      <td>0</td>\n",
              "      <td>0</td>\n",
              "      <td>Tuesday</td>\n",
              "    </tr>\n",
              "    <tr>\n",
              "      <th>2</th>\n",
              "      <td>2019-01-01 00:00:51</td>\n",
              "      <td>38859492057661</td>\n",
              "      <td>fraud_Lind-Buckridge</td>\n",
              "      <td>entertainment</td>\n",
              "      <td>220.11</td>\n",
              "      <td>Edward</td>\n",
              "      <td>Sanchez</td>\n",
              "      <td>M</td>\n",
              "      <td>594 White Dale Suite 530</td>\n",
              "      <td>Malad City</td>\n",
              "      <td>ID</td>\n",
              "      <td>83252</td>\n",
              "      <td>42.1808</td>\n",
              "      <td>-112.2620</td>\n",
              "      <td>4154</td>\n",
              "      <td>Nature conservation officer</td>\n",
              "      <td>1962-01-19</td>\n",
              "      <td>a1a22d70485983eac12b5b88dad1cf95</td>\n",
              "      <td>1325376051</td>\n",
              "      <td>43.150704</td>\n",
              "      <td>-112.154481</td>\n",
              "      <td>0</td>\n",
              "      <td>0</td>\n",
              "      <td>Tuesday</td>\n",
              "    </tr>\n",
              "    <tr>\n",
              "      <th>3</th>\n",
              "      <td>2019-01-01 00:01:16</td>\n",
              "      <td>3534093764340240</td>\n",
              "      <td>fraud_Kutch, Hermiston and Farrell</td>\n",
              "      <td>gas_transport</td>\n",
              "      <td>45.00</td>\n",
              "      <td>Jeremy</td>\n",
              "      <td>White</td>\n",
              "      <td>M</td>\n",
              "      <td>9443 Cynthia Court Apt. 038</td>\n",
              "      <td>Boulder</td>\n",
              "      <td>MT</td>\n",
              "      <td>59632</td>\n",
              "      <td>46.2306</td>\n",
              "      <td>-112.1138</td>\n",
              "      <td>1939</td>\n",
              "      <td>Patent attorney</td>\n",
              "      <td>1967-01-12</td>\n",
              "      <td>6b849c168bdad6f867558c3793159a81</td>\n",
              "      <td>1325376076</td>\n",
              "      <td>47.034331</td>\n",
              "      <td>-112.561071</td>\n",
              "      <td>0</td>\n",
              "      <td>0</td>\n",
              "      <td>Tuesday</td>\n",
              "    </tr>\n",
              "    <tr>\n",
              "      <th>4</th>\n",
              "      <td>2019-01-01 00:03:06</td>\n",
              "      <td>375534208663984</td>\n",
              "      <td>fraud_Keeling-Crist</td>\n",
              "      <td>misc_pos</td>\n",
              "      <td>41.96</td>\n",
              "      <td>Tyler</td>\n",
              "      <td>Garcia</td>\n",
              "      <td>M</td>\n",
              "      <td>408 Bradley Rest</td>\n",
              "      <td>Doe Hill</td>\n",
              "      <td>VA</td>\n",
              "      <td>24433</td>\n",
              "      <td>38.4207</td>\n",
              "      <td>-79.4629</td>\n",
              "      <td>99</td>\n",
              "      <td>Dance movement psychotherapist</td>\n",
              "      <td>1986-03-28</td>\n",
              "      <td>a41d7549acf90789359a9aa5346dcb46</td>\n",
              "      <td>1325376186</td>\n",
              "      <td>38.674999</td>\n",
              "      <td>-78.632459</td>\n",
              "      <td>0</td>\n",
              "      <td>0</td>\n",
              "      <td>Tuesday</td>\n",
              "    </tr>\n",
              "  </tbody>\n",
              "</table>\n",
              "</div>"
            ],
            "text/plain": [
              "  trans_date_trans_time            cc_num  ... trans_hour day_of_week\n",
              "0   2019-01-01 00:00:18  2703186189652095  ...          0     Tuesday\n",
              "1   2019-01-01 00:00:44      630423337322  ...          0     Tuesday\n",
              "2   2019-01-01 00:00:51    38859492057661  ...          0     Tuesday\n",
              "3   2019-01-01 00:01:16  3534093764340240  ...          0     Tuesday\n",
              "4   2019-01-01 00:03:06   375534208663984  ...          0     Tuesday\n",
              "\n",
              "[5 rows x 24 columns]"
            ]
          },
          "metadata": {
            "tags": []
          },
          "execution_count": 24
        }
      ]
    },
    {
      "cell_type": "code",
      "metadata": {
        "id": "e3cabcdd-2b12-4e6b-8952-133f1c5e696a",
        "colab": {
          "base_uri": "https://localhost:8080/"
        },
        "outputId": "9254c4b4-5f13-4f04-9ad4-a7db69355d18"
      },
      "source": [
        "df['year_month'] = df['trans_date_trans_time'].dt.to_period('M')\n",
        "df['year_month']"
      ],
      "id": "e3cabcdd-2b12-4e6b-8952-133f1c5e696a",
      "execution_count": 25,
      "outputs": [
        {
          "output_type": "execute_result",
          "data": {
            "text/plain": [
              "0         2019-01\n",
              "1         2019-01\n",
              "2         2019-01\n",
              "3         2019-01\n",
              "4         2019-01\n",
              "           ...   \n",
              "555714    2020-12\n",
              "555715    2020-12\n",
              "555716    2020-12\n",
              "555717    2020-12\n",
              "555718    2020-12\n",
              "Name: year_month, Length: 1852394, dtype: period[M]"
            ]
          },
          "metadata": {
            "tags": []
          },
          "execution_count": 25
        }
      ]
    },
    {
      "cell_type": "code",
      "metadata": {
        "id": "09c111a6-11b8-4690-8648-c971356787af",
        "colab": {
          "base_uri": "https://localhost:8080/",
          "height": 518
        },
        "outputId": "0cc5cc8e-7079-41f4-a462-3e0c342615f7"
      },
      "source": [
        "plt.figure(figsize=(20,8))\n",
        "plt.subplot(1,2,1)\n",
        "df['category'].value_counts().plot.bar();\n",
        "plt.subplot(1,2,2)\n",
        "df['day_of_week'].value_counts().plot.bar();"
      ],
      "id": "09c111a6-11b8-4690-8648-c971356787af",
      "execution_count": 26,
      "outputs": [
        {
          "output_type": "display_data",
          "data": {
            "image/png": "[encoded data removed]",
            "text/plain": [
              "<Figure size 1440x576 with 2 Axes>"
            ]
          },
          "metadata": {
            "tags": [],
            "needs_background": "light"
          }
        }
      ]
    },
    {
      "cell_type": "code",
      "metadata": {
        "id": "ab71b462-22d9-40f1-b9f7-0ce9287407e9",
        "colab": {
          "base_uri": "https://localhost:8080/",
          "height": 492
        },
        "outputId": "e33dbd55-0260-49a9-8bc8-0f2b01f2ad51"
      },
      "source": [
        "df.head()"
      ],
      "id": "ab71b462-22d9-40f1-b9f7-0ce9287407e9",
      "execution_count": 27,
      "outputs": [
        {
          "output_type": "execute_result",
          "data": {
            "text/html": [
              "<div>\n",
              "<style scoped>\n",
              "    .dataframe tbody tr th:only-of-type {\n",
              "        vertical-align: middle;\n",
              "    }\n",
              "\n",
              "    .dataframe tbody tr th {\n",
              "        vertical-align: top;\n",
              "    }\n",
              "\n",
              "    .dataframe thead th {\n",
              "        text-align: right;\n",
              "    }\n",
              "</style>\n",
              "<table border=\"1\" class=\"dataframe\">\n",
              "  <thead>\n",
              "    <tr style=\"text-align: right;\">\n",
              "      <th></th>\n",
              "      <th>trans_date_trans_time</th>\n",
              "      <th>cc_num</th>\n",
              "      <th>merchant</th>\n",
              "      <th>category</th>\n",
              "      <th>amt</th>\n",
              "      <th>first</th>\n",
              "      <th>last</th>\n",
              "      <th>gender</th>\n",
              "      <th>street</th>\n",
              "      <th>city</th>\n",
              "      <th>state</th>\n",
              "      <th>zip</th>\n",
              "      <th>lat</th>\n",
              "      <th>long</th>\n",
              "      <th>city_pop</th>\n",
              "      <th>job</th>\n",
              "      <th>dob</th>\n",
              "      <th>trans_num</th>\n",
              "      <th>unix_time</th>\n",
              "      <th>merch_lat</th>\n",
              "      <th>merch_long</th>\n",
              "      <th>is_fraud</th>\n",
              "      <th>trans_hour</th>\n",
              "      <th>day_of_week</th>\n",
              "      <th>year_month</th>\n",
              "    </tr>\n",
              "  </thead>\n",
              "  <tbody>\n",
              "    <tr>\n",
              "      <th>0</th>\n",
              "      <td>2019-01-01 00:00:18</td>\n",
              "      <td>2703186189652095</td>\n",
              "      <td>fraud_Rippin, Kub and Mann</td>\n",
              "      <td>misc_net</td>\n",
              "      <td>4.97</td>\n",
              "      <td>Jennifer</td>\n",
              "      <td>Banks</td>\n",
              "      <td>F</td>\n",
              "      <td>561 Perry Cove</td>\n",
              "      <td>Moravian Falls</td>\n",
              "      <td>NC</td>\n",
              "      <td>28654</td>\n",
              "      <td>36.0788</td>\n",
              "      <td>-81.1781</td>\n",
              "      <td>3495</td>\n",
              "      <td>Psychologist, counselling</td>\n",
              "      <td>1988-03-09</td>\n",
              "      <td>0b242abb623afc578575680df30655b9</td>\n",
              "      <td>1325376018</td>\n",
              "      <td>36.011293</td>\n",
              "      <td>-82.048315</td>\n",
              "      <td>0</td>\n",
              "      <td>0</td>\n",
              "      <td>Tuesday</td>\n",
              "      <td>2019-01</td>\n",
              "    </tr>\n",
              "    <tr>\n",
              "      <th>1</th>\n",
              "      <td>2019-01-01 00:00:44</td>\n",
              "      <td>630423337322</td>\n",
              "      <td>fraud_Heller, Gutmann and Zieme</td>\n",
              "      <td>grocery_pos</td>\n",
              "      <td>107.23</td>\n",
              "      <td>Stephanie</td>\n",
              "      <td>Gill</td>\n",
              "      <td>F</td>\n",
              "      <td>43039 Riley Greens Suite 393</td>\n",
              "      <td>Orient</td>\n",
              "      <td>WA</td>\n",
              "      <td>99160</td>\n",
              "      <td>48.8878</td>\n",
              "      <td>-118.2105</td>\n",
              "      <td>149</td>\n",
              "      <td>Special educational needs teacher</td>\n",
              "      <td>1978-06-21</td>\n",
              "      <td>1f76529f8574734946361c461b024d99</td>\n",
              "      <td>1325376044</td>\n",
              "      <td>49.159047</td>\n",
              "      <td>-118.186462</td>\n",
              "      <td>0</td>\n",
              "      <td>0</td>\n",
              "      <td>Tuesday</td>\n",
              "      <td>2019-01</td>\n",
              "    </tr>\n",
              "    <tr>\n",
              "      <th>2</th>\n",
              "      <td>2019-01-01 00:00:51</td>\n",
              "      <td>38859492057661</td>\n",
              "      <td>fraud_Lind-Buckridge</td>\n",
              "      <td>entertainment</td>\n",
              "      <td>220.11</td>\n",
              "      <td>Edward</td>\n",
              "      <td>Sanchez</td>\n",
              "      <td>M</td>\n",
              "      <td>594 White Dale Suite 530</td>\n",
              "      <td>Malad City</td>\n",
              "      <td>ID</td>\n",
              "      <td>83252</td>\n",
              "      <td>42.1808</td>\n",
              "      <td>-112.2620</td>\n",
              "      <td>4154</td>\n",
              "      <td>Nature conservation officer</td>\n",
              "      <td>1962-01-19</td>\n",
              "      <td>a1a22d70485983eac12b5b88dad1cf95</td>\n",
              "      <td>1325376051</td>\n",
              "      <td>43.150704</td>\n",
              "      <td>-112.154481</td>\n",
              "      <td>0</td>\n",
              "      <td>0</td>\n",
              "      <td>Tuesday</td>\n",
              "      <td>2019-01</td>\n",
              "    </tr>\n",
              "    <tr>\n",
              "      <th>3</th>\n",
              "      <td>2019-01-01 00:01:16</td>\n",
              "      <td>3534093764340240</td>\n",
              "      <td>fraud_Kutch, Hermiston and Farrell</td>\n",
              "      <td>gas_transport</td>\n",
              "      <td>45.00</td>\n",
              "      <td>Jeremy</td>\n",
              "      <td>White</td>\n",
              "      <td>M</td>\n",
              "      <td>9443 Cynthia Court Apt. 038</td>\n",
              "      <td>Boulder</td>\n",
              "      <td>MT</td>\n",
              "      <td>59632</td>\n",
              "      <td>46.2306</td>\n",
              "      <td>-112.1138</td>\n",
              "      <td>1939</td>\n",
              "      <td>Patent attorney</td>\n",
              "      <td>1967-01-12</td>\n",
              "      <td>6b849c168bdad6f867558c3793159a81</td>\n",
              "      <td>1325376076</td>\n",
              "      <td>47.034331</td>\n",
              "      <td>-112.561071</td>\n",
              "      <td>0</td>\n",
              "      <td>0</td>\n",
              "      <td>Tuesday</td>\n",
              "      <td>2019-01</td>\n",
              "    </tr>\n",
              "    <tr>\n",
              "      <th>4</th>\n",
              "      <td>2019-01-01 00:03:06</td>\n",
              "      <td>375534208663984</td>\n",
              "      <td>fraud_Keeling-Crist</td>\n",
              "      <td>misc_pos</td>\n",
              "      <td>41.96</td>\n",
              "      <td>Tyler</td>\n",
              "      <td>Garcia</td>\n",
              "      <td>M</td>\n",
              "      <td>408 Bradley Rest</td>\n",
              "      <td>Doe Hill</td>\n",
              "      <td>VA</td>\n",
              "      <td>24433</td>\n",
              "      <td>38.4207</td>\n",
              "      <td>-79.4629</td>\n",
              "      <td>99</td>\n",
              "      <td>Dance movement psychotherapist</td>\n",
              "      <td>1986-03-28</td>\n",
              "      <td>a41d7549acf90789359a9aa5346dcb46</td>\n",
              "      <td>1325376186</td>\n",
              "      <td>38.674999</td>\n",
              "      <td>-78.632459</td>\n",
              "      <td>0</td>\n",
              "      <td>0</td>\n",
              "      <td>Tuesday</td>\n",
              "      <td>2019-01</td>\n",
              "    </tr>\n",
              "  </tbody>\n",
              "</table>\n",
              "</div>"
            ],
            "text/plain": [
              "  trans_date_trans_time            cc_num  ... day_of_week year_month\n",
              "0   2019-01-01 00:00:18  2703186189652095  ...     Tuesday    2019-01\n",
              "1   2019-01-01 00:00:44      630423337322  ...     Tuesday    2019-01\n",
              "2   2019-01-01 00:00:51    38859492057661  ...     Tuesday    2019-01\n",
              "3   2019-01-01 00:01:16  3534093764340240  ...     Tuesday    2019-01\n",
              "4   2019-01-01 00:03:06   375534208663984  ...     Tuesday    2019-01\n",
              "\n",
              "[5 rows x 25 columns]"
            ]
          },
          "metadata": {
            "tags": []
          },
          "execution_count": 27
        }
      ]
    },
    {
      "cell_type": "code",
      "metadata": {
        "id": "35e7f4b8-9355-428f-8d06-1312927469a7",
        "colab": {
          "base_uri": "https://localhost:8080/",
          "height": 509
        },
        "outputId": "5a5e05ec-c684-44e2-a5e4-6b9176f44235"
      },
      "source": [
        "plt.figure(figsize=(20,8))\n",
        "plt.subplot(1,2,1)\n",
        "df['gender'].value_counts().plot.bar();\n",
        "plt.subplot(1,2,2)\n",
        "df['year_month'].value_counts().plot.bar();"
      ],
      "id": "35e7f4b8-9355-428f-8d06-1312927469a7",
      "execution_count": 28,
      "outputs": [
        {
          "output_type": "display_data",
          "data": {
            "image/png": "[encoded data removed]",
            "text/plain": [
              "<Figure size 1440x576 with 2 Axes>"
            ]
          },
          "metadata": {
            "tags": [],
            "needs_background": "light"
          }
        }
      ]
    },
    {
      "cell_type": "code",
      "metadata": {
        "id": "afcab0b4-de0b-46e9-9f64-327d77dc1c1c",
        "colab": {
          "base_uri": "https://localhost:8080/",
          "height": 480
        },
        "outputId": "b8be518f-398f-4b25-fd78-a391314a2fd1"
      },
      "source": [
        "df_category = df[['category','trans_num']].groupby(['category']).count().reset_index()\n",
        "df_category.columns = ['Category','category_count']\n",
        "\n",
        "df_category['percent'] = (df_category['category_count']/df_category['category_count'].sum())*100\n",
        "\n",
        "df_category.sort_values(by = ['percent'], ascending=False)"
      ],
      "id": "afcab0b4-de0b-46e9-9f64-327d77dc1c1c",
      "execution_count": 29,
      "outputs": [
        {
          "output_type": "execute_result",
          "data": {
            "text/html": [
              "<div>\n",
              "<style scoped>\n",
              "    .dataframe tbody tr th:only-of-type {\n",
              "        vertical-align: middle;\n",
              "    }\n",
              "\n",
              "    .dataframe tbody tr th {\n",
              "        vertical-align: top;\n",
              "    }\n",
              "\n",
              "    .dataframe thead th {\n",
              "        text-align: right;\n",
              "    }\n",
              "</style>\n",
              "<table border=\"1\" class=\"dataframe\">\n",
              "  <thead>\n",
              "    <tr style=\"text-align: right;\">\n",
              "      <th></th>\n",
              "      <th>Category</th>\n",
              "      <th>category_count</th>\n",
              "      <th>percent</th>\n",
              "    </tr>\n",
              "  </thead>\n",
              "  <tbody>\n",
              "    <tr>\n",
              "      <th>2</th>\n",
              "      <td>gas_transport</td>\n",
              "      <td>188029</td>\n",
              "      <td>10.150594</td>\n",
              "    </tr>\n",
              "    <tr>\n",
              "      <th>4</th>\n",
              "      <td>grocery_pos</td>\n",
              "      <td>176191</td>\n",
              "      <td>9.511529</td>\n",
              "    </tr>\n",
              "    <tr>\n",
              "      <th>6</th>\n",
              "      <td>home</td>\n",
              "      <td>175460</td>\n",
              "      <td>9.472067</td>\n",
              "    </tr>\n",
              "    <tr>\n",
              "      <th>12</th>\n",
              "      <td>shopping_pos</td>\n",
              "      <td>166463</td>\n",
              "      <td>8.986371</td>\n",
              "    </tr>\n",
              "    <tr>\n",
              "      <th>7</th>\n",
              "      <td>kids_pets</td>\n",
              "      <td>161727</td>\n",
              "      <td>8.730702</td>\n",
              "    </tr>\n",
              "    <tr>\n",
              "      <th>11</th>\n",
              "      <td>shopping_net</td>\n",
              "      <td>139322</td>\n",
              "      <td>7.521186</td>\n",
              "    </tr>\n",
              "    <tr>\n",
              "      <th>0</th>\n",
              "      <td>entertainment</td>\n",
              "      <td>134118</td>\n",
              "      <td>7.240252</td>\n",
              "    </tr>\n",
              "    <tr>\n",
              "      <th>1</th>\n",
              "      <td>food_dining</td>\n",
              "      <td>130729</td>\n",
              "      <td>7.057300</td>\n",
              "    </tr>\n",
              "    <tr>\n",
              "      <th>10</th>\n",
              "      <td>personal_care</td>\n",
              "      <td>130085</td>\n",
              "      <td>7.022534</td>\n",
              "    </tr>\n",
              "    <tr>\n",
              "      <th>5</th>\n",
              "      <td>health_fitness</td>\n",
              "      <td>122553</td>\n",
              "      <td>6.615925</td>\n",
              "    </tr>\n",
              "    <tr>\n",
              "      <th>9</th>\n",
              "      <td>misc_pos</td>\n",
              "      <td>114229</td>\n",
              "      <td>6.166561</td>\n",
              "    </tr>\n",
              "    <tr>\n",
              "      <th>8</th>\n",
              "      <td>misc_net</td>\n",
              "      <td>90654</td>\n",
              "      <td>4.893883</td>\n",
              "    </tr>\n",
              "    <tr>\n",
              "      <th>3</th>\n",
              "      <td>grocery_net</td>\n",
              "      <td>64878</td>\n",
              "      <td>3.502387</td>\n",
              "    </tr>\n",
              "    <tr>\n",
              "      <th>13</th>\n",
              "      <td>travel</td>\n",
              "      <td>57956</td>\n",
              "      <td>3.128708</td>\n",
              "    </tr>\n",
              "  </tbody>\n",
              "</table>\n",
              "</div>"
            ],
            "text/plain": [
              "          Category  category_count    percent\n",
              "2    gas_transport          188029  10.150594\n",
              "4      grocery_pos          176191   9.511529\n",
              "6             home          175460   9.472067\n",
              "12    shopping_pos          166463   8.986371\n",
              "7        kids_pets          161727   8.730702\n",
              "11    shopping_net          139322   7.521186\n",
              "0    entertainment          134118   7.240252\n",
              "1      food_dining          130729   7.057300\n",
              "10   personal_care          130085   7.022534\n",
              "5   health_fitness          122553   6.615925\n",
              "9         misc_pos          114229   6.166561\n",
              "8         misc_net           90654   4.893883\n",
              "3      grocery_net           64878   3.502387\n",
              "13          travel           57956   3.128708"
            ]
          },
          "metadata": {
            "tags": []
          },
          "execution_count": 29
        }
      ]
    },
    {
      "cell_type": "code",
      "metadata": {
        "id": "62b33ae5-f801-4a3c-8cc0-8c937ace5477",
        "colab": {
          "base_uri": "https://localhost:8080/",
          "height": 356
        },
        "outputId": "1a99775d-ea1e-4db4-d76c-2eed66e9c060"
      },
      "source": [
        "fig = plt.figure(figsize = (20, 6)) \n",
        "\n",
        "\n",
        "plt.bar(df_category['Category'], df_category['category_count'],   \n",
        "        width = 0.4)\n",
        "\n",
        "plt.show()"
      ],
      "id": "62b33ae5-f801-4a3c-8cc0-8c937ace5477",
      "execution_count": 30,
      "outputs": [
        {
          "output_type": "display_data",
          "data": {
            "image/png": "[encoded data removed]",
            "text/plain": [
              "<Figure size 1440x432 with 1 Axes>"
            ]
          },
          "metadata": {
            "tags": [],
            "needs_background": "light"
          }
        }
      ]
    },
    {
      "cell_type": "code",
      "metadata": {
        "id": "di4ZR9EsZLcC",
        "colab": {
          "base_uri": "https://localhost:8080/",
          "height": 685
        },
        "outputId": "75d4d72b-5aa6-4a6f-e5bb-d29137d50d05"
      },
      "source": [
        "# import folium package\n",
        "import folium\n",
        "import plotly.express as px\n",
        "import plotly.graph_objects as go\n",
        "import plotly.figure_factory as ff\n",
        "from plotly.subplots import make_subplots\n",
        "temp = df[df['trans_date_trans_time']==max(df['trans_date_trans_time'])]\n",
        "m = folium.Map(location=[0,0],tiles='cartodbpositron',min_zoom=1,max_zoom=4,\n",
        " zoom_start=1)\n",
        "for i in range(0,len(temp)):\n",
        " folium.Circle(location=[temp.iloc[i]['lat'],temp.iloc[i]['long']],\n",
        " color='crimson',fill='crimson',\n",
        " tooltip = '<li><bold> city: '+str(temp.iloc[i]['city']) +\n",
        " '<li><bold> street: '+str(temp.iloc[i]['street']) +\n",
        " '<li><bold> state: '+str(temp.iloc[i]['state']),\n",
        " radius = int(temp.iloc[i]['is_fraud'])*0.05).add_to(m)\n",
        " display(m)\n"
      ],
      "id": "di4ZR9EsZLcC",
      "execution_count": 31,
      "outputs": [
        {
          "output_type": "display_data",
          "data": {
            "text/html": [
              "<div style=\"width:100%;\"><div style=\"position:relative;width:100%;height:0;padding-bottom:60%;\"><span style=\"color:#565656\">Make this Notebook Trusted to load map: File -> Trust Notebook</span><iframe src=\"about:blank\" style=\"position:absolute;width:100%;height:100%;left:0;top:0;border:none !important;\" data-html=%3C%21DOCTYPE%20html%3E%0A%3Chead%3E%20%20%20%20%0A%20%20%20%20%3Cmeta%20http-equiv%3D%22content-type%22%20content%3D%22text/html%3B%20charset%3DUTF-8%22%20/%3E%0A%20%20%20%20%3Cscript%3EL_PREFER_CANVAS%3Dfalse%3B%20L_NO_TOUCH%3Dfalse%3B%20L_DISABLE_3D%3Dfalse%3B%3C/script%3E%0A%20%20%20%20%3Cscript%20src%3D%22https%3A//cdn.jsdelivr.net/npm/leaflet%401.4.0/dist/leaflet.js%22%3E%3C/script%3E%0A%20%20%20%20%3Cscript%20src%3D%22https%3A//code.jquery.com/jquery-1.12.4.min.js%22%3E%3C/script%3E%0A%20%20%20%20%3Cscript%20src%3D%22https%3A//maxcdn.bootstrapcdn.com/bootstrap/3.2.0/js/bootstrap.min.js%22%3E%3C/script%3E%0A%20%20%20%20%3Cscript%20src%3D%22https%3A//cdnjs.cloudflare.com/ajax/libs/Leaflet.awesome-markers/2.0.2/leaflet.awesome-markers.js%22%3E%3C/script%3E%0A%20%20%20%20%3Clink%20rel%3D%22stylesheet%22%20href%3D%22https%3A//cdn.jsdelivr.net/npm/leaflet%401.4.0/dist/leaflet.css%22/%3E%0A%20%20%20%20%3Clink%20rel%3D%22stylesheet%22%20href%3D%22https%3A//maxcdn.bootstrapcdn.com/bootstrap/3.2.0/css/bootstrap.min.css%22/%3E%0A%20%20%20%20%3Clink%20rel%3D%22stylesheet%22%20href%3D%22https%3A//maxcdn.bootstrapcdn.com/bootstrap/3.2.0/css/bootstrap-theme.min.css%22/%3E%0A%20%20%20%20%3Clink%20rel%3D%22stylesheet%22%20href%3D%22https%3A//maxcdn.bootstrapcdn.com/font-awesome/4.6.3/css/font-awesome.min.css%22/%3E%0A%20%20%20%20%3Clink%20rel%3D%22stylesheet%22%20href%3D%22https%3A//cdnjs.cloudflare.com/ajax/libs/Leaflet.awesome-markers/2.0.2/leaflet.awesome-markers.css%22/%3E%0A%20%20%20%20%3Clink%20rel%3D%22stylesheet%22%20href%3D%22https%3A//rawcdn.githack.com/python-visualization/folium/master/folium/templates/leaflet.awesome.rotate.css%22/%3E%0A%20%20%20%20%3Cstyle%3Ehtml%2C%20body%20%7Bwidth%3A%20100%25%3Bheight%3A%20100%25%3Bmargin%3A%200%3Bpadding%3A%200%3B%7D%3C/style%3E%0A%20%20%20%20%3Cstyle%3E%23map%20%7Bposition%3Aabsolute%3Btop%3A0%3Bbottom%3A0%3Bright%3A0%3Bleft%3A0%3B%7D%3C/style%3E%0A%20%20%20%20%0A%20%20%20%20%3Cmeta%20name%3D%22viewport%22%20content%3D%22width%3Ddevice-width%2C%0A%20%20%20%20%20%20%20%20initial-scale%3D1.0%2C%20maximum-scale%3D1.0%2C%20user-scalable%3Dno%22%20/%3E%0A%20%20%20%20%3Cstyle%3E%23map_d8a104dd04b941f4aaa1aa8d4c06764b%20%7B%0A%20%20%20%20%20%20%20%20position%3A%20relative%3B%0A%20%20%20%20%20%20%20%20width%3A%20100.0%25%3B%0A%20%20%20%20%20%20%20%20height%3A%20100.0%25%3B%0A%20%20%20%20%20%20%20%20left%3A%200.0%25%3B%0A%20%20%20%20%20%20%20%20top%3A%200.0%25%3B%0A%20%20%20%20%20%20%20%20%7D%0A%20%20%20%20%3C/style%3E%0A%3C/head%3E%0A%3Cbody%3E%20%20%20%20%0A%20%20%20%20%0A%20%20%20%20%3Cdiv%20class%3D%22folium-map%22%20id%3D%22map_d8a104dd04b941f4aaa1aa8d4c06764b%22%20%3E%3C/div%3E%0A%3C/body%3E%0A%3Cscript%3E%20%20%20%20%0A%20%20%20%20%0A%20%20%20%20%0A%20%20%20%20%20%20%20%20var%20bounds%20%3D%20null%3B%0A%20%20%20%20%0A%0A%20%20%20%20var%20map_d8a104dd04b941f4aaa1aa8d4c06764b%20%3D%20L.map%28%0A%20%20%20%20%20%20%20%20%27map_d8a104dd04b941f4aaa1aa8d4c06764b%27%2C%20%7B%0A%20%20%20%20%20%20%20%20center%3A%20%5B0%2C%200%5D%2C%0A%20%20%20%20%20%20%20%20zoom%3A%201%2C%0A%20%20%20%20%20%20%20%20maxBounds%3A%20bounds%2C%0A%20%20%20%20%20%20%20%20layers%3A%20%5B%5D%2C%0A%20%20%20%20%20%20%20%20worldCopyJump%3A%20false%2C%0A%20%20%20%20%20%20%20%20crs%3A%20L.CRS.EPSG3857%2C%0A%20%20%20%20%20%20%20%20zoomControl%3A%20true%2C%0A%20%20%20%20%20%20%20%20%7D%29%3B%0A%0A%0A%20%20%20%20%0A%20%20%20%20var%20tile_layer_c64f22df488247d4860edb97b502df10%20%3D%20L.tileLayer%28%0A%20%20%20%20%20%20%20%20%27https%3A//cartodb-basemaps-%7Bs%7D.global.ssl.fastly.net/light_all/%7Bz%7D/%7Bx%7D/%7By%7D.png%27%2C%0A%20%20%20%20%20%20%20%20%7B%0A%20%20%20%20%20%20%20%20%22attribution%22%3A%20null%2C%0A%20%20%20%20%20%20%20%20%22detectRetina%22%3A%20false%2C%0A%20%20%20%20%20%20%20%20%22maxNativeZoom%22%3A%204%2C%0A%20%20%20%20%20%20%20%20%22maxZoom%22%3A%204%2C%0A%20%20%20%20%20%20%20%20%22minZoom%22%3A%201%2C%0A%20%20%20%20%20%20%20%20%22noWrap%22%3A%20false%2C%0A%20%20%20%20%20%20%20%20%22opacity%22%3A%201%2C%0A%20%20%20%20%20%20%20%20%22subdomains%22%3A%20%22abc%22%2C%0A%20%20%20%20%20%20%20%20%22tms%22%3A%20false%0A%7D%29.addTo%28map_d8a104dd04b941f4aaa1aa8d4c06764b%29%3B%0A%20%20%20%20%0A%0A%20%20%20%20%20%20%20%20%20%20%20%20var%20circle_fcbb9ef40bc04f39add2e161422608f5%20%3D%20L.circle%28%0A%20%20%20%20%20%20%20%20%20%20%20%20%20%20%20%20%5B35.6665%2C%20-97.4798%5D%2C%0A%20%20%20%20%20%20%20%20%20%20%20%20%20%20%20%20%7B%0A%20%20%22bubblingMouseEvents%22%3A%20true%2C%0A%20%20%22color%22%3A%20%22crimson%22%2C%0A%20%20%22dashArray%22%3A%20null%2C%0A%20%20%22dashOffset%22%3A%20null%2C%0A%20%20%22fill%22%3A%20%22crimson%22%2C%0A%20%20%22fillColor%22%3A%20%22crimson%22%2C%0A%20%20%22fillOpacity%22%3A%200.2%2C%0A%20%20%22fillRule%22%3A%20%22evenodd%22%2C%0A%20%20%22lineCap%22%3A%20%22round%22%2C%0A%20%20%22lineJoin%22%3A%20%22round%22%2C%0A%20%20%22opacity%22%3A%201.0%2C%0A%20%20%22stroke%22%3A%20true%2C%0A%20%20%22weight%22%3A%203%0A%7D%0A%20%20%20%20%20%20%20%20%20%20%20%20%20%20%20%20%29%0A%20%20%20%20%20%20%20%20%20%20%20%20%20%20%20%20.addTo%28map_d8a104dd04b941f4aaa1aa8d4c06764b%29%3B%0A%20%20%20%20%20%20%20%20%20%20%20%20%0A%20%20%20%20%0A%20%20%20%20%20%20%20%20circle_fcbb9ef40bc04f39add2e161422608f5.bindTooltip%28%0A%20%20%20%20%20%20%20%20%20%20%20%20%60%3Cdiv%3E%60%0A%20%20%20%20%20%20%20%20%20%20%20%20%2B%20%60%3Cli%3E%3Cbold%3E%20city%3A%20Edmond%3Cli%3E%3Cbold%3E%20street%3A%20830%20Myers%20Plaza%20Apt.%20384%3Cli%3E%3Cbold%3E%20state%3A%20OK%60%20%2B%20%60%3C/div%3E%60%2C%0A%20%20%20%20%20%20%20%20%20%20%20%20%7B%22sticky%22%3A%20true%7D%0A%20%20%20%20%20%20%20%20%29%3B%0A%20%20%20%20%20%20%20%20%0A%3C/script%3E onload=\"this.contentDocument.open();this.contentDocument.write(    decodeURIComponent(this.getAttribute('data-html')));this.contentDocument.close();\" allowfullscreen webkitallowfullscreen mozallowfullscreen></iframe></div></div>"
            ],
            "text/plain": [
              "<folium.folium.Map at 0x7f7866b74790>"
            ]
          },
          "metadata": {
            "tags": []
          }
        }
      ]
    },
    {
      "cell_type": "code",
      "metadata": {
        "colab": {
          "base_uri": "https://localhost:8080/",
          "height": 517
        },
        "id": "8YHS5ESEi9VC",
        "outputId": "0431ca9c-9a6a-4880-ca27-0eb7bcb7873d"
      },
      "source": [
        "import plotly.express as px \n",
        "\n",
        "df2_fraud = df2[df2['is_fraud'] == 1]\n",
        "\n",
        "fig = px.scatter_mapbox(df2_fraud, lat=\"lat\", lon=\"long\", hover_name=\"city\",\n",
        "                         zoom=3, height=500,\n",
        "                         color=\"is_fraud\",  color_discrete_sequence=px.colors.cyclical.IceFire)\n",
        "fig.update_layout(mapbox_style=\"open-street-map\")\n",
        "fig.update_layout(margin={\"r\":0,\"t\":0,\"l\":0,\"b\":0})\n",
        "fig.show()"
      ],
      "id": "8YHS5ESEi9VC",
      "execution_count": 32,
      "outputs": [
        {
          "output_type": "display_data",
          "data": {
            "text/html": [
              "<html>\n",
              "<head><meta charset=\"utf-8\" /></head>\n",
              "<body>\n",
              "    <div>\n",
              "            <script src=\"https://cdnjs.cloudflare.com/ajax/libs/mathjax/2.7.5/MathJax.js?config=TeX-AMS-MML_SVG\"></script><script type=\"text/javascript\">if (window.MathJax) {MathJax.Hub.Config({SVG: {font: \"STIX-Web\"}});}</script>\n",
              "                <script type=\"text/javascript\">window.PlotlyConfig = {MathJaxConfig: 'local'};</script>\n",
              "        <script src=\"https://cdn.plot.ly/plotly-latest.min.js\"></script>    \n",
              "            <div id=\"7a48dc06-7f35-472c-8a07-fdea7e04dee7\" class=\"plotly-graph-div\" style=\"height:500px; width:100%;\"></div>\n",
              "            <script type=\"text/javascript\">\n",
              "                \n",
              "                    window.PLOTLYENV=window.PLOTLYENV || {};\n",
              "                    \n",
              "                if (document.getElementById(\"7a48dc06-7f35-472c-8a07-fdea7e04dee7\")) {\n",
              "                    Plotly.newPlot(\n",
              "                        '7a48dc06-7f35-472c-8a07-fdea7e04dee7',\n",
              "                        [{\"hoverlabel\": {\"namelength\": 0}, \"hovertemplate\": \"<b>%{hovertext}</b><br><br>lat=%{lat}<br>long=%{lon}<br>is_fraud=%{marker.color}\", \"hovertext\": [\"Notrees\", \"Benton\", \"Benton\", \"Denham Springs\", \"Notrees\", \"Vero Beach\", \"Denham Springs\", \"Denham Springs\", \"Denham Springs\", \"Benton\", \"Denham Springs\", \"Vero Beach\", \"Denham Springs\", \"Vero Beach\", \"Denham Springs\", \"Vero Beach\", \"Vero Beach\", \"Vero Beach\", \"Denham Springs\", \"Vero Beach\", \"Vero Beach\", \"Vero Beach\", \"Springville\", \"Springville\", \"Springville\", \"Springville\", \"Springville\", \"Springville\", \"Springville\", \"Steuben\", \"Springville\", \"Springville\", \"Springville\", \"Steuben\", \"Springville\", \"Steuben\", \"Steuben\", \"Steuben\", \"Steuben\", \"Steuben\", \"Steuben\", \"Springville\", \"Gadsden\", \"Gadsden\", \"Gadsden\", \"Highland\", \"Gadsden\", \"Gadsden\", \"Gadsden\", \"Gadsden\", \"Highland\", \"Highland\", \"Highland\", \"Barnard\", \"Highland\", \"Highland\", \"Highland\", \"Highland\", \"Barnard\", \"Highland\", \"Barnard\", \"Barnard\", \"Gadsden\", \"Gadsden\", \"Gadsden\", \"Akron\", \"Barnard\", \"Akron\", \"Akron\", \"Barnard\", \"Akron\", \"Barnard\", \"Akron\", \"Louisville\", \"Viola\", \"Akron\", \"Viola\", \"Heislerville\", \"Louisville\", \"Heislerville\", \"Viola\", \"Louisville\", \"Louisville\", \"Heislerville\", \"Viola\", \"Heislerville\", \"Viola\", \"Grover\", \"Louisville\", \"Viola\", \"Louisville\", \"Viola\", \"Akron\", \"Akron\", \"Akron\", \"Issaquah\", \"Louisville\", \"Heislerville\", \"Louisville\", \"Issaquah\", \"Viola\", \"Viola\", \"Grover\", \"Issaquah\", \"Grover\", \"Viola\", \"Issaquah\", \"Heislerville\", \"Issaquah\", \"Issaquah\", \"Grover\", \"Heislerville\", \"Heislerville\", \"Issaquah\", \"Grover\", \"Viola\", \"Viola\", \"Louisville\", \"Issaquah\", \"Heislerville\", \"Heislerville\", \"Heislerville\", \"Issaquah\", \"Viola\", \"Grover\", \"Louisville\", \"Heislerville\", \"Heislerville\", \"Louisville\", \"Viola\", \"Heislerville\", \"Heislerville\", \"Louisville\", \"Issaquah\", \"Issaquah\", \"Littleton\", \"Littleton\", \"Rice\", \"Rice\", \"Hancock\", \"Hancock\", \"Rice\", \"Hancock\", \"Hancock\", \"Rice\", \"Hancock\", \"Rice\", \"Hancock\", \"Rice\", \"Rice\", \"Rice\", \"Hancock\", \"Hancock\", \"Hancock\", \"Prosperity\", \"Prosperity\", \"Prosperity\", \"Prosperity\", \"Hancock\", \"Hancock\", \"Hancock\", \"Dell City\", \"Prosperity\", \"Prosperity\", \"Prosperity\", \"Dell City\", \"Prosperity\", \"Prosperity\", \"Prosperity\", \"Prosperity\", \"Dell City\", \"Prosperity\", \"Prosperity\", \"Prosperity\", \"Prosperity\", \"Dell City\", \"Creedmoor\", \"Creedmoor\", \"Creedmoor\", \"Dell City\", \"Dell City\", \"Dell City\", \"Dell City\", \"Creedmoor\", \"Dell City\", \"Creedmoor\", \"Creedmoor\", \"Creedmoor\", \"Dell City\", \"Creedmoor\", \"Creedmoor\", \"Mc Intosh\", \"Mc Intosh\", \"Mc Intosh\", \"Creedmoor\", \"Creedmoor\", \"Creedmoor\", \"Mc Intosh\", \"Mc Intosh\", \"Grifton\", \"Mc Intosh\", \"Mc Intosh\", \"Mc Intosh\", \"Grifton\", \"Mc Intosh\", \"Grifton\", \"Grifton\", \"Mc Intosh\", \"Mc Intosh\", \"Grifton\", \"Grifton\", \"Grifton\", \"Grifton\", \"Grifton\", \"Grifton\", \"Sprague\", \"Sprague\", \"Sprague\", \"Sheffield\", \"Sheffield\", \"Sprague\", \"Sprague\", \"Sheffield\", \"Sheffield\", \"Bonita Springs\", \"Sheffield\", \"Sprague\", \"Bonita Springs\", \"Sheffield\", \"Sheffield\", \"Sheffield\", \"Sprague\", \"Sheffield\", \"Bonita Springs\", \"Sprague\", \"Meadville\", \"Meadville\", \"Sprague\", \"Meadville\", \"Meadville\", \"Sprague\", \"Sprague\", \"Sprague\", \"Sprague\", \"Lonsdale\", \"Lonsdale\", \"Meadville\", \"Meadville\", \"Farmington\", \"Meadville\", \"Meadville\", \"Meadville\", \"Lonsdale\", \"Farmington\", \"Meadville\", \"Lonsdale\", \"Meadville\", \"Meadville\", \"Farmington\", \"Lonsdale\", \"Lonsdale\", \"Farmington\", \"Farmington\", \"Odessa\", \"Farmington\", \"Farmington\", \"Odessa\", \"Farmington\", \"Lonsdale\", \"Lonsdale\", \"Odessa\", \"Lonsdale\", \"Farmington\", \"Boyd\", \"Boyd\", \"Boyd\", \"Boyd\", \"Boyd\", \"Boyd\", \"Boyd\", \"Boyd\", \"Remer\", \"Moravian Falls\", \"Moravian Falls\", \"Moravian Falls\", \"Remer\", \"Bridger\", \"Remer\", \"Remer\", \"Bridger\", \"Remer\", \"Remer\", \"Bridger\", \"Remer\", \"Moravian Falls\", \"Bridger\", \"Waukesha\", \"Bridger\", \"Waukesha\", \"Moravian Falls\", \"Remer\", \"Waukesha\", \"Moravian Falls\", \"Bridger\", \"Moravian Falls\", \"Bridger\", \"Waukesha\", \"Bridger\", \"Remer\", \"Moravian Falls\", \"Bridger\", \"Waukesha\", \"Waukesha\", \"Moravian Falls\", \"Bridger\", \"Doe Hill\", \"Remer\", \"Remer\", \"Doe Hill\", \"Bridger\", \"Moravian Falls\", \"Bridger\", \"Moravian Falls\", \"Doe Hill\", \"Waukesha\", \"Vancouver\", \"Vancouver\", \"Doe Hill\", \"Waukesha\", \"Honokaa\", \"Lake Oswego\", \"Doe Hill\", \"Doe Hill\", \"Doe Hill\", \"Doe Hill\", \"Doe Hill\", \"Doe Hill\", \"Doe Hill\", \"Doe Hill\", \"Waukesha\", \"Honokaa\", \"Honokaa\", \"Lake Oswego\", \"Honokaa\", \"Doe Hill\", \"Waukesha\", \"Waukesha\", \"Lake Oswego\", \"Honokaa\", \"Waukesha\", \"Lake Oswego\", \"Lake Oswego\", \"Lake Oswego\", \"Oolitic\", \"Vancouver\", \"Lake Oswego\", \"Oolitic\", \"Oolitic\", \"Honokaa\", \"Honokaa\", \"Oolitic\", \"Honokaa\", \"Oolitic\", \"Oolitic\", \"Oolitic\", \"Honokaa\", \"Oolitic\", \"Oolitic\", \"Oolitic\", \"Portland\", \"Portland\", \"Oolitic\", \"Portland\", \"Portland\", \"Portland\", \"Oolitic\", \"Oolitic\", \"Portland\", \"Portland\", \"Oolitic\", \"Portland\", \"Cressona\", \"Cressona\", \"Portland\", \"Cressona\", \"Portland\", \"Cressona\", \"Portland\", \"Cressona\", \"Portland\", \"Cressona\", \"Cressona\", \"Cressona\", \"Cressona\", \"Cressona\", \"Cressona\", \"Adams\", \"Adams\", \"Adams\", \"Adams\", \"Trenton\", \"Adams\", \"Trenton\", \"Adams\", \"Adams\", \"Trenton\", \"Adams\", \"Trenton\", \"Trenton\", \"Adams\", \"Adams\", \"Adams\", \"Adams\", \"Cadiz\", \"Trenton\", \"Andrews\", \"Trenton\", \"Cadiz\", \"Cadiz\", \"Cadiz\", \"Cadiz\", \"Andrews\", \"Cadiz\", \"Andrews\", \"Andrews\", \"Cadiz\", \"Cadiz\", \"Cadiz\", \"Andrews\", \"Cadiz\", \"New Boston\", \"Falls Church\", \"New Boston\", \"New Boston\", \"Santa Monica\", \"Falls Church\", \"Santa Monica\", \"New Boston\", \"New Boston\", \"Falls Church\", \"Falls Church\", \"Santa Monica\", \"Falls Church\", \"Santa Monica\", \"New Boston\", \"New Boston\", \"Falls Church\", \"New Boston\", \"Santa Monica\", \"Falls Church\", \"Santa Monica\", \"Santa Monica\", \"Santa Monica\", \"Santa Monica\", \"Williams\", \"Williams\", \"Williams\", \"Williams\", \"Williams\", \"Reynolds\", \"Reynolds\", \"Reynolds\", \"Reynolds\", \"Reynolds\", \"Reynolds\", \"Reynolds\", \"Reynolds\", \"Williams\", \"Williams\", \"Reynolds\", \"Reynolds\", \"Reynolds\", \"Reynolds\", \"Williams\", \"Williams\", \"Smiths Grove\", \"Reynolds\", \"Smiths Grove\", \"Smiths Grove\", \"Linthicum Heights\", \"Jay\", \"Reynolds\", \"Linthicum Heights\", \"Reynolds\", \"Smiths Grove\", \"Jay\", \"Jay\", \"Smiths Grove\", \"Reynolds\", \"Linthicum Heights\", \"Smiths Grove\", \"Jay\", \"Smiths Grove\", \"Orient\", \"Linthicum Heights\", \"Linthicum Heights\", \"Smiths Grove\", \"Jay\", \"Jay\", \"Smiths Grove\", \"Jay\", \"Jay\", \"Linthicum Heights\", \"Jay\", \"Jay\", \"Jay\", \"Jay\", \"Smiths Grove\", \"Smiths Grove\", \"Jay\", \"Jay\", \"Smiths Grove\", \"Bay Minette\", \"Jay\", \"Bay Minette\", \"Orient\", \"Orient\", \"Orient\", \"Linthicum Heights\", \"Bay Minette\", \"Jay\", \"Smiths Grove\", \"Smiths Grove\", \"Grand Bay\", \"Bay Minette\", \"Grand Bay\", \"Bay Minette\", \"Grand Bay\", \"Bay Minette\", \"Grand Bay\", \"Bay Minette\", \"Wauchula\", \"Leonard\", \"Wauchula\", \"Leonard\", \"Leonard\", \"Grand Bay\", \"Wauchula\", \"Leonard\", \"Leonard\", \"Leonard\", \"Grand Bay\", \"Wauchula\", \"Grand Bay\", \"Stirling\", \"Leonard\", \"Stirling\", \"Grand Bay\", \"Sutherland\", \"Stirling\", \"Wauchula\", \"Leonard\", \"Leonard\", \"Georgetown\", \"Leonard\", \"Georgetown\", \"Leonard\", \"Wauchula\", \"Georgetown\", \"Wauchula\", \"Wauchula\", \"Stirling\", \"Leonard\", \"Georgetown\", \"Stirling\", \"Stirling\", \"Leonard\", \"Stirling\", \"Georgetown\", \"Wauchula\", \"Wauchula\", \"Georgetown\", \"Georgetown\", \"Stirling\", \"Sutherland\", \"Wauchula\", \"Leonard\", \"Wauchula\", \"Stirling\", \"Georgetown\", \"Sutherland\", \"Sutherland\", \"Sutherland\", \"Sutherland\", \"Stirling\", \"Leonard\", \"Woodville\", \"Des Moines\", \"Sutherland\", \"Georgetown\", \"Sutherland\", \"Sutherland\", \"Sutherland\", \"Woodville\", \"Georgetown\", \"Woodville\", \"Woodville\", \"Georgetown\", \"Georgetown\", \"Georgetown\", \"Woodville\", \"Sutherland\", \"Des Moines\", \"Des Moines\", \"Des Moines\", \"Des Moines\", \"Des Moines\", \"Des Moines\", \"Sutherland\", \"Georgetown\", \"Sutherland\", \"Sutherland\", \"Sutherland\", \"Woodville\", \"Woodville\", \"Des Moines\", \"Des Moines\", \"Woodville\", \"Woodville\", \"Woodville\", \"Des Moines\", \"Des Moines\", \"Des Moines\", \"Thrall\", \"Thrall\", \"Thrall\", \"Thrall\", \"Thrall\", \"Thrall\", \"Thrall\", \"Thrall\", \"Thrall\", \"Owensville\", \"Owensville\", \"Owensville\", \"Cedar\", \"Thrall\", \"Owensville\", \"Owensville\", \"Thrall\", \"Moores Hill\", \"Owensville\", \"Moores Hill\", \"Moores Hill\", \"Cedar\", \"Cedar\", \"Moores Hill\", \"Owensville\", \"Cedar\", \"Thrall\", \"Moores Hill\", \"Owensville\", \"Cedar\", \"Owensville\", \"Owensville\", \"Wilton\", \"Cedar\", \"Owensville\", \"Wilton\", \"Roosevelt\", \"Wilton\", \"Owensville\", \"Wilton\", \"Cedar\", \"Owensville\", \"Cedar\", \"Moores Hill\", \"Wilton\", \"Cedar\", \"Wilton\", \"Moores Hill\", \"Manville\", \"Valdosta\", \"Roosevelt\", \"Roosevelt\", \"Wilton\", \"Wilton\", \"Roosevelt\", \"Manville\", \"Roosevelt\", \"Roosevelt\", \"Roosevelt\", \"Roosevelt\", \"Manville\", \"Wilton\", \"Wilton\", \"Manville\", \"Wilton\", \"Manville\", \"Manville\", \"Valdosta\", \"Valdosta\", \"Manville\", \"Hooper\", \"Hooper\", \"Hooper\", \"Hooper\", \"Hooper\", \"Hooper\", \"Hooper\", \"Hooper\", \"Bradley\", \"Bradley\", \"Bradley\", \"Bradley\", \"Bradley\", \"Bradley\", \"Bradley\", \"Bradley\", \"Bradley\", \"Bradley\", \"Bradley\", \"Bradley\", \"Bradley\", \"Bradley\", \"Bradley\", \"Bradley\", \"Holloway\", \"Holloway\", \"Port Ewen\", \"Plymouth\", \"Plymouth\", \"Plymouth\", \"Plymouth\", \"Holloway\", \"Plymouth\", \"Port Ewen\", \"Plymouth\", \"Port Ewen\", \"Port Ewen\", \"Plymouth\", \"Port Ewen\", \"Port Ewen\", \"Port Ewen\", \"Holloway\", \"Plymouth\", \"Plymouth\", \"Plymouth\", \"Plymouth\", \"Port Ewen\", \"Plymouth\", \"Port Ewen\", \"Plymouth\", \"Port Ewen\", \"Port Ewen\", \"Port Ewen\", \"Plymouth\", \"Port Ewen\", \"Plymouth\", \"Spring Church\", \"Luray\", \"Luray\", \"Luray\", \"Luray\", \"Luray\", \"Luray\", \"Sherman\", \"Spring Church\", \"Sherman\", \"Luray\", \"Spring Church\", \"Spring Church\", \"Luray\", \"Spring Church\", \"Spring Church\", \"Spring Church\", \"Luray\", \"Luray\", \"Spring Church\", \"Luray\", \"Keisterville\", \"Loving\", \"Loving\", \"Pelham\", \"Keisterville\", \"Loving\", \"Loving\", \"Pelham\", \"Loving\", \"Keisterville\", \"Loving\", \"Keisterville\", \"Keisterville\", \"Pelham\", \"Pelham\", \"Keisterville\", \"Loving\", \"Keisterville\", \"Keisterville\", \"Uledi\", \"Uledi\", \"Keisterville\", \"Uledi\", \"Eureka\", \"Eureka\", \"Uledi\", \"Pelham\", \"Uledi\", \"Loving\", \"Keisterville\", \"Eureka\", \"Pelham\", \"Eureka\", \"Eureka\", \"Loving\", \"Eureka\", \"Loving\", \"Uledi\", \"Uledi\", \"Uledi\", \"Keisterville\", \"Pelham\", \"Loving\", \"Eureka\", \"Newberg\", \"Eureka\", \"Uledi\", \"Uledi\", \"Waupaca\", \"Uledi\", \"Newberg\", \"Waupaca\", \"Waupaca\", \"Eureka\", \"Waupaca\", \"Eureka\", \"Uledi\", \"Uledi\", \"Newberg\", \"Newberg\", \"Annapolis\", \"Newberg\", \"Annapolis\", \"Waupaca\", \"Waupaca\", \"Newberg\", \"Newberg\", \"Annapolis\", \"Waupaca\", \"Newberg\", \"Drakes Branch\", \"Newberg\", \"Annapolis\", \"Waupaca\", \"Drakes Branch\", \"Drakes Branch\", \"Annapolis\", \"Waupaca\", \"Annapolis\", \"Drakes Branch\", \"Drakes Branch\", \"Annapolis\", \"Annapolis\", \"Annapolis\", \"Drakes Branch\", \"Drakes Branch\", \"Annapolis\", \"Annapolis\", \"Annapolis\", \"Watertown\", \"Watertown\", \"Watertown\", \"Watertown\", \"Watertown\", \"Watertown\", \"Watertown\", \"Watertown\", \"Watertown\", \"Watertown\", \"Bessemer\", \"Bessemer\", \"Arlington\", \"Arlington\", \"Arlington\", \"Arlington\", \"Arlington\", \"Arlington\", \"Arlington\", \"Arlington\", \"Bessemer\", \"Bessemer\", \"Arlington\", \"Bessemer\", \"Surrency\", \"Bessemer\", \"Arlington\", \"Bessemer\", \"Arlington\", \"Bessemer\", \"Arlington\", \"Surrency\", \"Surrency\", \"Surrency\", \"Surrency\", \"Surrency\", \"Surrency\", \"Surrency\", \"Birmingham\", \"Brinson\", \"Lexington\", \"Birmingham\", \"Birmingham\", \"Brinson\", \"Lexington\", \"Brinson\", \"Baton Rouge\", \"Lexington\", \"Lexington\", \"Lexington\", \"Birmingham\", \"Brinson\", \"Birmingham\", \"Lexington\", \"Lexington\", \"Brinson\", \"Lexington\", \"Cottekill\", \"Brinson\", \"Baton Rouge\", \"Brinson\", \"Lexington\", \"Birmingham\", \"Birmingham\", \"Cottekill\", \"Cottekill\", \"Brinson\", \"Baton Rouge\", \"Baton Rouge\", \"Baton Rouge\", \"Brinson\", \"Birmingham\", \"Birmingham\", \"Cottekill\", \"Birmingham\", \"Lexington\", \"Birmingham\", \"Cottekill\", \"Lexington\", \"Brinson\", \"Meridian\", \"Cottekill\", \"Cottekill\", \"Cottekill\", \"Cottekill\", \"Cottekill\", \"Cottekill\", \"Cottekill\", \"Meridian\", \"Cottekill\", \"Cottekill\", \"Cottekill\", \"Oakland\", \"Meridian\", \"Lohrville\", \"Meridian\", \"Meridian\", \"Lohrville\", \"Lohrville\", \"Oakland\", \"Lohrville\", \"Lohrville\", \"Lohrville\", \"Lohrville\", \"Lohrville\", \"Lohrville\", \"Oakland\", \"Allentown\", \"Oakland\", \"Allentown\", \"Oakland\", \"Allentown\", \"Oakland\", \"Allentown\", \"Allentown\", \"Lohrville\", \"Allentown\", \"Allentown\", \"Oakland\", \"Lohrville\", \"Lohrville\", \"Allentown\", \"Allentown\", \"Allentown\", \"Monmouth Beach\", \"Allentown\", \"Allentown\", \"Allentown\", \"Monmouth Beach\", \"Monmouth Beach\", \"Monmouth Beach\", \"Monmouth Beach\", \"Zavalla\", \"Zavalla\", \"Zavalla\", \"Zavalla\", \"Zavalla\", \"Monmouth Beach\", \"Monmouth Beach\", \"Monmouth Beach\", \"Monmouth Beach\", \"Zavalla\", \"Zavalla\", \"Zavalla\", \"Zavalla\", \"Zavalla\", \"Zavalla\", \"Zavalla\", \"West Henrietta\", \"West Henrietta\", \"West Henrietta\", \"West Henrietta\", \"West Henrietta\", \"West Henrietta\", \"West Henrietta\", \"West Henrietta\", \"Mound City\", \"Mound City\", \"Mound City\", \"West Henrietta\", \"Mound City\", \"Mound City\", \"West Henrietta\", \"West Henrietta\", \"Mound City\", \"Mound City\", \"Mound City\", \"Mound City\", \"Mound City\", \"Mound City\", \"Mound City\", \"Mound City\", \"Mound City\", \"Mound City\", \"Elizabethtown\", \"Elizabethtown\", \"Elizabethtown\", \"Elizabethtown\", \"Elizabethtown\", \"Elizabethtown\", \"Palmdale\", \"East Canaan\", \"Palmdale\", \"East Canaan\", \"East Canaan\", \"Palmdale\", \"Elizabethtown\", \"Palmdale\", \"Elizabethtown\", \"Palmdale\", \"Palmdale\", \"Palmdale\", \"East Canaan\", \"Falconer\", \"East Canaan\", \"East Canaan\", \"East Canaan\", \"Palmdale\", \"East Canaan\", \"Falconer\", \"East Canaan\", \"Palmdale\", \"Falconer\", \"East Canaan\", \"Palmdale\", \"East Canaan\", \"Palmdale\", \"Falconer\", \"Falconer\", \"Falconer\", \"Falconer\", \"Falconer\", \"Falconer\", \"Falconer\", \"Falconer\", \"Deltona\", \"Deltona\", \"Edmond\", \"Edmond\", \"Edmond\", \"Deltona\", \"Edmond\", \"Jackson\", \"Edmond\", \"Jackson\", \"Edmond\", \"Edmond\", \"Edmond\", \"Jackson\", \"Jackson\", \"Edmond\", \"Edmond\", \"Jackson\", \"Lomax\", \"Southfield\", \"Jackson\", \"Southfield\", \"Southfield\", \"Jackson\", \"Lomax\", \"Kirkwood\", \"Southfield\", \"Jackson\", \"Kirkwood\", \"Kirkwood\", \"Lomax\", \"Lomax\", \"Kirkwood\", \"Lomax\", \"Kirkwood\", \"Lomax\", \"Kirkwood\", \"Kirkwood\", \"Southfield\", \"Southfield\", \"Lomax\", \"Ruidoso\", \"Southfield\", \"Southfield\", \"Lomax\", \"Southfield\", \"Kirkwood\", \"Lomax\", \"Lomax\", \"Lomax\", \"Kirkwood\", \"Ruidoso\", \"Kirkwood\", \"Lomax\", \"Ruidoso\", \"Lomax\", \"Kirkwood\", \"Lomax\", \"Southfield\", \"Southfield\", \"Lomax\", \"Kirkwood\", \"Southfield\", \"West Sayville\", \"Ruidoso\", \"Ruidoso\", \"Ruidoso\", \"Ruidoso\", \"West Sayville\", \"Blairstown\", \"Blairstown\", \"Blairstown\", \"West Sayville\", \"Ruidoso\", \"Blairstown\", \"Blairstown\", \"Ruidoso\", \"West Sayville\", \"Ruidoso\", \"West Sayville\", \"West Sayville\", \"Azusa\", \"Azusa\", \"West Sayville\", \"West Sayville\", \"Azusa\", \"Kirtland\", \"Dallas\", \"Azusa\", \"Azusa\", \"Azusa\", \"Azusa\", \"Dallas\", \"Dallas\", \"Kirtland\", \"Dallas\", \"Kirtland\", \"Azusa\", \"Kirtland\", \"Dallas\", \"Azusa\", \"Azusa\", \"Kirtland\", \"Kirtland\", \"Azusa\", \"Dallas\", \"Maria Stein\", \"Dallas\", \"Dallas\", \"Kirtland\", \"Kirtland\", \"Maria Stein\", \"Dallas\", \"Kirtland\", \"Dallas\", \"Dallas\", \"Dallas\", \"Maria Stein\", \"Kirtland\", \"Maria Stein\", \"Maria Stein\", \"Maria Stein\", \"Laramie\", \"Maria Stein\", \"Maria Stein\", \"Maria Stein\", \"Maria Stein\", \"Laramie\", \"Morrowville\", \"Morrowville\", \"Morrowville\", \"Morrowville\", \"Morrowville\", \"Morrowville\", \"Morrowville\", \"Morrowville\", \"Morrowville\", \"Morrowville\", \"Morrowville\", \"Morrowville\", \"Turner\", \"Turner\", \"Turner\", \"Turner\", \"Turner\", \"Turner\", \"Seligman\", \"Seligman\", \"Turner\", \"West Eaton\", \"West Eaton\", \"Turner\", \"West Eaton\", \"Turner\", \"Turner\", \"Turner\", \"Seligman\", \"West Eaton\", \"Turner\", \"Turner\", \"Turner\", \"Chatham\", \"Saint Amant\", \"Chatham\", \"Chatham\", \"Livonia\", \"West Eaton\", \"Cisco\", \"West Eaton\", \"Chatham\", \"Livonia\", \"Saint Amant\", \"Chatham\", \"Livonia\", \"West Eaton\", \"Seligman\", \"Seligman\", \"Livonia\", \"West Eaton\", \"West Eaton\", \"Seligman\", \"West Eaton\", \"Saint Amant\", \"Saint Amant\", \"Livonia\", \"Livonia\", \"Cisco\", \"Seligman\", \"West Eaton\", \"Seligman\", \"Livonia\", \"Seligman\", \"West Eaton\", \"Saint Amant\", \"Livonia\", \"Cisco\", \"Livonia\", \"Chatham\", \"Seligman\", \"West Eaton\", \"Livonia\", \"Cisco\", \"Chatham\", \"Livonia\", \"Chatham\", \"Chatham\", \"Cisco\", \"Cisco\", \"Livonia\", \"Saint Amant\", \"Saint Amant\", \"Chatham\", \"Chatham\", \"Saint Amant\", \"Cisco\", \"Cisco\", \"Cisco\", \"Cisco\", \"Saint Amant\", \"Desdemona\", \"Chatham\", \"Chatham\", \"Cisco\", \"Cisco\", \"Chatham\", \"Desdemona\", \"Cisco\", \"Desdemona\", \"Desdemona\", \"Chatham\", \"Chatham\", \"Desdemona\", \"Desdemona\", \"Sachse\", \"Bolivar\", \"Desdemona\", \"Bolivar\", \"Sachse\", \"Bolivar\", \"Sachse\", \"Bolivar\", \"Desdemona\", \"Desdemona\", \"Bolivar\", \"Bolivar\", \"Bolivar\", \"Sachse\", \"Sachse\", \"Bolivar\", \"Whittemore\", \"Sachse\", \"Whittemore\", \"Darien\", \"Sachse\", \"Bolivar\", \"Whittemore\", \"Whittemore\", \"Whittemore\", \"Darien\", \"Bolivar\", \"Whittemore\", \"Darien\", \"Whittemore\", \"Whittemore\", \"Whittemore\", \"Whittemore\", \"Darien\", \"Whittemore\", \"Darien\", \"Darien\", \"Whittemore\", \"Darien\", \"Darien\", \"Whittemore\", \"Whittemore\", \"Whittemore\", \"Varnell\", \"Varnell\", \"Varnell\", \"Varnell\", \"Varnell\", \"Mountain Center\", \"Mountain Center\", \"Varnell\", \"Varnell\", \"Mountain Center\", \"Mountain Center\", \"Llano\", \"Arcadia\", \"Llano\", \"Arcadia\", \"Mountain Center\", \"Mountain Center\", \"Llano\", \"Llano\", \"Llano\", \"Arcadia\", \"Llano\", \"Mountain Center\", \"Arcadia\", \"Mountain Center\", \"Arcadia\", \"Arcadia\", \"Arcadia\", \"Arcadia\", \"Arcadia\", \"Arcadia\", \"Llano\", \"Llano\", \"Arcadia\", \"Arcadia\", \"Halstad\", \"Halstad\", \"Halstad\", \"Halstad\", \"Halstad\", \"Halstad\", \"Camden\", \"Phoenix\", \"Phoenix\", \"Halstad\", \"Halstad\", \"Halstad\", \"Camden\", \"Camden\", \"Halstad\", \"Camden\", \"Camden\", \"Phoenix\", \"Phoenix\", \"Camden\", \"Camden\", \"Phoenix\", \"Camden\", \"Camden\", \"Phoenix\", \"Phoenix\", \"Phoenix\", \"Camden\", \"Camden\", \"Camden\", \"Camden\", \"Phoenix\", \"Phoenix\", \"Northport\", \"Phoenix\", \"Northport\", \"Camden\", \"Phoenix\", \"Northport\", \"Camden\", \"Phoenix\", \"Phoenix\", \"Camden\", \"Camden\", \"Camden\", \"Camden\", \"Camden\", \"Camden\", \"Phoenix\", \"Camden\", \"Hartford\", \"Camden\", \"Northport\", \"Northport\", \"Northport\", \"Veedersburg\", \"Northport\", \"Camden\", \"Camden\", \"Veedersburg\", \"Northport\", \"Hartford\", \"Camden\", \"Veedersburg\", \"Northport\", \"Camden\", \"Veedersburg\", \"Veedersburg\", \"Veedersburg\", \"Northport\", \"Hartford\", \"Burke\", \"Thomas\", \"Hartford\", \"Veedersburg\", \"Hartford\", \"Veedersburg\", \"Hartford\", \"Veedersburg\", \"Hartford\", \"Burke\", \"Burke\", \"Hartford\", \"Hartford\", \"Veedersburg\", \"Thomas\", \"Thomas\", \"Paradise Valley\", \"Thomas\", \"Thomas\", \"Thomas\", \"Paradise Valley\", \"Paradise Valley\", \"Paradise Valley\", \"Burke\", \"Burke\", \"Paradise Valley\", \"Paradise Valley\", \"Burke\", \"Thomas\", \"Paradise Valley\", \"Thomas\", \"Thomas\", \"Paradise Valley\", \"Burke\", \"Paradise Valley\", \"Paradise Valley\", \"Paradise Valley\", \"Paradise Valley\", \"Shrewsbury\", \"Shrewsbury\", \"Shrewsbury\", \"Shrewsbury\", \"Shrewsbury\", \"Shrewsbury\", \"Shrewsbury\", \"Shrewsbury\", \"Shrewsbury\", \"Pomona\", \"Pomona\", \"Goreville\", \"Burrton\", \"Burrton\", \"Seattle\", \"Seattle\", \"Seattle\", \"Seattle\", \"Seattle\", \"Pomona\", \"Pomona\", \"Burrton\", \"Pomona\", \"Burrton\", \"Burrton\", \"Goreville\", \"Seattle\", \"Seattle\", \"Pomona\", \"Pomona\", \"Burrton\", \"Burrton\", \"Burrton\", \"Wever\", \"Pomona\", \"Burrton\", \"Goreville\", \"Goreville\", \"Goreville\", \"Wever\", \"Burrton\", \"Burrton\", \"Goreville\", \"Pomona\", \"Burrton\", \"Wever\", \"Seattle\", \"Pomona\", \"Wever\", \"Burrton\", \"Wever\", \"Seattle\", \"Burrton\", \"Burrton\", \"Burrton\", \"Wever\", \"Burrton\", \"Goreville\", \"Pomona\", \"Burrton\", \"Goreville\", \"Burrton\", \"Jaffrey\", \"Jaffrey\", \"Jaffrey\", \"Jaffrey\", \"Jaffrey\", \"Whigham\", \"Jaffrey\", \"Jaffrey\", \"Whigham\", \"Whigham\", \"Whigham\", \"Whigham\", \"Whigham\", \"Jaffrey\", \"Diamond\", \"Diamond\", \"Whigham\", \"Whigham\", \"Whigham\", \"Diamond\", \"Diamond\", \"Diamond\", \"Diamond\", \"Schaumburg\", \"Schaumburg\", \"Schaumburg\", \"Schaumburg\", \"Preston\", \"Schaumburg\", \"Schaumburg\", \"Guthrie\", \"Preston\", \"Guthrie\", \"Schaumburg\", \"Preston\", \"Guthrie\", \"Guthrie\", \"Preston\", \"Guthrie\", \"Preston\", \"Preston\", \"Preston\", \"Preston\", \"Preston\", \"Preston\", \"Preston\", \"Guthrie\", \"Preston\", \"Guthrie\", \"Preston\", \"Guthrie\", \"Preston\", \"Guthrie\", \"Richland\", \"Richland\", \"Richland\", \"Richland\", \"Oriskany Falls\", \"Richland\", \"Oriskany Falls\", \"Richland\", \"Richland\", \"Richland\", \"Oriskany Falls\", \"Richland\", \"Bristol\", \"Bristol\", \"Oriskany Falls\", \"Bristol\", \"Cazenovia\", \"Bristol\", \"Cazenovia\", \"Bristol\", \"Cazenovia\", \"Bristol\", \"Cazenovia\", \"Cazenovia\", \"Bristol\", \"Cazenovia\", \"Cazenovia\", \"Oriskany Falls\", \"Bristol\", \"Malad City\", \"Bristol\", \"Bristol\", \"Bristol\", \"Cazenovia\", \"Bristol\", \"Cazenovia\", \"Cazenovia\", \"Malad City\", \"Bristol\", \"Cazenovia\", \"Dresden\", \"Bristol\", \"Dresden\", \"Malad City\", \"Bristol\", \"Cazenovia\", \"Dresden\", \"Dresden\", \"Malad City\", \"Malad City\", \"Malad City\", \"Malad City\", \"Malad City\", \"Dresden\", \"Dresden\", \"Cascade Locks\", \"Cascade Locks\", \"Cascade Locks\", \"Cascade Locks\", \"Cascade Locks\", \"Lamberton\", \"Cascade Locks\", \"Lamberton\", \"Cascade Locks\", \"Lamberton\", \"Lamberton\", \"Lamberton\", \"Port Gibson\", \"Lamberton\", \"Cascade Locks\", \"Lamberton\", \"Lamberton\", \"Port Gibson\", \"Port Gibson\", \"Lamberton\", \"Lamberton\", \"Port Gibson\", \"Clutier\", \"Lamberton\", \"Lorenzo\", \"Clutier\", \"Lorenzo\", \"Lorenzo\", \"Clutier\", \"Clutier\", \"Lorenzo\", \"Lorenzo\", \"Lorenzo\", \"Lorenzo\", \"Lorenzo\", \"Clutier\", \"Lorenzo\", \"Lorenzo\", \"Lorenzo\", \"Lorenzo\", \"Tower Hill\", \"Afton\", \"Afton\", \"Afton\", \"Afton\", \"Tower Hill\", \"Tower Hill\", \"Afton\", \"Tower Hill\", \"Afton\", \"Tower Hill\", \"Central\", \"Central\", \"Tower Hill\", \"Tower Hill\", \"Central\", \"Central\", \"Central\", \"Afton\", \"Central\", \"Tower Hill\", \"Central\", \"Central\", \"Central\", \"Central\", \"Central\", \"Central\", \"Etlan\", \"Etlan\", \"Etlan\", \"Etlan\", \"Etlan\", \"Etlan\", \"Etlan\", \"Etlan\", \"Etlan\", \"Etlan\", \"Etlan\", \"Etlan\", \"River\", \"Churubusco\", \"Churubusco\", \"Churubusco\", \"Churubusco\", \"River\", \"River\", \"River\", \"River\", \"Churubusco\", \"Churubusco\", \"Clarks Mills\", \"River\", \"Churubusco\", \"Churubusco\", \"Clarks Mills\", \"Clarks Mills\", \"Churubusco\", \"Clarks Mills\", \"Clarks Mills\", \"River\", \"Clarks Mills\", \"Clarks Mills\", \"Clarks Mills\", \"Clarks Mills\", \"West Harrison\", \"Clarks Mills\", \"Spirit Lake\", \"West Harrison\", \"Spirit Lake\", \"Clarks Mills\", \"West Harrison\", \"Spirit Lake\", \"Spirit Lake\", \"Clarks Mills\", \"West Harrison\", \"Clarks Mills\", \"Clarks Mills\", \"Clarks Mills\", \"Spirit Lake\", \"Spirit Lake\", \"Clarks Mills\", \"Spirit Lake\", \"Clarks Mills\", \"Clarks Mills\", \"West Harrison\", \"Spirit Lake\", \"West Harrison\", \"West Harrison\", \"West Harrison\", \"West Harrison\", \"Spirit Lake\", \"Detroit\", \"Detroit\", \"Detroit\", \"Detroit\", \"Lane\", \"Detroit\", \"Detroit\", \"Lane\", \"Lane\", \"Detroit\", \"Lane\", \"Lane\", \"Lane\", \"Lane\", \"Lane\", \"Belmont\", \"Belmont\", \"Belmont\", \"Belmont\", \"Belmont\", \"Harwood\", \"Belmont\", \"Stayton\", \"Belmont\", \"Stayton\", \"Belmont\", \"Stayton\", \"Stayton\", \"Belmont\", \"Harwood\", \"Harwood\", \"Belmont\", \"Stayton\", \"New Franken\", \"Stayton\", \"Grand Junction\", \"Stayton\", \"Grand Junction\", \"New Franken\", \"Harwood\", \"Grand Junction\", \"New Franken\", \"Stayton\", \"Stayton\", \"Grand Junction\", \"Grand Junction\", \"New Franken\", \"Stayton\", \"Stayton\", \"Harwood\", \"Belmont\", \"Harwood\", \"Harwood\", \"New Franken\", \"New Franken\", \"New Franken\", \"Stayton\", \"Grand Junction\", \"Grand Junction\", \"Belmont\", \"New Franken\", \"Ridgeland\", \"Ridgeland\", \"Elk Rapids\", \"Elk Rapids\", \"Grand Junction\", \"New Franken\", \"Grand Junction\", \"Ridgeland\", \"Grand Junction\", \"Ridgeland\", \"Elk Rapids\", \"Ridgeland\", \"Elk Rapids\", \"Ridgeland\", \"Elk Rapids\", \"Elk Rapids\", \"Grand Junction\", \"Elk Rapids\", \"Grand Junction\", \"Elk Rapids\", \"Ridgeland\", \"Elk Rapids\", \"Ridgeland\", \"Ridgeland\", \"Ridgeland\", \"Elk Rapids\", \"Ridgeland\", \"Elk Rapids\", \"Elk Rapids\", \"Elk Rapids\", \"Elk Rapids\", \"Pea Ridge\", \"Ford\", \"Ford\", \"Ford\", \"Pea Ridge\", \"Ford\", \"Pea Ridge\", \"Pea Ridge\", \"Pea Ridge\", \"Pea Ridge\", \"Pea Ridge\", \"Craig\", \"Pea Ridge\", \"Pea Ridge\", \"Craig\", \"Ford\", \"Craig\", \"Ford\", \"Craig\", \"Craig\", \"Craig\", \"Ford\", \"Craig\", \"Craig\", \"Craig\", \"Craig\", \"Pea Ridge\", \"Craig\", \"Craig\", \"Craig\", \"Craig\", \"Glendale\", \"Orient\", \"Glendale\", \"Glendale\", \"Orient\", \"Orient\", \"Glendale\", \"Glendale\", \"Norwich\", \"Norwich\", \"Orient\", \"Glendale\", \"Orient\", \"Great Mills\", \"Glendale\", \"Glendale\", \"Great Mills\", \"Great Mills\", \"Orient\", \"Orient\", \"Norwich\", \"Glendale\", \"Great Mills\", \"Great Mills\", \"Norwich\", \"Norwich\", \"Greenbush\", \"Norwich\", \"Greenbush\", \"Greenbush\", \"Norwich\", \"Norwich\", \"Norwich\", \"Great Mills\", \"Great Mills\", \"Great Mills\", \"Rossville\", \"Greenbush\", \"Greenbush\", \"Norwich\", \"Rossville\", \"Greenbush\", \"Rossville\", \"Rossville\", \"Greenbush\", \"Greenbush\", \"Rossville\", \"Rossville\", \"Greenbush\", \"Greenbush\", \"Rossville\", \"Carlotta\", \"Maysville\", \"Carlotta\", \"Carlotta\", \"Moorhead\", \"Moorhead\", \"Titusville\", \"Carlotta\", \"Moorhead\", \"Carlotta\", \"Moorhead\", \"Titusville\", \"Moorhead\", \"Carlotta\", \"Moorhead\", \"Moorhead\", \"Carlotta\", \"Carlotta\", \"Moorhead\", \"Maysville\", \"Moorhead\", \"Moorhead\", \"Carlotta\", \"Titusville\", \"Titusville\", \"Moorhead\", \"Maysville\", \"Titusville\", \"Carlotta\", \"Titusville\", \"Moorhead\", \"Maysville\", \"Maysville\", \"Moorhead\", \"Carlotta\", \"Titusville\", \"Carlotta\", \"Carlotta\", \"Carlotta\", \"Titusville\", \"Titusville\", \"Carlotta\", \"Titusville\", \"Lakeport\", \"Lakeport\", \"Lakeport\", \"Lakeport\", \"Birmingham\", \"Morrisdale\", \"Birmingham\", \"Lakeport\", \"Lakeport\", \"Birmingham\", \"Lakeport\", \"Birmingham\", \"Birmingham\", \"Birmingham\", \"Lakeport\", \"Lakeport\", \"Birmingham\", \"Lakeport\", \"Birmingham\", \"Morrisdale\", \"Birmingham\", \"Lakeport\", \"Lakeport\", \"Lakeport\", \"Morrisdale\", \"Coyle\", \"Morrisdale\", \"Birmingham\", \"Morrisdale\", \"Coyle\", \"Coyle\", \"Birmingham\", \"Morrisdale\", \"Coyle\", \"Birmingham\", \"Birmingham\", \"Coyle\", \"Coyle\", \"Coyle\", \"Coyle\", \"Morrisdale\", \"Birmingham\", \"Coyle\", \"Coyle\", \"Princeton\", \"Coyle\", \"Princeton\", \"Auburn\", \"Auburn\", \"Coyle\", \"Auburn\", \"Auburn\", \"Coyle\", \"Smackover\", \"Princeton\", \"Smackover\", \"Smackover\", \"Princeton\", \"Auburn\", \"Auburn\", \"Auburn\", \"Princeton\", \"Smackover\", \"Smackover\", \"Smackover\", \"New York City\", \"Smackover\", \"New York City\", \"New York City\", \"Smackover\", \"New York City\", \"Smackover\", \"New York City\", \"New York City\", \"Smackover\", \"New York City\", \"New York City\", \"West Finley\", \"New York City\", \"West Finley\", \"Leetsdale\", \"New York City\", \"West Finley\", \"West Finley\", \"New York City\", \"Leetsdale\", \"New York City\", \"Leetsdale\", \"West Finley\", \"West Finley\", \"Leetsdale\", \"Leetsdale\", \"Leetsdale\", \"West Finley\", \"West Finley\", \"Leetsdale\", \"Leetsdale\", \"Leetsdale\", \"Leetsdale\", \"West Finley\", \"West Finley\", \"Leetsdale\", \"Washington\", \"Washington\", \"Washington\", \"Washington\", \"Washington\", \"Washington\", \"Washington\", \"Washington\", \"Washington\", \"Washington\", \"Heart Butte\", \"Heart Butte\", \"Heart Butte\", \"Heart Butte\", \"Heart Butte\", \"Heart Butte\", \"Heart Butte\", \"Heart Butte\", \"Senatobia\", \"Senatobia\", \"Heart Butte\", \"Heart Butte\", \"Heart Butte\", \"Senatobia\", \"Senatobia\", \"Senatobia\", \"Senatobia\", \"Senatobia\", \"Senatobia\", \"Senatobia\", \"Senatobia\"], \"lat\": [31.8599, 42.5545, 42.5545, 30.459, 31.8599, 27.633000000000006, 30.459, 30.459, 30.459, 42.5545, 30.459, 27.633000000000006, 30.459, 27.633000000000006, 30.459, 27.633000000000006, 27.633000000000006, 27.633000000000006, 30.459, 27.633000000000006, 27.633000000000006, 27.633000000000006, 42.52, 42.52, 42.52, 42.52, 42.52, 42.52, 42.52, 44.4971, 42.52, 42.52, 42.52, 44.4971, 42.52, 44.4971, 44.4971, 44.4971, 44.4971, 44.4971, 44.4971, 42.52, 34.048, 34.048, 34.048, 41.55, 34.048, 34.048, 34.048, 34.048, 41.55, 41.55, 41.55, 45.7205, 41.55, 41.55, 41.55, 41.55, 45.7205, 41.55, 45.7205, 45.7205, 34.048, 34.048, 34.048, 41.0695, 45.7205, 41.0695, 41.0695, 45.7205, 41.0695, 45.7205, 41.0695, 38.2507, 36.3924, 41.0695, 36.3924, 39.224, 38.2507, 39.224, 36.3924, 38.2507, 38.2507, 39.224, 36.3924, 39.224, 36.3924, 35.1836, 38.2507, 36.3924, 38.2507, 36.3924, 41.0695, 41.0695, 41.0695, 47.4974, 38.2507, 39.224, 38.2507, 47.4974, 36.3924, 36.3924, 35.1836, 47.4974, 35.1836, 36.3924, 47.4974, 39.224, 47.4974, 47.4974, 35.1836, 39.224, 39.224, 47.4974, 35.1836, 36.3924, 36.3924, 38.2507, 47.4974, 39.224, 39.224, 39.224, 47.4974, 36.3924, 35.1836, 38.2507, 39.224, 39.224, 38.2507, 36.3924, 39.224, 39.224, 38.2507, 47.4974, 47.4974, 39.5994, 39.5994, 45.7364, 45.7364, 39.6991, 39.6991, 45.7364, 39.6991, 39.6991, 45.7364, 39.6991, 45.7364, 39.6991, 45.7364, 45.7364, 45.7364, 39.6991, 39.6991, 39.6991, 34.1832, 34.1832, 34.1832, 34.1832, 39.6991, 39.6991, 39.6991, 31.924, 34.1832, 34.1832, 34.1832, 31.924, 34.1832, 34.1832, 34.1832, 34.1832, 31.924, 34.1832, 34.1832, 34.1832, 34.1832, 31.924, 36.1124, 36.1124, 36.1124, 31.924, 31.924, 31.924, 31.924, 36.1124, 31.924, 36.1124, 36.1124, 36.1124, 31.924, 36.1124, 36.1124, 45.7084, 45.7084, 45.7084, 36.1124, 36.1124, 36.1124, 45.7084, 45.7084, 35.3757, 45.7084, 45.7084, 45.7084, 35.3757, 45.7084, 35.3757, 35.3757, 45.7084, 45.7084, 35.3757, 35.3757, 35.3757, 35.3757, 35.3757, 35.3757, 40.6267, 40.6267, 40.6267, 42.1001, 42.1001, 40.6267, 40.6267, 42.1001, 42.1001, 26.3771, 42.1001, 40.6267, 26.3771, 42.1001, 42.1001, 42.1001, 40.6267, 42.1001, 26.3771, 40.6267, 31.4285, 31.4285, 40.6267, 31.4285, 31.4285, 40.6267, 40.6267, 40.6267, 40.6267, 44.4477, 44.4477, 31.4285, 31.4285, 42.958, 31.4285, 31.4285, 31.4285, 44.4477, 42.958, 31.4285, 44.4477, 31.4285, 31.4285, 42.958, 44.4477, 44.4477, 42.958, 42.958, 38.9829, 42.958, 42.958, 38.9829, 42.958, 44.4477, 44.4477, 38.9829, 44.4477, 42.958, 44.9437, 44.9437, 44.9437, 44.9437, 44.9437, 44.9437, 44.9437, 44.9437, 47.0874, 36.0788, 36.0788, 36.0788, 47.0874, 45.2857, 47.0874, 47.0874, 45.2857, 47.0874, 47.0874, 45.2857, 47.0874, 36.0788, 45.2857, 42.9993, 45.2857, 42.9993, 36.0788, 47.0874, 42.9993, 36.0788, 45.2857, 36.0788, 45.2857, 42.9993, 45.2857, 47.0874, 36.0788, 45.2857, 42.9993, 42.9993, 36.0788, 45.2857, 38.4207, 47.0874, 47.0874, 38.4207, 45.2857, 36.0788, 45.2857, 36.0788, 38.4207, 42.9993, 45.6892, 45.6892, 38.4207, 42.9993, 20.0827, 45.4093, 38.4207, 38.4207, 38.4207, 38.4207, 38.4207, 38.4207, 38.4207, 38.4207, 42.9993, 20.0827, 20.0827, 45.4093, 20.0827, 38.4207, 42.9993, 42.9993, 45.4093, 20.0827, 42.9993, 45.4093, 45.4093, 45.4093, 38.8938, 45.6892, 45.4093, 38.8938, 38.8938, 20.0827, 20.0827, 38.8938, 20.0827, 38.8938, 38.8938, 38.8938, 20.0827, 38.8938, 38.8938, 38.8938, 45.5303, 45.5303, 38.8938, 45.5303, 45.5303, 45.5303, 38.8938, 38.8938, 45.5303, 45.5303, 38.8938, 45.5303, 40.6284, 40.6284, 45.5303, 40.6284, 45.5303, 40.6284, 45.5303, 40.6284, 45.5303, 40.6284, 40.6284, 40.6284, 40.6284, 40.6284, 40.6284, 43.8967, 43.8967, 43.8967, 43.8967, 33.4235, 43.8967, 33.4235, 43.8967, 43.8967, 33.4235, 43.8967, 33.4235, 33.4235, 43.8967, 43.8967, 43.8967, 43.8967, 36.802, 33.4235, 40.8618, 33.4235, 36.802, 36.802, 36.802, 36.802, 40.8618, 36.802, 40.8618, 40.8618, 36.802, 36.802, 36.802, 40.8618, 36.802, 41.2153, 38.8856, 41.2153, 41.2153, 34.0287, 38.8856, 34.0287, 41.2153, 41.2153, 38.8856, 38.8856, 34.0287, 38.8856, 34.0287, 41.2153, 41.2153, 38.8856, 41.2153, 34.0287, 38.8856, 34.0287, 34.0287, 34.0287, 34.0287, 38.7735, 38.7735, 38.7735, 38.7735, 38.7735, 47.7068, 47.7068, 47.7068, 47.7068, 47.7068, 47.7068, 47.7068, 47.7068, 38.7735, 38.7735, 47.7068, 47.7068, 47.7068, 47.7068, 38.7735, 38.7735, 37.0581, 47.7068, 37.0581, 37.0581, 39.2092, 30.8985, 47.7068, 39.2092, 47.7068, 37.0581, 30.8985, 30.8985, 37.0581, 47.7068, 39.2092, 37.0581, 30.8985, 37.0581, 41.1437, 39.2092, 39.2092, 37.0581, 30.8985, 30.8985, 37.0581, 30.8985, 30.8985, 39.2092, 30.8985, 30.8985, 30.8985, 30.8985, 37.0581, 37.0581, 30.8985, 30.8985, 37.0581, 30.8635, 30.8985, 30.8635, 41.1437, 41.1437, 41.1437, 39.2092, 30.8635, 30.8985, 37.0581, 37.0581, 30.4983, 30.8635, 30.4983, 30.8635, 30.4983, 30.8635, 30.4983, 30.8635, 27.5517, 33.4044, 27.5517, 33.4044, 33.4044, 30.4983, 27.5517, 33.4044, 33.4044, 33.4044, 30.4983, 27.5517, 30.4983, 40.6774, 33.4044, 40.6774, 30.4983, 41.1558, 40.6774, 27.5517, 33.4044, 33.4044, 47.0999, 33.4044, 47.0999, 33.4044, 27.5517, 47.0999, 27.5517, 27.5517, 40.6774, 33.4044, 47.0999, 40.6774, 40.6774, 33.4044, 40.6774, 47.0999, 27.5517, 27.5517, 47.0999, 47.0999, 40.6774, 41.1558, 27.5517, 33.4044, 27.5517, 40.6774, 47.0999, 41.1558, 41.1558, 41.1558, 41.1558, 40.6774, 33.4044, 34.6689, 41.5855, 41.1558, 47.0999, 41.1558, 41.1558, 41.1558, 34.6689, 47.0999, 34.6689, 34.6689, 47.0999, 47.0999, 47.0999, 34.6689, 41.1558, 41.5855, 41.5855, 41.5855, 41.5855, 41.5855, 41.5855, 41.1558, 47.0999, 41.1558, 41.1558, 41.1558, 34.6689, 34.6689, 41.5855, 41.5855, 34.6689, 34.6689, 34.6689, 41.5855, 41.5855, 41.5855, 30.592, 30.592, 30.592, 30.592, 30.592, 30.592, 30.592, 30.592, 30.592, 38.3511, 38.3511, 38.3511, 44.8605, 30.592, 38.3511, 38.3511, 30.592, 39.0945, 38.3511, 39.0945, 39.0945, 44.8605, 44.8605, 39.0945, 38.3511, 44.8605, 30.592, 39.0945, 38.3511, 44.8605, 38.3511, 38.3511, 47.1709, 44.8605, 38.3511, 47.1709, 34.847, 47.1709, 38.3511, 47.1709, 44.8605, 38.3511, 44.8605, 39.0945, 47.1709, 44.8605, 47.1709, 39.0945, 42.73, 30.946, 34.847, 34.847, 47.1709, 47.1709, 34.847, 42.73, 34.847, 34.847, 34.847, 34.847, 42.73, 47.1709, 47.1709, 42.73, 47.1709, 42.73, 42.73, 30.946, 30.946, 42.73, 41.6414, 41.6414, 41.6414, 41.6414, 41.6414, 41.6414, 41.6414, 41.6414, 34.0326, 34.0326, 34.0326, 34.0326, 34.0326, 34.0326, 34.0326, 34.0326, 34.0326, 34.0326, 34.0326, 34.0326, 34.0326, 34.0326, 34.0326, 34.0326, 40.0113, 40.0113, 41.8948, 41.6611, 41.6611, 41.6611, 41.6611, 40.0113, 41.6611, 41.8948, 41.6611, 41.8948, 41.8948, 41.6611, 41.8948, 41.8948, 41.8948, 40.0113, 41.6611, 41.6611, 41.6611, 41.6611, 41.8948, 41.6611, 41.8948, 41.6611, 41.8948, 41.8948, 41.8948, 41.6611, 41.8948, 41.6611, 40.6153, 40.4931, 40.4931, 40.4931, 40.4931, 40.4931, 40.4931, 33.6372, 40.6153, 33.6372, 40.4931, 40.6153, 40.6153, 40.4931, 40.6153, 40.6153, 40.6153, 40.4931, 40.4931, 40.6153, 40.4931, 39.9636, 32.274, 32.274, 36.4899, 39.9636, 32.274, 32.274, 36.4899, 32.274, 39.9636, 32.274, 39.9636, 39.9636, 36.4899, 36.4899, 39.9636, 32.274, 39.9636, 39.9636, 39.8936, 39.8936, 39.9636, 39.8936, 40.7152, 40.7152, 39.8936, 36.4899, 39.8936, 32.274, 39.9636, 40.7152, 36.4899, 40.7152, 40.7152, 32.274, 40.7152, 32.274, 39.8936, 39.8936, 39.8936, 39.9636, 36.4899, 32.274, 40.7152, 45.3099, 40.7152, 39.8936, 39.8936, 44.3481, 39.8936, 45.3099, 44.3481, 44.3481, 40.7152, 44.3481, 40.7152, 39.8936, 39.8936, 45.3099, 45.3099, 39.0305, 45.3099, 39.0305, 44.3481, 44.3481, 45.3099, 45.3099, 39.0305, 44.3481, 45.3099, 36.9688, 45.3099, 39.0305, 44.3481, 36.9688, 36.9688, 39.0305, 44.3481, 39.0305, 36.9688, 36.9688, 39.0305, 39.0305, 39.0305, 36.9688, 36.9688, 39.0305, 39.0305, 39.0305, 44.9595, 44.9595, 44.9595, 44.9595, 44.9595, 44.9595, 44.9595, 44.9595, 44.9595, 44.9595, 33.3224, 33.3224, 38.859, 38.859, 38.859, 38.859, 38.859, 38.859, 38.859, 38.859, 33.3224, 33.3224, 38.859, 33.3224, 31.6489, 33.3224, 38.859, 33.3224, 38.859, 33.3224, 38.859, 31.6489, 31.6489, 31.6489, 31.6489, 31.6489, 31.6489, 31.6489, 33.4816, 30.9788, 38.0174, 33.4816, 33.4816, 30.9788, 38.0174, 30.9788, 30.4066, 38.0174, 38.0174, 38.0174, 33.4816, 30.9788, 33.4816, 38.0174, 38.0174, 30.9788, 38.0174, 41.8467, 30.9788, 30.4066, 30.9788, 38.0174, 33.4816, 33.4816, 41.8467, 41.8467, 30.9788, 30.4066, 30.4066, 30.4066, 30.9788, 33.4816, 33.4816, 41.8467, 33.4816, 38.0174, 33.4816, 41.8467, 38.0174, 30.9788, 43.6498, 41.8467, 41.8467, 41.8467, 41.8467, 41.8467, 41.8467, 41.8467, 43.6498, 41.8467, 41.8467, 41.8467, 35.2229, 43.6498, 42.2619, 43.6498, 43.6498, 42.2619, 42.2619, 35.2229, 42.2619, 42.2619, 42.2619, 42.2619, 42.2619, 42.2619, 35.2229, 32.6064, 35.2229, 32.6064, 35.2229, 32.6064, 35.2229, 32.6064, 32.6064, 42.2619, 32.6064, 32.6064, 35.2229, 42.2619, 42.2619, 32.6064, 32.6064, 32.6064, 40.333, 32.6064, 32.6064, 32.6064, 40.333, 40.333, 40.333, 40.333, 31.1569, 31.1569, 31.1569, 31.1569, 31.1569, 40.333, 40.333, 40.333, 40.333, 31.1569, 31.1569, 31.1569, 31.1569, 31.1569, 31.1569, 31.1569, 43.0397, 43.0397, 43.0397, 43.0397, 43.0397, 43.0397, 43.0397, 43.0397, 40.1362, 40.1362, 40.1362, 43.0397, 40.1362, 40.1362, 43.0397, 43.0397, 40.1362, 40.1362, 40.1362, 40.1362, 40.1362, 40.1362, 40.1362, 40.1362, 40.1362, 40.1362, 37.6848, 37.6848, 37.6848, 37.6848, 37.6848, 37.6848, 34.5715, 42.0158, 34.5715, 42.0158, 42.0158, 34.5715, 37.6848, 34.5715, 37.6848, 34.5715, 34.5715, 34.5715, 42.0158, 42.1239, 42.0158, 42.0158, 42.0158, 34.5715, 42.0158, 42.1239, 42.0158, 34.5715, 42.1239, 42.0158, 34.5715, 42.0158, 34.5715, 42.1239, 42.1239, 42.1239, 42.1239, 42.1239, 42.1239, 42.1239, 42.1239, 28.8989, 28.8989, 35.6665, 35.6665, 35.6665, 28.8989, 35.6665, 32.3739, 35.6665, 32.3739, 35.6665, 35.6665, 35.6665, 32.3739, 32.3739, 35.6665, 35.6665, 32.3739, 40.6761, 42.4969, 32.3739, 42.4969, 42.4969, 32.3739, 40.6761, 42.0695, 42.4969, 32.3739, 42.0695, 42.0695, 40.6761, 40.6761, 42.0695, 40.6761, 42.0695, 40.6761, 42.0695, 42.0695, 42.4969, 42.4969, 40.6761, 33.3305, 42.4969, 42.4969, 40.6761, 42.4969, 42.0695, 40.6761, 40.6761, 40.6761, 42.0695, 33.3305, 42.0695, 40.6761, 33.3305, 40.6761, 42.0695, 40.6761, 42.4969, 42.4969, 40.6761, 42.0695, 42.4969, 40.732, 33.3305, 33.3305, 33.3305, 33.3305, 40.732, 38.5319, 38.5319, 38.5319, 40.732, 33.3305, 38.5319, 38.5319, 33.3305, 40.732, 33.3305, 40.732, 40.732, 34.1248, 34.1248, 40.732, 40.732, 34.1248, 36.741, 32.7699, 34.1248, 34.1248, 34.1248, 34.1248, 32.7699, 32.7699, 36.741, 32.7699, 36.741, 34.1248, 36.741, 32.7699, 34.1248, 34.1248, 36.741, 36.741, 34.1248, 32.7699, 40.4062, 32.7699, 32.7699, 36.741, 36.741, 40.4062, 32.7699, 36.741, 32.7699, 32.7699, 32.7699, 40.4062, 36.741, 40.4062, 40.4062, 40.4062, 41.4247, 40.4062, 40.4062, 40.4062, 40.4062, 41.4247, 39.8616, 39.8616, 39.8616, 39.8616, 39.8616, 39.8616, 39.8616, 39.8616, 39.8616, 39.8616, 39.8616, 39.8616, 48.8328, 48.8328, 48.8328, 48.8328, 48.8328, 48.8328, 36.5276, 36.5276, 48.8328, 42.8546, 42.8546, 48.8328, 42.8546, 48.8328, 48.8328, 48.8328, 36.5276, 42.8546, 48.8328, 48.8328, 48.8328, 42.3496, 30.2385, 42.3496, 42.3496, 42.3958, 42.8546, 39.9972, 42.8546, 42.3496, 42.3958, 30.2385, 42.3496, 42.3958, 42.8546, 36.5276, 36.5276, 42.3958, 42.8546, 42.8546, 36.5276, 42.8546, 30.2385, 30.2385, 42.3958, 42.3958, 39.9972, 36.5276, 42.8546, 36.5276, 42.3958, 36.5276, 42.8546, 30.2385, 42.3958, 39.9972, 42.3958, 42.3496, 36.5276, 42.8546, 42.3958, 39.9972, 42.3496, 42.3958, 42.3496, 42.3496, 39.9972, 39.9972, 42.3958, 30.2385, 30.2385, 42.3496, 42.3496, 30.2385, 39.9972, 39.9972, 39.9972, 39.9972, 30.2385, 32.2819, 42.3496, 42.3496, 39.9972, 39.9972, 42.3496, 32.2819, 39.9972, 32.2819, 32.2819, 42.3496, 42.3496, 32.2819, 32.2819, 32.9643, 40.3673, 32.2819, 40.3673, 32.9643, 40.3673, 32.9643, 40.3673, 32.2819, 32.2819, 40.3673, 40.3673, 40.3673, 32.9643, 32.9643, 40.3673, 43.0261, 32.9643, 43.0261, 31.3826, 32.9643, 40.3673, 43.0261, 43.0261, 43.0261, 31.3826, 40.3673, 43.0261, 31.3826, 43.0261, 43.0261, 43.0261, 43.0261, 31.3826, 43.0261, 31.3826, 31.3826, 43.0261, 31.3826, 31.3826, 43.0261, 43.0261, 43.0261, 34.9298, 34.9298, 34.9298, 34.9298, 34.9298, 33.6401, 33.6401, 34.9298, 34.9298, 33.6401, 33.6401, 36.1486, 34.9572, 36.1486, 34.9572, 33.6401, 33.6401, 36.1486, 36.1486, 36.1486, 34.9572, 36.1486, 33.6401, 34.9572, 33.6401, 34.9572, 34.9572, 34.9572, 34.9572, 34.9572, 34.9572, 36.1486, 36.1486, 34.9572, 34.9572, 47.3551, 47.3551, 47.3551, 47.3551, 47.3551, 47.3551, 39.2048, 33.8155, 33.8155, 47.3551, 47.3551, 47.3551, 39.2048, 39.2048, 47.3551, 39.2048, 39.2048, 33.8155, 33.8155, 39.2048, 39.2048, 33.8155, 39.2048, 39.2048, 33.8155, 33.8155, 33.8155, 39.2048, 30.9, 39.2048, 30.9, 33.8155, 33.8155, 40.9051, 33.8155, 40.9051, 39.2048, 33.8155, 40.9051, 39.2048, 33.8155, 33.8155, 30.9, 30.9, 30.9, 30.9, 39.2048, 30.9, 33.8155, 30.9, 31.086, 30.9, 40.9051, 40.9051, 40.9051, 40.1186, 40.9051, 30.9, 30.9, 40.1186, 40.9051, 31.086, 30.9, 40.1186, 40.9051, 30.9, 40.1186, 40.1186, 40.1186, 40.9051, 31.086, 38.7894, 35.7382, 31.086, 40.1186, 31.086, 40.1186, 31.086, 40.1186, 31.086, 38.7894, 38.7894, 31.086, 31.086, 40.1186, 35.7382, 35.7382, 33.5494, 35.7382, 35.7382, 35.7382, 33.5494, 33.5494, 33.5494, 38.7894, 38.7894, 33.5494, 33.5494, 38.7894, 35.7382, 33.5494, 35.7382, 35.7382, 33.5494, 38.7894, 33.5494, 33.5494, 33.5494, 33.5494, 42.2848, 42.2848, 42.2848, 42.2848, 42.2848, 42.2848, 42.2848, 42.2848, 42.2848, 41.1901, 41.1901, 37.575, 38.0261, 38.0261, 47.5412, 47.5412, 47.5412, 47.5412, 47.5412, 41.1901, 41.1901, 38.0261, 41.1901, 38.0261, 38.0261, 37.575, 47.5412, 47.5412, 41.1901, 41.1901, 38.0261, 38.0261, 38.0261, 40.7067, 41.1901, 38.0261, 37.575, 37.575, 37.575, 40.7067, 38.0261, 38.0261, 37.575, 41.1901, 38.0261, 40.7067, 47.5412, 41.1901, 40.7067, 38.0261, 40.7067, 47.5412, 38.0261, 38.0261, 38.0261, 40.7067, 38.0261, 37.575, 41.1901, 38.0261, 37.575, 38.0261, 42.8178, 42.8178, 42.8178, 42.8178, 42.8178, 30.8836, 42.8178, 42.8178, 30.8836, 30.8836, 30.8836, 30.8836, 30.8836, 42.8178, 41.0935, 41.0935, 30.8836, 30.8836, 30.8836, 41.0935, 41.0935, 41.0935, 41.0935, 42.0144, 42.0144, 42.0144, 42.0144, 41.5224, 42.0144, 42.0144, 35.833, 41.5224, 35.833, 42.0144, 41.5224, 35.833, 35.833, 41.5224, 35.833, 41.5224, 41.5224, 41.5224, 41.5224, 41.5224, 41.5224, 41.5224, 35.833, 41.5224, 35.833, 41.5224, 35.833, 41.5224, 35.833, 39.485, 39.485, 39.485, 39.485, 42.9576, 39.485, 42.9576, 39.485, 39.485, 39.485, 42.9576, 39.485, 40.1159, 40.1159, 42.9576, 40.1159, 43.4987, 40.1159, 43.4987, 40.1159, 43.4987, 40.1159, 43.4987, 43.4987, 40.1159, 43.4987, 43.4987, 42.9576, 40.1159, 42.1808, 40.1159, 40.1159, 40.1159, 43.4987, 40.1159, 43.4987, 43.4987, 42.1808, 40.1159, 43.4987, 39.6094, 40.1159, 39.6094, 42.1808, 40.1159, 43.4987, 39.6094, 39.6094, 42.1808, 42.1808, 42.1808, 42.1808, 42.1808, 39.6094, 39.6094, 45.67100000000001, 45.67100000000001, 45.67100000000001, 45.67100000000001, 45.67100000000001, 44.2378, 45.67100000000001, 44.2378, 45.67100000000001, 44.2378, 44.2378, 44.2378, 43.033, 44.2378, 45.67100000000001, 44.2378, 44.2378, 43.033, 43.033, 44.2378, 44.2378, 43.033, 42.0789, 44.2378, 33.6666, 42.0789, 33.6666, 33.6666, 42.0789, 42.0789, 33.6666, 33.6666, 33.6666, 33.6666, 33.6666, 42.0789, 33.6666, 33.6666, 33.6666, 33.6666, 39.39, 45.3637, 45.3637, 45.3637, 45.3637, 39.39, 39.39, 45.3637, 39.39, 45.3637, 39.39, 38.097, 38.097, 39.39, 39.39, 38.097, 38.097, 38.097, 45.3637, 38.097, 39.39, 38.097, 38.097, 38.097, 38.097, 38.097, 38.097, 38.5095, 38.5095, 38.5095, 38.5095, 38.5095, 38.5095, 38.5095, 38.5095, 38.5095, 38.5095, 38.5095, 38.5095, 37.8795, 41.229, 41.229, 41.229, 41.229, 37.8795, 37.8795, 37.8795, 37.8795, 41.229, 41.229, 41.3851, 37.8795, 41.229, 41.229, 41.3851, 41.3851, 41.229, 41.3851, 41.3851, 37.8795, 41.3851, 41.3851, 41.3851, 41.3851, 41.0592, 41.3851, 47.9657, 41.0592, 47.9657, 41.3851, 41.0592, 47.9657, 47.9657, 41.3851, 41.0592, 41.3851, 41.3851, 41.3851, 47.9657, 47.9657, 41.3851, 47.9657, 41.3851, 41.3851, 41.0592, 47.9657, 41.0592, 41.0592, 41.0592, 41.0592, 47.9657, 42.3669, 42.3669, 42.3669, 42.3669, 34.2691, 42.3669, 42.3669, 34.2691, 34.2691, 42.3669, 34.2691, 34.2691, 34.2691, 34.2691, 34.2691, 43.4512, 43.4512, 43.4512, 43.4512, 43.4512, 38.8582, 43.4512, 44.8021, 43.4512, 44.8021, 43.4512, 44.8021, 44.8021, 43.4512, 38.8582, 38.8582, 43.4512, 44.8021, 44.5592, 44.8021, 35.0659, 44.8021, 35.0659, 44.5592, 38.8582, 35.0659, 44.5592, 44.8021, 44.8021, 35.0659, 35.0659, 44.5592, 44.8021, 44.8021, 38.8582, 43.4512, 38.8582, 38.8582, 44.5592, 44.5592, 44.5592, 44.8021, 35.0659, 35.0659, 43.4512, 44.5592, 32.4122, 32.4122, 44.8955, 44.8955, 35.0659, 44.5592, 35.0659, 32.4122, 35.0659, 32.4122, 44.8955, 32.4122, 44.8955, 32.4122, 44.8955, 44.8955, 35.0659, 44.8955, 35.0659, 44.8955, 32.4122, 44.8955, 32.4122, 32.4122, 32.4122, 44.8955, 32.4122, 44.8955, 44.8955, 44.8955, 44.8955, 36.4539, 37.1349, 37.1349, 37.1349, 36.4539, 37.1349, 36.4539, 36.4539, 36.4539, 36.4539, 36.4539, 55.4732, 36.4539, 36.4539, 55.4732, 37.1349, 55.4732, 37.1349, 55.4732, 55.4732, 55.4732, 37.1349, 55.4732, 55.4732, 55.4732, 55.4732, 36.4539, 55.4732, 55.4732, 55.4732, 55.4732, 34.1556, 48.8878, 34.1556, 34.1556, 48.8878, 48.8878, 34.1556, 34.1556, 39.9934, 39.9934, 48.8878, 34.1556, 48.8878, 38.2674, 34.1556, 34.1556, 38.2674, 38.2674, 48.8878, 48.8878, 39.9934, 34.1556, 38.2674, 38.2674, 39.9934, 39.9934, 37.7681, 39.9934, 37.7681, 37.7681, 39.9934, 39.9934, 39.9934, 38.2674, 38.2674, 38.2674, 40.3625, 37.7681, 37.7681, 39.9934, 40.3625, 37.7681, 40.3625, 40.3625, 37.7681, 37.7681, 40.3625, 40.3625, 37.7681, 37.7681, 40.3625, 40.507, 38.6207, 40.507, 40.507, 33.4783, 33.4783, 28.5697, 40.507, 33.4783, 40.507, 33.4783, 28.5697, 33.4783, 40.507, 33.4783, 33.4783, 40.507, 40.507, 33.4783, 38.6207, 33.4783, 33.4783, 40.507, 28.5697, 28.5697, 33.4783, 38.6207, 28.5697, 40.507, 28.5697, 33.4783, 38.6207, 38.6207, 33.4783, 40.507, 28.5697, 40.507, 40.507, 40.507, 28.5697, 28.5697, 40.507, 28.5697, 39.047, 39.047, 39.047, 39.047, 40.8626, 41.0001, 40.8626, 39.047, 39.047, 40.8626, 39.047, 40.8626, 40.8626, 40.8626, 39.047, 39.047, 40.8626, 39.047, 40.8626, 41.0001, 40.8626, 39.047, 39.047, 39.047, 41.0001, 35.8985, 41.0001, 40.8626, 41.0001, 35.8985, 35.8985, 40.8626, 41.0001, 35.8985, 40.8626, 40.8626, 35.8985, 35.8985, 35.8985, 35.8985, 41.0001, 40.8626, 35.8985, 35.8985, 41.6858, 35.8985, 41.6858, 44.0948, 44.0948, 35.8985, 44.0948, 44.0948, 35.8985, 33.3398, 41.6858, 33.3398, 33.3398, 41.6858, 44.0948, 44.0948, 44.0948, 41.6858, 33.3398, 33.3398, 33.3398, 40.7699, 33.3398, 40.7699, 40.7699, 33.3398, 40.7699, 33.3398, 40.7699, 40.7699, 33.3398, 40.7699, 40.7699, 39.9914, 40.7699, 39.9914, 40.5662, 40.7699, 39.9914, 39.9914, 40.7699, 40.5662, 40.7699, 40.5662, 39.9914, 39.9914, 40.5662, 40.5662, 40.5662, 39.9914, 39.9914, 40.5662, 40.5662, 40.5662, 40.5662, 39.9914, 39.9914, 40.5662, 38.9757, 38.9757, 38.9757, 38.9757, 38.9757, 38.9757, 38.9757, 38.9757, 38.9757, 38.9757, 48.2777, 48.2777, 48.2777, 48.2777, 48.2777, 48.2777, 48.2777, 48.2777, 34.6323, 34.6323, 48.2777, 48.2777, 48.2777, 34.6323, 34.6323, 34.6323, 34.6323, 34.6323, 34.6323, 34.6323, 34.6323], \"legendgroup\": \"\", \"lon\": [-102.7413, -90.3508, -90.3508, -90.9027, -102.7413, -80.4031, -90.9027, -90.9027, -90.9027, -90.3508, -90.9027, -80.4031, -90.9027, -80.4031, -90.9027, -80.4031, -80.4031, -80.4031, -90.9027, -80.4031, -80.4031, -80.4031, -78.6847, -78.6847, -78.6847, -78.6847, -78.6847, -78.6847, -78.6847, -67.9503, -78.6847, -78.6847, -78.6847, -67.9503, -78.6847, -67.9503, -67.9503, -67.9503, -67.9503, -67.9503, -67.9503, -78.6847, -85.9246, -85.9246, -85.9246, -87.4569, -85.9246, -85.9246, -85.9246, -85.9246, -87.4569, -87.4569, -87.4569, -98.5534, -87.4569, -87.4569, -87.4569, -87.4569, -98.5534, -87.4569, -98.5534, -98.5534, -85.9246, -85.9246, -85.9246, -81.5488, -98.5534, -81.5488, -81.5488, -98.5534, -81.5488, -98.5534, -81.5488, -85.7476, -91.9932, -81.5488, -91.9932, -74.9942, -85.7476, -74.9942, -91.9932, -85.7476, -85.7476, -74.9942, -91.9932, -74.9942, -91.9932, -81.4552, -85.7476, -91.9932, -85.7476, -91.9932, -81.5488, -81.5488, -81.5488, -122.0107, -85.7476, -74.9942, -85.7476, -122.0107, -91.9932, -91.9932, -81.4552, -122.0107, -81.4552, -91.9932, -122.0107, -74.9942, -122.0107, -122.0107, -81.4552, -74.9942, -74.9942, -122.0107, -81.4552, -91.9932, -91.9932, -85.7476, -122.0107, -74.9942, -74.9942, -74.9942, -122.0107, -91.9932, -81.4552, -85.7476, -74.9942, -74.9942, -85.7476, -91.9932, -74.9942, -74.9942, -85.7476, -122.0107, -122.0107, -105.0044, -105.0044, -94.1658, -94.1658, -78.1762, -78.1762, -94.1658, -78.1762, -78.1762, -94.1658, -78.1762, -94.1658, -78.1762, -94.1658, -94.1658, -94.1658, -78.1762, -78.1762, -78.1762, -81.5324, -81.5324, -81.5324, -81.5324, -78.1762, -78.1762, -78.1762, -105.2099, -81.5324, -81.5324, -81.5324, -105.2099, -81.5324, -81.5324, -81.5324, -81.5324, -105.2099, -81.5324, -81.5324, -81.5324, -81.5324, -105.2099, -78.6476, -78.6476, -78.6476, -105.2099, -105.2099, -105.2099, -105.2099, -78.6476, -105.2099, -78.6476, -78.6476, -78.6476, -105.2099, -78.6476, -78.6476, -101.1546, -101.1546, -101.1546, -78.6476, -78.6476, -78.6476, -101.1546, -101.1546, -77.4193, -101.1546, -101.1546, -101.1546, -77.4193, -101.1546, -77.4193, -77.4193, -101.1546, -101.1546, -77.4193, -77.4193, -77.4193, -77.4193, -77.4193, -77.4193, -96.7456, -96.7456, -96.7456, -73.3611, -73.3611, -96.7456, -96.7456, -73.3611, -73.3611, -81.7334, -73.3611, -96.7456, -81.7334, -73.3611, -73.3611, -73.3611, -96.7456, -73.3611, -81.7334, -96.7456, -90.8578, -90.8578, -96.7456, -90.8578, -90.8578, -96.7456, -96.7456, -96.7456, -96.7456, -93.4252, -93.4252, -90.8578, -90.8578, -77.3083, -90.8578, -90.8578, -90.8578, -93.4252, -77.3083, -90.8578, -93.4252, -90.8578, -90.8578, -77.3083, -93.4252, -93.4252, -77.3083, -77.3083, -93.9757, -77.3083, -77.3083, -93.9757, -77.3083, -93.4252, -93.4252, -93.9757, -93.4252, -77.3083, -91.0294, -91.0294, -91.0294, -91.0294, -91.0294, -91.0294, -91.0294, -91.0294, -93.9196, -81.1781, -81.1781, -81.1781, -93.9196, -108.9082, -93.9196, -93.9196, -108.9082, -93.9196, -93.9196, -108.9082, -93.9196, -81.1781, -108.9082, -88.2196, -108.9082, -88.2196, -81.1781, -93.9196, -88.2196, -81.1781, -108.9082, -81.1781, -108.9082, -88.2196, -108.9082, -93.9196, -81.1781, -108.9082, -88.2196, -88.2196, -81.1781, -108.9082, -79.4629, -93.9196, -93.9196, -79.4629, -108.9082, -81.1781, -108.9082, -81.1781, -79.4629, -88.2196, -122.6616, -122.6616, -79.4629, -88.2196, -155.488, -122.6847, -79.4629, -79.4629, -79.4629, -79.4629, -79.4629, -79.4629, -79.4629, -79.4629, -88.2196, -155.488, -155.488, -122.6847, -155.488, -79.4629, -88.2196, -88.2196, -122.6847, -155.488, -88.2196, -122.6847, -122.6847, -122.6847, -86.5246, -122.6616, -122.6847, -86.5246, -86.5246, -155.488, -155.488, -86.5246, -155.488, -86.5246, -86.5246, -86.5246, -155.488, -86.5246, -86.5246, -86.5246, -122.7033, -122.7033, -86.5246, -122.7033, -122.7033, -122.7033, -86.5246, -86.5246, -122.7033, -122.7033, -86.5246, -122.7033, -76.195, -76.195, -122.7033, -76.195, -122.7033, -76.195, -122.7033, -76.195, -122.7033, -76.195, -76.195, -76.195, -76.195, -76.195, -76.195, -89.8219, -89.8219, -89.8219, -89.8219, -96.3398, -89.8219, -96.3398, -89.8219, -89.8219, -96.3398, -89.8219, -96.3398, -96.3398, -89.8219, -89.8219, -89.8219, -89.8219, -87.8286, -96.3398, -85.6067, -96.3398, -87.8286, -87.8286, -87.8286, -87.8286, -85.6067, -87.8286, -85.6067, -85.6067, -87.8286, -87.8286, -87.8286, -85.6067, -87.8286, -90.9879, -77.1802, -90.9879, -90.9879, -118.4924, -77.1802, -118.4924, -90.9879, -90.9879, -77.1802, -77.1802, -118.4924, -77.1802, -118.4924, -90.9879, -90.9879, -77.1802, -90.9879, -118.4924, -77.1802, -118.4924, -118.4924, -118.4924, -118.4924, -86.6285, -86.6285, -86.6285, -86.6285, -86.6285, -97.2092, -97.2092, -97.2092, -97.2092, -97.2092, -97.2092, -97.2092, -97.2092, -86.6285, -86.6285, -97.2092, -97.2092, -97.2092, -97.2092, -86.6285, -86.6285, -86.1938, -97.2092, -86.1938, -86.1938, -76.6681, -87.1332, -97.2092, -76.6681, -97.2092, -86.1938, -87.1332, -87.1332, -86.1938, -97.2092, -76.6681, -86.1938, -87.1332, -86.1938, -72.2879, -76.6681, -76.6681, -86.1938, -87.1332, -87.1332, -86.1938, -87.1332, -87.1332, -76.6681, -87.1332, -87.1332, -87.1332, -87.1332, -86.1938, -86.1938, -87.1332, -87.1332, -86.1938, -87.7644, -87.1332, -87.7644, -72.2879, -72.2879, -72.2879, -76.6681, -87.7644, -87.1332, -86.1938, -86.1938, -88.3282, -87.7644, -88.3282, -87.7644, -88.3282, -87.7644, -88.3282, -87.7644, -81.8074, -96.2238, -81.8074, -96.2238, -96.2238, -88.3282, -81.8074, -96.2238, -96.2238, -96.2238, -88.3282, -81.8074, -88.3282, -74.4968, -96.2238, -74.4968, -88.3282, -101.136, -74.4968, -81.8074, -96.2238, -96.2238, -96.727, -96.2238, -96.727, -96.2238, -81.8074, -96.727, -81.8074, -81.8074, -74.4968, -96.2238, -96.727, -74.4968, -74.4968, -96.2238, -74.4968, -96.727, -81.8074, -81.8074, -96.727, -96.727, -74.4968, -101.136, -81.8074, -96.2238, -81.8074, -74.4968, -96.727, -101.136, -101.136, -101.136, -101.136, -74.4968, -96.2238, -86.2296, -93.6719, -101.136, -96.727, -101.136, -101.136, -101.136, -86.2296, -96.727, -86.2296, -86.2296, -96.727, -96.727, -96.727, -86.2296, -101.136, -93.6719, -93.6719, -93.6719, -93.6719, -93.6719, -93.6719, -101.136, -96.727, -101.136, -101.136, -101.136, -86.2296, -86.2296, -93.6719, -93.6719, -86.2296, -86.2296, -86.2296, -93.6719, -93.6719, -93.6719, -97.2893, -97.2893, -97.2893, -97.2893, -97.2893, -97.2893, -97.2893, -97.2893, -97.2893, -91.4867, -91.4867, -91.4867, -85.8138, -97.2893, -91.4867, -91.4867, -97.2893, -85.0638, -91.4867, -85.0638, -85.0638, -85.8138, -85.8138, -85.0638, -91.4867, -85.8138, -97.2893, -85.0638, -91.4867, -85.8138, -91.4867, -91.4867, -100.7944, -85.8138, -91.4867, -100.7944, -98.9836, -100.7944, -91.4867, -100.7944, -85.8138, -91.4867, -85.8138, -85.0638, -100.7944, -85.8138, -100.7944, -85.0638, -104.7024, -83.2474, -98.9836, -98.9836, -100.7944, -100.7944, -98.9836, -104.7024, -98.9836, -98.9836, -98.9836, -98.9836, -104.7024, -100.7944, -100.7944, -104.7024, -100.7944, -104.7024, -104.7024, -83.2474, -83.2474, -104.7024, -96.5232, -96.5232, -96.5232, -96.5232, -96.5232, -96.5232, -96.5232, -96.5232, -82.2027, -82.2027, -82.2027, -82.2027, -82.2027, -82.2027, -82.2027, -82.2027, -82.2027, -82.2027, -82.2027, -82.2027, -82.2027, -82.2027, -82.2027, -82.2027, -80.9701, -80.9701, -73.9767, -73.0449, -73.0449, -73.0449, -73.0449, -80.9701, -73.0449, -73.9767, -73.0449, -73.9767, -73.9767, -73.0449, -73.9767, -73.9767, -73.9767, -80.9701, -73.0449, -73.0449, -73.0449, -73.0449, -73.9767, -73.0449, -73.9767, -73.0449, -73.9767, -73.9767, -73.9767, -73.0449, -73.9767, -73.0449, -79.4545, -91.8912, -91.8912, -91.8912, -91.8912, -91.8912, -91.8912, -96.6184, -79.4545, -96.6184, -91.8912, -79.4545, -79.4545, -91.8912, -79.4545, -79.4545, -79.4545, -91.8912, -91.8912, -79.4545, -91.8912, -79.7853, -104.0914, -104.0914, -79.4736, -79.7853, -104.0914, -104.0914, -79.4736, -104.0914, -79.7853, -104.0914, -79.7853, -79.7853, -79.4736, -79.4736, -79.7853, -104.0914, -79.7853, -79.7853, -79.7856, -79.7856, -79.7853, -79.7856, -89.2706, -89.2706, -79.7856, -79.4736, -79.7856, -104.0914, -79.7853, -89.2706, -79.4736, -89.2706, -89.2706, -104.0914, -89.2706, -104.0914, -79.7856, -79.7856, -79.7856, -79.7853, -79.4736, -104.0914, -89.2706, -122.9685, -89.2706, -79.7856, -79.7856, -89.1101, -79.7856, -122.9685, -89.1101, -89.1101, -89.2706, -89.1101, -89.2706, -79.7856, -79.7856, -122.9685, -122.9685, -76.5515, -122.9685, -76.5515, -89.1101, -89.1101, -122.9685, -122.9685, -76.5515, -89.1101, -122.9685, -78.5615, -122.9685, -76.5515, -89.1101, -78.5615, -78.5615, -76.5515, -89.1101, -76.5515, -78.5615, -78.5615, -76.5515, -76.5515, -76.5515, -78.5615, -78.5615, -76.5515, -76.5515, -76.5515, -93.8482, -93.8482, -93.8482, -93.8482, -93.8482, -93.8482, -93.8482, -93.8482, -93.8482, -93.8482, -86.9657, -86.9657, -77.0997, -77.0997, -77.0997, -77.0997, -77.0997, -77.0997, -77.0997, -77.0997, -86.9657, -86.9657, -77.0997, -86.9657, -82.1982, -86.9657, -77.0997, -86.9657, -77.0997, -86.9657, -77.0997, -82.1982, -82.1982, -82.1982, -82.1982, -82.1982, -82.1982, -82.1982, -86.859, -84.7373, -84.4854, -86.859, -86.859, -84.7373, -84.4854, -84.7373, -91.1468, -84.4854, -84.4854, -84.4854, -86.859, -84.7373, -86.859, -84.4854, -84.4854, -84.7373, -84.4854, -74.1038, -84.7373, -91.1468, -84.7373, -84.4854, -86.859, -86.859, -74.1038, -74.1038, -84.7373, -91.1468, -91.1468, -91.1468, -84.7373, -86.859, -86.859, -74.1038, -86.859, -84.4854, -86.859, -74.1038, -84.4854, -84.7373, -116.4306, -74.1038, -74.1038, -74.1038, -74.1038, -74.1038, -74.1038, -74.1038, -116.4306, -74.1038, -74.1038, -74.1038, -89.5518, -116.4306, -94.5566, -116.4306, -116.4306, -94.5566, -94.5566, -89.5518, -94.5566, -94.5566, -94.5566, -94.5566, -94.5566, -94.5566, -89.5518, -83.2095, -89.5518, -83.2095, -89.5518, -83.2095, -89.5518, -83.2095, -83.2095, -94.5566, -83.2095, -83.2095, -89.5518, -94.5566, -94.5566, -83.2095, -83.2095, -83.2095, -73.9809, -83.2095, -83.2095, -83.2095, -73.9809, -73.9809, -73.9809, -73.9809, -94.3871, -94.3871, -94.3871, -94.3871, -94.3871, -73.9809, -73.9809, -73.9809, -73.9809, -94.3871, -94.3871, -94.3871, -94.3871, -94.3871, -94.3871, -94.3871, -77.6871, -77.6871, -77.6871, -77.6871, -77.6871, -77.6871, -77.6871, -77.6871, -95.2138, -95.2138, -95.2138, -77.6871, -95.2138, -95.2138, -77.6871, -77.6871, -95.2138, -95.2138, -95.2138, -95.2138, -95.2138, -95.2138, -95.2138, -95.2138, -95.2138, -95.2138, -85.8784, -85.8784, -85.8784, -85.8784, -85.8784, -85.8784, -118.0231, -73.2913, -118.0231, -73.2913, -73.2913, -118.0231, -85.8784, -118.0231, -85.8784, -118.0231, -118.0231, -118.0231, -73.2913, -79.1895, -73.2913, -73.2913, -73.2913, -118.0231, -73.2913, -79.1895, -73.2913, -118.0231, -79.1895, -73.2913, -118.0231, -73.2913, -118.0231, -79.1895, -79.1895, -79.1895, -79.1895, -79.1895, -79.1895, -79.1895, -79.1895, -81.2473, -81.2473, -97.4798, -97.4798, -97.4798, -81.2473, -97.4798, -90.1293, -97.4798, -90.1293, -97.4798, -97.4798, -97.4798, -90.1293, -90.1293, -97.4798, -97.4798, -90.1293, -91.0391, -83.2911, -90.1293, -83.2911, -83.2911, -90.1293, -91.0391, -75.7967, -83.2911, -90.1293, -75.7967, -75.7967, -91.0391, -91.0391, -75.7967, -91.0391, -75.7967, -91.0391, -75.7967, -75.7967, -83.2911, -83.2911, -91.0391, -105.6933, -83.2911, -83.2911, -91.0391, -83.2911, -75.7967, -91.0391, -91.0391, -91.0391, -75.7967, -105.6933, -75.7967, -91.0391, -105.6933, -91.0391, -75.7967, -91.0391, -83.2911, -83.2911, -91.0391, -75.7967, -83.2911, -73.1, -105.6933, -105.6933, -105.6933, -105.6933, -73.1, -93.9221, -93.9221, -93.9221, -73.1, -105.6933, -93.9221, -93.9221, -105.6933, -73.1, -105.6933, -73.1, -73.1, -117.9031, -117.9031, -73.1, -73.1, -117.9031, -108.351, -96.743, -117.9031, -117.9031, -117.9031, -117.9031, -96.743, -96.743, -108.351, -96.743, -108.351, -117.9031, -108.351, -96.743, -117.9031, -117.9031, -108.351, -108.351, -117.9031, -96.743, -84.5076, -96.743, -96.743, -108.351, -108.351, -84.5076, -96.743, -108.351, -96.743, -96.743, -96.743, -84.5076, -108.351, -84.5076, -84.5076, -84.5076, -105.4781, -84.5076, -84.5076, -84.5076, -84.5076, -105.4781, -97.1825, -97.1825, -97.1825, -97.1825, -97.1825, -97.1825, -97.1825, -97.1825, -97.1825, -97.1825, -97.1825, -97.1825, -108.3961, -108.3961, -108.3961, -108.3961, -108.3961, -108.3961, -93.9359, -93.9359, -108.3961, -75.6605, -75.6605, -108.3961, -75.6605, -108.3961, -108.3961, -108.3961, -93.9359, -75.6605, -108.3961, -108.3961, -108.3961, -73.5873, -90.8435, -73.5873, -73.5873, -83.3772, -75.6605, -88.6962, -75.6605, -73.5873, -83.3772, -90.8435, -73.5873, -83.3772, -75.6605, -93.9359, -93.9359, -83.3772, -75.6605, -75.6605, -93.9359, -75.6605, -90.8435, -90.8435, -83.3772, -83.3772, -88.6962, -93.9359, -75.6605, -93.9359, -83.3772, -93.9359, -75.6605, -90.8435, -83.3772, -88.6962, -83.3772, -73.5873, -93.9359, -75.6605, -83.3772, -88.6962, -73.5873, -83.3772, -73.5873, -73.5873, -88.6962, -88.6962, -83.3772, -90.8435, -90.8435, -73.5873, -73.5873, -90.8435, -88.6962, -88.6962, -88.6962, -88.6962, -90.8435, -98.5673, -73.5873, -73.5873, -88.6962, -88.6962, -73.5873, -98.5673, -88.6962, -98.5673, -98.5673, -73.5873, -73.5873, -98.5673, -98.5673, -96.6012, -79.1605, -98.5673, -79.1605, -96.6012, -79.1605, -96.6012, -79.1605, -98.5673, -98.5673, -79.1605, -79.1605, -79.1605, -96.6012, -96.6012, -79.1605, -94.4064, -96.6012, -94.4064, -81.4312, -96.6012, -79.1605, -94.4064, -94.4064, -94.4064, -81.4312, -79.1605, -94.4064, -81.4312, -94.4064, -94.4064, -94.4064, -94.4064, -81.4312, -94.4064, -81.4312, -81.4312, -94.4064, -81.4312, -81.4312, -94.4064, -94.4064, -94.4064, -84.9885, -84.9885, -84.9885, -84.9885, -84.9885, -116.5567, -116.5567, -84.9885, -84.9885, -116.5567, -116.5567, -105.6648, -81.9916, -105.6648, -81.9916, -116.5567, -116.5567, -105.6648, -105.6648, -105.6648, -81.9916, -105.6648, -116.5567, -81.9916, -116.5567, -81.9916, -81.9916, -81.9916, -81.9916, -81.9916, -81.9916, -105.6648, -105.6648, -81.9916, -81.9916, -96.798, -96.798, -96.798, -96.798, -96.798, -96.798, -94.0259, -112.1202, -112.1202, -96.798, -96.798, -96.798, -94.0259, -94.0259, -96.798, -94.0259, -94.0259, -112.1202, -112.1202, -94.0259, -94.0259, -112.1202, -94.0259, -94.0259, -112.1202, -112.1202, -112.1202, -94.0259, -94.7547, -94.0259, -94.7547, -112.1202, -112.1202, -73.3309, -112.1202, -73.3309, -94.0259, -112.1202, -73.3309, -94.0259, -112.1202, -112.1202, -94.7547, -94.7547, -94.7547, -94.7547, -94.0259, -94.7547, -112.1202, -94.7547, -85.7192, -94.7547, -73.3309, -73.3309, -73.3309, -87.2602, -73.3309, -94.7547, -94.7547, -87.2602, -73.3309, -85.7192, -94.7547, -87.2602, -73.3309, -94.7547, -87.2602, -87.2602, -87.2602, -73.3309, -85.7192, -77.2818, -98.7388, -85.7192, -87.2602, -85.7192, -87.2602, -85.7192, -87.2602, -85.7192, -77.2818, -77.2818, -85.7192, -85.7192, -87.2602, -98.7388, -98.7388, -111.9565, -98.7388, -98.7388, -98.7388, -111.9565, -111.9565, -111.9565, -77.2818, -77.2818, -111.9565, -111.9565, -77.2818, -98.7388, -111.9565, -98.7388, -98.7388, -111.9565, -77.2818, -111.9565, -111.9565, -111.9565, -111.9565, -71.7205, -71.7205, -71.7205, -71.7205, -71.7205, -71.7205, -71.7205, -71.7205, -71.7205, -74.0436, -74.0436, -88.9655, -97.6666, -97.6666, -122.275, -122.275, -122.275, -122.275, -122.275, -74.0436, -74.0436, -97.6666, -74.0436, -97.6666, -97.6666, -88.9655, -122.275, -122.275, -74.0436, -74.0436, -97.6666, -97.6666, -97.6666, -91.2268, -74.0436, -97.6666, -88.9655, -88.9655, -88.9655, -91.2268, -97.6666, -97.6666, -88.9655, -74.0436, -97.6666, -91.2268, -122.275, -74.0436, -91.2268, -97.6666, -91.2268, -122.275, -97.6666, -97.6666, -97.6666, -91.2268, -97.6666, -88.9655, -74.0436, -97.6666, -88.9655, -97.6666, -72.0275, -72.0275, -72.0275, -72.0275, -72.0275, -84.3246, -72.0275, -72.0275, -84.3246, -84.3246, -84.3246, -84.3246, -84.3246, -72.0275, -81.0425, -81.0425, -84.3246, -84.3246, -84.3246, -81.0425, -81.0425, -81.0425, -81.0425, -88.0935, -88.0935, -88.0935, -88.0935, -71.9934, -88.0935, -88.0935, -97.436, -71.9934, -97.436, -88.0935, -71.9934, -97.436, -97.436, -71.9934, -97.436, -71.9934, -71.9934, -71.9934, -71.9934, -71.9934, -71.9934, -71.9934, -97.436, -71.9934, -97.436, -71.9934, -97.436, -71.9934, -97.436, -74.8776, -74.8776, -74.8776, -74.8776, -75.4838, -74.8776, -75.4838, -74.8776, -74.8776, -74.8776, -75.4838, -74.8776, -74.8536, -74.8536, -75.4838, -74.8536, -90.2796, -74.8536, -90.2796, -74.8536, -90.2796, -74.8536, -90.2796, -90.2796, -74.8536, -90.2796, -90.2796, -75.4838, -74.8536, -112.262, -74.8536, -74.8536, -74.8536, -90.2796, -74.8536, -90.2796, -90.2796, -112.262, -74.8536, -90.2796, -100.4112, -74.8536, -100.4112, -112.262, -74.8536, -90.2796, -100.4112, -100.4112, -112.262, -112.262, -112.262, -112.262, -112.262, -100.4112, -100.4112, -121.8686, -121.8686, -121.8686, -121.8686, -121.8686, -95.2739, -121.8686, -95.2739, -121.8686, -95.2739, -95.2739, -95.2739, -77.1575, -95.2739, -121.8686, -95.2739, -95.2739, -77.1575, -77.1575, -95.2739, -95.2739, -77.1575, -92.3763, -95.2739, -101.5277, -92.3763, -101.5277, -101.5277, -92.3763, -92.3763, -101.5277, -101.5277, -101.5277, -101.5277, -101.5277, -92.3763, -101.5277, -101.5277, -101.5277, -101.5277, -88.9597, -84.4695, -84.4695, -84.4695, -84.4695, -88.9597, -88.9597, -84.4695, -88.9597, -84.4695, -88.9597, -86.1723, -86.1723, -88.9597, -88.9597, -86.1723, -86.1723, -86.1723, -84.4695, -86.1723, -88.9597, -86.1723, -86.1723, -86.1723, -86.1723, -86.1723, -86.1723, -78.2638, -78.2638, -78.2638, -78.2638, -78.2638, -78.2638, -78.2638, -78.2638, -78.2638, -78.2638, -78.2638, -78.2638, -82.7251, -85.3244, -85.3244, -85.3244, -85.3244, -82.7251, -82.7251, -82.7251, -82.7251, -85.3244, -85.3244, -80.1752, -82.7251, -85.3244, -85.3244, -80.1752, -80.1752, -85.3244, -80.1752, -80.1752, -82.7251, -80.1752, -80.1752, -80.1752, -80.1752, -73.7395, -80.1752, -116.868, -73.7395, -116.868, -80.1752, -73.7395, -116.868, -116.868, -80.1752, -73.7395, -80.1752, -80.1752, -80.1752, -116.868, -116.868, -80.1752, -116.868, -80.1752, -80.1752, -73.7395, -116.868, -73.7395, -73.7395, -73.7395, -73.7395, -116.868, -82.9938, -82.9938, -82.9938, -82.9938, -95.9685, -82.9938, -82.9938, -95.9685, -95.9685, -82.9938, -95.9685, -95.9685, -95.9685, -95.9685, -95.9685, -71.48899999999998, -71.48899999999998, -71.48899999999998, -71.48899999999998, -71.48899999999998, -76.6145, -71.48899999999998, -122.7624, -71.48899999999998, -122.7624, -71.48899999999998, -122.7624, -122.7624, -71.48899999999998, -76.6145, -76.6145, -71.48899999999998, -122.7624, -87.8235, -122.7624, -89.1534, -122.7624, -89.1534, -87.8235, -76.6145, -89.1534, -87.8235, -122.7624, -122.7624, -89.1534, -89.1534, -87.8235, -122.7624, -122.7624, -76.6145, -71.48899999999998, -76.6145, -76.6145, -87.8235, -87.8235, -87.8235, -122.7624, -89.1534, -89.1534, -71.48899999999998, -87.8235, -90.1207, -90.1207, -85.4082, -85.4082, -89.1534, -87.8235, -89.1534, -90.1207, -89.1534, -90.1207, -85.4082, -90.1207, -85.4082, -90.1207, -85.4082, -85.4082, -89.1534, -85.4082, -89.1534, -85.4082, -90.1207, -85.4082, -90.1207, -90.1207, -90.1207, -85.4082, -90.1207, -85.4082, -85.4082, -85.4082, -85.4082, -94.118, -77.7364, -77.7364, -77.7364, -94.118, -77.7364, -94.118, -94.118, -94.118, -94.118, -94.118, -133.1171, -94.118, -94.118, -133.1171, -77.7364, -133.1171, -77.7364, -133.1171, -133.1171, -133.1171, -77.7364, -133.1171, -133.1171, -133.1171, -133.1171, -94.118, -133.1171, -133.1171, -133.1171, -133.1171, -118.2322, -118.2105, -118.2322, -118.2322, -118.2105, -118.2105, -118.2322, -118.2322, -81.8024, -81.8024, -118.2105, -118.2322, -118.2105, -76.4954, -118.2322, -118.2322, -76.4954, -76.4954, -118.2105, -118.2105, -81.8024, -118.2322, -76.4954, -76.4954, -81.8024, -81.8024, -75.6664, -81.8024, -75.6664, -75.6664, -81.8024, -81.8024, -81.8024, -76.4954, -76.4954, -76.4954, -87.6692, -75.6664, -75.6664, -81.8024, -87.6692, -75.6664, -87.6692, -87.6692, -75.6664, -75.6664, -87.6692, -87.6692, -75.6664, -75.6664, -87.6692, -123.9743, -83.8067, -123.9743, -123.9743, -90.5142, -90.5142, -80.8191, -123.9743, -90.5142, -123.9743, -90.5142, -80.8191, -90.5142, -123.9743, -90.5142, -90.5142, -123.9743, -123.9743, -90.5142, -83.8067, -90.5142, -90.5142, -123.9743, -80.8191, -80.8191, -90.5142, -83.8067, -80.8191, -123.9743, -80.8191, -90.5142, -83.8067, -83.8067, -90.5142, -123.9743, -80.8191, -123.9743, -123.9743, -123.9743, -80.8191, -80.8191, -123.9743, -80.8191, -122.9328, -122.9328, -122.9328, -122.9328, -91.9534, -78.2357, -91.9534, -122.9328, -122.9328, -91.9534, -122.9328, -91.9534, -91.9534, -91.9534, -122.9328, -122.9328, -91.9534, -122.9328, -91.9534, -78.2357, -91.9534, -122.9328, -122.9328, -122.9328, -78.2357, -97.2607, -78.2357, -91.9534, -78.2357, -97.2607, -97.2607, -91.9534, -78.2357, -97.2607, -91.9534, -91.9534, -97.2607, -97.2607, -97.2607, -97.2607, -78.2357, -91.9534, -97.2607, -97.2607, -90.3706, -97.2607, -90.3706, -70.23899999999999, -70.23899999999999, -97.2607, -70.23899999999999, -70.23899999999999, -97.2607, -92.7442, -90.3706, -92.7442, -92.7442, -90.3706, -70.23899999999999, -70.23899999999999, -70.23899999999999, -90.3706, -92.7442, -92.7442, -92.7442, -73.9511, -92.7442, -73.9511, -73.9511, -92.7442, -73.9511, -92.7442, -73.9511, -73.9511, -92.7442, -73.9511, -73.9511, -80.4408, -73.9511, -80.4408, -80.2099, -73.9511, -80.4408, -80.4408, -73.9511, -80.2099, -73.9511, -80.2099, -80.4408, -80.4408, -80.2099, -80.2099, -80.2099, -80.4408, -80.4408, -80.2099, -80.2099, -80.2099, -80.2099, -80.4408, -80.4408, -80.2099, -77.0282, -77.0282, -77.0282, -77.0282, -77.0282, -77.0282, -77.0282, -77.0282, -77.0282, -77.0282, -112.8456, -112.8456, -112.8456, -112.8456, -112.8456, -112.8456, -112.8456, -112.8456, -89.8855, -89.8855, -112.8456, -112.8456, -112.8456, -89.8855, -89.8855, -89.8855, -89.8855, -89.8855, -89.8855, -89.8855, -89.8855], \"marker\": {\"color\": [1, 1, 1, 1, 1, 1, 1, 1, 1, 1, 1, 1, 1, 1, 1, 1, 1, 1, 1, 1, 1, 1, 1, 1, 1, 1, 1, 1, 1, 1, 1, 1, 1, 1, 1, 1, 1, 1, 1, 1, 1, 1, 1, 1, 1, 1, 1, 1, 1, 1, 1, 1, 1, 1, 1, 1, 1, 1, 1, 1, 1, 1, 1, 1, 1, 1, 1, 1, 1, 1, 1, 1, 1, 1, 1, 1, 1, 1, 1, 1, 1, 1, 1, 1, 1, 1, 1, 1, 1, 1, 1, 1, 1, 1, 1, 1, 1, 1, 1, 1, 1, 1, 1, 1, 1, 1, 1, 1, 1, 1, 1, 1, 1, 1, 1, 1, 1, 1, 1, 1, 1, 1, 1, 1, 1, 1, 1, 1, 1, 1, 1, 1, 1, 1, 1, 1, 1, 1, 1, 1, 1, 1, 1, 1, 1, 1, 1, 1, 1, 1, 1, 1, 1, 1, 1, 1, 1, 1, 1, 1, 1, 1, 1, 1, 1, 1, 1, 1, 1, 1, 1, 1, 1, 1, 1, 1, 1, 1, 1, 1, 1, 1, 1, 1, 1, 1, 1, 1, 1, 1, 1, 1, 1, 1, 1, 1, 1, 1, 1, 1, 1, 1, 1, 1, 1, 1, 1, 1, 1, 1, 1, 1, 1, 1, 1, 1, 1, 1, 1, 1, 1, 1, 1, 1, 1, 1, 1, 1, 1, 1, 1, 1, 1, 1, 1, 1, 1, 1, 1, 1, 1, 1, 1, 1, 1, 1, 1, 1, 1, 1, 1, 1, 1, 1, 1, 1, 1, 1, 1, 1, 1, 1, 1, 1, 1, 1, 1, 1, 1, 1, 1, 1, 1, 1, 1, 1, 1, 1, 1, 1, 1, 1, 1, 1, 1, 1, 1, 1, 1, 1, 1, 1, 1, 1, 1, 1, 1, 1, 1, 1, 1, 1, 1, 1, 1, 1, 1, 1, 1, 1, 1, 1, 1, 1, 1, 1, 1, 1, 1, 1, 1, 1, 1, 1, 1, 1, 1, 1, 1, 1, 1, 1, 1, 1, 1, 1, 1, 1, 1, 1, 1, 1, 1, 1, 1, 1, 1, 1, 1, 1, 1, 1, 1, 1, 1, 1, 1, 1, 1, 1, 1, 1, 1, 1, 1, 1, 1, 1, 1, 1, 1, 1, 1, 1, 1, 1, 1, 1, 1, 1, 1, 1, 1, 1, 1, 1, 1, 1, 1, 1, 1, 1, 1, 1, 1, 1, 1, 1, 1, 1, 1, 1, 1, 1, 1, 1, 1, 1, 1, 1, 1, 1, 1, 1, 1, 1, 1, 1, 1, 1, 1, 1, 1, 1, 1, 1, 1, 1, 1, 1, 1, 1, 1, 1, 1, 1, 1, 1, 1, 1, 1, 1, 1, 1, 1, 1, 1, 1, 1, 1, 1, 1, 1, 1, 1, 1, 1, 1, 1, 1, 1, 1, 1, 1, 1, 1, 1, 1, 1, 1, 1, 1, 1, 1, 1, 1, 1, 1, 1, 1, 1, 1, 1, 1, 1, 1, 1, 1, 1, 1, 1, 1, 1, 1, 1, 1, 1, 1, 1, 1, 1, 1, 1, 1, 1, 1, 1, 1, 1, 1, 1, 1, 1, 1, 1, 1, 1, 1, 1, 1, 1, 1, 1, 1, 1, 1, 1, 1, 1, 1, 1, 1, 1, 1, 1, 1, 1, 1, 1, 1, 1, 1, 1, 1, 1, 1, 1, 1, 1, 1, 1, 1, 1, 1, 1, 1, 1, 1, 1, 1, 1, 1, 1, 1, 1, 1, 1, 1, 1, 1, 1, 1, 1, 1, 1, 1, 1, 1, 1, 1, 1, 1, 1, 1, 1, 1, 1, 1, 1, 1, 1, 1, 1, 1, 1, 1, 1, 1, 1, 1, 1, 1, 1, 1, 1, 1, 1, 1, 1, 1, 1, 1, 1, 1, 1, 1, 1, 1, 1, 1, 1, 1, 1, 1, 1, 1, 1, 1, 1, 1, 1, 1, 1, 1, 1, 1, 1, 1, 1, 1, 1, 1, 1, 1, 1, 1, 1, 1, 1, 1, 1, 1, 1, 1, 1, 1, 1, 1, 1, 1, 1, 1, 1, 1, 1, 1, 1, 1, 1, 1, 1, 1, 1, 1, 1, 1, 1, 1, 1, 1, 1, 1, 1, 1, 1, 1, 1, 1, 1, 1, 1, 1, 1, 1, 1, 1, 1, 1, 1, 1, 1, 1, 1, 1, 1, 1, 1, 1, 1, 1, 1, 1, 1, 1, 1, 1, 1, 1, 1, 1, 1, 1, 1, 1, 1, 1, 1, 1, 1, 1, 1, 1, 1, 1, 1, 1, 1, 1, 1, 1, 1, 1, 1, 1, 1, 1, 1, 1, 1, 1, 1, 1, 1, 1, 1, 1, 1, 1, 1, 1, 1, 1, 1, 1, 1, 1, 1, 1, 1, 1, 1, 1, 1, 1, 1, 1, 1, 1, 1, 1, 1, 1, 1, 1, 1, 1, 1, 1, 1, 1, 1, 1, 1, 1, 1, 1, 1, 1, 1, 1, 1, 1, 1, 1, 1, 1, 1, 1, 1, 1, 1, 1, 1, 1, 1, 1, 1, 1, 1, 1, 1, 1, 1, 1, 1, 1, 1, 1, 1, 1, 1, 1, 1, 1, 1, 1, 1, 1, 1, 1, 1, 1, 1, 1, 1, 1, 1, 1, 1, 1, 1, 1, 1, 1, 1, 1, 1, 1, 1, 1, 1, 1, 1, 1, 1, 1, 1, 1, 1, 1, 1, 1, 1, 1, 1, 1, 1, 1, 1, 1, 1, 1, 1, 1, 1, 1, 1, 1, 1, 1, 1, 1, 1, 1, 1, 1, 1, 1, 1, 1, 1, 1, 1, 1, 1, 1, 1, 1, 1, 1, 1, 1, 1, 1, 1, 1, 1, 1, 1, 1, 1, 1, 1, 1, 1, 1, 1, 1, 1, 1, 1, 1, 1, 1, 1, 1, 1, 1, 1, 1, 1, 1, 1, 1, 1, 1, 1, 1, 1, 1, 1, 1, 1, 1, 1, 1, 1, 1, 1, 1, 1, 1, 1, 1, 1, 1, 1, 1, 1, 1, 1, 1, 1, 1, 1, 1, 1, 1, 1, 1, 1, 1, 1, 1, 1, 1, 1, 1, 1, 1, 1, 1, 1, 1, 1, 1, 1, 1, 1, 1, 1, 1, 1, 1, 1, 1, 1, 1, 1, 1, 1, 1, 1, 1, 1, 1, 1, 1, 1, 1, 1, 1, 1, 1, 1, 1, 1, 1, 1, 1, 1, 1, 1, 1, 1, 1, 1, 1, 1, 1, 1, 1, 1, 1, 1, 1, 1, 1, 1, 1, 1, 1, 1, 1, 1, 1, 1, 1, 1, 1, 1, 1, 1, 1, 1, 1, 1, 1, 1, 1, 1, 1, 1, 1, 1, 1, 1, 1, 1, 1, 1, 1, 1, 1, 1, 1, 1, 1, 1, 1, 1, 1, 1, 1, 1, 1, 1, 1, 1, 1, 1, 1, 1, 1, 1, 1, 1, 1, 1, 1, 1, 1, 1, 1, 1, 1, 1, 1, 1, 1, 1, 1, 1, 1, 1, 1, 1, 1, 1, 1, 1, 1, 1, 1, 1, 1, 1, 1, 1, 1, 1, 1, 1, 1, 1, 1, 1, 1, 1, 1, 1, 1, 1, 1, 1, 1, 1, 1, 1, 1, 1, 1, 1, 1, 1, 1, 1, 1, 1, 1, 1, 1, 1, 1, 1, 1, 1, 1, 1, 1, 1, 1, 1, 1, 1, 1, 1, 1, 1, 1, 1, 1, 1, 1, 1, 1, 1, 1, 1, 1, 1, 1, 1, 1, 1, 1, 1, 1, 1, 1, 1, 1, 1, 1, 1, 1, 1, 1, 1, 1, 1, 1, 1, 1, 1, 1, 1, 1, 1, 1, 1, 1, 1, 1, 1, 1, 1, 1, 1, 1, 1, 1, 1, 1, 1, 1, 1, 1, 1, 1, 1, 1, 1, 1, 1, 1, 1, 1, 1, 1, 1, 1, 1, 1, 1, 1, 1, 1, 1, 1, 1, 1, 1, 1, 1, 1, 1, 1, 1, 1, 1, 1, 1, 1, 1, 1, 1, 1, 1, 1, 1, 1, 1, 1, 1, 1, 1, 1, 1, 1, 1, 1, 1, 1, 1, 1, 1, 1, 1, 1, 1, 1, 1, 1, 1, 1, 1, 1, 1, 1, 1, 1, 1, 1, 1, 1, 1, 1, 1, 1, 1, 1, 1, 1, 1, 1, 1, 1, 1, 1, 1, 1, 1, 1, 1, 1, 1, 1, 1, 1, 1, 1, 1, 1, 1, 1, 1, 1, 1, 1, 1, 1, 1, 1, 1, 1, 1, 1, 1, 1, 1, 1, 1, 1, 1, 1, 1, 1, 1, 1, 1, 1, 1, 1, 1, 1, 1, 1, 1, 1, 1, 1, 1, 1, 1, 1, 1, 1, 1, 1, 1, 1, 1, 1, 1, 1, 1, 1, 1, 1, 1, 1, 1, 1, 1, 1, 1, 1, 1, 1, 1, 1, 1, 1, 1, 1, 1, 1, 1, 1, 1, 1, 1, 1, 1, 1, 1, 1, 1, 1, 1, 1, 1, 1, 1, 1, 1, 1, 1, 1, 1, 1, 1, 1, 1, 1, 1, 1, 1, 1, 1, 1, 1, 1, 1, 1, 1, 1, 1, 1, 1, 1, 1, 1, 1, 1, 1, 1, 1, 1, 1, 1, 1, 1, 1, 1, 1, 1, 1, 1, 1, 1, 1, 1, 1, 1, 1, 1, 1, 1, 1, 1, 1, 1, 1, 1, 1, 1, 1, 1, 1, 1, 1, 1, 1, 1, 1, 1, 1, 1, 1, 1, 1, 1, 1, 1, 1, 1, 1, 1, 1, 1, 1, 1, 1, 1, 1, 1, 1, 1, 1, 1, 1, 1, 1, 1, 1, 1, 1, 1, 1, 1, 1, 1, 1, 1, 1, 1, 1, 1, 1, 1, 1, 1, 1, 1, 1, 1, 1, 1, 1, 1, 1, 1, 1, 1, 1, 1, 1, 1, 1, 1, 1, 1, 1, 1, 1, 1, 1, 1, 1, 1, 1, 1, 1, 1, 1, 1, 1, 1, 1, 1, 1, 1, 1, 1, 1, 1, 1, 1, 1, 1, 1, 1, 1, 1, 1, 1, 1, 1, 1, 1, 1, 1, 1, 1, 1, 1, 1, 1, 1, 1, 1, 1, 1, 1, 1, 1, 1, 1, 1, 1, 1, 1, 1, 1, 1, 1, 1, 1, 1, 1, 1, 1, 1, 1, 1, 1, 1, 1, 1, 1, 1, 1, 1, 1, 1, 1, 1, 1, 1, 1, 1, 1, 1, 1, 1, 1, 1, 1, 1, 1, 1, 1, 1, 1, 1, 1, 1, 1, 1, 1, 1, 1, 1, 1, 1, 1, 1, 1, 1, 1, 1, 1, 1, 1, 1, 1, 1, 1, 1, 1, 1, 1, 1, 1, 1, 1, 1, 1, 1, 1, 1, 1, 1, 1, 1, 1, 1, 1, 1, 1, 1, 1, 1, 1, 1, 1, 1, 1, 1, 1, 1, 1, 1, 1, 1, 1, 1, 1, 1, 1, 1, 1, 1, 1, 1, 1, 1, 1, 1, 1, 1, 1, 1, 1, 1, 1, 1, 1, 1, 1, 1, 1, 1, 1, 1, 1, 1, 1, 1, 1, 1, 1, 1, 1, 1, 1, 1, 1, 1, 1, 1, 1, 1, 1, 1, 1, 1, 1, 1, 1, 1, 1, 1, 1, 1, 1, 1, 1, 1, 1, 1, 1, 1, 1, 1, 1, 1, 1, 1, 1, 1, 1, 1, 1, 1, 1, 1, 1, 1, 1, 1, 1, 1, 1, 1, 1, 1, 1, 1, 1, 1, 1, 1, 1, 1, 1, 1, 1, 1, 1, 1, 1, 1, 1, 1, 1, 1, 1, 1, 1, 1, 1, 1, 1, 1, 1, 1, 1, 1, 1, 1, 1, 1, 1, 1, 1, 1, 1, 1, 1, 1, 1, 1, 1, 1, 1, 1, 1, 1, 1, 1, 1, 1, 1, 1, 1, 1, 1, 1, 1, 1, 1, 1, 1, 1, 1, 1, 1, 1, 1, 1, 1, 1, 1, 1, 1, 1, 1, 1, 1, 1, 1, 1, 1, 1, 1, 1, 1, 1, 1, 1, 1, 1, 1, 1, 1, 1, 1, 1, 1, 1, 1, 1, 1, 1, 1, 1, 1, 1, 1, 1, 1, 1, 1, 1, 1, 1, 1, 1, 1, 1, 1, 1, 1, 1, 1, 1, 1, 1, 1, 1, 1, 1, 1, 1, 1, 1, 1, 1, 1, 1, 1, 1, 1, 1, 1, 1, 1, 1, 1, 1, 1, 1, 1, 1, 1, 1, 1, 1, 1, 1, 1, 1, 1, 1, 1, 1, 1, 1, 1, 1, 1, 1, 1, 1, 1, 1, 1, 1, 1, 1, 1, 1, 1, 1, 1, 1, 1, 1, 1, 1, 1, 1, 1, 1, 1, 1, 1, 1, 1, 1, 1, 1, 1, 1, 1, 1, 1, 1, 1, 1, 1, 1, 1, 1, 1, 1, 1, 1, 1, 1, 1, 1, 1, 1, 1, 1, 1, 1, 1, 1, 1, 1, 1, 1, 1, 1, 1, 1, 1, 1, 1, 1, 1, 1, 1, 1, 1, 1, 1, 1, 1, 1, 1, 1, 1, 1, 1, 1, 1, 1, 1, 1, 1, 1, 1, 1, 1, 1, 1, 1, 1, 1, 1, 1, 1, 1, 1, 1, 1, 1, 1, 1, 1, 1, 1, 1, 1, 1, 1, 1, 1, 1, 1, 1, 1, 1, 1, 1, 1, 1, 1, 1], \"coloraxis\": \"coloraxis\"}, \"mode\": \"markers\", \"name\": \"\", \"showlegend\": false, \"subplot\": \"mapbox\", \"type\": \"scattermapbox\"}],\n",
              "                        {\"coloraxis\": {\"colorbar\": {\"title\": {\"text\": \"is_fraud\"}}, \"colorscale\": [[0.0, \"#0d0887\"], [0.1111111111111111, \"#46039f\"], [0.2222222222222222, \"#7201a8\"], [0.3333333333333333, \"#9c179e\"], [0.4444444444444444, \"#bd3786\"], [0.5555555555555556, \"#d8576b\"], [0.6666666666666666, \"#ed7953\"], [0.7777777777777778, \"#fb9f3a\"], [0.8888888888888888, \"#fdca26\"], [1.0, \"#f0f921\"]]}, \"height\": 500, \"legend\": {\"tracegroupgap\": 0}, \"mapbox\": {\"center\": {\"lat\": 39.019971282051095, \"lon\": -90.4455562703961}, \"domain\": {\"x\": [0.0, 1.0], \"y\": [0.0, 1.0]}, \"style\": \"open-street-map\", \"zoom\": 3}, \"margin\": {\"b\": 0, \"l\": 0, \"r\": 0, \"t\": 0}, \"template\": {\"data\": {\"bar\": [{\"error_x\": {\"color\": \"#2a3f5f\"}, \"error_y\": {\"color\": \"#2a3f5f\"}, \"marker\": {\"line\": {\"color\": \"#E5ECF6\", \"width\": 0.5}}, \"type\": \"bar\"}], \"barpolar\": [{\"marker\": {\"line\": {\"color\": \"#E5ECF6\", \"width\": 0.5}}, \"type\": \"barpolar\"}], \"carpet\": [{\"aaxis\": {\"endlinecolor\": \"#2a3f5f\", \"gridcolor\": \"white\", \"linecolor\": \"white\", \"minorgridcolor\": \"white\", \"startlinecolor\": \"#2a3f5f\"}, \"baxis\": {\"endlinecolor\": \"#2a3f5f\", \"gridcolor\": \"white\", \"linecolor\": \"white\", \"minorgridcolor\": \"white\", \"startlinecolor\": \"#2a3f5f\"}, \"type\": \"carpet\"}], \"choropleth\": [{\"colorbar\": {\"outlinewidth\": 0, \"ticks\": \"\"}, \"type\": \"choropleth\"}], \"contour\": [{\"colorbar\": {\"outlinewidth\": 0, \"ticks\": \"\"}, \"colorscale\": [[0.0, \"#0d0887\"], [0.1111111111111111, \"#46039f\"], [0.2222222222222222, \"#7201a8\"], [0.3333333333333333, \"#9c179e\"], [0.4444444444444444, \"#bd3786\"], [0.5555555555555556, \"#d8576b\"], [0.6666666666666666, \"#ed7953\"], [0.7777777777777778, \"#fb9f3a\"], [0.8888888888888888, \"#fdca26\"], [1.0, \"#f0f921\"]], \"type\": \"contour\"}], \"contourcarpet\": [{\"colorbar\": {\"outlinewidth\": 0, \"ticks\": \"\"}, \"type\": \"contourcarpet\"}], \"heatmap\": [{\"colorbar\": {\"outlinewidth\": 0, \"ticks\": \"\"}, \"colorscale\": [[0.0, \"#0d0887\"], [0.1111111111111111, \"#46039f\"], [0.2222222222222222, \"#7201a8\"], [0.3333333333333333, \"#9c179e\"], [0.4444444444444444, \"#bd3786\"], [0.5555555555555556, \"#d8576b\"], [0.6666666666666666, \"#ed7953\"], [0.7777777777777778, \"#fb9f3a\"], [0.8888888888888888, \"#fdca26\"], [1.0, \"#f0f921\"]], \"type\": \"heatmap\"}], \"heatmapgl\": [{\"colorbar\": {\"outlinewidth\": 0, \"ticks\": \"\"}, \"colorscale\": [[0.0, \"#0d0887\"], [0.1111111111111111, \"#46039f\"], [0.2222222222222222, \"#7201a8\"], [0.3333333333333333, \"#9c179e\"], [0.4444444444444444, \"#bd3786\"], [0.5555555555555556, \"#d8576b\"], [0.6666666666666666, \"#ed7953\"], [0.7777777777777778, \"#fb9f3a\"], [0.8888888888888888, \"#fdca26\"], [1.0, \"#f0f921\"]], \"type\": \"heatmapgl\"}], \"histogram\": [{\"marker\": {\"colorbar\": {\"outlinewidth\": 0, \"ticks\": \"\"}}, \"type\": \"histogram\"}], \"histogram2d\": [{\"colorbar\": {\"outlinewidth\": 0, \"ticks\": \"\"}, \"colorscale\": [[0.0, \"#0d0887\"], [0.1111111111111111, \"#46039f\"], [0.2222222222222222, \"#7201a8\"], [0.3333333333333333, \"#9c179e\"], [0.4444444444444444, \"#bd3786\"], [0.5555555555555556, \"#d8576b\"], [0.6666666666666666, \"#ed7953\"], [0.7777777777777778, \"#fb9f3a\"], [0.8888888888888888, \"#fdca26\"], [1.0, \"#f0f921\"]], \"type\": \"histogram2d\"}], \"histogram2dcontour\": [{\"colorbar\": {\"outlinewidth\": 0, \"ticks\": \"\"}, \"colorscale\": [[0.0, \"#0d0887\"], [0.1111111111111111, \"#46039f\"], [0.2222222222222222, \"#7201a8\"], [0.3333333333333333, \"#9c179e\"], [0.4444444444444444, \"#bd3786\"], [0.5555555555555556, \"#d8576b\"], [0.6666666666666666, \"#ed7953\"], [0.7777777777777778, \"#fb9f3a\"], [0.8888888888888888, \"#fdca26\"], [1.0, \"#f0f921\"]], \"type\": \"histogram2dcontour\"}], \"mesh3d\": [{\"colorbar\": {\"outlinewidth\": 0, \"ticks\": \"\"}, \"type\": \"mesh3d\"}], \"parcoords\": [{\"line\": {\"colorbar\": {\"outlinewidth\": 0, \"ticks\": \"\"}}, \"type\": \"parcoords\"}], \"pie\": [{\"automargin\": true, \"type\": \"pie\"}], \"scatter\": [{\"marker\": {\"colorbar\": {\"outlinewidth\": 0, \"ticks\": \"\"}}, \"type\": \"scatter\"}], \"scatter3d\": [{\"line\": {\"colorbar\": {\"outlinewidth\": 0, \"ticks\": \"\"}}, \"marker\": {\"colorbar\": {\"outlinewidth\": 0, \"ticks\": \"\"}}, \"type\": \"scatter3d\"}], \"scattercarpet\": [{\"marker\": {\"colorbar\": {\"outlinewidth\": 0, \"ticks\": \"\"}}, \"type\": \"scattercarpet\"}], \"scattergeo\": [{\"marker\": {\"colorbar\": {\"outlinewidth\": 0, \"ticks\": \"\"}}, \"type\": \"scattergeo\"}], \"scattergl\": [{\"marker\": {\"colorbar\": {\"outlinewidth\": 0, \"ticks\": \"\"}}, \"type\": \"scattergl\"}], \"scattermapbox\": [{\"marker\": {\"colorbar\": {\"outlinewidth\": 0, \"ticks\": \"\"}}, \"type\": \"scattermapbox\"}], \"scatterpolar\": [{\"marker\": {\"colorbar\": {\"outlinewidth\": 0, \"ticks\": \"\"}}, \"type\": \"scatterpolar\"}], \"scatterpolargl\": [{\"marker\": {\"colorbar\": {\"outlinewidth\": 0, \"ticks\": \"\"}}, \"type\": \"scatterpolargl\"}], \"scatterternary\": [{\"marker\": {\"colorbar\": {\"outlinewidth\": 0, \"ticks\": \"\"}}, \"type\": \"scatterternary\"}], \"surface\": [{\"colorbar\": {\"outlinewidth\": 0, \"ticks\": \"\"}, \"colorscale\": [[0.0, \"#0d0887\"], [0.1111111111111111, \"#46039f\"], [0.2222222222222222, \"#7201a8\"], [0.3333333333333333, \"#9c179e\"], [0.4444444444444444, \"#bd3786\"], [0.5555555555555556, \"#d8576b\"], [0.6666666666666666, \"#ed7953\"], [0.7777777777777778, \"#fb9f3a\"], [0.8888888888888888, \"#fdca26\"], [1.0, \"#f0f921\"]], \"type\": \"surface\"}], \"table\": [{\"cells\": {\"fill\": {\"color\": \"#EBF0F8\"}, \"line\": {\"color\": \"white\"}}, \"header\": {\"fill\": {\"color\": \"#C8D4E3\"}, \"line\": {\"color\": \"white\"}}, \"type\": \"table\"}]}, \"layout\": {\"annotationdefaults\": {\"arrowcolor\": \"#2a3f5f\", \"arrowhead\": 0, \"arrowwidth\": 1}, \"coloraxis\": {\"colorbar\": {\"outlinewidth\": 0, \"ticks\": \"\"}}, \"colorscale\": {\"diverging\": [[0, \"#8e0152\"], [0.1, \"#c51b7d\"], [0.2, \"#de77ae\"], [0.3, \"#f1b6da\"], [0.4, \"#fde0ef\"], [0.5, \"#f7f7f7\"], [0.6, \"#e6f5d0\"], [0.7, \"#b8e186\"], [0.8, \"#7fbc41\"], [0.9, \"#4d9221\"], [1, \"#276419\"]], \"sequential\": [[0.0, \"#0d0887\"], [0.1111111111111111, \"#46039f\"], [0.2222222222222222, \"#7201a8\"], [0.3333333333333333, \"#9c179e\"], [0.4444444444444444, \"#bd3786\"], [0.5555555555555556, \"#d8576b\"], [0.6666666666666666, \"#ed7953\"], [0.7777777777777778, \"#fb9f3a\"], [0.8888888888888888, \"#fdca26\"], [1.0, \"#f0f921\"]], \"sequentialminus\": [[0.0, \"#0d0887\"], [0.1111111111111111, \"#46039f\"], [0.2222222222222222, \"#7201a8\"], [0.3333333333333333, \"#9c179e\"], [0.4444444444444444, \"#bd3786\"], [0.5555555555555556, \"#d8576b\"], [0.6666666666666666, \"#ed7953\"], [0.7777777777777778, \"#fb9f3a\"], [0.8888888888888888, \"#fdca26\"], [1.0, \"#f0f921\"]]}, \"colorway\": [\"#636efa\", \"#EF553B\", \"#00cc96\", \"#ab63fa\", \"#FFA15A\", \"#19d3f3\", \"#FF6692\", \"#B6E880\", \"#FF97FF\", \"#FECB52\"], \"font\": {\"color\": \"#2a3f5f\"}, \"geo\": {\"bgcolor\": \"white\", \"lakecolor\": \"white\", \"landcolor\": \"#E5ECF6\", \"showlakes\": true, \"showland\": true, \"subunitcolor\": \"white\"}, \"hoverlabel\": {\"align\": \"left\"}, \"hovermode\": \"closest\", \"mapbox\": {\"style\": \"light\"}, \"paper_bgcolor\": \"white\", \"plot_bgcolor\": \"#E5ECF6\", \"polar\": {\"angularaxis\": {\"gridcolor\": \"white\", \"linecolor\": \"white\", \"ticks\": \"\"}, \"bgcolor\": \"#E5ECF6\", \"radialaxis\": {\"gridcolor\": \"white\", \"linecolor\": \"white\", \"ticks\": \"\"}}, \"scene\": {\"xaxis\": {\"backgroundcolor\": \"#E5ECF6\", \"gridcolor\": \"white\", \"gridwidth\": 2, \"linecolor\": \"white\", \"showbackground\": true, \"ticks\": \"\", \"zerolinecolor\": \"white\"}, \"yaxis\": {\"backgroundcolor\": \"#E5ECF6\", \"gridcolor\": \"white\", \"gridwidth\": 2, \"linecolor\": \"white\", \"showbackground\": true, \"ticks\": \"\", \"zerolinecolor\": \"white\"}, \"zaxis\": {\"backgroundcolor\": \"#E5ECF6\", \"gridcolor\": \"white\", \"gridwidth\": 2, \"linecolor\": \"white\", \"showbackground\": true, \"ticks\": \"\", \"zerolinecolor\": \"white\"}}, \"shapedefaults\": {\"line\": {\"color\": \"#2a3f5f\"}}, \"ternary\": {\"aaxis\": {\"gridcolor\": \"white\", \"linecolor\": \"white\", \"ticks\": \"\"}, \"baxis\": {\"gridcolor\": \"white\", \"linecolor\": \"white\", \"ticks\": \"\"}, \"bgcolor\": \"#E5ECF6\", \"caxis\": {\"gridcolor\": \"white\", \"linecolor\": \"white\", \"ticks\": \"\"}}, \"title\": {\"x\": 0.05}, \"xaxis\": {\"automargin\": true, \"gridcolor\": \"white\", \"linecolor\": \"white\", \"ticks\": \"\", \"title\": {\"standoff\": 15}, \"zerolinecolor\": \"white\", \"zerolinewidth\": 2}, \"yaxis\": {\"automargin\": true, \"gridcolor\": \"white\", \"linecolor\": \"white\", \"ticks\": \"\", \"title\": {\"standoff\": 15}, \"zerolinecolor\": \"white\", \"zerolinewidth\": 2}}}},\n",
              "                        {\"responsive\": true}\n",
              "                    ).then(function(){\n",
              "                            \n",
              "var gd = document.getElementById('7a48dc06-7f35-472c-8a07-fdea7e04dee7');\n",
              "var x = new MutationObserver(function (mutations, observer) {{\n",
              "        var display = window.getComputedStyle(gd).display;\n",
              "        if (!display || display === 'none') {{\n",
              "            console.log([gd, 'removed!']);\n",
              "            Plotly.purge(gd);\n",
              "            observer.disconnect();\n",
              "        }}\n",
              "}});\n",
              "\n",
              "// Listen for the removal of the full notebook cells\n",
              "var notebookContainer = gd.closest('#notebook-container');\n",
              "if (notebookContainer) {{\n",
              "    x.observe(notebookContainer, {childList: true});\n",
              "}}\n",
              "\n",
              "// Listen for the clearing of the current output cell\n",
              "var outputEl = gd.closest('.output');\n",
              "if (outputEl) {{\n",
              "    x.observe(outputEl, {childList: true});\n",
              "}}\n",
              "\n",
              "                        })\n",
              "                };\n",
              "                \n",
              "            </script>\n",
              "        </div>\n",
              "</body>\n",
              "</html>"
            ]
          },
          "metadata": {
            "tags": []
          }
        }
      ]
    },
    {
      "cell_type": "code",
      "metadata": {
        "colab": {
          "base_uri": "https://localhost:8080/",
          "height": 542
        },
        "id": "wm87KMMNi9Y6",
        "outputId": "ef4e9da0-e816-493a-ba48-dd81bc9847c7"
      },
      "source": [
        "dftemp_fraud = df2[df2['is_fraud'] == 1]\n",
        "fig = go.Figure()\n",
        "fig.add_trace(go.Scattergeo(\n",
        "        locationmode = 'USA-states',\n",
        "        lon = dftemp_fraud['long'],\n",
        "        lat = dftemp_fraud['lat'],\n",
        "        #text = df_sub['text'],\n",
        "        marker = dict(\n",
        "            #size = df_sub['total_cases']/scale,\n",
        "            color = dftemp_fraud['is_fraud'],\n",
        "            line_color='rgb(40,40,40)',\n",
        "            line_width=0.5,\n",
        "            sizemode = 'area'\n",
        "        ),\n",
        "        name = 'test'))\n",
        "fig.update_layout( title_text = 'test',\n",
        "                 geo = dict(\n",
        "                     landcolor = 'rgb(217,217,217)',),\n",
        "                  mapbox_style=\"open-street-map\"\n",
        "                 )"
      ],
      "id": "wm87KMMNi9Y6",
      "execution_count": 33,
      "outputs": [
        {
          "output_type": "display_data",
          "data": {
            "text/html": [
              "<html>\n",
              "<head><meta charset=\"utf-8\" /></head>\n",
              "<body>\n",
              "    <div>\n",
              "            <script src=\"https://cdnjs.cloudflare.com/ajax/libs/mathjax/2.7.5/MathJax.js?config=TeX-AMS-MML_SVG\"></script><script type=\"text/javascript\">if (window.MathJax) {MathJax.Hub.Config({SVG: {font: \"STIX-Web\"}});}</script>\n",
              "                <script type=\"text/javascript\">window.PlotlyConfig = {MathJaxConfig: 'local'};</script>\n",
              "        <script src=\"https://cdn.plot.ly/plotly-latest.min.js\"></script>    \n",
              "            <div id=\"2aeccca3-7221-406e-a1e6-0230faaa2a14\" class=\"plotly-graph-div\" style=\"height:525px; width:100%;\"></div>\n",
              "            <script type=\"text/javascript\">\n",
              "                \n",
              "                    window.PLOTLYENV=window.PLOTLYENV || {};\n",
              "                    \n",
              "                if (document.getElementById(\"2aeccca3-7221-406e-a1e6-0230faaa2a14\")) {\n",
              "                    Plotly.newPlot(\n",
              "                        '2aeccca3-7221-406e-a1e6-0230faaa2a14',\n",
              "                        [{\"lat\": [31.8599, 42.5545, 42.5545, 30.459, 31.8599, 27.633000000000006, 30.459, 30.459, 30.459, 42.5545, 30.459, 27.633000000000006, 30.459, 27.633000000000006, 30.459, 27.633000000000006, 27.633000000000006, 27.633000000000006, 30.459, 27.633000000000006, 27.633000000000006, 27.633000000000006, 42.52, 42.52, 42.52, 42.52, 42.52, 42.52, 42.52, 44.4971, 42.52, 42.52, 42.52, 44.4971, 42.52, 44.4971, 44.4971, 44.4971, 44.4971, 44.4971, 44.4971, 42.52, 34.048, 34.048, 34.048, 41.55, 34.048, 34.048, 34.048, 34.048, 41.55, 41.55, 41.55, 45.7205, 41.55, 41.55, 41.55, 41.55, 45.7205, 41.55, 45.7205, 45.7205, 34.048, 34.048, 34.048, 41.0695, 45.7205, 41.0695, 41.0695, 45.7205, 41.0695, 45.7205, 41.0695, 38.2507, 36.3924, 41.0695, 36.3924, 39.224, 38.2507, 39.224, 36.3924, 38.2507, 38.2507, 39.224, 36.3924, 39.224, 36.3924, 35.1836, 38.2507, 36.3924, 38.2507, 36.3924, 41.0695, 41.0695, 41.0695, 47.4974, 38.2507, 39.224, 38.2507, 47.4974, 36.3924, 36.3924, 35.1836, 47.4974, 35.1836, 36.3924, 47.4974, 39.224, 47.4974, 47.4974, 35.1836, 39.224, 39.224, 47.4974, 35.1836, 36.3924, 36.3924, 38.2507, 47.4974, 39.224, 39.224, 39.224, 47.4974, 36.3924, 35.1836, 38.2507, 39.224, 39.224, 38.2507, 36.3924, 39.224, 39.224, 38.2507, 47.4974, 47.4974, 39.5994, 39.5994, 45.7364, 45.7364, 39.6991, 39.6991, 45.7364, 39.6991, 39.6991, 45.7364, 39.6991, 45.7364, 39.6991, 45.7364, 45.7364, 45.7364, 39.6991, 39.6991, 39.6991, 34.1832, 34.1832, 34.1832, 34.1832, 39.6991, 39.6991, 39.6991, 31.924, 34.1832, 34.1832, 34.1832, 31.924, 34.1832, 34.1832, 34.1832, 34.1832, 31.924, 34.1832, 34.1832, 34.1832, 34.1832, 31.924, 36.1124, 36.1124, 36.1124, 31.924, 31.924, 31.924, 31.924, 36.1124, 31.924, 36.1124, 36.1124, 36.1124, 31.924, 36.1124, 36.1124, 45.7084, 45.7084, 45.7084, 36.1124, 36.1124, 36.1124, 45.7084, 45.7084, 35.3757, 45.7084, 45.7084, 45.7084, 35.3757, 45.7084, 35.3757, 35.3757, 45.7084, 45.7084, 35.3757, 35.3757, 35.3757, 35.3757, 35.3757, 35.3757, 40.6267, 40.6267, 40.6267, 42.1001, 42.1001, 40.6267, 40.6267, 42.1001, 42.1001, 26.3771, 42.1001, 40.6267, 26.3771, 42.1001, 42.1001, 42.1001, 40.6267, 42.1001, 26.3771, 40.6267, 31.4285, 31.4285, 40.6267, 31.4285, 31.4285, 40.6267, 40.6267, 40.6267, 40.6267, 44.4477, 44.4477, 31.4285, 31.4285, 42.958, 31.4285, 31.4285, 31.4285, 44.4477, 42.958, 31.4285, 44.4477, 31.4285, 31.4285, 42.958, 44.4477, 44.4477, 42.958, 42.958, 38.9829, 42.958, 42.958, 38.9829, 42.958, 44.4477, 44.4477, 38.9829, 44.4477, 42.958, 44.9437, 44.9437, 44.9437, 44.9437, 44.9437, 44.9437, 44.9437, 44.9437, 47.0874, 36.0788, 36.0788, 36.0788, 47.0874, 45.2857, 47.0874, 47.0874, 45.2857, 47.0874, 47.0874, 45.2857, 47.0874, 36.0788, 45.2857, 42.9993, 45.2857, 42.9993, 36.0788, 47.0874, 42.9993, 36.0788, 45.2857, 36.0788, 45.2857, 42.9993, 45.2857, 47.0874, 36.0788, 45.2857, 42.9993, 42.9993, 36.0788, 45.2857, 38.4207, 47.0874, 47.0874, 38.4207, 45.2857, 36.0788, 45.2857, 36.0788, 38.4207, 42.9993, 45.6892, 45.6892, 38.4207, 42.9993, 20.0827, 45.4093, 38.4207, 38.4207, 38.4207, 38.4207, 38.4207, 38.4207, 38.4207, 38.4207, 42.9993, 20.0827, 20.0827, 45.4093, 20.0827, 38.4207, 42.9993, 42.9993, 45.4093, 20.0827, 42.9993, 45.4093, 45.4093, 45.4093, 38.8938, 45.6892, 45.4093, 38.8938, 38.8938, 20.0827, 20.0827, 38.8938, 20.0827, 38.8938, 38.8938, 38.8938, 20.0827, 38.8938, 38.8938, 38.8938, 45.5303, 45.5303, 38.8938, 45.5303, 45.5303, 45.5303, 38.8938, 38.8938, 45.5303, 45.5303, 38.8938, 45.5303, 40.6284, 40.6284, 45.5303, 40.6284, 45.5303, 40.6284, 45.5303, 40.6284, 45.5303, 40.6284, 40.6284, 40.6284, 40.6284, 40.6284, 40.6284, 43.8967, 43.8967, 43.8967, 43.8967, 33.4235, 43.8967, 33.4235, 43.8967, 43.8967, 33.4235, 43.8967, 33.4235, 33.4235, 43.8967, 43.8967, 43.8967, 43.8967, 36.802, 33.4235, 40.8618, 33.4235, 36.802, 36.802, 36.802, 36.802, 40.8618, 36.802, 40.8618, 40.8618, 36.802, 36.802, 36.802, 40.8618, 36.802, 41.2153, 38.8856, 41.2153, 41.2153, 34.0287, 38.8856, 34.0287, 41.2153, 41.2153, 38.8856, 38.8856, 34.0287, 38.8856, 34.0287, 41.2153, 41.2153, 38.8856, 41.2153, 34.0287, 38.8856, 34.0287, 34.0287, 34.0287, 34.0287, 38.7735, 38.7735, 38.7735, 38.7735, 38.7735, 47.7068, 47.7068, 47.7068, 47.7068, 47.7068, 47.7068, 47.7068, 47.7068, 38.7735, 38.7735, 47.7068, 47.7068, 47.7068, 47.7068, 38.7735, 38.7735, 37.0581, 47.7068, 37.0581, 37.0581, 39.2092, 30.8985, 47.7068, 39.2092, 47.7068, 37.0581, 30.8985, 30.8985, 37.0581, 47.7068, 39.2092, 37.0581, 30.8985, 37.0581, 41.1437, 39.2092, 39.2092, 37.0581, 30.8985, 30.8985, 37.0581, 30.8985, 30.8985, 39.2092, 30.8985, 30.8985, 30.8985, 30.8985, 37.0581, 37.0581, 30.8985, 30.8985, 37.0581, 30.8635, 30.8985, 30.8635, 41.1437, 41.1437, 41.1437, 39.2092, 30.8635, 30.8985, 37.0581, 37.0581, 30.4983, 30.8635, 30.4983, 30.8635, 30.4983, 30.8635, 30.4983, 30.8635, 27.5517, 33.4044, 27.5517, 33.4044, 33.4044, 30.4983, 27.5517, 33.4044, 33.4044, 33.4044, 30.4983, 27.5517, 30.4983, 40.6774, 33.4044, 40.6774, 30.4983, 41.1558, 40.6774, 27.5517, 33.4044, 33.4044, 47.0999, 33.4044, 47.0999, 33.4044, 27.5517, 47.0999, 27.5517, 27.5517, 40.6774, 33.4044, 47.0999, 40.6774, 40.6774, 33.4044, 40.6774, 47.0999, 27.5517, 27.5517, 47.0999, 47.0999, 40.6774, 41.1558, 27.5517, 33.4044, 27.5517, 40.6774, 47.0999, 41.1558, 41.1558, 41.1558, 41.1558, 40.6774, 33.4044, 34.6689, 41.5855, 41.1558, 47.0999, 41.1558, 41.1558, 41.1558, 34.6689, 47.0999, 34.6689, 34.6689, 47.0999, 47.0999, 47.0999, 34.6689, 41.1558, 41.5855, 41.5855, 41.5855, 41.5855, 41.5855, 41.5855, 41.1558, 47.0999, 41.1558, 41.1558, 41.1558, 34.6689, 34.6689, 41.5855, 41.5855, 34.6689, 34.6689, 34.6689, 41.5855, 41.5855, 41.5855, 30.592, 30.592, 30.592, 30.592, 30.592, 30.592, 30.592, 30.592, 30.592, 38.3511, 38.3511, 38.3511, 44.8605, 30.592, 38.3511, 38.3511, 30.592, 39.0945, 38.3511, 39.0945, 39.0945, 44.8605, 44.8605, 39.0945, 38.3511, 44.8605, 30.592, 39.0945, 38.3511, 44.8605, 38.3511, 38.3511, 47.1709, 44.8605, 38.3511, 47.1709, 34.847, 47.1709, 38.3511, 47.1709, 44.8605, 38.3511, 44.8605, 39.0945, 47.1709, 44.8605, 47.1709, 39.0945, 42.73, 30.946, 34.847, 34.847, 47.1709, 47.1709, 34.847, 42.73, 34.847, 34.847, 34.847, 34.847, 42.73, 47.1709, 47.1709, 42.73, 47.1709, 42.73, 42.73, 30.946, 30.946, 42.73, 41.6414, 41.6414, 41.6414, 41.6414, 41.6414, 41.6414, 41.6414, 41.6414, 34.0326, 34.0326, 34.0326, 34.0326, 34.0326, 34.0326, 34.0326, 34.0326, 34.0326, 34.0326, 34.0326, 34.0326, 34.0326, 34.0326, 34.0326, 34.0326, 40.0113, 40.0113, 41.8948, 41.6611, 41.6611, 41.6611, 41.6611, 40.0113, 41.6611, 41.8948, 41.6611, 41.8948, 41.8948, 41.6611, 41.8948, 41.8948, 41.8948, 40.0113, 41.6611, 41.6611, 41.6611, 41.6611, 41.8948, 41.6611, 41.8948, 41.6611, 41.8948, 41.8948, 41.8948, 41.6611, 41.8948, 41.6611, 40.6153, 40.4931, 40.4931, 40.4931, 40.4931, 40.4931, 40.4931, 33.6372, 40.6153, 33.6372, 40.4931, 40.6153, 40.6153, 40.4931, 40.6153, 40.6153, 40.6153, 40.4931, 40.4931, 40.6153, 40.4931, 39.9636, 32.274, 32.274, 36.4899, 39.9636, 32.274, 32.274, 36.4899, 32.274, 39.9636, 32.274, 39.9636, 39.9636, 36.4899, 36.4899, 39.9636, 32.274, 39.9636, 39.9636, 39.8936, 39.8936, 39.9636, 39.8936, 40.7152, 40.7152, 39.8936, 36.4899, 39.8936, 32.274, 39.9636, 40.7152, 36.4899, 40.7152, 40.7152, 32.274, 40.7152, 32.274, 39.8936, 39.8936, 39.8936, 39.9636, 36.4899, 32.274, 40.7152, 45.3099, 40.7152, 39.8936, 39.8936, 44.3481, 39.8936, 45.3099, 44.3481, 44.3481, 40.7152, 44.3481, 40.7152, 39.8936, 39.8936, 45.3099, 45.3099, 39.0305, 45.3099, 39.0305, 44.3481, 44.3481, 45.3099, 45.3099, 39.0305, 44.3481, 45.3099, 36.9688, 45.3099, 39.0305, 44.3481, 36.9688, 36.9688, 39.0305, 44.3481, 39.0305, 36.9688, 36.9688, 39.0305, 39.0305, 39.0305, 36.9688, 36.9688, 39.0305, 39.0305, 39.0305, 44.9595, 44.9595, 44.9595, 44.9595, 44.9595, 44.9595, 44.9595, 44.9595, 44.9595, 44.9595, 33.3224, 33.3224, 38.859, 38.859, 38.859, 38.859, 38.859, 38.859, 38.859, 38.859, 33.3224, 33.3224, 38.859, 33.3224, 31.6489, 33.3224, 38.859, 33.3224, 38.859, 33.3224, 38.859, 31.6489, 31.6489, 31.6489, 31.6489, 31.6489, 31.6489, 31.6489, 33.4816, 30.9788, 38.0174, 33.4816, 33.4816, 30.9788, 38.0174, 30.9788, 30.4066, 38.0174, 38.0174, 38.0174, 33.4816, 30.9788, 33.4816, 38.0174, 38.0174, 30.9788, 38.0174, 41.8467, 30.9788, 30.4066, 30.9788, 38.0174, 33.4816, 33.4816, 41.8467, 41.8467, 30.9788, 30.4066, 30.4066, 30.4066, 30.9788, 33.4816, 33.4816, 41.8467, 33.4816, 38.0174, 33.4816, 41.8467, 38.0174, 30.9788, 43.6498, 41.8467, 41.8467, 41.8467, 41.8467, 41.8467, 41.8467, 41.8467, 43.6498, 41.8467, 41.8467, 41.8467, 35.2229, 43.6498, 42.2619, 43.6498, 43.6498, 42.2619, 42.2619, 35.2229, 42.2619, 42.2619, 42.2619, 42.2619, 42.2619, 42.2619, 35.2229, 32.6064, 35.2229, 32.6064, 35.2229, 32.6064, 35.2229, 32.6064, 32.6064, 42.2619, 32.6064, 32.6064, 35.2229, 42.2619, 42.2619, 32.6064, 32.6064, 32.6064, 40.333, 32.6064, 32.6064, 32.6064, 40.333, 40.333, 40.333, 40.333, 31.1569, 31.1569, 31.1569, 31.1569, 31.1569, 40.333, 40.333, 40.333, 40.333, 31.1569, 31.1569, 31.1569, 31.1569, 31.1569, 31.1569, 31.1569, 43.0397, 43.0397, 43.0397, 43.0397, 43.0397, 43.0397, 43.0397, 43.0397, 40.1362, 40.1362, 40.1362, 43.0397, 40.1362, 40.1362, 43.0397, 43.0397, 40.1362, 40.1362, 40.1362, 40.1362, 40.1362, 40.1362, 40.1362, 40.1362, 40.1362, 40.1362, 37.6848, 37.6848, 37.6848, 37.6848, 37.6848, 37.6848, 34.5715, 42.0158, 34.5715, 42.0158, 42.0158, 34.5715, 37.6848, 34.5715, 37.6848, 34.5715, 34.5715, 34.5715, 42.0158, 42.1239, 42.0158, 42.0158, 42.0158, 34.5715, 42.0158, 42.1239, 42.0158, 34.5715, 42.1239, 42.0158, 34.5715, 42.0158, 34.5715, 42.1239, 42.1239, 42.1239, 42.1239, 42.1239, 42.1239, 42.1239, 42.1239, 28.8989, 28.8989, 35.6665, 35.6665, 35.6665, 28.8989, 35.6665, 32.3739, 35.6665, 32.3739, 35.6665, 35.6665, 35.6665, 32.3739, 32.3739, 35.6665, 35.6665, 32.3739, 40.6761, 42.4969, 32.3739, 42.4969, 42.4969, 32.3739, 40.6761, 42.0695, 42.4969, 32.3739, 42.0695, 42.0695, 40.6761, 40.6761, 42.0695, 40.6761, 42.0695, 40.6761, 42.0695, 42.0695, 42.4969, 42.4969, 40.6761, 33.3305, 42.4969, 42.4969, 40.6761, 42.4969, 42.0695, 40.6761, 40.6761, 40.6761, 42.0695, 33.3305, 42.0695, 40.6761, 33.3305, 40.6761, 42.0695, 40.6761, 42.4969, 42.4969, 40.6761, 42.0695, 42.4969, 40.732, 33.3305, 33.3305, 33.3305, 33.3305, 40.732, 38.5319, 38.5319, 38.5319, 40.732, 33.3305, 38.5319, 38.5319, 33.3305, 40.732, 33.3305, 40.732, 40.732, 34.1248, 34.1248, 40.732, 40.732, 34.1248, 36.741, 32.7699, 34.1248, 34.1248, 34.1248, 34.1248, 32.7699, 32.7699, 36.741, 32.7699, 36.741, 34.1248, 36.741, 32.7699, 34.1248, 34.1248, 36.741, 36.741, 34.1248, 32.7699, 40.4062, 32.7699, 32.7699, 36.741, 36.741, 40.4062, 32.7699, 36.741, 32.7699, 32.7699, 32.7699, 40.4062, 36.741, 40.4062, 40.4062, 40.4062, 41.4247, 40.4062, 40.4062, 40.4062, 40.4062, 41.4247, 39.8616, 39.8616, 39.8616, 39.8616, 39.8616, 39.8616, 39.8616, 39.8616, 39.8616, 39.8616, 39.8616, 39.8616, 48.8328, 48.8328, 48.8328, 48.8328, 48.8328, 48.8328, 36.5276, 36.5276, 48.8328, 42.8546, 42.8546, 48.8328, 42.8546, 48.8328, 48.8328, 48.8328, 36.5276, 42.8546, 48.8328, 48.8328, 48.8328, 42.3496, 30.2385, 42.3496, 42.3496, 42.3958, 42.8546, 39.9972, 42.8546, 42.3496, 42.3958, 30.2385, 42.3496, 42.3958, 42.8546, 36.5276, 36.5276, 42.3958, 42.8546, 42.8546, 36.5276, 42.8546, 30.2385, 30.2385, 42.3958, 42.3958, 39.9972, 36.5276, 42.8546, 36.5276, 42.3958, 36.5276, 42.8546, 30.2385, 42.3958, 39.9972, 42.3958, 42.3496, 36.5276, 42.8546, 42.3958, 39.9972, 42.3496, 42.3958, 42.3496, 42.3496, 39.9972, 39.9972, 42.3958, 30.2385, 30.2385, 42.3496, 42.3496, 30.2385, 39.9972, 39.9972, 39.9972, 39.9972, 30.2385, 32.2819, 42.3496, 42.3496, 39.9972, 39.9972, 42.3496, 32.2819, 39.9972, 32.2819, 32.2819, 42.3496, 42.3496, 32.2819, 32.2819, 32.9643, 40.3673, 32.2819, 40.3673, 32.9643, 40.3673, 32.9643, 40.3673, 32.2819, 32.2819, 40.3673, 40.3673, 40.3673, 32.9643, 32.9643, 40.3673, 43.0261, 32.9643, 43.0261, 31.3826, 32.9643, 40.3673, 43.0261, 43.0261, 43.0261, 31.3826, 40.3673, 43.0261, 31.3826, 43.0261, 43.0261, 43.0261, 43.0261, 31.3826, 43.0261, 31.3826, 31.3826, 43.0261, 31.3826, 31.3826, 43.0261, 43.0261, 43.0261, 34.9298, 34.9298, 34.9298, 34.9298, 34.9298, 33.6401, 33.6401, 34.9298, 34.9298, 33.6401, 33.6401, 36.1486, 34.9572, 36.1486, 34.9572, 33.6401, 33.6401, 36.1486, 36.1486, 36.1486, 34.9572, 36.1486, 33.6401, 34.9572, 33.6401, 34.9572, 34.9572, 34.9572, 34.9572, 34.9572, 34.9572, 36.1486, 36.1486, 34.9572, 34.9572, 47.3551, 47.3551, 47.3551, 47.3551, 47.3551, 47.3551, 39.2048, 33.8155, 33.8155, 47.3551, 47.3551, 47.3551, 39.2048, 39.2048, 47.3551, 39.2048, 39.2048, 33.8155, 33.8155, 39.2048, 39.2048, 33.8155, 39.2048, 39.2048, 33.8155, 33.8155, 33.8155, 39.2048, 30.9, 39.2048, 30.9, 33.8155, 33.8155, 40.9051, 33.8155, 40.9051, 39.2048, 33.8155, 40.9051, 39.2048, 33.8155, 33.8155, 30.9, 30.9, 30.9, 30.9, 39.2048, 30.9, 33.8155, 30.9, 31.086, 30.9, 40.9051, 40.9051, 40.9051, 40.1186, 40.9051, 30.9, 30.9, 40.1186, 40.9051, 31.086, 30.9, 40.1186, 40.9051, 30.9, 40.1186, 40.1186, 40.1186, 40.9051, 31.086, 38.7894, 35.7382, 31.086, 40.1186, 31.086, 40.1186, 31.086, 40.1186, 31.086, 38.7894, 38.7894, 31.086, 31.086, 40.1186, 35.7382, 35.7382, 33.5494, 35.7382, 35.7382, 35.7382, 33.5494, 33.5494, 33.5494, 38.7894, 38.7894, 33.5494, 33.5494, 38.7894, 35.7382, 33.5494, 35.7382, 35.7382, 33.5494, 38.7894, 33.5494, 33.5494, 33.5494, 33.5494, 42.2848, 42.2848, 42.2848, 42.2848, 42.2848, 42.2848, 42.2848, 42.2848, 42.2848, 41.1901, 41.1901, 37.575, 38.0261, 38.0261, 47.5412, 47.5412, 47.5412, 47.5412, 47.5412, 41.1901, 41.1901, 38.0261, 41.1901, 38.0261, 38.0261, 37.575, 47.5412, 47.5412, 41.1901, 41.1901, 38.0261, 38.0261, 38.0261, 40.7067, 41.1901, 38.0261, 37.575, 37.575, 37.575, 40.7067, 38.0261, 38.0261, 37.575, 41.1901, 38.0261, 40.7067, 47.5412, 41.1901, 40.7067, 38.0261, 40.7067, 47.5412, 38.0261, 38.0261, 38.0261, 40.7067, 38.0261, 37.575, 41.1901, 38.0261, 37.575, 38.0261, 42.8178, 42.8178, 42.8178, 42.8178, 42.8178, 30.8836, 42.8178, 42.8178, 30.8836, 30.8836, 30.8836, 30.8836, 30.8836, 42.8178, 41.0935, 41.0935, 30.8836, 30.8836, 30.8836, 41.0935, 41.0935, 41.0935, 41.0935, 42.0144, 42.0144, 42.0144, 42.0144, 41.5224, 42.0144, 42.0144, 35.833, 41.5224, 35.833, 42.0144, 41.5224, 35.833, 35.833, 41.5224, 35.833, 41.5224, 41.5224, 41.5224, 41.5224, 41.5224, 41.5224, 41.5224, 35.833, 41.5224, 35.833, 41.5224, 35.833, 41.5224, 35.833, 39.485, 39.485, 39.485, 39.485, 42.9576, 39.485, 42.9576, 39.485, 39.485, 39.485, 42.9576, 39.485, 40.1159, 40.1159, 42.9576, 40.1159, 43.4987, 40.1159, 43.4987, 40.1159, 43.4987, 40.1159, 43.4987, 43.4987, 40.1159, 43.4987, 43.4987, 42.9576, 40.1159, 42.1808, 40.1159, 40.1159, 40.1159, 43.4987, 40.1159, 43.4987, 43.4987, 42.1808, 40.1159, 43.4987, 39.6094, 40.1159, 39.6094, 42.1808, 40.1159, 43.4987, 39.6094, 39.6094, 42.1808, 42.1808, 42.1808, 42.1808, 42.1808, 39.6094, 39.6094, 45.67100000000001, 45.67100000000001, 45.67100000000001, 45.67100000000001, 45.67100000000001, 44.2378, 45.67100000000001, 44.2378, 45.67100000000001, 44.2378, 44.2378, 44.2378, 43.033, 44.2378, 45.67100000000001, 44.2378, 44.2378, 43.033, 43.033, 44.2378, 44.2378, 43.033, 42.0789, 44.2378, 33.6666, 42.0789, 33.6666, 33.6666, 42.0789, 42.0789, 33.6666, 33.6666, 33.6666, 33.6666, 33.6666, 42.0789, 33.6666, 33.6666, 33.6666, 33.6666, 39.39, 45.3637, 45.3637, 45.3637, 45.3637, 39.39, 39.39, 45.3637, 39.39, 45.3637, 39.39, 38.097, 38.097, 39.39, 39.39, 38.097, 38.097, 38.097, 45.3637, 38.097, 39.39, 38.097, 38.097, 38.097, 38.097, 38.097, 38.097, 38.5095, 38.5095, 38.5095, 38.5095, 38.5095, 38.5095, 38.5095, 38.5095, 38.5095, 38.5095, 38.5095, 38.5095, 37.8795, 41.229, 41.229, 41.229, 41.229, 37.8795, 37.8795, 37.8795, 37.8795, 41.229, 41.229, 41.3851, 37.8795, 41.229, 41.229, 41.3851, 41.3851, 41.229, 41.3851, 41.3851, 37.8795, 41.3851, 41.3851, 41.3851, 41.3851, 41.0592, 41.3851, 47.9657, 41.0592, 47.9657, 41.3851, 41.0592, 47.9657, 47.9657, 41.3851, 41.0592, 41.3851, 41.3851, 41.3851, 47.9657, 47.9657, 41.3851, 47.9657, 41.3851, 41.3851, 41.0592, 47.9657, 41.0592, 41.0592, 41.0592, 41.0592, 47.9657, 42.3669, 42.3669, 42.3669, 42.3669, 34.2691, 42.3669, 42.3669, 34.2691, 34.2691, 42.3669, 34.2691, 34.2691, 34.2691, 34.2691, 34.2691, 43.4512, 43.4512, 43.4512, 43.4512, 43.4512, 38.8582, 43.4512, 44.8021, 43.4512, 44.8021, 43.4512, 44.8021, 44.8021, 43.4512, 38.8582, 38.8582, 43.4512, 44.8021, 44.5592, 44.8021, 35.0659, 44.8021, 35.0659, 44.5592, 38.8582, 35.0659, 44.5592, 44.8021, 44.8021, 35.0659, 35.0659, 44.5592, 44.8021, 44.8021, 38.8582, 43.4512, 38.8582, 38.8582, 44.5592, 44.5592, 44.5592, 44.8021, 35.0659, 35.0659, 43.4512, 44.5592, 32.4122, 32.4122, 44.8955, 44.8955, 35.0659, 44.5592, 35.0659, 32.4122, 35.0659, 32.4122, 44.8955, 32.4122, 44.8955, 32.4122, 44.8955, 44.8955, 35.0659, 44.8955, 35.0659, 44.8955, 32.4122, 44.8955, 32.4122, 32.4122, 32.4122, 44.8955, 32.4122, 44.8955, 44.8955, 44.8955, 44.8955, 36.4539, 37.1349, 37.1349, 37.1349, 36.4539, 37.1349, 36.4539, 36.4539, 36.4539, 36.4539, 36.4539, 55.4732, 36.4539, 36.4539, 55.4732, 37.1349, 55.4732, 37.1349, 55.4732, 55.4732, 55.4732, 37.1349, 55.4732, 55.4732, 55.4732, 55.4732, 36.4539, 55.4732, 55.4732, 55.4732, 55.4732, 34.1556, 48.8878, 34.1556, 34.1556, 48.8878, 48.8878, 34.1556, 34.1556, 39.9934, 39.9934, 48.8878, 34.1556, 48.8878, 38.2674, 34.1556, 34.1556, 38.2674, 38.2674, 48.8878, 48.8878, 39.9934, 34.1556, 38.2674, 38.2674, 39.9934, 39.9934, 37.7681, 39.9934, 37.7681, 37.7681, 39.9934, 39.9934, 39.9934, 38.2674, 38.2674, 38.2674, 40.3625, 37.7681, 37.7681, 39.9934, 40.3625, 37.7681, 40.3625, 40.3625, 37.7681, 37.7681, 40.3625, 40.3625, 37.7681, 37.7681, 40.3625, 40.507, 38.6207, 40.507, 40.507, 33.4783, 33.4783, 28.5697, 40.507, 33.4783, 40.507, 33.4783, 28.5697, 33.4783, 40.507, 33.4783, 33.4783, 40.507, 40.507, 33.4783, 38.6207, 33.4783, 33.4783, 40.507, 28.5697, 28.5697, 33.4783, 38.6207, 28.5697, 40.507, 28.5697, 33.4783, 38.6207, 38.6207, 33.4783, 40.507, 28.5697, 40.507, 40.507, 40.507, 28.5697, 28.5697, 40.507, 28.5697, 39.047, 39.047, 39.047, 39.047, 40.8626, 41.0001, 40.8626, 39.047, 39.047, 40.8626, 39.047, 40.8626, 40.8626, 40.8626, 39.047, 39.047, 40.8626, 39.047, 40.8626, 41.0001, 40.8626, 39.047, 39.047, 39.047, 41.0001, 35.8985, 41.0001, 40.8626, 41.0001, 35.8985, 35.8985, 40.8626, 41.0001, 35.8985, 40.8626, 40.8626, 35.8985, 35.8985, 35.8985, 35.8985, 41.0001, 40.8626, 35.8985, 35.8985, 41.6858, 35.8985, 41.6858, 44.0948, 44.0948, 35.8985, 44.0948, 44.0948, 35.8985, 33.3398, 41.6858, 33.3398, 33.3398, 41.6858, 44.0948, 44.0948, 44.0948, 41.6858, 33.3398, 33.3398, 33.3398, 40.7699, 33.3398, 40.7699, 40.7699, 33.3398, 40.7699, 33.3398, 40.7699, 40.7699, 33.3398, 40.7699, 40.7699, 39.9914, 40.7699, 39.9914, 40.5662, 40.7699, 39.9914, 39.9914, 40.7699, 40.5662, 40.7699, 40.5662, 39.9914, 39.9914, 40.5662, 40.5662, 40.5662, 39.9914, 39.9914, 40.5662, 40.5662, 40.5662, 40.5662, 39.9914, 39.9914, 40.5662, 38.9757, 38.9757, 38.9757, 38.9757, 38.9757, 38.9757, 38.9757, 38.9757, 38.9757, 38.9757, 48.2777, 48.2777, 48.2777, 48.2777, 48.2777, 48.2777, 48.2777, 48.2777, 34.6323, 34.6323, 48.2777, 48.2777, 48.2777, 34.6323, 34.6323, 34.6323, 34.6323, 34.6323, 34.6323, 34.6323, 34.6323], \"locationmode\": \"USA-states\", \"lon\": [-102.7413, -90.3508, -90.3508, -90.9027, -102.7413, -80.4031, -90.9027, -90.9027, -90.9027, -90.3508, -90.9027, -80.4031, -90.9027, -80.4031, -90.9027, -80.4031, -80.4031, -80.4031, -90.9027, -80.4031, -80.4031, -80.4031, -78.6847, -78.6847, -78.6847, -78.6847, -78.6847, -78.6847, -78.6847, -67.9503, -78.6847, -78.6847, -78.6847, -67.9503, -78.6847, -67.9503, -67.9503, -67.9503, -67.9503, -67.9503, -67.9503, -78.6847, -85.9246, -85.9246, -85.9246, -87.4569, -85.9246, -85.9246, -85.9246, -85.9246, -87.4569, -87.4569, -87.4569, -98.5534, -87.4569, -87.4569, -87.4569, -87.4569, -98.5534, -87.4569, -98.5534, -98.5534, -85.9246, -85.9246, -85.9246, -81.5488, -98.5534, -81.5488, -81.5488, -98.5534, -81.5488, -98.5534, -81.5488, -85.7476, -91.9932, -81.5488, -91.9932, -74.9942, -85.7476, -74.9942, -91.9932, -85.7476, -85.7476, -74.9942, -91.9932, -74.9942, -91.9932, -81.4552, -85.7476, -91.9932, -85.7476, -91.9932, -81.5488, -81.5488, -81.5488, -122.0107, -85.7476, -74.9942, -85.7476, -122.0107, -91.9932, -91.9932, -81.4552, -122.0107, -81.4552, -91.9932, -122.0107, -74.9942, -122.0107, -122.0107, -81.4552, -74.9942, -74.9942, -122.0107, -81.4552, -91.9932, -91.9932, -85.7476, -122.0107, -74.9942, -74.9942, -74.9942, -122.0107, -91.9932, -81.4552, -85.7476, -74.9942, -74.9942, -85.7476, -91.9932, -74.9942, -74.9942, -85.7476, -122.0107, -122.0107, -105.0044, -105.0044, -94.1658, -94.1658, -78.1762, -78.1762, -94.1658, -78.1762, -78.1762, -94.1658, -78.1762, -94.1658, -78.1762, -94.1658, -94.1658, -94.1658, -78.1762, -78.1762, -78.1762, -81.5324, -81.5324, -81.5324, -81.5324, -78.1762, -78.1762, -78.1762, -105.2099, -81.5324, -81.5324, -81.5324, -105.2099, -81.5324, -81.5324, -81.5324, -81.5324, -105.2099, -81.5324, -81.5324, -81.5324, -81.5324, -105.2099, -78.6476, -78.6476, -78.6476, -105.2099, -105.2099, -105.2099, -105.2099, -78.6476, -105.2099, -78.6476, -78.6476, -78.6476, -105.2099, -78.6476, -78.6476, -101.1546, -101.1546, -101.1546, -78.6476, -78.6476, -78.6476, -101.1546, -101.1546, -77.4193, -101.1546, -101.1546, -101.1546, -77.4193, -101.1546, -77.4193, -77.4193, -101.1546, -101.1546, -77.4193, -77.4193, -77.4193, -77.4193, -77.4193, -77.4193, -96.7456, -96.7456, -96.7456, -73.3611, -73.3611, -96.7456, -96.7456, -73.3611, -73.3611, -81.7334, -73.3611, -96.7456, -81.7334, -73.3611, -73.3611, -73.3611, -96.7456, -73.3611, -81.7334, -96.7456, -90.8578, -90.8578, -96.7456, -90.8578, -90.8578, -96.7456, -96.7456, -96.7456, -96.7456, -93.4252, -93.4252, -90.8578, -90.8578, -77.3083, -90.8578, -90.8578, -90.8578, -93.4252, -77.3083, -90.8578, -93.4252, -90.8578, -90.8578, -77.3083, -93.4252, -93.4252, -77.3083, -77.3083, -93.9757, -77.3083, -77.3083, -93.9757, -77.3083, -93.4252, -93.4252, -93.9757, -93.4252, -77.3083, -91.0294, -91.0294, -91.0294, -91.0294, -91.0294, -91.0294, -91.0294, -91.0294, -93.9196, -81.1781, -81.1781, -81.1781, -93.9196, -108.9082, -93.9196, -93.9196, -108.9082, -93.9196, -93.9196, -108.9082, -93.9196, -81.1781, -108.9082, -88.2196, -108.9082, -88.2196, -81.1781, -93.9196, -88.2196, -81.1781, -108.9082, -81.1781, -108.9082, -88.2196, -108.9082, -93.9196, -81.1781, -108.9082, -88.2196, -88.2196, -81.1781, -108.9082, -79.4629, -93.9196, -93.9196, -79.4629, -108.9082, -81.1781, -108.9082, -81.1781, -79.4629, -88.2196, -122.6616, -122.6616, -79.4629, -88.2196, -155.488, -122.6847, -79.4629, -79.4629, -79.4629, -79.4629, -79.4629, -79.4629, -79.4629, -79.4629, -88.2196, -155.488, -155.488, -122.6847, -155.488, -79.4629, -88.2196, -88.2196, -122.6847, -155.488, -88.2196, -122.6847, -122.6847, -122.6847, -86.5246, -122.6616, -122.6847, -86.5246, -86.5246, -155.488, -155.488, -86.5246, -155.488, -86.5246, -86.5246, -86.5246, -155.488, -86.5246, -86.5246, -86.5246, -122.7033, -122.7033, -86.5246, -122.7033, -122.7033, -122.7033, -86.5246, -86.5246, -122.7033, -122.7033, -86.5246, -122.7033, -76.195, -76.195, -122.7033, -76.195, -122.7033, -76.195, -122.7033, -76.195, -122.7033, -76.195, -76.195, -76.195, -76.195, -76.195, -76.195, -89.8219, -89.8219, -89.8219, -89.8219, -96.3398, -89.8219, -96.3398, -89.8219, -89.8219, -96.3398, -89.8219, -96.3398, -96.3398, -89.8219, -89.8219, -89.8219, -89.8219, -87.8286, -96.3398, -85.6067, -96.3398, -87.8286, -87.8286, -87.8286, -87.8286, -85.6067, -87.8286, -85.6067, -85.6067, -87.8286, -87.8286, -87.8286, -85.6067, -87.8286, -90.9879, -77.1802, -90.9879, -90.9879, -118.4924, -77.1802, -118.4924, -90.9879, -90.9879, -77.1802, -77.1802, -118.4924, -77.1802, -118.4924, -90.9879, -90.9879, -77.1802, -90.9879, -118.4924, -77.1802, -118.4924, -118.4924, -118.4924, -118.4924, -86.6285, -86.6285, -86.6285, -86.6285, -86.6285, -97.2092, -97.2092, -97.2092, -97.2092, -97.2092, -97.2092, -97.2092, -97.2092, -86.6285, -86.6285, -97.2092, -97.2092, -97.2092, -97.2092, -86.6285, -86.6285, -86.1938, -97.2092, -86.1938, -86.1938, -76.6681, -87.1332, -97.2092, -76.6681, -97.2092, -86.1938, -87.1332, -87.1332, -86.1938, -97.2092, -76.6681, -86.1938, -87.1332, -86.1938, -72.2879, -76.6681, -76.6681, -86.1938, -87.1332, -87.1332, -86.1938, -87.1332, -87.1332, -76.6681, -87.1332, -87.1332, -87.1332, -87.1332, -86.1938, -86.1938, -87.1332, -87.1332, -86.1938, -87.7644, -87.1332, -87.7644, -72.2879, -72.2879, -72.2879, -76.6681, -87.7644, -87.1332, -86.1938, -86.1938, -88.3282, -87.7644, -88.3282, -87.7644, -88.3282, -87.7644, -88.3282, -87.7644, -81.8074, -96.2238, -81.8074, -96.2238, -96.2238, -88.3282, -81.8074, -96.2238, -96.2238, -96.2238, -88.3282, -81.8074, -88.3282, -74.4968, -96.2238, -74.4968, -88.3282, -101.136, -74.4968, -81.8074, -96.2238, -96.2238, -96.727, -96.2238, -96.727, -96.2238, -81.8074, -96.727, -81.8074, -81.8074, -74.4968, -96.2238, -96.727, -74.4968, -74.4968, -96.2238, -74.4968, -96.727, -81.8074, -81.8074, -96.727, -96.727, -74.4968, -101.136, -81.8074, -96.2238, -81.8074, -74.4968, -96.727, -101.136, -101.136, -101.136, -101.136, -74.4968, -96.2238, -86.2296, -93.6719, -101.136, -96.727, -101.136, -101.136, -101.136, -86.2296, -96.727, -86.2296, -86.2296, -96.727, -96.727, -96.727, -86.2296, -101.136, -93.6719, -93.6719, -93.6719, -93.6719, -93.6719, -93.6719, -101.136, -96.727, -101.136, -101.136, -101.136, -86.2296, -86.2296, -93.6719, -93.6719, -86.2296, -86.2296, -86.2296, -93.6719, -93.6719, -93.6719, -97.2893, -97.2893, -97.2893, -97.2893, -97.2893, -97.2893, -97.2893, -97.2893, -97.2893, -91.4867, -91.4867, -91.4867, -85.8138, -97.2893, -91.4867, -91.4867, -97.2893, -85.0638, -91.4867, -85.0638, -85.0638, -85.8138, -85.8138, -85.0638, -91.4867, -85.8138, -97.2893, -85.0638, -91.4867, -85.8138, -91.4867, -91.4867, -100.7944, -85.8138, -91.4867, -100.7944, -98.9836, -100.7944, -91.4867, -100.7944, -85.8138, -91.4867, -85.8138, -85.0638, -100.7944, -85.8138, -100.7944, -85.0638, -104.7024, -83.2474, -98.9836, -98.9836, -100.7944, -100.7944, -98.9836, -104.7024, -98.9836, -98.9836, -98.9836, -98.9836, -104.7024, -100.7944, -100.7944, -104.7024, -100.7944, -104.7024, -104.7024, -83.2474, -83.2474, -104.7024, -96.5232, -96.5232, -96.5232, -96.5232, -96.5232, -96.5232, -96.5232, -96.5232, -82.2027, -82.2027, -82.2027, -82.2027, -82.2027, -82.2027, -82.2027, -82.2027, -82.2027, -82.2027, -82.2027, -82.2027, -82.2027, -82.2027, -82.2027, -82.2027, -80.9701, -80.9701, -73.9767, -73.0449, -73.0449, -73.0449, -73.0449, -80.9701, -73.0449, -73.9767, -73.0449, -73.9767, -73.9767, -73.0449, -73.9767, -73.9767, -73.9767, -80.9701, -73.0449, -73.0449, -73.0449, -73.0449, -73.9767, -73.0449, -73.9767, -73.0449, -73.9767, -73.9767, -73.9767, -73.0449, -73.9767, -73.0449, -79.4545, -91.8912, -91.8912, -91.8912, -91.8912, -91.8912, -91.8912, -96.6184, -79.4545, -96.6184, -91.8912, -79.4545, -79.4545, -91.8912, -79.4545, -79.4545, -79.4545, -91.8912, -91.8912, -79.4545, -91.8912, -79.7853, -104.0914, -104.0914, -79.4736, -79.7853, -104.0914, -104.0914, -79.4736, -104.0914, -79.7853, -104.0914, -79.7853, -79.7853, -79.4736, -79.4736, -79.7853, -104.0914, -79.7853, -79.7853, -79.7856, -79.7856, -79.7853, -79.7856, -89.2706, -89.2706, -79.7856, -79.4736, -79.7856, -104.0914, -79.7853, -89.2706, -79.4736, -89.2706, -89.2706, -104.0914, -89.2706, -104.0914, -79.7856, -79.7856, -79.7856, -79.7853, -79.4736, -104.0914, -89.2706, -122.9685, -89.2706, -79.7856, -79.7856, -89.1101, -79.7856, -122.9685, -89.1101, -89.1101, -89.2706, -89.1101, -89.2706, -79.7856, -79.7856, -122.9685, -122.9685, -76.5515, -122.9685, -76.5515, -89.1101, -89.1101, -122.9685, -122.9685, -76.5515, -89.1101, -122.9685, -78.5615, -122.9685, -76.5515, -89.1101, -78.5615, -78.5615, -76.5515, -89.1101, -76.5515, -78.5615, -78.5615, -76.5515, -76.5515, -76.5515, -78.5615, -78.5615, -76.5515, -76.5515, -76.5515, -93.8482, -93.8482, -93.8482, -93.8482, -93.8482, -93.8482, -93.8482, -93.8482, -93.8482, -93.8482, -86.9657, -86.9657, -77.0997, -77.0997, -77.0997, -77.0997, -77.0997, -77.0997, -77.0997, -77.0997, -86.9657, -86.9657, -77.0997, -86.9657, -82.1982, -86.9657, -77.0997, -86.9657, -77.0997, -86.9657, -77.0997, -82.1982, -82.1982, -82.1982, -82.1982, -82.1982, -82.1982, -82.1982, -86.859, -84.7373, -84.4854, -86.859, -86.859, -84.7373, -84.4854, -84.7373, -91.1468, -84.4854, -84.4854, -84.4854, -86.859, -84.7373, -86.859, -84.4854, -84.4854, -84.7373, -84.4854, -74.1038, -84.7373, -91.1468, -84.7373, -84.4854, -86.859, -86.859, -74.1038, -74.1038, -84.7373, -91.1468, -91.1468, -91.1468, -84.7373, -86.859, -86.859, -74.1038, -86.859, -84.4854, -86.859, -74.1038, -84.4854, -84.7373, -116.4306, -74.1038, -74.1038, -74.1038, -74.1038, -74.1038, -74.1038, -74.1038, -116.4306, -74.1038, -74.1038, -74.1038, -89.5518, -116.4306, -94.5566, -116.4306, -116.4306, -94.5566, -94.5566, -89.5518, -94.5566, -94.5566, -94.5566, -94.5566, -94.5566, -94.5566, -89.5518, -83.2095, -89.5518, -83.2095, -89.5518, -83.2095, -89.5518, -83.2095, -83.2095, -94.5566, -83.2095, -83.2095, -89.5518, -94.5566, -94.5566, -83.2095, -83.2095, -83.2095, -73.9809, -83.2095, -83.2095, -83.2095, -73.9809, -73.9809, -73.9809, -73.9809, -94.3871, -94.3871, -94.3871, -94.3871, -94.3871, -73.9809, -73.9809, -73.9809, -73.9809, -94.3871, -94.3871, -94.3871, -94.3871, -94.3871, -94.3871, -94.3871, -77.6871, -77.6871, -77.6871, -77.6871, -77.6871, -77.6871, -77.6871, -77.6871, -95.2138, -95.2138, -95.2138, -77.6871, -95.2138, -95.2138, -77.6871, -77.6871, -95.2138, -95.2138, -95.2138, -95.2138, -95.2138, -95.2138, -95.2138, -95.2138, -95.2138, -95.2138, -85.8784, -85.8784, -85.8784, -85.8784, -85.8784, -85.8784, -118.0231, -73.2913, -118.0231, -73.2913, -73.2913, -118.0231, -85.8784, -118.0231, -85.8784, -118.0231, -118.0231, -118.0231, -73.2913, -79.1895, -73.2913, -73.2913, -73.2913, -118.0231, -73.2913, -79.1895, -73.2913, -118.0231, -79.1895, -73.2913, -118.0231, -73.2913, -118.0231, -79.1895, -79.1895, -79.1895, -79.1895, -79.1895, -79.1895, -79.1895, -79.1895, -81.2473, -81.2473, -97.4798, -97.4798, -97.4798, -81.2473, -97.4798, -90.1293, -97.4798, -90.1293, -97.4798, -97.4798, -97.4798, -90.1293, -90.1293, -97.4798, -97.4798, -90.1293, -91.0391, -83.2911, -90.1293, -83.2911, -83.2911, -90.1293, -91.0391, -75.7967, -83.2911, -90.1293, -75.7967, -75.7967, -91.0391, -91.0391, -75.7967, -91.0391, -75.7967, -91.0391, -75.7967, -75.7967, -83.2911, -83.2911, -91.0391, -105.6933, -83.2911, -83.2911, -91.0391, -83.2911, -75.7967, -91.0391, -91.0391, -91.0391, -75.7967, -105.6933, -75.7967, -91.0391, -105.6933, -91.0391, -75.7967, -91.0391, -83.2911, -83.2911, -91.0391, -75.7967, -83.2911, -73.1, -105.6933, -105.6933, -105.6933, -105.6933, -73.1, -93.9221, -93.9221, -93.9221, -73.1, -105.6933, -93.9221, -93.9221, -105.6933, -73.1, -105.6933, -73.1, -73.1, -117.9031, -117.9031, -73.1, -73.1, -117.9031, -108.351, -96.743, -117.9031, -117.9031, -117.9031, -117.9031, -96.743, -96.743, -108.351, -96.743, -108.351, -117.9031, -108.351, -96.743, -117.9031, -117.9031, -108.351, -108.351, -117.9031, -96.743, -84.5076, -96.743, -96.743, -108.351, -108.351, -84.5076, -96.743, -108.351, -96.743, -96.743, -96.743, -84.5076, -108.351, -84.5076, -84.5076, -84.5076, -105.4781, -84.5076, -84.5076, -84.5076, -84.5076, -105.4781, -97.1825, -97.1825, -97.1825, -97.1825, -97.1825, -97.1825, -97.1825, -97.1825, -97.1825, -97.1825, -97.1825, -97.1825, -108.3961, -108.3961, -108.3961, -108.3961, -108.3961, -108.3961, -93.9359, -93.9359, -108.3961, -75.6605, -75.6605, -108.3961, -75.6605, -108.3961, -108.3961, -108.3961, -93.9359, -75.6605, -108.3961, -108.3961, -108.3961, -73.5873, -90.8435, -73.5873, -73.5873, -83.3772, -75.6605, -88.6962, -75.6605, -73.5873, -83.3772, -90.8435, -73.5873, -83.3772, -75.6605, -93.9359, -93.9359, -83.3772, -75.6605, -75.6605, -93.9359, -75.6605, -90.8435, -90.8435, -83.3772, -83.3772, -88.6962, -93.9359, -75.6605, -93.9359, -83.3772, -93.9359, -75.6605, -90.8435, -83.3772, -88.6962, -83.3772, -73.5873, -93.9359, -75.6605, -83.3772, -88.6962, -73.5873, -83.3772, -73.5873, -73.5873, -88.6962, -88.6962, -83.3772, -90.8435, -90.8435, -73.5873, -73.5873, -90.8435, -88.6962, -88.6962, -88.6962, -88.6962, -90.8435, -98.5673, -73.5873, -73.5873, -88.6962, -88.6962, -73.5873, -98.5673, -88.6962, -98.5673, -98.5673, -73.5873, -73.5873, -98.5673, -98.5673, -96.6012, -79.1605, -98.5673, -79.1605, -96.6012, -79.1605, -96.6012, -79.1605, -98.5673, -98.5673, -79.1605, -79.1605, -79.1605, -96.6012, -96.6012, -79.1605, -94.4064, -96.6012, -94.4064, -81.4312, -96.6012, -79.1605, -94.4064, -94.4064, -94.4064, -81.4312, -79.1605, -94.4064, -81.4312, -94.4064, -94.4064, -94.4064, -94.4064, -81.4312, -94.4064, -81.4312, -81.4312, -94.4064, -81.4312, -81.4312, -94.4064, -94.4064, -94.4064, -84.9885, -84.9885, -84.9885, -84.9885, -84.9885, -116.5567, -116.5567, -84.9885, -84.9885, -116.5567, -116.5567, -105.6648, -81.9916, -105.6648, -81.9916, -116.5567, -116.5567, -105.6648, -105.6648, -105.6648, -81.9916, -105.6648, -116.5567, -81.9916, -116.5567, -81.9916, -81.9916, -81.9916, -81.9916, -81.9916, -81.9916, -105.6648, -105.6648, -81.9916, -81.9916, -96.798, -96.798, -96.798, -96.798, -96.798, -96.798, -94.0259, -112.1202, -112.1202, -96.798, -96.798, -96.798, -94.0259, -94.0259, -96.798, -94.0259, -94.0259, -112.1202, -112.1202, -94.0259, -94.0259, -112.1202, -94.0259, -94.0259, -112.1202, -112.1202, -112.1202, -94.0259, -94.7547, -94.0259, -94.7547, -112.1202, -112.1202, -73.3309, -112.1202, -73.3309, -94.0259, -112.1202, -73.3309, -94.0259, -112.1202, -112.1202, -94.7547, -94.7547, -94.7547, -94.7547, -94.0259, -94.7547, -112.1202, -94.7547, -85.7192, -94.7547, -73.3309, -73.3309, -73.3309, -87.2602, -73.3309, -94.7547, -94.7547, -87.2602, -73.3309, -85.7192, -94.7547, -87.2602, -73.3309, -94.7547, -87.2602, -87.2602, -87.2602, -73.3309, -85.7192, -77.2818, -98.7388, -85.7192, -87.2602, -85.7192, -87.2602, -85.7192, -87.2602, -85.7192, -77.2818, -77.2818, -85.7192, -85.7192, -87.2602, -98.7388, -98.7388, -111.9565, -98.7388, -98.7388, -98.7388, -111.9565, -111.9565, -111.9565, -77.2818, -77.2818, -111.9565, -111.9565, -77.2818, -98.7388, -111.9565, -98.7388, -98.7388, -111.9565, -77.2818, -111.9565, -111.9565, -111.9565, -111.9565, -71.7205, -71.7205, -71.7205, -71.7205, -71.7205, -71.7205, -71.7205, -71.7205, -71.7205, -74.0436, -74.0436, -88.9655, -97.6666, -97.6666, -122.275, -122.275, -122.275, -122.275, -122.275, -74.0436, -74.0436, -97.6666, -74.0436, -97.6666, -97.6666, -88.9655, -122.275, -122.275, -74.0436, -74.0436, -97.6666, -97.6666, -97.6666, -91.2268, -74.0436, -97.6666, -88.9655, -88.9655, -88.9655, -91.2268, -97.6666, -97.6666, -88.9655, -74.0436, -97.6666, -91.2268, -122.275, -74.0436, -91.2268, -97.6666, -91.2268, -122.275, -97.6666, -97.6666, -97.6666, -91.2268, -97.6666, -88.9655, -74.0436, -97.6666, -88.9655, -97.6666, -72.0275, -72.0275, -72.0275, -72.0275, -72.0275, -84.3246, -72.0275, -72.0275, -84.3246, -84.3246, -84.3246, -84.3246, -84.3246, -72.0275, -81.0425, -81.0425, -84.3246, -84.3246, -84.3246, -81.0425, -81.0425, -81.0425, -81.0425, -88.0935, -88.0935, -88.0935, -88.0935, -71.9934, -88.0935, -88.0935, -97.436, -71.9934, -97.436, -88.0935, -71.9934, -97.436, -97.436, -71.9934, -97.436, -71.9934, -71.9934, -71.9934, -71.9934, -71.9934, -71.9934, -71.9934, -97.436, -71.9934, -97.436, -71.9934, -97.436, -71.9934, -97.436, -74.8776, -74.8776, -74.8776, -74.8776, -75.4838, -74.8776, -75.4838, -74.8776, -74.8776, -74.8776, -75.4838, -74.8776, -74.8536, -74.8536, -75.4838, -74.8536, -90.2796, -74.8536, -90.2796, -74.8536, -90.2796, -74.8536, -90.2796, -90.2796, -74.8536, -90.2796, -90.2796, -75.4838, -74.8536, -112.262, -74.8536, -74.8536, -74.8536, -90.2796, -74.8536, -90.2796, -90.2796, -112.262, -74.8536, -90.2796, -100.4112, -74.8536, -100.4112, -112.262, -74.8536, -90.2796, -100.4112, -100.4112, -112.262, -112.262, -112.262, -112.262, -112.262, -100.4112, -100.4112, -121.8686, -121.8686, -121.8686, -121.8686, -121.8686, -95.2739, -121.8686, -95.2739, -121.8686, -95.2739, -95.2739, -95.2739, -77.1575, -95.2739, -121.8686, -95.2739, -95.2739, -77.1575, -77.1575, -95.2739, -95.2739, -77.1575, -92.3763, -95.2739, -101.5277, -92.3763, -101.5277, -101.5277, -92.3763, -92.3763, -101.5277, -101.5277, -101.5277, -101.5277, -101.5277, -92.3763, -101.5277, -101.5277, -101.5277, -101.5277, -88.9597, -84.4695, -84.4695, -84.4695, -84.4695, -88.9597, -88.9597, -84.4695, -88.9597, -84.4695, -88.9597, -86.1723, -86.1723, -88.9597, -88.9597, -86.1723, -86.1723, -86.1723, -84.4695, -86.1723, -88.9597, -86.1723, -86.1723, -86.1723, -86.1723, -86.1723, -86.1723, -78.2638, -78.2638, -78.2638, -78.2638, -78.2638, -78.2638, -78.2638, -78.2638, -78.2638, -78.2638, -78.2638, -78.2638, -82.7251, -85.3244, -85.3244, -85.3244, -85.3244, -82.7251, -82.7251, -82.7251, -82.7251, -85.3244, -85.3244, -80.1752, -82.7251, -85.3244, -85.3244, -80.1752, -80.1752, -85.3244, -80.1752, -80.1752, -82.7251, -80.1752, -80.1752, -80.1752, -80.1752, -73.7395, -80.1752, -116.868, -73.7395, -116.868, -80.1752, -73.7395, -116.868, -116.868, -80.1752, -73.7395, -80.1752, -80.1752, -80.1752, -116.868, -116.868, -80.1752, -116.868, -80.1752, -80.1752, -73.7395, -116.868, -73.7395, -73.7395, -73.7395, -73.7395, -116.868, -82.9938, -82.9938, -82.9938, -82.9938, -95.9685, -82.9938, -82.9938, -95.9685, -95.9685, -82.9938, -95.9685, -95.9685, -95.9685, -95.9685, -95.9685, -71.48899999999998, -71.48899999999998, -71.48899999999998, -71.48899999999998, -71.48899999999998, -76.6145, -71.48899999999998, -122.7624, -71.48899999999998, -122.7624, -71.48899999999998, -122.7624, -122.7624, -71.48899999999998, -76.6145, -76.6145, -71.48899999999998, -122.7624, -87.8235, -122.7624, -89.1534, -122.7624, -89.1534, -87.8235, -76.6145, -89.1534, -87.8235, -122.7624, -122.7624, -89.1534, -89.1534, -87.8235, -122.7624, -122.7624, -76.6145, -71.48899999999998, -76.6145, -76.6145, -87.8235, -87.8235, -87.8235, -122.7624, -89.1534, -89.1534, -71.48899999999998, -87.8235, -90.1207, -90.1207, -85.4082, -85.4082, -89.1534, -87.8235, -89.1534, -90.1207, -89.1534, -90.1207, -85.4082, -90.1207, -85.4082, -90.1207, -85.4082, -85.4082, -89.1534, -85.4082, -89.1534, -85.4082, -90.1207, -85.4082, -90.1207, -90.1207, -90.1207, -85.4082, -90.1207, -85.4082, -85.4082, -85.4082, -85.4082, -94.118, -77.7364, -77.7364, -77.7364, -94.118, -77.7364, -94.118, -94.118, -94.118, -94.118, -94.118, -133.1171, -94.118, -94.118, -133.1171, -77.7364, -133.1171, -77.7364, -133.1171, -133.1171, -133.1171, -77.7364, -133.1171, -133.1171, -133.1171, -133.1171, -94.118, -133.1171, -133.1171, -133.1171, -133.1171, -118.2322, -118.2105, -118.2322, -118.2322, -118.2105, -118.2105, -118.2322, -118.2322, -81.8024, -81.8024, -118.2105, -118.2322, -118.2105, -76.4954, -118.2322, -118.2322, -76.4954, -76.4954, -118.2105, -118.2105, -81.8024, -118.2322, -76.4954, -76.4954, -81.8024, -81.8024, -75.6664, -81.8024, -75.6664, -75.6664, -81.8024, -81.8024, -81.8024, -76.4954, -76.4954, -76.4954, -87.6692, -75.6664, -75.6664, -81.8024, -87.6692, -75.6664, -87.6692, -87.6692, -75.6664, -75.6664, -87.6692, -87.6692, -75.6664, -75.6664, -87.6692, -123.9743, -83.8067, -123.9743, -123.9743, -90.5142, -90.5142, -80.8191, -123.9743, -90.5142, -123.9743, -90.5142, -80.8191, -90.5142, -123.9743, -90.5142, -90.5142, -123.9743, -123.9743, -90.5142, -83.8067, -90.5142, -90.5142, -123.9743, -80.8191, -80.8191, -90.5142, -83.8067, -80.8191, -123.9743, -80.8191, -90.5142, -83.8067, -83.8067, -90.5142, -123.9743, -80.8191, -123.9743, -123.9743, -123.9743, -80.8191, -80.8191, -123.9743, -80.8191, -122.9328, -122.9328, -122.9328, -122.9328, -91.9534, -78.2357, -91.9534, -122.9328, -122.9328, -91.9534, -122.9328, -91.9534, -91.9534, -91.9534, -122.9328, -122.9328, -91.9534, -122.9328, -91.9534, -78.2357, -91.9534, -122.9328, -122.9328, -122.9328, -78.2357, -97.2607, -78.2357, -91.9534, -78.2357, -97.2607, -97.2607, -91.9534, -78.2357, -97.2607, -91.9534, -91.9534, -97.2607, -97.2607, -97.2607, -97.2607, -78.2357, -91.9534, -97.2607, -97.2607, -90.3706, -97.2607, -90.3706, -70.23899999999999, -70.23899999999999, -97.2607, -70.23899999999999, -70.23899999999999, -97.2607, -92.7442, -90.3706, -92.7442, -92.7442, -90.3706, -70.23899999999999, -70.23899999999999, -70.23899999999999, -90.3706, -92.7442, -92.7442, -92.7442, -73.9511, -92.7442, -73.9511, -73.9511, -92.7442, -73.9511, -92.7442, -73.9511, -73.9511, -92.7442, -73.9511, -73.9511, -80.4408, -73.9511, -80.4408, -80.2099, -73.9511, -80.4408, -80.4408, -73.9511, -80.2099, -73.9511, -80.2099, -80.4408, -80.4408, -80.2099, -80.2099, -80.2099, -80.4408, -80.4408, -80.2099, -80.2099, -80.2099, -80.2099, -80.4408, -80.4408, -80.2099, -77.0282, -77.0282, -77.0282, -77.0282, -77.0282, -77.0282, -77.0282, -77.0282, -77.0282, -77.0282, -112.8456, -112.8456, -112.8456, -112.8456, -112.8456, -112.8456, -112.8456, -112.8456, -89.8855, -89.8855, -112.8456, -112.8456, -112.8456, -89.8855, -89.8855, -89.8855, -89.8855, -89.8855, -89.8855, -89.8855, -89.8855], \"marker\": {\"color\": [1, 1, 1, 1, 1, 1, 1, 1, 1, 1, 1, 1, 1, 1, 1, 1, 1, 1, 1, 1, 1, 1, 1, 1, 1, 1, 1, 1, 1, 1, 1, 1, 1, 1, 1, 1, 1, 1, 1, 1, 1, 1, 1, 1, 1, 1, 1, 1, 1, 1, 1, 1, 1, 1, 1, 1, 1, 1, 1, 1, 1, 1, 1, 1, 1, 1, 1, 1, 1, 1, 1, 1, 1, 1, 1, 1, 1, 1, 1, 1, 1, 1, 1, 1, 1, 1, 1, 1, 1, 1, 1, 1, 1, 1, 1, 1, 1, 1, 1, 1, 1, 1, 1, 1, 1, 1, 1, 1, 1, 1, 1, 1, 1, 1, 1, 1, 1, 1, 1, 1, 1, 1, 1, 1, 1, 1, 1, 1, 1, 1, 1, 1, 1, 1, 1, 1, 1, 1, 1, 1, 1, 1, 1, 1, 1, 1, 1, 1, 1, 1, 1, 1, 1, 1, 1, 1, 1, 1, 1, 1, 1, 1, 1, 1, 1, 1, 1, 1, 1, 1, 1, 1, 1, 1, 1, 1, 1, 1, 1, 1, 1, 1, 1, 1, 1, 1, 1, 1, 1, 1, 1, 1, 1, 1, 1, 1, 1, 1, 1, 1, 1, 1, 1, 1, 1, 1, 1, 1, 1, 1, 1, 1, 1, 1, 1, 1, 1, 1, 1, 1, 1, 1, 1, 1, 1, 1, 1, 1, 1, 1, 1, 1, 1, 1, 1, 1, 1, 1, 1, 1, 1, 1, 1, 1, 1, 1, 1, 1, 1, 1, 1, 1, 1, 1, 1, 1, 1, 1, 1, 1, 1, 1, 1, 1, 1, 1, 1, 1, 1, 1, 1, 1, 1, 1, 1, 1, 1, 1, 1, 1, 1, 1, 1, 1, 1, 1, 1, 1, 1, 1, 1, 1, 1, 1, 1, 1, 1, 1, 1, 1, 1, 1, 1, 1, 1, 1, 1, 1, 1, 1, 1, 1, 1, 1, 1, 1, 1, 1, 1, 1, 1, 1, 1, 1, 1, 1, 1, 1, 1, 1, 1, 1, 1, 1, 1, 1, 1, 1, 1, 1, 1, 1, 1, 1, 1, 1, 1, 1, 1, 1, 1, 1, 1, 1, 1, 1, 1, 1, 1, 1, 1, 1, 1, 1, 1, 1, 1, 1, 1, 1, 1, 1, 1, 1, 1, 1, 1, 1, 1, 1, 1, 1, 1, 1, 1, 1, 1, 1, 1, 1, 1, 1, 1, 1, 1, 1, 1, 1, 1, 1, 1, 1, 1, 1, 1, 1, 1, 1, 1, 1, 1, 1, 1, 1, 1, 1, 1, 1, 1, 1, 1, 1, 1, 1, 1, 1, 1, 1, 1, 1, 1, 1, 1, 1, 1, 1, 1, 1, 1, 1, 1, 1, 1, 1, 1, 1, 1, 1, 1, 1, 1, 1, 1, 1, 1, 1, 1, 1, 1, 1, 1, 1, 1, 1, 1, 1, 1, 1, 1, 1, 1, 1, 1, 1, 1, 1, 1, 1, 1, 1, 1, 1, 1, 1, 1, 1, 1, 1, 1, 1, 1, 1, 1, 1, 1, 1, 1, 1, 1, 1, 1, 1, 1, 1, 1, 1, 1, 1, 1, 1, 1, 1, 1, 1, 1, 1, 1, 1, 1, 1, 1, 1, 1, 1, 1, 1, 1, 1, 1, 1, 1, 1, 1, 1, 1, 1, 1, 1, 1, 1, 1, 1, 1, 1, 1, 1, 1, 1, 1, 1, 1, 1, 1, 1, 1, 1, 1, 1, 1, 1, 1, 1, 1, 1, 1, 1, 1, 1, 1, 1, 1, 1, 1, 1, 1, 1, 1, 1, 1, 1, 1, 1, 1, 1, 1, 1, 1, 1, 1, 1, 1, 1, 1, 1, 1, 1, 1, 1, 1, 1, 1, 1, 1, 1, 1, 1, 1, 1, 1, 1, 1, 1, 1, 1, 1, 1, 1, 1, 1, 1, 1, 1, 1, 1, 1, 1, 1, 1, 1, 1, 1, 1, 1, 1, 1, 1, 1, 1, 1, 1, 1, 1, 1, 1, 1, 1, 1, 1, 1, 1, 1, 1, 1, 1, 1, 1, 1, 1, 1, 1, 1, 1, 1, 1, 1, 1, 1, 1, 1, 1, 1, 1, 1, 1, 1, 1, 1, 1, 1, 1, 1, 1, 1, 1, 1, 1, 1, 1, 1, 1, 1, 1, 1, 1, 1, 1, 1, 1, 1, 1, 1, 1, 1, 1, 1, 1, 1, 1, 1, 1, 1, 1, 1, 1, 1, 1, 1, 1, 1, 1, 1, 1, 1, 1, 1, 1, 1, 1, 1, 1, 1, 1, 1, 1, 1, 1, 1, 1, 1, 1, 1, 1, 1, 1, 1, 1, 1, 1, 1, 1, 1, 1, 1, 1, 1, 1, 1, 1, 1, 1, 1, 1, 1, 1, 1, 1, 1, 1, 1, 1, 1, 1, 1, 1, 1, 1, 1, 1, 1, 1, 1, 1, 1, 1, 1, 1, 1, 1, 1, 1, 1, 1, 1, 1, 1, 1, 1, 1, 1, 1, 1, 1, 1, 1, 1, 1, 1, 1, 1, 1, 1, 1, 1, 1, 1, 1, 1, 1, 1, 1, 1, 1, 1, 1, 1, 1, 1, 1, 1, 1, 1, 1, 1, 1, 1, 1, 1, 1, 1, 1, 1, 1, 1, 1, 1, 1, 1, 1, 1, 1, 1, 1, 1, 1, 1, 1, 1, 1, 1, 1, 1, 1, 1, 1, 1, 1, 1, 1, 1, 1, 1, 1, 1, 1, 1, 1, 1, 1, 1, 1, 1, 1, 1, 1, 1, 1, 1, 1, 1, 1, 1, 1, 1, 1, 1, 1, 1, 1, 1, 1, 1, 1, 1, 1, 1, 1, 1, 1, 1, 1, 1, 1, 1, 1, 1, 1, 1, 1, 1, 1, 1, 1, 1, 1, 1, 1, 1, 1, 1, 1, 1, 1, 1, 1, 1, 1, 1, 1, 1, 1, 1, 1, 1, 1, 1, 1, 1, 1, 1, 1, 1, 1, 1, 1, 1, 1, 1, 1, 1, 1, 1, 1, 1, 1, 1, 1, 1, 1, 1, 1, 1, 1, 1, 1, 1, 1, 1, 1, 1, 1, 1, 1, 1, 1, 1, 1, 1, 1, 1, 1, 1, 1, 1, 1, 1, 1, 1, 1, 1, 1, 1, 1, 1, 1, 1, 1, 1, 1, 1, 1, 1, 1, 1, 1, 1, 1, 1, 1, 1, 1, 1, 1, 1, 1, 1, 1, 1, 1, 1, 1, 1, 1, 1, 1, 1, 1, 1, 1, 1, 1, 1, 1, 1, 1, 1, 1, 1, 1, 1, 1, 1, 1, 1, 1, 1, 1, 1, 1, 1, 1, 1, 1, 1, 1, 1, 1, 1, 1, 1, 1, 1, 1, 1, 1, 1, 1, 1, 1, 1, 1, 1, 1, 1, 1, 1, 1, 1, 1, 1, 1, 1, 1, 1, 1, 1, 1, 1, 1, 1, 1, 1, 1, 1, 1, 1, 1, 1, 1, 1, 1, 1, 1, 1, 1, 1, 1, 1, 1, 1, 1, 1, 1, 1, 1, 1, 1, 1, 1, 1, 1, 1, 1, 1, 1, 1, 1, 1, 1, 1, 1, 1, 1, 1, 1, 1, 1, 1, 1, 1, 1, 1, 1, 1, 1, 1, 1, 1, 1, 1, 1, 1, 1, 1, 1, 1, 1, 1, 1, 1, 1, 1, 1, 1, 1, 1, 1, 1, 1, 1, 1, 1, 1, 1, 1, 1, 1, 1, 1, 1, 1, 1, 1, 1, 1, 1, 1, 1, 1, 1, 1, 1, 1, 1, 1, 1, 1, 1, 1, 1, 1, 1, 1, 1, 1, 1, 1, 1, 1, 1, 1, 1, 1, 1, 1, 1, 1, 1, 1, 1, 1, 1, 1, 1, 1, 1, 1, 1, 1, 1, 1, 1, 1, 1, 1, 1, 1, 1, 1, 1, 1, 1, 1, 1, 1, 1, 1, 1, 1, 1, 1, 1, 1, 1, 1, 1, 1, 1, 1, 1, 1, 1, 1, 1, 1, 1, 1, 1, 1, 1, 1, 1, 1, 1, 1, 1, 1, 1, 1, 1, 1, 1, 1, 1, 1, 1, 1, 1, 1, 1, 1, 1, 1, 1, 1, 1, 1, 1, 1, 1, 1, 1, 1, 1, 1, 1, 1, 1, 1, 1, 1, 1, 1, 1, 1, 1, 1, 1, 1, 1, 1, 1, 1, 1, 1, 1, 1, 1, 1, 1, 1, 1, 1, 1, 1, 1, 1, 1, 1, 1, 1, 1, 1, 1, 1, 1, 1, 1, 1, 1, 1, 1, 1, 1, 1, 1, 1, 1, 1, 1, 1, 1, 1, 1, 1, 1, 1, 1, 1, 1, 1, 1, 1, 1, 1, 1, 1, 1, 1, 1, 1, 1, 1, 1, 1, 1, 1, 1, 1, 1, 1, 1, 1, 1, 1, 1, 1, 1, 1, 1, 1, 1, 1, 1, 1, 1, 1, 1, 1, 1, 1, 1, 1, 1, 1, 1, 1, 1, 1, 1, 1, 1, 1, 1, 1, 1, 1, 1, 1, 1, 1, 1, 1, 1, 1, 1, 1, 1, 1, 1, 1, 1, 1, 1, 1, 1, 1, 1, 1, 1, 1, 1, 1, 1, 1, 1, 1, 1, 1, 1, 1, 1, 1, 1, 1, 1, 1, 1, 1, 1, 1, 1, 1, 1, 1, 1, 1, 1, 1, 1, 1, 1, 1, 1, 1, 1, 1, 1, 1, 1, 1, 1, 1, 1, 1, 1, 1, 1, 1, 1, 1, 1, 1, 1, 1, 1, 1, 1, 1, 1, 1, 1, 1, 1, 1, 1, 1, 1, 1, 1, 1, 1, 1, 1, 1, 1, 1, 1, 1, 1, 1, 1, 1, 1, 1, 1, 1, 1, 1, 1, 1, 1, 1, 1, 1, 1, 1, 1, 1, 1, 1, 1, 1, 1, 1, 1, 1, 1, 1, 1, 1, 1, 1, 1, 1, 1, 1, 1, 1, 1, 1, 1, 1, 1, 1, 1, 1, 1, 1, 1, 1, 1, 1, 1, 1, 1, 1, 1, 1, 1, 1, 1, 1, 1, 1, 1, 1, 1, 1, 1, 1, 1, 1, 1, 1, 1, 1, 1, 1, 1, 1, 1, 1, 1, 1, 1, 1, 1, 1, 1, 1, 1, 1, 1, 1, 1, 1, 1, 1, 1, 1, 1, 1, 1, 1, 1, 1, 1, 1, 1, 1, 1, 1, 1, 1, 1, 1, 1, 1, 1, 1, 1, 1, 1, 1, 1, 1, 1, 1, 1, 1, 1, 1, 1, 1, 1, 1, 1, 1, 1, 1, 1, 1, 1, 1, 1, 1, 1, 1, 1, 1, 1, 1, 1, 1, 1, 1, 1, 1, 1, 1, 1, 1, 1, 1, 1, 1, 1, 1, 1, 1, 1, 1, 1, 1, 1, 1, 1, 1, 1, 1, 1, 1, 1, 1, 1, 1, 1, 1, 1, 1, 1, 1, 1, 1, 1, 1, 1, 1, 1, 1, 1, 1, 1, 1, 1, 1, 1, 1, 1, 1, 1, 1, 1, 1, 1, 1, 1, 1, 1, 1, 1, 1, 1, 1, 1, 1, 1, 1, 1, 1, 1, 1, 1, 1, 1, 1, 1, 1, 1, 1, 1, 1, 1, 1, 1, 1, 1, 1, 1, 1, 1, 1, 1, 1, 1, 1, 1, 1, 1, 1, 1, 1, 1, 1, 1, 1, 1, 1, 1, 1, 1, 1, 1, 1, 1, 1, 1, 1, 1, 1, 1, 1, 1, 1, 1, 1, 1, 1, 1, 1, 1, 1, 1, 1, 1, 1, 1, 1, 1, 1, 1, 1, 1, 1, 1, 1, 1, 1, 1, 1, 1, 1, 1, 1, 1, 1, 1, 1, 1, 1, 1, 1, 1, 1, 1, 1, 1, 1, 1, 1, 1, 1, 1, 1, 1, 1, 1, 1, 1, 1, 1, 1, 1, 1, 1, 1, 1, 1, 1, 1, 1, 1, 1, 1, 1, 1, 1, 1, 1, 1, 1, 1, 1, 1, 1, 1, 1, 1, 1, 1, 1, 1, 1, 1, 1, 1, 1, 1, 1, 1, 1, 1, 1, 1, 1, 1, 1, 1, 1, 1, 1, 1, 1, 1, 1, 1, 1, 1, 1, 1, 1, 1, 1, 1, 1, 1, 1, 1, 1, 1, 1, 1, 1, 1, 1, 1, 1, 1, 1, 1, 1, 1, 1, 1, 1, 1, 1, 1, 1, 1, 1, 1, 1, 1, 1, 1, 1, 1, 1, 1, 1, 1, 1, 1, 1, 1, 1, 1, 1, 1, 1, 1, 1, 1, 1, 1, 1, 1, 1, 1, 1, 1, 1, 1, 1, 1, 1, 1, 1, 1, 1, 1, 1, 1, 1, 1, 1, 1, 1, 1, 1, 1, 1, 1, 1, 1, 1, 1, 1, 1, 1, 1, 1, 1, 1, 1, 1, 1, 1, 1, 1, 1, 1, 1, 1, 1, 1, 1, 1, 1, 1, 1, 1, 1, 1, 1, 1, 1, 1, 1, 1, 1, 1, 1, 1, 1, 1, 1, 1, 1, 1, 1, 1, 1, 1, 1, 1, 1, 1, 1, 1, 1, 1, 1, 1, 1, 1, 1, 1, 1, 1, 1, 1, 1, 1, 1, 1, 1, 1, 1, 1, 1, 1, 1, 1, 1, 1, 1, 1, 1, 1, 1, 1, 1, 1, 1, 1, 1, 1, 1, 1, 1, 1, 1, 1, 1, 1, 1, 1, 1, 1, 1, 1, 1, 1, 1, 1, 1, 1, 1, 1, 1, 1, 1, 1], \"line\": {\"color\": \"rgb(40,40,40)\", \"width\": 0.5}, \"sizemode\": \"area\"}, \"name\": \"test\", \"type\": \"scattergeo\"}],\n",
              "                        {\"geo\": {\"landcolor\": \"rgb(217,217,217)\"}, \"mapbox\": {\"style\": \"open-street-map\"}, \"template\": {\"data\": {\"bar\": [{\"error_x\": {\"color\": \"#2a3f5f\"}, \"error_y\": {\"color\": \"#2a3f5f\"}, \"marker\": {\"line\": {\"color\": \"#E5ECF6\", \"width\": 0.5}}, \"type\": \"bar\"}], \"barpolar\": [{\"marker\": {\"line\": {\"color\": \"#E5ECF6\", \"width\": 0.5}}, \"type\": \"barpolar\"}], \"carpet\": [{\"aaxis\": {\"endlinecolor\": \"#2a3f5f\", \"gridcolor\": \"white\", \"linecolor\": \"white\", \"minorgridcolor\": \"white\", \"startlinecolor\": \"#2a3f5f\"}, \"baxis\": {\"endlinecolor\": \"#2a3f5f\", \"gridcolor\": \"white\", \"linecolor\": \"white\", \"minorgridcolor\": \"white\", \"startlinecolor\": \"#2a3f5f\"}, \"type\": \"carpet\"}], \"choropleth\": [{\"colorbar\": {\"outlinewidth\": 0, \"ticks\": \"\"}, \"type\": \"choropleth\"}], \"contour\": [{\"colorbar\": {\"outlinewidth\": 0, \"ticks\": \"\"}, \"colorscale\": [[0.0, \"#0d0887\"], [0.1111111111111111, \"#46039f\"], [0.2222222222222222, \"#7201a8\"], [0.3333333333333333, \"#9c179e\"], [0.4444444444444444, \"#bd3786\"], [0.5555555555555556, \"#d8576b\"], [0.6666666666666666, \"#ed7953\"], [0.7777777777777778, \"#fb9f3a\"], [0.8888888888888888, \"#fdca26\"], [1.0, \"#f0f921\"]], \"type\": \"contour\"}], \"contourcarpet\": [{\"colorbar\": {\"outlinewidth\": 0, \"ticks\": \"\"}, \"type\": \"contourcarpet\"}], \"heatmap\": [{\"colorbar\": {\"outlinewidth\": 0, \"ticks\": \"\"}, \"colorscale\": [[0.0, \"#0d0887\"], [0.1111111111111111, \"#46039f\"], [0.2222222222222222, \"#7201a8\"], [0.3333333333333333, \"#9c179e\"], [0.4444444444444444, \"#bd3786\"], [0.5555555555555556, \"#d8576b\"], [0.6666666666666666, \"#ed7953\"], [0.7777777777777778, \"#fb9f3a\"], [0.8888888888888888, \"#fdca26\"], [1.0, \"#f0f921\"]], \"type\": \"heatmap\"}], \"heatmapgl\": [{\"colorbar\": {\"outlinewidth\": 0, \"ticks\": \"\"}, \"colorscale\": [[0.0, \"#0d0887\"], [0.1111111111111111, \"#46039f\"], [0.2222222222222222, \"#7201a8\"], [0.3333333333333333, \"#9c179e\"], [0.4444444444444444, \"#bd3786\"], [0.5555555555555556, \"#d8576b\"], [0.6666666666666666, \"#ed7953\"], [0.7777777777777778, \"#fb9f3a\"], [0.8888888888888888, \"#fdca26\"], [1.0, \"#f0f921\"]], \"type\": \"heatmapgl\"}], \"histogram\": [{\"marker\": {\"colorbar\": {\"outlinewidth\": 0, \"ticks\": \"\"}}, \"type\": \"histogram\"}], \"histogram2d\": [{\"colorbar\": {\"outlinewidth\": 0, \"ticks\": \"\"}, \"colorscale\": [[0.0, \"#0d0887\"], [0.1111111111111111, \"#46039f\"], [0.2222222222222222, \"#7201a8\"], [0.3333333333333333, \"#9c179e\"], [0.4444444444444444, \"#bd3786\"], [0.5555555555555556, \"#d8576b\"], [0.6666666666666666, \"#ed7953\"], [0.7777777777777778, \"#fb9f3a\"], [0.8888888888888888, \"#fdca26\"], [1.0, \"#f0f921\"]], \"type\": \"histogram2d\"}], \"histogram2dcontour\": [{\"colorbar\": {\"outlinewidth\": 0, \"ticks\": \"\"}, \"colorscale\": [[0.0, \"#0d0887\"], [0.1111111111111111, \"#46039f\"], [0.2222222222222222, \"#7201a8\"], [0.3333333333333333, \"#9c179e\"], [0.4444444444444444, \"#bd3786\"], [0.5555555555555556, \"#d8576b\"], [0.6666666666666666, \"#ed7953\"], [0.7777777777777778, \"#fb9f3a\"], [0.8888888888888888, \"#fdca26\"], [1.0, \"#f0f921\"]], \"type\": \"histogram2dcontour\"}], \"mesh3d\": [{\"colorbar\": {\"outlinewidth\": 0, \"ticks\": \"\"}, \"type\": \"mesh3d\"}], \"parcoords\": [{\"line\": {\"colorbar\": {\"outlinewidth\": 0, \"ticks\": \"\"}}, \"type\": \"parcoords\"}], \"pie\": [{\"automargin\": true, \"type\": \"pie\"}], \"scatter\": [{\"marker\": {\"colorbar\": {\"outlinewidth\": 0, \"ticks\": \"\"}}, \"type\": \"scatter\"}], \"scatter3d\": [{\"line\": {\"colorbar\": {\"outlinewidth\": 0, \"ticks\": \"\"}}, \"marker\": {\"colorbar\": {\"outlinewidth\": 0, \"ticks\": \"\"}}, \"type\": \"scatter3d\"}], \"scattercarpet\": [{\"marker\": {\"colorbar\": {\"outlinewidth\": 0, \"ticks\": \"\"}}, \"type\": \"scattercarpet\"}], \"scattergeo\": [{\"marker\": {\"colorbar\": {\"outlinewidth\": 0, \"ticks\": \"\"}}, \"type\": \"scattergeo\"}], \"scattergl\": [{\"marker\": {\"colorbar\": {\"outlinewidth\": 0, \"ticks\": \"\"}}, \"type\": \"scattergl\"}], \"scattermapbox\": [{\"marker\": {\"colorbar\": {\"outlinewidth\": 0, \"ticks\": \"\"}}, \"type\": \"scattermapbox\"}], \"scatterpolar\": [{\"marker\": {\"colorbar\": {\"outlinewidth\": 0, \"ticks\": \"\"}}, \"type\": \"scatterpolar\"}], \"scatterpolargl\": [{\"marker\": {\"colorbar\": {\"outlinewidth\": 0, \"ticks\": \"\"}}, \"type\": \"scatterpolargl\"}], \"scatterternary\": [{\"marker\": {\"colorbar\": {\"outlinewidth\": 0, \"ticks\": \"\"}}, \"type\": \"scatterternary\"}], \"surface\": [{\"colorbar\": {\"outlinewidth\": 0, \"ticks\": \"\"}, \"colorscale\": [[0.0, \"#0d0887\"], [0.1111111111111111, \"#46039f\"], [0.2222222222222222, \"#7201a8\"], [0.3333333333333333, \"#9c179e\"], [0.4444444444444444, \"#bd3786\"], [0.5555555555555556, \"#d8576b\"], [0.6666666666666666, \"#ed7953\"], [0.7777777777777778, \"#fb9f3a\"], [0.8888888888888888, \"#fdca26\"], [1.0, \"#f0f921\"]], \"type\": \"surface\"}], \"table\": [{\"cells\": {\"fill\": {\"color\": \"#EBF0F8\"}, \"line\": {\"color\": \"white\"}}, \"header\": {\"fill\": {\"color\": \"#C8D4E3\"}, \"line\": {\"color\": \"white\"}}, \"type\": \"table\"}]}, \"layout\": {\"annotationdefaults\": {\"arrowcolor\": \"#2a3f5f\", \"arrowhead\": 0, \"arrowwidth\": 1}, \"coloraxis\": {\"colorbar\": {\"outlinewidth\": 0, \"ticks\": \"\"}}, \"colorscale\": {\"diverging\": [[0, \"#8e0152\"], [0.1, \"#c51b7d\"], [0.2, \"#de77ae\"], [0.3, \"#f1b6da\"], [0.4, \"#fde0ef\"], [0.5, \"#f7f7f7\"], [0.6, \"#e6f5d0\"], [0.7, \"#b8e186\"], [0.8, \"#7fbc41\"], [0.9, \"#4d9221\"], [1, \"#276419\"]], \"sequential\": [[0.0, \"#0d0887\"], [0.1111111111111111, \"#46039f\"], [0.2222222222222222, \"#7201a8\"], [0.3333333333333333, \"#9c179e\"], [0.4444444444444444, \"#bd3786\"], [0.5555555555555556, \"#d8576b\"], [0.6666666666666666, \"#ed7953\"], [0.7777777777777778, \"#fb9f3a\"], [0.8888888888888888, \"#fdca26\"], [1.0, \"#f0f921\"]], \"sequentialminus\": [[0.0, \"#0d0887\"], [0.1111111111111111, \"#46039f\"], [0.2222222222222222, \"#7201a8\"], [0.3333333333333333, \"#9c179e\"], [0.4444444444444444, \"#bd3786\"], [0.5555555555555556, \"#d8576b\"], [0.6666666666666666, \"#ed7953\"], [0.7777777777777778, \"#fb9f3a\"], [0.8888888888888888, \"#fdca26\"], [1.0, \"#f0f921\"]]}, \"colorway\": [\"#636efa\", \"#EF553B\", \"#00cc96\", \"#ab63fa\", \"#FFA15A\", \"#19d3f3\", \"#FF6692\", \"#B6E880\", \"#FF97FF\", \"#FECB52\"], \"font\": {\"color\": \"#2a3f5f\"}, \"geo\": {\"bgcolor\": \"white\", \"lakecolor\": \"white\", \"landcolor\": \"#E5ECF6\", \"showlakes\": true, \"showland\": true, \"subunitcolor\": \"white\"}, \"hoverlabel\": {\"align\": \"left\"}, \"hovermode\": \"closest\", \"mapbox\": {\"style\": \"light\"}, \"paper_bgcolor\": \"white\", \"plot_bgcolor\": \"#E5ECF6\", \"polar\": {\"angularaxis\": {\"gridcolor\": \"white\", \"linecolor\": \"white\", \"ticks\": \"\"}, \"bgcolor\": \"#E5ECF6\", \"radialaxis\": {\"gridcolor\": \"white\", \"linecolor\": \"white\", \"ticks\": \"\"}}, \"scene\": {\"xaxis\": {\"backgroundcolor\": \"#E5ECF6\", \"gridcolor\": \"white\", \"gridwidth\": 2, \"linecolor\": \"white\", \"showbackground\": true, \"ticks\": \"\", \"zerolinecolor\": \"white\"}, \"yaxis\": {\"backgroundcolor\": \"#E5ECF6\", \"gridcolor\": \"white\", \"gridwidth\": 2, \"linecolor\": \"white\", \"showbackground\": true, \"ticks\": \"\", \"zerolinecolor\": \"white\"}, \"zaxis\": {\"backgroundcolor\": \"#E5ECF6\", \"gridcolor\": \"white\", \"gridwidth\": 2, \"linecolor\": \"white\", \"showbackground\": true, \"ticks\": \"\", \"zerolinecolor\": \"white\"}}, \"shapedefaults\": {\"line\": {\"color\": \"#2a3f5f\"}}, \"ternary\": {\"aaxis\": {\"gridcolor\": \"white\", \"linecolor\": \"white\", \"ticks\": \"\"}, \"baxis\": {\"gridcolor\": \"white\", \"linecolor\": \"white\", \"ticks\": \"\"}, \"bgcolor\": \"#E5ECF6\", \"caxis\": {\"gridcolor\": \"white\", \"linecolor\": \"white\", \"ticks\": \"\"}}, \"title\": {\"x\": 0.05}, \"xaxis\": {\"automargin\": true, \"gridcolor\": \"white\", \"linecolor\": \"white\", \"ticks\": \"\", \"title\": {\"standoff\": 15}, \"zerolinecolor\": \"white\", \"zerolinewidth\": 2}, \"yaxis\": {\"automargin\": true, \"gridcolor\": \"white\", \"linecolor\": \"white\", \"ticks\": \"\", \"title\": {\"standoff\": 15}, \"zerolinecolor\": \"white\", \"zerolinewidth\": 2}}}, \"title\": {\"text\": \"test\"}},\n",
              "                        {\"responsive\": true}\n",
              "                    ).then(function(){\n",
              "                            \n",
              "var gd = document.getElementById('2aeccca3-7221-406e-a1e6-0230faaa2a14');\n",
              "var x = new MutationObserver(function (mutations, observer) {{\n",
              "        var display = window.getComputedStyle(gd).display;\n",
              "        if (!display || display === 'none') {{\n",
              "            console.log([gd, 'removed!']);\n",
              "            Plotly.purge(gd);\n",
              "            observer.disconnect();\n",
              "        }}\n",
              "}});\n",
              "\n",
              "// Listen for the removal of the full notebook cells\n",
              "var notebookContainer = gd.closest('#notebook-container');\n",
              "if (notebookContainer) {{\n",
              "    x.observe(notebookContainer, {childList: true});\n",
              "}}\n",
              "\n",
              "// Listen for the clearing of the current output cell\n",
              "var outputEl = gd.closest('.output');\n",
              "if (outputEl) {{\n",
              "    x.observe(outputEl, {childList: true});\n",
              "}}\n",
              "\n",
              "                        })\n",
              "                };\n",
              "                \n",
              "            </script>\n",
              "        </div>\n",
              "</body>\n",
              "</html>"
            ]
          },
          "metadata": {
            "tags": []
          }
        }
      ]
    },
    {
      "cell_type": "code",
      "metadata": {
        "id": "00f585e1-b061-4ba5-ba00-8469dfe66fde",
        "colab": {
          "base_uri": "https://localhost:8080/",
          "height": 388
        },
        "outputId": "0b675e24-963b-46b8-a77e-a3c085ec1aec"
      },
      "source": [
        "df.corr()"
      ],
      "id": "00f585e1-b061-4ba5-ba00-8469dfe66fde",
      "execution_count": 34,
      "outputs": [
        {
          "output_type": "execute_result",
          "data": {
            "text/html": [
              "<div>\n",
              "<style scoped>\n",
              "    .dataframe tbody tr th:only-of-type {\n",
              "        vertical-align: middle;\n",
              "    }\n",
              "\n",
              "    .dataframe tbody tr th {\n",
              "        vertical-align: top;\n",
              "    }\n",
              "\n",
              "    .dataframe thead th {\n",
              "        text-align: right;\n",
              "    }\n",
              "</style>\n",
              "<table border=\"1\" class=\"dataframe\">\n",
              "  <thead>\n",
              "    <tr style=\"text-align: right;\">\n",
              "      <th></th>\n",
              "      <th>cc_num</th>\n",
              "      <th>amt</th>\n",
              "      <th>zip</th>\n",
              "      <th>lat</th>\n",
              "      <th>long</th>\n",
              "      <th>city_pop</th>\n",
              "      <th>unix_time</th>\n",
              "      <th>merch_lat</th>\n",
              "      <th>merch_long</th>\n",
              "      <th>is_fraud</th>\n",
              "      <th>trans_hour</th>\n",
              "    </tr>\n",
              "  </thead>\n",
              "  <tbody>\n",
              "    <tr>\n",
              "      <th>cc_num</th>\n",
              "      <td>1.000000</td>\n",
              "      <td>0.001826</td>\n",
              "      <td>0.041504</td>\n",
              "      <td>-0.058744</td>\n",
              "      <td>-0.048429</td>\n",
              "      <td>-0.009118</td>\n",
              "      <td>0.000284</td>\n",
              "      <td>-0.058415</td>\n",
              "      <td>-0.048421</td>\n",
              "      <td>-0.001125</td>\n",
              "      <td>-0.000902</td>\n",
              "    </tr>\n",
              "    <tr>\n",
              "      <th>amt</th>\n",
              "      <td>0.001826</td>\n",
              "      <td>1.000000</td>\n",
              "      <td>0.001979</td>\n",
              "      <td>-0.000670</td>\n",
              "      <td>-0.000735</td>\n",
              "      <td>0.004921</td>\n",
              "      <td>-0.002411</td>\n",
              "      <td>-0.000613</td>\n",
              "      <td>-0.000711</td>\n",
              "      <td>0.209308</td>\n",
              "      <td>-0.024891</td>\n",
              "    </tr>\n",
              "    <tr>\n",
              "      <th>zip</th>\n",
              "      <td>0.041504</td>\n",
              "      <td>0.001979</td>\n",
              "      <td>1.000000</td>\n",
              "      <td>-0.114554</td>\n",
              "      <td>-0.909795</td>\n",
              "      <td>0.077601</td>\n",
              "      <td>0.001017</td>\n",
              "      <td>-0.113934</td>\n",
              "      <td>-0.908981</td>\n",
              "      <td>-0.002190</td>\n",
              "      <td>0.005947</td>\n",
              "    </tr>\n",
              "    <tr>\n",
              "      <th>lat</th>\n",
              "      <td>-0.058744</td>\n",
              "      <td>-0.000670</td>\n",
              "      <td>-0.114554</td>\n",
              "      <td>1.000000</td>\n",
              "      <td>-0.014744</td>\n",
              "      <td>-0.154816</td>\n",
              "      <td>0.000741</td>\n",
              "      <td>0.993582</td>\n",
              "      <td>-0.014709</td>\n",
              "      <td>0.002904</td>\n",
              "      <td>-0.011259</td>\n",
              "    </tr>\n",
              "    <tr>\n",
              "      <th>long</th>\n",
              "      <td>-0.048429</td>\n",
              "      <td>-0.000735</td>\n",
              "      <td>-0.909795</td>\n",
              "      <td>-0.014744</td>\n",
              "      <td>1.000000</td>\n",
              "      <td>-0.052359</td>\n",
              "      <td>-0.000574</td>\n",
              "      <td>-0.014585</td>\n",
              "      <td>0.999118</td>\n",
              "      <td>0.001022</td>\n",
              "      <td>-0.002082</td>\n",
              "    </tr>\n",
              "    <tr>\n",
              "      <th>city_pop</th>\n",
              "      <td>-0.009118</td>\n",
              "      <td>0.004921</td>\n",
              "      <td>0.077601</td>\n",
              "      <td>-0.154816</td>\n",
              "      <td>-0.052359</td>\n",
              "      <td>1.000000</td>\n",
              "      <td>-0.001636</td>\n",
              "      <td>-0.153863</td>\n",
              "      <td>-0.052329</td>\n",
              "      <td>0.000325</td>\n",
              "      <td>0.019949</td>\n",
              "    </tr>\n",
              "    <tr>\n",
              "      <th>unix_time</th>\n",
              "      <td>0.000284</td>\n",
              "      <td>-0.002411</td>\n",
              "      <td>0.001017</td>\n",
              "      <td>0.000741</td>\n",
              "      <td>-0.000574</td>\n",
              "      <td>-0.001636</td>\n",
              "      <td>1.000000</td>\n",
              "      <td>0.000696</td>\n",
              "      <td>-0.000571</td>\n",
              "      <td>-0.013329</td>\n",
              "      <td>0.000571</td>\n",
              "    </tr>\n",
              "    <tr>\n",
              "      <th>merch_lat</th>\n",
              "      <td>-0.058415</td>\n",
              "      <td>-0.000613</td>\n",
              "      <td>-0.113934</td>\n",
              "      <td>0.993582</td>\n",
              "      <td>-0.014585</td>\n",
              "      <td>-0.153863</td>\n",
              "      <td>0.000696</td>\n",
              "      <td>1.000000</td>\n",
              "      <td>-0.014554</td>\n",
              "      <td>0.002778</td>\n",
              "      <td>-0.011119</td>\n",
              "    </tr>\n",
              "    <tr>\n",
              "      <th>merch_long</th>\n",
              "      <td>-0.048421</td>\n",
              "      <td>-0.000711</td>\n",
              "      <td>-0.908981</td>\n",
              "      <td>-0.014709</td>\n",
              "      <td>0.999118</td>\n",
              "      <td>-0.052329</td>\n",
              "      <td>-0.000571</td>\n",
              "      <td>-0.014554</td>\n",
              "      <td>1.000000</td>\n",
              "      <td>0.000999</td>\n",
              "      <td>-0.002120</td>\n",
              "    </tr>\n",
              "    <tr>\n",
              "      <th>is_fraud</th>\n",
              "      <td>-0.001125</td>\n",
              "      <td>0.209308</td>\n",
              "      <td>-0.002190</td>\n",
              "      <td>0.002904</td>\n",
              "      <td>0.001022</td>\n",
              "      <td>0.000325</td>\n",
              "      <td>-0.013329</td>\n",
              "      <td>0.002778</td>\n",
              "      <td>0.000999</td>\n",
              "      <td>1.000000</td>\n",
              "      <td>0.013196</td>\n",
              "    </tr>\n",
              "    <tr>\n",
              "      <th>trans_hour</th>\n",
              "      <td>-0.000902</td>\n",
              "      <td>-0.024891</td>\n",
              "      <td>0.005947</td>\n",
              "      <td>-0.011259</td>\n",
              "      <td>-0.002082</td>\n",
              "      <td>0.019949</td>\n",
              "      <td>0.000571</td>\n",
              "      <td>-0.011119</td>\n",
              "      <td>-0.002120</td>\n",
              "      <td>0.013196</td>\n",
              "      <td>1.000000</td>\n",
              "    </tr>\n",
              "  </tbody>\n",
              "</table>\n",
              "</div>"
            ],
            "text/plain": [
              "              cc_num       amt       zip  ...  merch_long  is_fraud  trans_hour\n",
              "cc_num      1.000000  0.001826  0.041504  ...   -0.048421 -0.001125   -0.000902\n",
              "amt         0.001826  1.000000  0.001979  ...   -0.000711  0.209308   -0.024891\n",
              "zip         0.041504  0.001979  1.000000  ...   -0.908981 -0.002190    0.005947\n",
              "lat        -0.058744 -0.000670 -0.114554  ...   -0.014709  0.002904   -0.011259\n",
              "long       -0.048429 -0.000735 -0.909795  ...    0.999118  0.001022   -0.002082\n",
              "city_pop   -0.009118  0.004921  0.077601  ...   -0.052329  0.000325    0.019949\n",
              "unix_time   0.000284 -0.002411  0.001017  ...   -0.000571 -0.013329    0.000571\n",
              "merch_lat  -0.058415 -0.000613 -0.113934  ...   -0.014554  0.002778   -0.011119\n",
              "merch_long -0.048421 -0.000711 -0.908981  ...    1.000000  0.000999   -0.002120\n",
              "is_fraud   -0.001125  0.209308 -0.002190  ...    0.000999  1.000000    0.013196\n",
              "trans_hour -0.000902 -0.024891  0.005947  ...   -0.002120  0.013196    1.000000\n",
              "\n",
              "[11 rows x 11 columns]"
            ]
          },
          "metadata": {
            "tags": []
          },
          "execution_count": 34
        }
      ]
    },
    {
      "cell_type": "code",
      "metadata": {
        "id": "ff1e8472-a53b-433c-943e-eb0eccc5c1af",
        "colab": {
          "base_uri": "https://localhost:8080/"
        },
        "outputId": "b6bceabd-ee99-4534-f95b-ab30fb8c5e41"
      },
      "source": [
        "x = df['merch_lat']\n",
        "y = df['lat']\n",
        "correlation = y.corr(x)\n",
        "correlation\n"
      ],
      "id": "ff1e8472-a53b-433c-943e-eb0eccc5c1af",
      "execution_count": 35,
      "outputs": [
        {
          "output_type": "execute_result",
          "data": {
            "text/plain": [
              "0.9935817080041682"
            ]
          },
          "metadata": {
            "tags": []
          },
          "execution_count": 35
        }
      ]
    },
    {
      "cell_type": "code",
      "metadata": {
        "id": "e5531481-8cb0-4457-9766-f51034358f5a",
        "colab": {
          "base_uri": "https://localhost:8080/",
          "height": 312
        },
        "outputId": "2593c7c5-dd9e-4f7a-ab82-08a331111782"
      },
      "source": [
        "plt.title('Correlation')\n",
        "plt.scatter(x, y)\n",
        "plt.plot(np.unique(x),\n",
        "         np.poly1d(np.polyfit(x, y, 1))\n",
        "         (np.unique(x)), color='red')\n",
        "\n",
        "plt.xlabel('x axis')\n",
        "plt.ylabel('y axis')"
      ],
      "id": "e5531481-8cb0-4457-9766-f51034358f5a",
      "execution_count": 36,
      "outputs": [
        {
          "output_type": "execute_result",
          "data": {
            "text/plain": [
              "Text(0, 0.5, 'y axis')"
            ]
          },
          "metadata": {
            "tags": []
          },
          "execution_count": 36
        },
        {
          "output_type": "display_data",
          "data": {
            "image/png": "[encoded data removed]",
            "text/plain": [
              "<Figure size 432x288 with 1 Axes>"
            ]
          },
          "metadata": {
            "tags": [],
            "needs_background": "light"
          }
        }
      ]
    },
    {
      "cell_type": "code",
      "metadata": {
        "id": "c453ae17-1769-4b14-980f-d2fe21f2c25e",
        "colab": {
          "base_uri": "https://localhost:8080/"
        },
        "outputId": "7761e9a5-39f5-494e-b048-5efcc7ee7f80"
      },
      "source": [
        "x1 = df['merch_long']\n",
        "y1 = df['long']\n",
        "correlation = y1.corr(x1)\n",
        "correlation\n"
      ],
      "id": "c453ae17-1769-4b14-980f-d2fe21f2c25e",
      "execution_count": 37,
      "outputs": [
        {
          "output_type": "execute_result",
          "data": {
            "text/plain": [
              "0.9991183248079879"
            ]
          },
          "metadata": {
            "tags": []
          },
          "execution_count": 37
        }
      ]
    },
    {
      "cell_type": "code",
      "metadata": {
        "id": "f1bd158e-1060-4889-9cb1-4c4b0b592337",
        "colab": {
          "base_uri": "https://localhost:8080/",
          "height": 312
        },
        "outputId": "a48120d9-2803-417f-f554-2cfe40f51f27"
      },
      "source": [
        "plt.title('Correlation')\n",
        "plt.scatter(x1, y1)\n",
        "plt.plot(np.unique(x1),\n",
        "         np.poly1d(np.polyfit(x1, y1, 1))\n",
        "         (np.unique(x1)), color='red')\n",
        "\n",
        "plt.xlabel('x axis')\n",
        "plt.ylabel('y axis')"
      ],
      "id": "f1bd158e-1060-4889-9cb1-4c4b0b592337",
      "execution_count": 38,
      "outputs": [
        {
          "output_type": "execute_result",
          "data": {
            "text/plain": [
              "Text(0, 0.5, 'y axis')"
            ]
          },
          "metadata": {
            "tags": []
          },
          "execution_count": 38
        },
        {
          "output_type": "display_data",
          "data": {
            "image/png": "[encoded data removed]",
            "text/plain": [
              "<Figure size 432x288 with 1 Axes>"
            ]
          },
          "metadata": {
            "tags": [],
            "needs_background": "light"
          }
        }
      ]
    },
    {
      "cell_type": "code",
      "metadata": {
        "id": "7c1f71ae-8b01-4888-a89e-c541d96cbe9c",
        "colab": {
          "base_uri": "https://localhost:8080/",
          "height": 443
        },
        "outputId": "2177423b-df91-41be-db28-f40b39d3d5f0"
      },
      "source": [
        "figure = plt.figure(figsize=(12,6))\n",
        "sns.heatmap(df.corr(),data = df)"
      ],
      "id": "7c1f71ae-8b01-4888-a89e-c541d96cbe9c",
      "execution_count": 39,
      "outputs": [
        {
          "output_type": "execute_result",
          "data": {
            "text/plain": [
              "<matplotlib.axes._subplots.AxesSubplot at 0x7f7863759450>"
            ]
          },
          "metadata": {
            "tags": []
          },
          "execution_count": 39
        },
        {
          "output_type": "display_data",
          "data": {
            "image/png": "[encoded data removed]",
            "text/plain": [
              "<Figure size 864x432 with 2 Axes>"
            ]
          },
          "metadata": {
            "tags": [],
            "needs_background": "light"
          }
        }
      ]
    },
    {
      "cell_type": "code",
      "metadata": {
        "id": "eae6b361-015f-4d93-827f-5cca92d79a9a",
        "colab": {
          "base_uri": "https://localhost:8080/",
          "height": 297
        },
        "outputId": "a1b4eb91-4cfc-4121-f6fe-96753ff253c4"
      },
      "source": [
        "sns.countplot(x = 'is_fraud' , hue = 'day_of_week', data = df)"
      ],
      "id": "eae6b361-015f-4d93-827f-5cca92d79a9a",
      "execution_count": 40,
      "outputs": [
        {
          "output_type": "execute_result",
          "data": {
            "text/plain": [
              "<matplotlib.axes._subplots.AxesSubplot at 0x7f7863a84050>"
            ]
          },
          "metadata": {
            "tags": []
          },
          "execution_count": 40
        },
        {
          "output_type": "display_data",
          "data": {
            "image/png": "[encoded data removed]",
            "text/plain": [
              "<Figure size 432x288 with 1 Axes>"
            ]
          },
          "metadata": {
            "tags": [],
            "needs_background": "light"
          }
        }
      ]
    },
    {
      "cell_type": "code",
      "metadata": {
        "id": "f0132a89-28e3-400b-ab0e-937d1980641b",
        "colab": {
          "base_uri": "https://localhost:8080/",
          "height": 308
        },
        "outputId": "1a148561-c65c-4263-f7ef-d5b767255001"
      },
      "source": [
        "sns.set_style('whitegrid')\n",
        "sns.distplot(df['city_pop'], color ='red', bins = 15)"
      ],
      "id": "f0132a89-28e3-400b-ab0e-937d1980641b",
      "execution_count": 41,
      "outputs": [
        {
          "output_type": "execute_result",
          "data": {
            "text/plain": [
              "<matplotlib.axes._subplots.AxesSubplot at 0x7f7863809750>"
            ]
          },
          "metadata": {
            "tags": []
          },
          "execution_count": 41
        },
        {
          "output_type": "display_data",
          "data": {
            "image/png": "[encoded data removed]",
            "text/plain": [
              "<Figure size 432x288 with 1 Axes>"
            ]
          },
          "metadata": {
            "tags": []
          }
        }
      ]
    },
    {
      "cell_type": "code",
      "metadata": {
        "id": "Y1b_tSGjXk7P"
      },
      "source": [
        ""
      ],
      "id": "Y1b_tSGjXk7P",
      "execution_count": 41,
      "outputs": []
    },
    {
      "cell_type": "code",
      "metadata": {
        "id": "54a442e1-0d17-4d4e-acaf-4fe43f9ee682"
      },
      "source": [
        "category_onehot = pd.get_dummies(df.category, prefix='category', drop_first=True)\n",
        "gender_onehot = pd.get_dummies(df.gender, prefix='gender', drop_first=True)\n",
        "day_of_week_onehot = pd.get_dummies(df.day_of_week, prefix='week',drop_first=True)"
      ],
      "id": "54a442e1-0d17-4d4e-acaf-4fe43f9ee682",
      "execution_count": 42,
      "outputs": []
    },
    {
      "cell_type": "code",
      "metadata": {
        "id": "fa9f749a-89f3-4f02-8ab4-52ee58a8aed6",
        "colab": {
          "base_uri": "https://localhost:8080/",
          "height": 492
        },
        "outputId": "d84bdf6e-5eeb-4abc-bf5e-7c0399179139"
      },
      "source": [
        "df1 = pd.concat([df, category_onehot,gender_onehot,day_of_week_onehot], axis=1)\n",
        "\n",
        "df1.head()"
      ],
      "id": "fa9f749a-89f3-4f02-8ab4-52ee58a8aed6",
      "execution_count": 43,
      "outputs": [
        {
          "output_type": "execute_result",
          "data": {
            "text/html": [
              "<div>\n",
              "<style scoped>\n",
              "    .dataframe tbody tr th:only-of-type {\n",
              "        vertical-align: middle;\n",
              "    }\n",
              "\n",
              "    .dataframe tbody tr th {\n",
              "        vertical-align: top;\n",
              "    }\n",
              "\n",
              "    .dataframe thead th {\n",
              "        text-align: right;\n",
              "    }\n",
              "</style>\n",
              "<table border=\"1\" class=\"dataframe\">\n",
              "  <thead>\n",
              "    <tr style=\"text-align: right;\">\n",
              "      <th></th>\n",
              "      <th>trans_date_trans_time</th>\n",
              "      <th>cc_num</th>\n",
              "      <th>merchant</th>\n",
              "      <th>category</th>\n",
              "      <th>amt</th>\n",
              "      <th>first</th>\n",
              "      <th>last</th>\n",
              "      <th>gender</th>\n",
              "      <th>street</th>\n",
              "      <th>city</th>\n",
              "      <th>state</th>\n",
              "      <th>zip</th>\n",
              "      <th>lat</th>\n",
              "      <th>long</th>\n",
              "      <th>city_pop</th>\n",
              "      <th>job</th>\n",
              "      <th>dob</th>\n",
              "      <th>trans_num</th>\n",
              "      <th>unix_time</th>\n",
              "      <th>merch_lat</th>\n",
              "      <th>merch_long</th>\n",
              "      <th>is_fraud</th>\n",
              "      <th>trans_hour</th>\n",
              "      <th>day_of_week</th>\n",
              "      <th>year_month</th>\n",
              "      <th>category_food_dining</th>\n",
              "      <th>category_gas_transport</th>\n",
              "      <th>category_grocery_net</th>\n",
              "      <th>category_grocery_pos</th>\n",
              "      <th>category_health_fitness</th>\n",
              "      <th>category_home</th>\n",
              "      <th>category_kids_pets</th>\n",
              "      <th>category_misc_net</th>\n",
              "      <th>category_misc_pos</th>\n",
              "      <th>category_personal_care</th>\n",
              "      <th>category_shopping_net</th>\n",
              "      <th>category_shopping_pos</th>\n",
              "      <th>category_travel</th>\n",
              "      <th>gender_M</th>\n",
              "      <th>week_Monday</th>\n",
              "      <th>week_Saturday</th>\n",
              "      <th>week_Sunday</th>\n",
              "      <th>week_Thursday</th>\n",
              "      <th>week_Tuesday</th>\n",
              "      <th>week_Wednesday</th>\n",
              "    </tr>\n",
              "  </thead>\n",
              "  <tbody>\n",
              "    <tr>\n",
              "      <th>0</th>\n",
              "      <td>2019-01-01 00:00:18</td>\n",
              "      <td>2703186189652095</td>\n",
              "      <td>fraud_Rippin, Kub and Mann</td>\n",
              "      <td>misc_net</td>\n",
              "      <td>4.97</td>\n",
              "      <td>Jennifer</td>\n",
              "      <td>Banks</td>\n",
              "      <td>F</td>\n",
              "      <td>561 Perry Cove</td>\n",
              "      <td>Moravian Falls</td>\n",
              "      <td>NC</td>\n",
              "      <td>28654</td>\n",
              "      <td>36.0788</td>\n",
              "      <td>-81.1781</td>\n",
              "      <td>3495</td>\n",
              "      <td>Psychologist, counselling</td>\n",
              "      <td>1988-03-09</td>\n",
              "      <td>0b242abb623afc578575680df30655b9</td>\n",
              "      <td>1325376018</td>\n",
              "      <td>36.011293</td>\n",
              "      <td>-82.048315</td>\n",
              "      <td>0</td>\n",
              "      <td>0</td>\n",
              "      <td>Tuesday</td>\n",
              "      <td>2019-01</td>\n",
              "      <td>0</td>\n",
              "      <td>0</td>\n",
              "      <td>0</td>\n",
              "      <td>0</td>\n",
              "      <td>0</td>\n",
              "      <td>0</td>\n",
              "      <td>0</td>\n",
              "      <td>1</td>\n",
              "      <td>0</td>\n",
              "      <td>0</td>\n",
              "      <td>0</td>\n",
              "      <td>0</td>\n",
              "      <td>0</td>\n",
              "      <td>0</td>\n",
              "      <td>0</td>\n",
              "      <td>0</td>\n",
              "      <td>0</td>\n",
              "      <td>0</td>\n",
              "      <td>1</td>\n",
              "      <td>0</td>\n",
              "    </tr>\n",
              "    <tr>\n",
              "      <th>1</th>\n",
              "      <td>2019-01-01 00:00:44</td>\n",
              "      <td>630423337322</td>\n",
              "      <td>fraud_Heller, Gutmann and Zieme</td>\n",
              "      <td>grocery_pos</td>\n",
              "      <td>107.23</td>\n",
              "      <td>Stephanie</td>\n",
              "      <td>Gill</td>\n",
              "      <td>F</td>\n",
              "      <td>43039 Riley Greens Suite 393</td>\n",
              "      <td>Orient</td>\n",
              "      <td>WA</td>\n",
              "      <td>99160</td>\n",
              "      <td>48.8878</td>\n",
              "      <td>-118.2105</td>\n",
              "      <td>149</td>\n",
              "      <td>Special educational needs teacher</td>\n",
              "      <td>1978-06-21</td>\n",
              "      <td>1f76529f8574734946361c461b024d99</td>\n",
              "      <td>1325376044</td>\n",
              "      <td>49.159047</td>\n",
              "      <td>-118.186462</td>\n",
              "      <td>0</td>\n",
              "      <td>0</td>\n",
              "      <td>Tuesday</td>\n",
              "      <td>2019-01</td>\n",
              "      <td>0</td>\n",
              "      <td>0</td>\n",
              "      <td>0</td>\n",
              "      <td>1</td>\n",
              "      <td>0</td>\n",
              "      <td>0</td>\n",
              "      <td>0</td>\n",
              "      <td>0</td>\n",
              "      <td>0</td>\n",
              "      <td>0</td>\n",
              "      <td>0</td>\n",
              "      <td>0</td>\n",
              "      <td>0</td>\n",
              "      <td>0</td>\n",
              "      <td>0</td>\n",
              "      <td>0</td>\n",
              "      <td>0</td>\n",
              "      <td>0</td>\n",
              "      <td>1</td>\n",
              "      <td>0</td>\n",
              "    </tr>\n",
              "    <tr>\n",
              "      <th>2</th>\n",
              "      <td>2019-01-01 00:00:51</td>\n",
              "      <td>38859492057661</td>\n",
              "      <td>fraud_Lind-Buckridge</td>\n",
              "      <td>entertainment</td>\n",
              "      <td>220.11</td>\n",
              "      <td>Edward</td>\n",
              "      <td>Sanchez</td>\n",
              "      <td>M</td>\n",
              "      <td>594 White Dale Suite 530</td>\n",
              "      <td>Malad City</td>\n",
              "      <td>ID</td>\n",
              "      <td>83252</td>\n",
              "      <td>42.1808</td>\n",
              "      <td>-112.2620</td>\n",
              "      <td>4154</td>\n",
              "      <td>Nature conservation officer</td>\n",
              "      <td>1962-01-19</td>\n",
              "      <td>a1a22d70485983eac12b5b88dad1cf95</td>\n",
              "      <td>1325376051</td>\n",
              "      <td>43.150704</td>\n",
              "      <td>-112.154481</td>\n",
              "      <td>0</td>\n",
              "      <td>0</td>\n",
              "      <td>Tuesday</td>\n",
              "      <td>2019-01</td>\n",
              "      <td>0</td>\n",
              "      <td>0</td>\n",
              "      <td>0</td>\n",
              "      <td>0</td>\n",
              "      <td>0</td>\n",
              "      <td>0</td>\n",
              "      <td>0</td>\n",
              "      <td>0</td>\n",
              "      <td>0</td>\n",
              "      <td>0</td>\n",
              "      <td>0</td>\n",
              "      <td>0</td>\n",
              "      <td>0</td>\n",
              "      <td>1</td>\n",
              "      <td>0</td>\n",
              "      <td>0</td>\n",
              "      <td>0</td>\n",
              "      <td>0</td>\n",
              "      <td>1</td>\n",
              "      <td>0</td>\n",
              "    </tr>\n",
              "    <tr>\n",
              "      <th>3</th>\n",
              "      <td>2019-01-01 00:01:16</td>\n",
              "      <td>3534093764340240</td>\n",
              "      <td>fraud_Kutch, Hermiston and Farrell</td>\n",
              "      <td>gas_transport</td>\n",
              "      <td>45.00</td>\n",
              "      <td>Jeremy</td>\n",
              "      <td>White</td>\n",
              "      <td>M</td>\n",
              "      <td>9443 Cynthia Court Apt. 038</td>\n",
              "      <td>Boulder</td>\n",
              "      <td>MT</td>\n",
              "      <td>59632</td>\n",
              "      <td>46.2306</td>\n",
              "      <td>-112.1138</td>\n",
              "      <td>1939</td>\n",
              "      <td>Patent attorney</td>\n",
              "      <td>1967-01-12</td>\n",
              "      <td>6b849c168bdad6f867558c3793159a81</td>\n",
              "      <td>1325376076</td>\n",
              "      <td>47.034331</td>\n",
              "      <td>-112.561071</td>\n",
              "      <td>0</td>\n",
              "      <td>0</td>\n",
              "      <td>Tuesday</td>\n",
              "      <td>2019-01</td>\n",
              "      <td>0</td>\n",
              "      <td>1</td>\n",
              "      <td>0</td>\n",
              "      <td>0</td>\n",
              "      <td>0</td>\n",
              "      <td>0</td>\n",
              "      <td>0</td>\n",
              "      <td>0</td>\n",
              "      <td>0</td>\n",
              "      <td>0</td>\n",
              "      <td>0</td>\n",
              "      <td>0</td>\n",
              "      <td>0</td>\n",
              "      <td>1</td>\n",
              "      <td>0</td>\n",
              "      <td>0</td>\n",
              "      <td>0</td>\n",
              "      <td>0</td>\n",
              "      <td>1</td>\n",
              "      <td>0</td>\n",
              "    </tr>\n",
              "    <tr>\n",
              "      <th>4</th>\n",
              "      <td>2019-01-01 00:03:06</td>\n",
              "      <td>375534208663984</td>\n",
              "      <td>fraud_Keeling-Crist</td>\n",
              "      <td>misc_pos</td>\n",
              "      <td>41.96</td>\n",
              "      <td>Tyler</td>\n",
              "      <td>Garcia</td>\n",
              "      <td>M</td>\n",
              "      <td>408 Bradley Rest</td>\n",
              "      <td>Doe Hill</td>\n",
              "      <td>VA</td>\n",
              "      <td>24433</td>\n",
              "      <td>38.4207</td>\n",
              "      <td>-79.4629</td>\n",
              "      <td>99</td>\n",
              "      <td>Dance movement psychotherapist</td>\n",
              "      <td>1986-03-28</td>\n",
              "      <td>a41d7549acf90789359a9aa5346dcb46</td>\n",
              "      <td>1325376186</td>\n",
              "      <td>38.674999</td>\n",
              "      <td>-78.632459</td>\n",
              "      <td>0</td>\n",
              "      <td>0</td>\n",
              "      <td>Tuesday</td>\n",
              "      <td>2019-01</td>\n",
              "      <td>0</td>\n",
              "      <td>0</td>\n",
              "      <td>0</td>\n",
              "      <td>0</td>\n",
              "      <td>0</td>\n",
              "      <td>0</td>\n",
              "      <td>0</td>\n",
              "      <td>0</td>\n",
              "      <td>1</td>\n",
              "      <td>0</td>\n",
              "      <td>0</td>\n",
              "      <td>0</td>\n",
              "      <td>0</td>\n",
              "      <td>1</td>\n",
              "      <td>0</td>\n",
              "      <td>0</td>\n",
              "      <td>0</td>\n",
              "      <td>0</td>\n",
              "      <td>1</td>\n",
              "      <td>0</td>\n",
              "    </tr>\n",
              "  </tbody>\n",
              "</table>\n",
              "</div>"
            ],
            "text/plain": [
              "  trans_date_trans_time            cc_num  ... week_Tuesday week_Wednesday\n",
              "0   2019-01-01 00:00:18  2703186189652095  ...            1              0\n",
              "1   2019-01-01 00:00:44      630423337322  ...            1              0\n",
              "2   2019-01-01 00:00:51    38859492057661  ...            1              0\n",
              "3   2019-01-01 00:01:16  3534093764340240  ...            1              0\n",
              "4   2019-01-01 00:03:06   375534208663984  ...            1              0\n",
              "\n",
              "[5 rows x 45 columns]"
            ]
          },
          "metadata": {
            "tags": []
          },
          "execution_count": 43
        }
      ]
    },
    {
      "cell_type": "code",
      "metadata": {
        "id": "bc2ac585-800b-456e-936d-977f8affa4c8",
        "colab": {
          "base_uri": "https://localhost:8080/"
        },
        "outputId": "bf67f2b4-76e1-46bd-cb70-45453680fe7a"
      },
      "source": [
        "df1.dtypes"
      ],
      "id": "bc2ac585-800b-456e-936d-977f8affa4c8",
      "execution_count": 44,
      "outputs": [
        {
          "output_type": "execute_result",
          "data": {
            "text/plain": [
              "trans_date_trans_time      datetime64[ns]\n",
              "cc_num                              int64\n",
              "merchant                           object\n",
              "category                           object\n",
              "amt                               float64\n",
              "first                              object\n",
              "last                               object\n",
              "gender                             object\n",
              "street                             object\n",
              "city                               object\n",
              "state                              object\n",
              "zip                                 int64\n",
              "lat                               float64\n",
              "long                              float64\n",
              "city_pop                            int64\n",
              "job                                object\n",
              "dob                                object\n",
              "trans_num                          object\n",
              "unix_time                           int64\n",
              "merch_lat                         float64\n",
              "merch_long                        float64\n",
              "is_fraud                            int64\n",
              "trans_hour                          int64\n",
              "day_of_week                        object\n",
              "year_month                      period[M]\n",
              "category_food_dining                uint8\n",
              "category_gas_transport              uint8\n",
              "category_grocery_net                uint8\n",
              "category_grocery_pos                uint8\n",
              "category_health_fitness             uint8\n",
              "category_home                       uint8\n",
              "category_kids_pets                  uint8\n",
              "category_misc_net                   uint8\n",
              "category_misc_pos                   uint8\n",
              "category_personal_care              uint8\n",
              "category_shopping_net               uint8\n",
              "category_shopping_pos               uint8\n",
              "category_travel                     uint8\n",
              "gender_M                            uint8\n",
              "week_Monday                         uint8\n",
              "week_Saturday                       uint8\n",
              "week_Sunday                         uint8\n",
              "week_Thursday                       uint8\n",
              "week_Tuesday                        uint8\n",
              "week_Wednesday                      uint8\n",
              "dtype: object"
            ]
          },
          "metadata": {
            "tags": []
          },
          "execution_count": 44
        }
      ]
    },
    {
      "cell_type": "code",
      "metadata": {
        "id": "f9a85d26-ef00-42b0-9631-03b9a950d548",
        "colab": {
          "base_uri": "https://localhost:8080/"
        },
        "outputId": "d033faff-4482-4423-ebf4-549c4fcc2bec"
      },
      "source": [
        "df1.columns"
      ],
      "id": "f9a85d26-ef00-42b0-9631-03b9a950d548",
      "execution_count": 45,
      "outputs": [
        {
          "output_type": "execute_result",
          "data": {
            "text/plain": [
              "Index(['trans_date_trans_time', 'cc_num', 'merchant', 'category', 'amt',\n",
              "       'first', 'last', 'gender', 'street', 'city', 'state', 'zip', 'lat',\n",
              "       'long', 'city_pop', 'job', 'dob', 'trans_num', 'unix_time', 'merch_lat',\n",
              "       'merch_long', 'is_fraud', 'trans_hour', 'day_of_week', 'year_month',\n",
              "       'category_food_dining', 'category_gas_transport',\n",
              "       'category_grocery_net', 'category_grocery_pos',\n",
              "       'category_health_fitness', 'category_home', 'category_kids_pets',\n",
              "       'category_misc_net', 'category_misc_pos', 'category_personal_care',\n",
              "       'category_shopping_net', 'category_shopping_pos', 'category_travel',\n",
              "       'gender_M', 'week_Monday', 'week_Saturday', 'week_Sunday',\n",
              "       'week_Thursday', 'week_Tuesday', 'week_Wednesday'],\n",
              "      dtype='object')"
            ]
          },
          "metadata": {
            "tags": []
          },
          "execution_count": 45
        }
      ]
    },
    {
      "cell_type": "code",
      "metadata": {
        "id": "250e1d8c-9e44-474d-ae89-93dc5a8fd791",
        "colab": {
          "base_uri": "https://localhost:8080/",
          "height": 522
        },
        "outputId": "6bec5184-aa81-40a0-a259-7233e131d698"
      },
      "source": [
        "df1.index = pd.to_datetime(df1['trans_date_trans_time'])\n",
        "df1 = df1.rename_axis(index={'trans_date_trans_time': 'time_index'})\n",
        "df1 = df1.sort_index()\n",
        "df1.head()"
      ],
      "id": "250e1d8c-9e44-474d-ae89-93dc5a8fd791",
      "execution_count": 46,
      "outputs": [
        {
          "output_type": "execute_result",
          "data": {
            "text/html": [
              "<div>\n",
              "<style scoped>\n",
              "    .dataframe tbody tr th:only-of-type {\n",
              "        vertical-align: middle;\n",
              "    }\n",
              "\n",
              "    .dataframe tbody tr th {\n",
              "        vertical-align: top;\n",
              "    }\n",
              "\n",
              "    .dataframe thead th {\n",
              "        text-align: right;\n",
              "    }\n",
              "</style>\n",
              "<table border=\"1\" class=\"dataframe\">\n",
              "  <thead>\n",
              "    <tr style=\"text-align: right;\">\n",
              "      <th></th>\n",
              "      <th>trans_date_trans_time</th>\n",
              "      <th>cc_num</th>\n",
              "      <th>merchant</th>\n",
              "      <th>category</th>\n",
              "      <th>amt</th>\n",
              "      <th>first</th>\n",
              "      <th>last</th>\n",
              "      <th>gender</th>\n",
              "      <th>street</th>\n",
              "      <th>city</th>\n",
              "      <th>state</th>\n",
              "      <th>zip</th>\n",
              "      <th>lat</th>\n",
              "      <th>long</th>\n",
              "      <th>city_pop</th>\n",
              "      <th>job</th>\n",
              "      <th>dob</th>\n",
              "      <th>trans_num</th>\n",
              "      <th>unix_time</th>\n",
              "      <th>merch_lat</th>\n",
              "      <th>merch_long</th>\n",
              "      <th>is_fraud</th>\n",
              "      <th>trans_hour</th>\n",
              "      <th>day_of_week</th>\n",
              "      <th>year_month</th>\n",
              "      <th>category_food_dining</th>\n",
              "      <th>category_gas_transport</th>\n",
              "      <th>category_grocery_net</th>\n",
              "      <th>category_grocery_pos</th>\n",
              "      <th>category_health_fitness</th>\n",
              "      <th>category_home</th>\n",
              "      <th>category_kids_pets</th>\n",
              "      <th>category_misc_net</th>\n",
              "      <th>category_misc_pos</th>\n",
              "      <th>category_personal_care</th>\n",
              "      <th>category_shopping_net</th>\n",
              "      <th>category_shopping_pos</th>\n",
              "      <th>category_travel</th>\n",
              "      <th>gender_M</th>\n",
              "      <th>week_Monday</th>\n",
              "      <th>week_Saturday</th>\n",
              "      <th>week_Sunday</th>\n",
              "      <th>week_Thursday</th>\n",
              "      <th>week_Tuesday</th>\n",
              "      <th>week_Wednesday</th>\n",
              "    </tr>\n",
              "    <tr>\n",
              "      <th>time_index</th>\n",
              "      <th></th>\n",
              "      <th></th>\n",
              "      <th></th>\n",
              "      <th></th>\n",
              "      <th></th>\n",
              "      <th></th>\n",
              "      <th></th>\n",
              "      <th></th>\n",
              "      <th></th>\n",
              "      <th></th>\n",
              "      <th></th>\n",
              "      <th></th>\n",
              "      <th></th>\n",
              "      <th></th>\n",
              "      <th></th>\n",
              "      <th></th>\n",
              "      <th></th>\n",
              "      <th></th>\n",
              "      <th></th>\n",
              "      <th></th>\n",
              "      <th></th>\n",
              "      <th></th>\n",
              "      <th></th>\n",
              "      <th></th>\n",
              "      <th></th>\n",
              "      <th></th>\n",
              "      <th></th>\n",
              "      <th></th>\n",
              "      <th></th>\n",
              "      <th></th>\n",
              "      <th></th>\n",
              "      <th></th>\n",
              "      <th></th>\n",
              "      <th></th>\n",
              "      <th></th>\n",
              "      <th></th>\n",
              "      <th></th>\n",
              "      <th></th>\n",
              "      <th></th>\n",
              "      <th></th>\n",
              "      <th></th>\n",
              "      <th></th>\n",
              "      <th></th>\n",
              "      <th></th>\n",
              "      <th></th>\n",
              "    </tr>\n",
              "  </thead>\n",
              "  <tbody>\n",
              "    <tr>\n",
              "      <th>2019-01-01 00:00:18</th>\n",
              "      <td>2019-01-01 00:00:18</td>\n",
              "      <td>2703186189652095</td>\n",
              "      <td>fraud_Rippin, Kub and Mann</td>\n",
              "      <td>misc_net</td>\n",
              "      <td>4.97</td>\n",
              "      <td>Jennifer</td>\n",
              "      <td>Banks</td>\n",
              "      <td>F</td>\n",
              "      <td>561 Perry Cove</td>\n",
              "      <td>Moravian Falls</td>\n",
              "      <td>NC</td>\n",
              "      <td>28654</td>\n",
              "      <td>36.0788</td>\n",
              "      <td>-81.1781</td>\n",
              "      <td>3495</td>\n",
              "      <td>Psychologist, counselling</td>\n",
              "      <td>1988-03-09</td>\n",
              "      <td>0b242abb623afc578575680df30655b9</td>\n",
              "      <td>1325376018</td>\n",
              "      <td>36.011293</td>\n",
              "      <td>-82.048315</td>\n",
              "      <td>0</td>\n",
              "      <td>0</td>\n",
              "      <td>Tuesday</td>\n",
              "      <td>2019-01</td>\n",
              "      <td>0</td>\n",
              "      <td>0</td>\n",
              "      <td>0</td>\n",
              "      <td>0</td>\n",
              "      <td>0</td>\n",
              "      <td>0</td>\n",
              "      <td>0</td>\n",
              "      <td>1</td>\n",
              "      <td>0</td>\n",
              "      <td>0</td>\n",
              "      <td>0</td>\n",
              "      <td>0</td>\n",
              "      <td>0</td>\n",
              "      <td>0</td>\n",
              "      <td>0</td>\n",
              "      <td>0</td>\n",
              "      <td>0</td>\n",
              "      <td>0</td>\n",
              "      <td>1</td>\n",
              "      <td>0</td>\n",
              "    </tr>\n",
              "    <tr>\n",
              "      <th>2019-01-01 00:00:44</th>\n",
              "      <td>2019-01-01 00:00:44</td>\n",
              "      <td>630423337322</td>\n",
              "      <td>fraud_Heller, Gutmann and Zieme</td>\n",
              "      <td>grocery_pos</td>\n",
              "      <td>107.23</td>\n",
              "      <td>Stephanie</td>\n",
              "      <td>Gill</td>\n",
              "      <td>F</td>\n",
              "      <td>43039 Riley Greens Suite 393</td>\n",
              "      <td>Orient</td>\n",
              "      <td>WA</td>\n",
              "      <td>99160</td>\n",
              "      <td>48.8878</td>\n",
              "      <td>-118.2105</td>\n",
              "      <td>149</td>\n",
              "      <td>Special educational needs teacher</td>\n",
              "      <td>1978-06-21</td>\n",
              "      <td>1f76529f8574734946361c461b024d99</td>\n",
              "      <td>1325376044</td>\n",
              "      <td>49.159047</td>\n",
              "      <td>-118.186462</td>\n",
              "      <td>0</td>\n",
              "      <td>0</td>\n",
              "      <td>Tuesday</td>\n",
              "      <td>2019-01</td>\n",
              "      <td>0</td>\n",
              "      <td>0</td>\n",
              "      <td>0</td>\n",
              "      <td>1</td>\n",
              "      <td>0</td>\n",
              "      <td>0</td>\n",
              "      <td>0</td>\n",
              "      <td>0</td>\n",
              "      <td>0</td>\n",
              "      <td>0</td>\n",
              "      <td>0</td>\n",
              "      <td>0</td>\n",
              "      <td>0</td>\n",
              "      <td>0</td>\n",
              "      <td>0</td>\n",
              "      <td>0</td>\n",
              "      <td>0</td>\n",
              "      <td>0</td>\n",
              "      <td>1</td>\n",
              "      <td>0</td>\n",
              "    </tr>\n",
              "    <tr>\n",
              "      <th>2019-01-01 00:00:51</th>\n",
              "      <td>2019-01-01 00:00:51</td>\n",
              "      <td>38859492057661</td>\n",
              "      <td>fraud_Lind-Buckridge</td>\n",
              "      <td>entertainment</td>\n",
              "      <td>220.11</td>\n",
              "      <td>Edward</td>\n",
              "      <td>Sanchez</td>\n",
              "      <td>M</td>\n",
              "      <td>594 White Dale Suite 530</td>\n",
              "      <td>Malad City</td>\n",
              "      <td>ID</td>\n",
              "      <td>83252</td>\n",
              "      <td>42.1808</td>\n",
              "      <td>-112.2620</td>\n",
              "      <td>4154</td>\n",
              "      <td>Nature conservation officer</td>\n",
              "      <td>1962-01-19</td>\n",
              "      <td>a1a22d70485983eac12b5b88dad1cf95</td>\n",
              "      <td>1325376051</td>\n",
              "      <td>43.150704</td>\n",
              "      <td>-112.154481</td>\n",
              "      <td>0</td>\n",
              "      <td>0</td>\n",
              "      <td>Tuesday</td>\n",
              "      <td>2019-01</td>\n",
              "      <td>0</td>\n",
              "      <td>0</td>\n",
              "      <td>0</td>\n",
              "      <td>0</td>\n",
              "      <td>0</td>\n",
              "      <td>0</td>\n",
              "      <td>0</td>\n",
              "      <td>0</td>\n",
              "      <td>0</td>\n",
              "      <td>0</td>\n",
              "      <td>0</td>\n",
              "      <td>0</td>\n",
              "      <td>0</td>\n",
              "      <td>1</td>\n",
              "      <td>0</td>\n",
              "      <td>0</td>\n",
              "      <td>0</td>\n",
              "      <td>0</td>\n",
              "      <td>1</td>\n",
              "      <td>0</td>\n",
              "    </tr>\n",
              "    <tr>\n",
              "      <th>2019-01-01 00:01:16</th>\n",
              "      <td>2019-01-01 00:01:16</td>\n",
              "      <td>3534093764340240</td>\n",
              "      <td>fraud_Kutch, Hermiston and Farrell</td>\n",
              "      <td>gas_transport</td>\n",
              "      <td>45.00</td>\n",
              "      <td>Jeremy</td>\n",
              "      <td>White</td>\n",
              "      <td>M</td>\n",
              "      <td>9443 Cynthia Court Apt. 038</td>\n",
              "      <td>Boulder</td>\n",
              "      <td>MT</td>\n",
              "      <td>59632</td>\n",
              "      <td>46.2306</td>\n",
              "      <td>-112.1138</td>\n",
              "      <td>1939</td>\n",
              "      <td>Patent attorney</td>\n",
              "      <td>1967-01-12</td>\n",
              "      <td>6b849c168bdad6f867558c3793159a81</td>\n",
              "      <td>1325376076</td>\n",
              "      <td>47.034331</td>\n",
              "      <td>-112.561071</td>\n",
              "      <td>0</td>\n",
              "      <td>0</td>\n",
              "      <td>Tuesday</td>\n",
              "      <td>2019-01</td>\n",
              "      <td>0</td>\n",
              "      <td>1</td>\n",
              "      <td>0</td>\n",
              "      <td>0</td>\n",
              "      <td>0</td>\n",
              "      <td>0</td>\n",
              "      <td>0</td>\n",
              "      <td>0</td>\n",
              "      <td>0</td>\n",
              "      <td>0</td>\n",
              "      <td>0</td>\n",
              "      <td>0</td>\n",
              "      <td>0</td>\n",
              "      <td>1</td>\n",
              "      <td>0</td>\n",
              "      <td>0</td>\n",
              "      <td>0</td>\n",
              "      <td>0</td>\n",
              "      <td>1</td>\n",
              "      <td>0</td>\n",
              "    </tr>\n",
              "    <tr>\n",
              "      <th>2019-01-01 00:03:06</th>\n",
              "      <td>2019-01-01 00:03:06</td>\n",
              "      <td>375534208663984</td>\n",
              "      <td>fraud_Keeling-Crist</td>\n",
              "      <td>misc_pos</td>\n",
              "      <td>41.96</td>\n",
              "      <td>Tyler</td>\n",
              "      <td>Garcia</td>\n",
              "      <td>M</td>\n",
              "      <td>408 Bradley Rest</td>\n",
              "      <td>Doe Hill</td>\n",
              "      <td>VA</td>\n",
              "      <td>24433</td>\n",
              "      <td>38.4207</td>\n",
              "      <td>-79.4629</td>\n",
              "      <td>99</td>\n",
              "      <td>Dance movement psychotherapist</td>\n",
              "      <td>1986-03-28</td>\n",
              "      <td>a41d7549acf90789359a9aa5346dcb46</td>\n",
              "      <td>1325376186</td>\n",
              "      <td>38.674999</td>\n",
              "      <td>-78.632459</td>\n",
              "      <td>0</td>\n",
              "      <td>0</td>\n",
              "      <td>Tuesday</td>\n",
              "      <td>2019-01</td>\n",
              "      <td>0</td>\n",
              "      <td>0</td>\n",
              "      <td>0</td>\n",
              "      <td>0</td>\n",
              "      <td>0</td>\n",
              "      <td>0</td>\n",
              "      <td>0</td>\n",
              "      <td>0</td>\n",
              "      <td>1</td>\n",
              "      <td>0</td>\n",
              "      <td>0</td>\n",
              "      <td>0</td>\n",
              "      <td>0</td>\n",
              "      <td>1</td>\n",
              "      <td>0</td>\n",
              "      <td>0</td>\n",
              "      <td>0</td>\n",
              "      <td>0</td>\n",
              "      <td>1</td>\n",
              "      <td>0</td>\n",
              "    </tr>\n",
              "  </tbody>\n",
              "</table>\n",
              "</div>"
            ],
            "text/plain": [
              "                    trans_date_trans_time  ...  week_Wednesday\n",
              "time_index                                 ...                \n",
              "2019-01-01 00:00:18   2019-01-01 00:00:18  ...               0\n",
              "2019-01-01 00:00:44   2019-01-01 00:00:44  ...               0\n",
              "2019-01-01 00:00:51   2019-01-01 00:00:51  ...               0\n",
              "2019-01-01 00:01:16   2019-01-01 00:01:16  ...               0\n",
              "2019-01-01 00:03:06   2019-01-01 00:03:06  ...               0\n",
              "\n",
              "[5 rows x 45 columns]"
            ]
          },
          "metadata": {
            "tags": []
          },
          "execution_count": 46
        }
      ]
    },
    {
      "cell_type": "code",
      "metadata": {
        "id": "10ccd975-2396-4f18-94a9-88125f1ba1b8",
        "colab": {
          "base_uri": "https://localhost:8080/",
          "height": 522
        },
        "outputId": "7550cc7d-7df2-4232-cde6-3ed6d0da2810"
      },
      "source": [
        "#As this dataset is highly imbalance we have to balance this by over sampling\n",
        "cnt_non_fraud = df1[df1['is_fraud'] == 0]['amt'].count()\n",
        "df1_class_fraud = df1[df1['is_fraud'] == 1]\n",
        "df1_class_nonfraud = df1[df1['is_fraud'] == 0]\n",
        "df1_class_fraud_oversample = df1_class_fraud.sample(cnt_non_fraud, replace=True)\n",
        "df1_oversampled = pd.concat([df1_class_nonfraud, df1_class_fraud_oversample], axis=0)\n",
        "df1_oversampled.head()"
      ],
      "id": "10ccd975-2396-4f18-94a9-88125f1ba1b8",
      "execution_count": 47,
      "outputs": [
        {
          "output_type": "execute_result",
          "data": {
            "text/html": [
              "<div>\n",
              "<style scoped>\n",
              "    .dataframe tbody tr th:only-of-type {\n",
              "        vertical-align: middle;\n",
              "    }\n",
              "\n",
              "    .dataframe tbody tr th {\n",
              "        vertical-align: top;\n",
              "    }\n",
              "\n",
              "    .dataframe thead th {\n",
              "        text-align: right;\n",
              "    }\n",
              "</style>\n",
              "<table border=\"1\" class=\"dataframe\">\n",
              "  <thead>\n",
              "    <tr style=\"text-align: right;\">\n",
              "      <th></th>\n",
              "      <th>trans_date_trans_time</th>\n",
              "      <th>cc_num</th>\n",
              "      <th>merchant</th>\n",
              "      <th>category</th>\n",
              "      <th>amt</th>\n",
              "      <th>first</th>\n",
              "      <th>last</th>\n",
              "      <th>gender</th>\n",
              "      <th>street</th>\n",
              "      <th>city</th>\n",
              "      <th>state</th>\n",
              "      <th>zip</th>\n",
              "      <th>lat</th>\n",
              "      <th>long</th>\n",
              "      <th>city_pop</th>\n",
              "      <th>job</th>\n",
              "      <th>dob</th>\n",
              "      <th>trans_num</th>\n",
              "      <th>unix_time</th>\n",
              "      <th>merch_lat</th>\n",
              "      <th>merch_long</th>\n",
              "      <th>is_fraud</th>\n",
              "      <th>trans_hour</th>\n",
              "      <th>day_of_week</th>\n",
              "      <th>year_month</th>\n",
              "      <th>category_food_dining</th>\n",
              "      <th>category_gas_transport</th>\n",
              "      <th>category_grocery_net</th>\n",
              "      <th>category_grocery_pos</th>\n",
              "      <th>category_health_fitness</th>\n",
              "      <th>category_home</th>\n",
              "      <th>category_kids_pets</th>\n",
              "      <th>category_misc_net</th>\n",
              "      <th>category_misc_pos</th>\n",
              "      <th>category_personal_care</th>\n",
              "      <th>category_shopping_net</th>\n",
              "      <th>category_shopping_pos</th>\n",
              "      <th>category_travel</th>\n",
              "      <th>gender_M</th>\n",
              "      <th>week_Monday</th>\n",
              "      <th>week_Saturday</th>\n",
              "      <th>week_Sunday</th>\n",
              "      <th>week_Thursday</th>\n",
              "      <th>week_Tuesday</th>\n",
              "      <th>week_Wednesday</th>\n",
              "    </tr>\n",
              "    <tr>\n",
              "      <th>time_index</th>\n",
              "      <th></th>\n",
              "      <th></th>\n",
              "      <th></th>\n",
              "      <th></th>\n",
              "      <th></th>\n",
              "      <th></th>\n",
              "      <th></th>\n",
              "      <th></th>\n",
              "      <th></th>\n",
              "      <th></th>\n",
              "      <th></th>\n",
              "      <th></th>\n",
              "      <th></th>\n",
              "      <th></th>\n",
              "      <th></th>\n",
              "      <th></th>\n",
              "      <th></th>\n",
              "      <th></th>\n",
              "      <th></th>\n",
              "      <th></th>\n",
              "      <th></th>\n",
              "      <th></th>\n",
              "      <th></th>\n",
              "      <th></th>\n",
              "      <th></th>\n",
              "      <th></th>\n",
              "      <th></th>\n",
              "      <th></th>\n",
              "      <th></th>\n",
              "      <th></th>\n",
              "      <th></th>\n",
              "      <th></th>\n",
              "      <th></th>\n",
              "      <th></th>\n",
              "      <th></th>\n",
              "      <th></th>\n",
              "      <th></th>\n",
              "      <th></th>\n",
              "      <th></th>\n",
              "      <th></th>\n",
              "      <th></th>\n",
              "      <th></th>\n",
              "      <th></th>\n",
              "      <th></th>\n",
              "      <th></th>\n",
              "    </tr>\n",
              "  </thead>\n",
              "  <tbody>\n",
              "    <tr>\n",
              "      <th>2019-01-01 00:00:18</th>\n",
              "      <td>2019-01-01 00:00:18</td>\n",
              "      <td>2703186189652095</td>\n",
              "      <td>fraud_Rippin, Kub and Mann</td>\n",
              "      <td>misc_net</td>\n",
              "      <td>4.97</td>\n",
              "      <td>Jennifer</td>\n",
              "      <td>Banks</td>\n",
              "      <td>F</td>\n",
              "      <td>561 Perry Cove</td>\n",
              "      <td>Moravian Falls</td>\n",
              "      <td>NC</td>\n",
              "      <td>28654</td>\n",
              "      <td>36.0788</td>\n",
              "      <td>-81.1781</td>\n",
              "      <td>3495</td>\n",
              "      <td>Psychologist, counselling</td>\n",
              "      <td>1988-03-09</td>\n",
              "      <td>0b242abb623afc578575680df30655b9</td>\n",
              "      <td>1325376018</td>\n",
              "      <td>36.011293</td>\n",
              "      <td>-82.048315</td>\n",
              "      <td>0</td>\n",
              "      <td>0</td>\n",
              "      <td>Tuesday</td>\n",
              "      <td>2019-01</td>\n",
              "      <td>0</td>\n",
              "      <td>0</td>\n",
              "      <td>0</td>\n",
              "      <td>0</td>\n",
              "      <td>0</td>\n",
              "      <td>0</td>\n",
              "      <td>0</td>\n",
              "      <td>1</td>\n",
              "      <td>0</td>\n",
              "      <td>0</td>\n",
              "      <td>0</td>\n",
              "      <td>0</td>\n",
              "      <td>0</td>\n",
              "      <td>0</td>\n",
              "      <td>0</td>\n",
              "      <td>0</td>\n",
              "      <td>0</td>\n",
              "      <td>0</td>\n",
              "      <td>1</td>\n",
              "      <td>0</td>\n",
              "    </tr>\n",
              "    <tr>\n",
              "      <th>2019-01-01 00:00:44</th>\n",
              "      <td>2019-01-01 00:00:44</td>\n",
              "      <td>630423337322</td>\n",
              "      <td>fraud_Heller, Gutmann and Zieme</td>\n",
              "      <td>grocery_pos</td>\n",
              "      <td>107.23</td>\n",
              "      <td>Stephanie</td>\n",
              "      <td>Gill</td>\n",
              "      <td>F</td>\n",
              "      <td>43039 Riley Greens Suite 393</td>\n",
              "      <td>Orient</td>\n",
              "      <td>WA</td>\n",
              "      <td>99160</td>\n",
              "      <td>48.8878</td>\n",
              "      <td>-118.2105</td>\n",
              "      <td>149</td>\n",
              "      <td>Special educational needs teacher</td>\n",
              "      <td>1978-06-21</td>\n",
              "      <td>1f76529f8574734946361c461b024d99</td>\n",
              "      <td>1325376044</td>\n",
              "      <td>49.159047</td>\n",
              "      <td>-118.186462</td>\n",
              "      <td>0</td>\n",
              "      <td>0</td>\n",
              "      <td>Tuesday</td>\n",
              "      <td>2019-01</td>\n",
              "      <td>0</td>\n",
              "      <td>0</td>\n",
              "      <td>0</td>\n",
              "      <td>1</td>\n",
              "      <td>0</td>\n",
              "      <td>0</td>\n",
              "      <td>0</td>\n",
              "      <td>0</td>\n",
              "      <td>0</td>\n",
              "      <td>0</td>\n",
              "      <td>0</td>\n",
              "      <td>0</td>\n",
              "      <td>0</td>\n",
              "      <td>0</td>\n",
              "      <td>0</td>\n",
              "      <td>0</td>\n",
              "      <td>0</td>\n",
              "      <td>0</td>\n",
              "      <td>1</td>\n",
              "      <td>0</td>\n",
              "    </tr>\n",
              "    <tr>\n",
              "      <th>2019-01-01 00:00:51</th>\n",
              "      <td>2019-01-01 00:00:51</td>\n",
              "      <td>38859492057661</td>\n",
              "      <td>fraud_Lind-Buckridge</td>\n",
              "      <td>entertainment</td>\n",
              "      <td>220.11</td>\n",
              "      <td>Edward</td>\n",
              "      <td>Sanchez</td>\n",
              "      <td>M</td>\n",
              "      <td>594 White Dale Suite 530</td>\n",
              "      <td>Malad City</td>\n",
              "      <td>ID</td>\n",
              "      <td>83252</td>\n",
              "      <td>42.1808</td>\n",
              "      <td>-112.2620</td>\n",
              "      <td>4154</td>\n",
              "      <td>Nature conservation officer</td>\n",
              "      <td>1962-01-19</td>\n",
              "      <td>a1a22d70485983eac12b5b88dad1cf95</td>\n",
              "      <td>1325376051</td>\n",
              "      <td>43.150704</td>\n",
              "      <td>-112.154481</td>\n",
              "      <td>0</td>\n",
              "      <td>0</td>\n",
              "      <td>Tuesday</td>\n",
              "      <td>2019-01</td>\n",
              "      <td>0</td>\n",
              "      <td>0</td>\n",
              "      <td>0</td>\n",
              "      <td>0</td>\n",
              "      <td>0</td>\n",
              "      <td>0</td>\n",
              "      <td>0</td>\n",
              "      <td>0</td>\n",
              "      <td>0</td>\n",
              "      <td>0</td>\n",
              "      <td>0</td>\n",
              "      <td>0</td>\n",
              "      <td>0</td>\n",
              "      <td>1</td>\n",
              "      <td>0</td>\n",
              "      <td>0</td>\n",
              "      <td>0</td>\n",
              "      <td>0</td>\n",
              "      <td>1</td>\n",
              "      <td>0</td>\n",
              "    </tr>\n",
              "    <tr>\n",
              "      <th>2019-01-01 00:01:16</th>\n",
              "      <td>2019-01-01 00:01:16</td>\n",
              "      <td>3534093764340240</td>\n",
              "      <td>fraud_Kutch, Hermiston and Farrell</td>\n",
              "      <td>gas_transport</td>\n",
              "      <td>45.00</td>\n",
              "      <td>Jeremy</td>\n",
              "      <td>White</td>\n",
              "      <td>M</td>\n",
              "      <td>9443 Cynthia Court Apt. 038</td>\n",
              "      <td>Boulder</td>\n",
              "      <td>MT</td>\n",
              "      <td>59632</td>\n",
              "      <td>46.2306</td>\n",
              "      <td>-112.1138</td>\n",
              "      <td>1939</td>\n",
              "      <td>Patent attorney</td>\n",
              "      <td>1967-01-12</td>\n",
              "      <td>6b849c168bdad6f867558c3793159a81</td>\n",
              "      <td>1325376076</td>\n",
              "      <td>47.034331</td>\n",
              "      <td>-112.561071</td>\n",
              "      <td>0</td>\n",
              "      <td>0</td>\n",
              "      <td>Tuesday</td>\n",
              "      <td>2019-01</td>\n",
              "      <td>0</td>\n",
              "      <td>1</td>\n",
              "      <td>0</td>\n",
              "      <td>0</td>\n",
              "      <td>0</td>\n",
              "      <td>0</td>\n",
              "      <td>0</td>\n",
              "      <td>0</td>\n",
              "      <td>0</td>\n",
              "      <td>0</td>\n",
              "      <td>0</td>\n",
              "      <td>0</td>\n",
              "      <td>0</td>\n",
              "      <td>1</td>\n",
              "      <td>0</td>\n",
              "      <td>0</td>\n",
              "      <td>0</td>\n",
              "      <td>0</td>\n",
              "      <td>1</td>\n",
              "      <td>0</td>\n",
              "    </tr>\n",
              "    <tr>\n",
              "      <th>2019-01-01 00:03:06</th>\n",
              "      <td>2019-01-01 00:03:06</td>\n",
              "      <td>375534208663984</td>\n",
              "      <td>fraud_Keeling-Crist</td>\n",
              "      <td>misc_pos</td>\n",
              "      <td>41.96</td>\n",
              "      <td>Tyler</td>\n",
              "      <td>Garcia</td>\n",
              "      <td>M</td>\n",
              "      <td>408 Bradley Rest</td>\n",
              "      <td>Doe Hill</td>\n",
              "      <td>VA</td>\n",
              "      <td>24433</td>\n",
              "      <td>38.4207</td>\n",
              "      <td>-79.4629</td>\n",
              "      <td>99</td>\n",
              "      <td>Dance movement psychotherapist</td>\n",
              "      <td>1986-03-28</td>\n",
              "      <td>a41d7549acf90789359a9aa5346dcb46</td>\n",
              "      <td>1325376186</td>\n",
              "      <td>38.674999</td>\n",
              "      <td>-78.632459</td>\n",
              "      <td>0</td>\n",
              "      <td>0</td>\n",
              "      <td>Tuesday</td>\n",
              "      <td>2019-01</td>\n",
              "      <td>0</td>\n",
              "      <td>0</td>\n",
              "      <td>0</td>\n",
              "      <td>0</td>\n",
              "      <td>0</td>\n",
              "      <td>0</td>\n",
              "      <td>0</td>\n",
              "      <td>0</td>\n",
              "      <td>1</td>\n",
              "      <td>0</td>\n",
              "      <td>0</td>\n",
              "      <td>0</td>\n",
              "      <td>0</td>\n",
              "      <td>1</td>\n",
              "      <td>0</td>\n",
              "      <td>0</td>\n",
              "      <td>0</td>\n",
              "      <td>0</td>\n",
              "      <td>1</td>\n",
              "      <td>0</td>\n",
              "    </tr>\n",
              "  </tbody>\n",
              "</table>\n",
              "</div>"
            ],
            "text/plain": [
              "                    trans_date_trans_time  ...  week_Wednesday\n",
              "time_index                                 ...                \n",
              "2019-01-01 00:00:18   2019-01-01 00:00:18  ...               0\n",
              "2019-01-01 00:00:44   2019-01-01 00:00:44  ...               0\n",
              "2019-01-01 00:00:51   2019-01-01 00:00:51  ...               0\n",
              "2019-01-01 00:01:16   2019-01-01 00:01:16  ...               0\n",
              "2019-01-01 00:03:06   2019-01-01 00:03:06  ...               0\n",
              "\n",
              "[5 rows x 45 columns]"
            ]
          },
          "metadata": {
            "tags": []
          },
          "execution_count": 47
        }
      ]
    },
    {
      "cell_type": "raw",
      "metadata": {
        "id": "8aeac295-0857-4ad4-96d5-de98b109758c"
      },
      "source": [
        "X_cols = ['cc_num', 'amt',\n",
        "        'first', 'last', 'gender', 'street', 'city', 'state', 'zip', 'lat',\n",
        "       'long', 'city_pop', 'job', 'dob', 'trans_num', 'unix_time', 'merch_lat',\n",
        "       'merch_long', 'is_fraud', 'trans_hour', 'day_of_week', 'year_month',\n",
        "       'category_food_dining', 'category_gas_transport',\n",
        "       'category_grocery_net', 'category_grocery_pos',\n",
        "       'category_health_fitness', 'category_home', 'category_kids_pets',\n",
        "       'category_misc_net', 'category_misc_pos', 'category_personal_care',\n",
        "       'category_shopping_net', 'category_travel',\n",
        "       'gender_M', 'week_Monday', 'week_Saturday', 'week_Sunday',\n",
        "       'week_Thursday', 'week_Tuesday', 'week_Wednesday'] #,X_train, X_test, y_train, y_test = train_test_split(df2_oversampled[X_cols],df2_oversampled[Y_cols] , train_size=0.7, test_size=0.3, random_state=42)\n",
        "Y_cols = ['is_fraud']"
      ],
      "id": "8aeac295-0857-4ad4-96d5-de98b109758c"
    },
    {
      "cell_type": "code",
      "metadata": {
        "id": "2bfa514a-97bc-4fcc-830a-3b570f837174"
      },
      "source": [
        "#df.set_index(df1_oversampled['trans_date_trans_time'],inplace = True)"
      ],
      "id": "2bfa514a-97bc-4fcc-830a-3b570f837174",
      "execution_count": 48,
      "outputs": []
    },
    {
      "cell_type": "code",
      "metadata": {
        "id": "c7e65d25-e881-42ff-afef-9460da8de3d8",
        "colab": {
          "base_uri": "https://localhost:8080/",
          "height": 971
        },
        "outputId": "64b3ca46-9ed8-4581-82cc-94e34237b37b"
      },
      "source": [
        "df1_oversampled.drop('trans_date_trans_time',1)"
      ],
      "id": "c7e65d25-e881-42ff-afef-9460da8de3d8",
      "execution_count": 49,
      "outputs": [
        {
          "output_type": "execute_result",
          "data": {
            "text/html": [
              "<div>\n",
              "<style scoped>\n",
              "    .dataframe tbody tr th:only-of-type {\n",
              "        vertical-align: middle;\n",
              "    }\n",
              "\n",
              "    .dataframe tbody tr th {\n",
              "        vertical-align: top;\n",
              "    }\n",
              "\n",
              "    .dataframe thead th {\n",
              "        text-align: right;\n",
              "    }\n",
              "</style>\n",
              "<table border=\"1\" class=\"dataframe\">\n",
              "  <thead>\n",
              "    <tr style=\"text-align: right;\">\n",
              "      <th></th>\n",
              "      <th>cc_num</th>\n",
              "      <th>merchant</th>\n",
              "      <th>category</th>\n",
              "      <th>amt</th>\n",
              "      <th>first</th>\n",
              "      <th>last</th>\n",
              "      <th>gender</th>\n",
              "      <th>street</th>\n",
              "      <th>city</th>\n",
              "      <th>state</th>\n",
              "      <th>zip</th>\n",
              "      <th>lat</th>\n",
              "      <th>long</th>\n",
              "      <th>city_pop</th>\n",
              "      <th>job</th>\n",
              "      <th>dob</th>\n",
              "      <th>trans_num</th>\n",
              "      <th>unix_time</th>\n",
              "      <th>merch_lat</th>\n",
              "      <th>merch_long</th>\n",
              "      <th>is_fraud</th>\n",
              "      <th>trans_hour</th>\n",
              "      <th>day_of_week</th>\n",
              "      <th>year_month</th>\n",
              "      <th>category_food_dining</th>\n",
              "      <th>category_gas_transport</th>\n",
              "      <th>category_grocery_net</th>\n",
              "      <th>category_grocery_pos</th>\n",
              "      <th>category_health_fitness</th>\n",
              "      <th>category_home</th>\n",
              "      <th>category_kids_pets</th>\n",
              "      <th>category_misc_net</th>\n",
              "      <th>category_misc_pos</th>\n",
              "      <th>category_personal_care</th>\n",
              "      <th>category_shopping_net</th>\n",
              "      <th>category_shopping_pos</th>\n",
              "      <th>category_travel</th>\n",
              "      <th>gender_M</th>\n",
              "      <th>week_Monday</th>\n",
              "      <th>week_Saturday</th>\n",
              "      <th>week_Sunday</th>\n",
              "      <th>week_Thursday</th>\n",
              "      <th>week_Tuesday</th>\n",
              "      <th>week_Wednesday</th>\n",
              "    </tr>\n",
              "    <tr>\n",
              "      <th>time_index</th>\n",
              "      <th></th>\n",
              "      <th></th>\n",
              "      <th></th>\n",
              "      <th></th>\n",
              "      <th></th>\n",
              "      <th></th>\n",
              "      <th></th>\n",
              "      <th></th>\n",
              "      <th></th>\n",
              "      <th></th>\n",
              "      <th></th>\n",
              "      <th></th>\n",
              "      <th></th>\n",
              "      <th></th>\n",
              "      <th></th>\n",
              "      <th></th>\n",
              "      <th></th>\n",
              "      <th></th>\n",
              "      <th></th>\n",
              "      <th></th>\n",
              "      <th></th>\n",
              "      <th></th>\n",
              "      <th></th>\n",
              "      <th></th>\n",
              "      <th></th>\n",
              "      <th></th>\n",
              "      <th></th>\n",
              "      <th></th>\n",
              "      <th></th>\n",
              "      <th></th>\n",
              "      <th></th>\n",
              "      <th></th>\n",
              "      <th></th>\n",
              "      <th></th>\n",
              "      <th></th>\n",
              "      <th></th>\n",
              "      <th></th>\n",
              "      <th></th>\n",
              "      <th></th>\n",
              "      <th></th>\n",
              "      <th></th>\n",
              "      <th></th>\n",
              "      <th></th>\n",
              "      <th></th>\n",
              "    </tr>\n",
              "  </thead>\n",
              "  <tbody>\n",
              "    <tr>\n",
              "      <th>2019-01-01 00:00:18</th>\n",
              "      <td>2703186189652095</td>\n",
              "      <td>fraud_Rippin, Kub and Mann</td>\n",
              "      <td>misc_net</td>\n",
              "      <td>4.97</td>\n",
              "      <td>Jennifer</td>\n",
              "      <td>Banks</td>\n",
              "      <td>F</td>\n",
              "      <td>561 Perry Cove</td>\n",
              "      <td>Moravian Falls</td>\n",
              "      <td>NC</td>\n",
              "      <td>28654</td>\n",
              "      <td>36.0788</td>\n",
              "      <td>-81.1781</td>\n",
              "      <td>3495</td>\n",
              "      <td>Psychologist, counselling</td>\n",
              "      <td>1988-03-09</td>\n",
              "      <td>0b242abb623afc578575680df30655b9</td>\n",
              "      <td>1325376018</td>\n",
              "      <td>36.011293</td>\n",
              "      <td>-82.048315</td>\n",
              "      <td>0</td>\n",
              "      <td>0</td>\n",
              "      <td>Tuesday</td>\n",
              "      <td>2019-01</td>\n",
              "      <td>0</td>\n",
              "      <td>0</td>\n",
              "      <td>0</td>\n",
              "      <td>0</td>\n",
              "      <td>0</td>\n",
              "      <td>0</td>\n",
              "      <td>0</td>\n",
              "      <td>1</td>\n",
              "      <td>0</td>\n",
              "      <td>0</td>\n",
              "      <td>0</td>\n",
              "      <td>0</td>\n",
              "      <td>0</td>\n",
              "      <td>0</td>\n",
              "      <td>0</td>\n",
              "      <td>0</td>\n",
              "      <td>0</td>\n",
              "      <td>0</td>\n",
              "      <td>1</td>\n",
              "      <td>0</td>\n",
              "    </tr>\n",
              "    <tr>\n",
              "      <th>2019-01-01 00:00:44</th>\n",
              "      <td>630423337322</td>\n",
              "      <td>fraud_Heller, Gutmann and Zieme</td>\n",
              "      <td>grocery_pos</td>\n",
              "      <td>107.23</td>\n",
              "      <td>Stephanie</td>\n",
              "      <td>Gill</td>\n",
              "      <td>F</td>\n",
              "      <td>43039 Riley Greens Suite 393</td>\n",
              "      <td>Orient</td>\n",
              "      <td>WA</td>\n",
              "      <td>99160</td>\n",
              "      <td>48.8878</td>\n",
              "      <td>-118.2105</td>\n",
              "      <td>149</td>\n",
              "      <td>Special educational needs teacher</td>\n",
              "      <td>1978-06-21</td>\n",
              "      <td>1f76529f8574734946361c461b024d99</td>\n",
              "      <td>1325376044</td>\n",
              "      <td>49.159047</td>\n",
              "      <td>-118.186462</td>\n",
              "      <td>0</td>\n",
              "      <td>0</td>\n",
              "      <td>Tuesday</td>\n",
              "      <td>2019-01</td>\n",
              "      <td>0</td>\n",
              "      <td>0</td>\n",
              "      <td>0</td>\n",
              "      <td>1</td>\n",
              "      <td>0</td>\n",
              "      <td>0</td>\n",
              "      <td>0</td>\n",
              "      <td>0</td>\n",
              "      <td>0</td>\n",
              "      <td>0</td>\n",
              "      <td>0</td>\n",
              "      <td>0</td>\n",
              "      <td>0</td>\n",
              "      <td>0</td>\n",
              "      <td>0</td>\n",
              "      <td>0</td>\n",
              "      <td>0</td>\n",
              "      <td>0</td>\n",
              "      <td>1</td>\n",
              "      <td>0</td>\n",
              "    </tr>\n",
              "    <tr>\n",
              "      <th>2019-01-01 00:00:51</th>\n",
              "      <td>38859492057661</td>\n",
              "      <td>fraud_Lind-Buckridge</td>\n",
              "      <td>entertainment</td>\n",
              "      <td>220.11</td>\n",
              "      <td>Edward</td>\n",
              "      <td>Sanchez</td>\n",
              "      <td>M</td>\n",
              "      <td>594 White Dale Suite 530</td>\n",
              "      <td>Malad City</td>\n",
              "      <td>ID</td>\n",
              "      <td>83252</td>\n",
              "      <td>42.1808</td>\n",
              "      <td>-112.2620</td>\n",
              "      <td>4154</td>\n",
              "      <td>Nature conservation officer</td>\n",
              "      <td>1962-01-19</td>\n",
              "      <td>a1a22d70485983eac12b5b88dad1cf95</td>\n",
              "      <td>1325376051</td>\n",
              "      <td>43.150704</td>\n",
              "      <td>-112.154481</td>\n",
              "      <td>0</td>\n",
              "      <td>0</td>\n",
              "      <td>Tuesday</td>\n",
              "      <td>2019-01</td>\n",
              "      <td>0</td>\n",
              "      <td>0</td>\n",
              "      <td>0</td>\n",
              "      <td>0</td>\n",
              "      <td>0</td>\n",
              "      <td>0</td>\n",
              "      <td>0</td>\n",
              "      <td>0</td>\n",
              "      <td>0</td>\n",
              "      <td>0</td>\n",
              "      <td>0</td>\n",
              "      <td>0</td>\n",
              "      <td>0</td>\n",
              "      <td>1</td>\n",
              "      <td>0</td>\n",
              "      <td>0</td>\n",
              "      <td>0</td>\n",
              "      <td>0</td>\n",
              "      <td>1</td>\n",
              "      <td>0</td>\n",
              "    </tr>\n",
              "    <tr>\n",
              "      <th>2019-01-01 00:01:16</th>\n",
              "      <td>3534093764340240</td>\n",
              "      <td>fraud_Kutch, Hermiston and Farrell</td>\n",
              "      <td>gas_transport</td>\n",
              "      <td>45.00</td>\n",
              "      <td>Jeremy</td>\n",
              "      <td>White</td>\n",
              "      <td>M</td>\n",
              "      <td>9443 Cynthia Court Apt. 038</td>\n",
              "      <td>Boulder</td>\n",
              "      <td>MT</td>\n",
              "      <td>59632</td>\n",
              "      <td>46.2306</td>\n",
              "      <td>-112.1138</td>\n",
              "      <td>1939</td>\n",
              "      <td>Patent attorney</td>\n",
              "      <td>1967-01-12</td>\n",
              "      <td>6b849c168bdad6f867558c3793159a81</td>\n",
              "      <td>1325376076</td>\n",
              "      <td>47.034331</td>\n",
              "      <td>-112.561071</td>\n",
              "      <td>0</td>\n",
              "      <td>0</td>\n",
              "      <td>Tuesday</td>\n",
              "      <td>2019-01</td>\n",
              "      <td>0</td>\n",
              "      <td>1</td>\n",
              "      <td>0</td>\n",
              "      <td>0</td>\n",
              "      <td>0</td>\n",
              "      <td>0</td>\n",
              "      <td>0</td>\n",
              "      <td>0</td>\n",
              "      <td>0</td>\n",
              "      <td>0</td>\n",
              "      <td>0</td>\n",
              "      <td>0</td>\n",
              "      <td>0</td>\n",
              "      <td>1</td>\n",
              "      <td>0</td>\n",
              "      <td>0</td>\n",
              "      <td>0</td>\n",
              "      <td>0</td>\n",
              "      <td>1</td>\n",
              "      <td>0</td>\n",
              "    </tr>\n",
              "    <tr>\n",
              "      <th>2019-01-01 00:03:06</th>\n",
              "      <td>375534208663984</td>\n",
              "      <td>fraud_Keeling-Crist</td>\n",
              "      <td>misc_pos</td>\n",
              "      <td>41.96</td>\n",
              "      <td>Tyler</td>\n",
              "      <td>Garcia</td>\n",
              "      <td>M</td>\n",
              "      <td>408 Bradley Rest</td>\n",
              "      <td>Doe Hill</td>\n",
              "      <td>VA</td>\n",
              "      <td>24433</td>\n",
              "      <td>38.4207</td>\n",
              "      <td>-79.4629</td>\n",
              "      <td>99</td>\n",
              "      <td>Dance movement psychotherapist</td>\n",
              "      <td>1986-03-28</td>\n",
              "      <td>a41d7549acf90789359a9aa5346dcb46</td>\n",
              "      <td>1325376186</td>\n",
              "      <td>38.674999</td>\n",
              "      <td>-78.632459</td>\n",
              "      <td>0</td>\n",
              "      <td>0</td>\n",
              "      <td>Tuesday</td>\n",
              "      <td>2019-01</td>\n",
              "      <td>0</td>\n",
              "      <td>0</td>\n",
              "      <td>0</td>\n",
              "      <td>0</td>\n",
              "      <td>0</td>\n",
              "      <td>0</td>\n",
              "      <td>0</td>\n",
              "      <td>0</td>\n",
              "      <td>1</td>\n",
              "      <td>0</td>\n",
              "      <td>0</td>\n",
              "      <td>0</td>\n",
              "      <td>0</td>\n",
              "      <td>1</td>\n",
              "      <td>0</td>\n",
              "      <td>0</td>\n",
              "      <td>0</td>\n",
              "      <td>0</td>\n",
              "      <td>1</td>\n",
              "      <td>0</td>\n",
              "    </tr>\n",
              "    <tr>\n",
              "      <th>...</th>\n",
              "      <td>...</td>\n",
              "      <td>...</td>\n",
              "      <td>...</td>\n",
              "      <td>...</td>\n",
              "      <td>...</td>\n",
              "      <td>...</td>\n",
              "      <td>...</td>\n",
              "      <td>...</td>\n",
              "      <td>...</td>\n",
              "      <td>...</td>\n",
              "      <td>...</td>\n",
              "      <td>...</td>\n",
              "      <td>...</td>\n",
              "      <td>...</td>\n",
              "      <td>...</td>\n",
              "      <td>...</td>\n",
              "      <td>...</td>\n",
              "      <td>...</td>\n",
              "      <td>...</td>\n",
              "      <td>...</td>\n",
              "      <td>...</td>\n",
              "      <td>...</td>\n",
              "      <td>...</td>\n",
              "      <td>...</td>\n",
              "      <td>...</td>\n",
              "      <td>...</td>\n",
              "      <td>...</td>\n",
              "      <td>...</td>\n",
              "      <td>...</td>\n",
              "      <td>...</td>\n",
              "      <td>...</td>\n",
              "      <td>...</td>\n",
              "      <td>...</td>\n",
              "      <td>...</td>\n",
              "      <td>...</td>\n",
              "      <td>...</td>\n",
              "      <td>...</td>\n",
              "      <td>...</td>\n",
              "      <td>...</td>\n",
              "      <td>...</td>\n",
              "      <td>...</td>\n",
              "      <td>...</td>\n",
              "      <td>...</td>\n",
              "      <td>...</td>\n",
              "    </tr>\n",
              "    <tr>\n",
              "      <th>2019-04-29 23:55:33</th>\n",
              "      <td>4079773899158</td>\n",
              "      <td>fraud_Huel-Langworth</td>\n",
              "      <td>misc_net</td>\n",
              "      <td>965.16</td>\n",
              "      <td>Eric</td>\n",
              "      <td>Preston</td>\n",
              "      <td>M</td>\n",
              "      <td>7020 Doyle Stream Apt. 951</td>\n",
              "      <td>Mesa</td>\n",
              "      <td>ID</td>\n",
              "      <td>83643</td>\n",
              "      <td>44.6255</td>\n",
              "      <td>-116.4493</td>\n",
              "      <td>129</td>\n",
              "      <td>Cartographer</td>\n",
              "      <td>1965-12-15</td>\n",
              "      <td>ba01001e2dae4d08ac02fae8a32f2bd4</td>\n",
              "      <td>1335743733</td>\n",
              "      <td>44.962783</td>\n",
              "      <td>-116.481540</td>\n",
              "      <td>1</td>\n",
              "      <td>23</td>\n",
              "      <td>Monday</td>\n",
              "      <td>2019-04</td>\n",
              "      <td>0</td>\n",
              "      <td>0</td>\n",
              "      <td>0</td>\n",
              "      <td>0</td>\n",
              "      <td>0</td>\n",
              "      <td>0</td>\n",
              "      <td>0</td>\n",
              "      <td>1</td>\n",
              "      <td>0</td>\n",
              "      <td>0</td>\n",
              "      <td>0</td>\n",
              "      <td>0</td>\n",
              "      <td>0</td>\n",
              "      <td>1</td>\n",
              "      <td>1</td>\n",
              "      <td>0</td>\n",
              "      <td>0</td>\n",
              "      <td>0</td>\n",
              "      <td>0</td>\n",
              "      <td>0</td>\n",
              "    </tr>\n",
              "    <tr>\n",
              "      <th>2019-11-26 22:47:19</th>\n",
              "      <td>4926376199189801</td>\n",
              "      <td>fraud_Lynch-Mohr</td>\n",
              "      <td>travel</td>\n",
              "      <td>10.89</td>\n",
              "      <td>Claire</td>\n",
              "      <td>Davis</td>\n",
              "      <td>F</td>\n",
              "      <td>83685 Matthew Center Suite 870</td>\n",
              "      <td>Cherokee Village</td>\n",
              "      <td>AR</td>\n",
              "      <td>72529</td>\n",
              "      <td>36.3011</td>\n",
              "      <td>-91.5281</td>\n",
              "      <td>4726</td>\n",
              "      <td>Pharmacologist</td>\n",
              "      <td>1977-06-07</td>\n",
              "      <td>e3738251149b363eda8521813c3e7912</td>\n",
              "      <td>1353970039</td>\n",
              "      <td>36.329613</td>\n",
              "      <td>-91.299758</td>\n",
              "      <td>1</td>\n",
              "      <td>22</td>\n",
              "      <td>Tuesday</td>\n",
              "      <td>2019-11</td>\n",
              "      <td>0</td>\n",
              "      <td>0</td>\n",
              "      <td>0</td>\n",
              "      <td>0</td>\n",
              "      <td>0</td>\n",
              "      <td>0</td>\n",
              "      <td>0</td>\n",
              "      <td>0</td>\n",
              "      <td>0</td>\n",
              "      <td>0</td>\n",
              "      <td>0</td>\n",
              "      <td>0</td>\n",
              "      <td>1</td>\n",
              "      <td>0</td>\n",
              "      <td>0</td>\n",
              "      <td>0</td>\n",
              "      <td>0</td>\n",
              "      <td>0</td>\n",
              "      <td>1</td>\n",
              "      <td>0</td>\n",
              "    </tr>\n",
              "    <tr>\n",
              "      <th>2020-05-01 01:25:30</th>\n",
              "      <td>580954173374</td>\n",
              "      <td>fraud_Friesen-Stamm</td>\n",
              "      <td>gas_transport</td>\n",
              "      <td>11.26</td>\n",
              "      <td>Jessica</td>\n",
              "      <td>Benitez</td>\n",
              "      <td>F</td>\n",
              "      <td>31281 Thomas Inlet</td>\n",
              "      <td>Montrose</td>\n",
              "      <td>NY</td>\n",
              "      <td>10548</td>\n",
              "      <td>41.2496</td>\n",
              "      <td>-73.9446</td>\n",
              "      <td>3487</td>\n",
              "      <td>Race relations officer</td>\n",
              "      <td>1960-01-13</td>\n",
              "      <td>e7c1b8cc54fb7150515d23cc84e213e4</td>\n",
              "      <td>1367371530</td>\n",
              "      <td>40.588816</td>\n",
              "      <td>-74.716845</td>\n",
              "      <td>1</td>\n",
              "      <td>1</td>\n",
              "      <td>Friday</td>\n",
              "      <td>2020-05</td>\n",
              "      <td>0</td>\n",
              "      <td>1</td>\n",
              "      <td>0</td>\n",
              "      <td>0</td>\n",
              "      <td>0</td>\n",
              "      <td>0</td>\n",
              "      <td>0</td>\n",
              "      <td>0</td>\n",
              "      <td>0</td>\n",
              "      <td>0</td>\n",
              "      <td>0</td>\n",
              "      <td>0</td>\n",
              "      <td>0</td>\n",
              "      <td>0</td>\n",
              "      <td>0</td>\n",
              "      <td>0</td>\n",
              "      <td>0</td>\n",
              "      <td>0</td>\n",
              "      <td>0</td>\n",
              "      <td>0</td>\n",
              "    </tr>\n",
              "    <tr>\n",
              "      <th>2020-11-27 22:38:31</th>\n",
              "      <td>676275912597</td>\n",
              "      <td>fraud_Greenholt, O'Hara and Balistreri</td>\n",
              "      <td>shopping_net</td>\n",
              "      <td>884.94</td>\n",
              "      <td>Edward</td>\n",
              "      <td>Hensley</td>\n",
              "      <td>M</td>\n",
              "      <td>24318 Dixon Mills</td>\n",
              "      <td>Elk Rapids</td>\n",
              "      <td>MI</td>\n",
              "      <td>49629</td>\n",
              "      <td>44.8955</td>\n",
              "      <td>-85.4082</td>\n",
              "      <td>2223</td>\n",
              "      <td>Chief Financial Officer</td>\n",
              "      <td>1986-01-18</td>\n",
              "      <td>561fe71da2ab01d7a4939190392174e1</td>\n",
              "      <td>1385591911</td>\n",
              "      <td>45.790067</td>\n",
              "      <td>-85.960250</td>\n",
              "      <td>1</td>\n",
              "      <td>22</td>\n",
              "      <td>Friday</td>\n",
              "      <td>2020-11</td>\n",
              "      <td>0</td>\n",
              "      <td>0</td>\n",
              "      <td>0</td>\n",
              "      <td>0</td>\n",
              "      <td>0</td>\n",
              "      <td>0</td>\n",
              "      <td>0</td>\n",
              "      <td>0</td>\n",
              "      <td>0</td>\n",
              "      <td>0</td>\n",
              "      <td>1</td>\n",
              "      <td>0</td>\n",
              "      <td>0</td>\n",
              "      <td>1</td>\n",
              "      <td>0</td>\n",
              "      <td>0</td>\n",
              "      <td>0</td>\n",
              "      <td>0</td>\n",
              "      <td>0</td>\n",
              "      <td>0</td>\n",
              "    </tr>\n",
              "    <tr>\n",
              "      <th>2020-01-09 22:18:00</th>\n",
              "      <td>6011693194885790</td>\n",
              "      <td>fraud_Lemke-Gutmann</td>\n",
              "      <td>shopping_net</td>\n",
              "      <td>1015.85</td>\n",
              "      <td>Victoria</td>\n",
              "      <td>Fleming</td>\n",
              "      <td>F</td>\n",
              "      <td>2807 Parker Station Suite 080</td>\n",
              "      <td>Stanchfield</td>\n",
              "      <td>MN</td>\n",
              "      <td>55080</td>\n",
              "      <td>45.6675</td>\n",
              "      <td>-93.2433</td>\n",
              "      <td>2607</td>\n",
              "      <td>Lecturer, further education</td>\n",
              "      <td>1995-12-04</td>\n",
              "      <td>ee5186380c4fdea101ffbed7d570c039</td>\n",
              "      <td>1357769880</td>\n",
              "      <td>46.228556</td>\n",
              "      <td>-93.406818</td>\n",
              "      <td>1</td>\n",
              "      <td>22</td>\n",
              "      <td>Thursday</td>\n",
              "      <td>2020-01</td>\n",
              "      <td>0</td>\n",
              "      <td>0</td>\n",
              "      <td>0</td>\n",
              "      <td>0</td>\n",
              "      <td>0</td>\n",
              "      <td>0</td>\n",
              "      <td>0</td>\n",
              "      <td>0</td>\n",
              "      <td>0</td>\n",
              "      <td>0</td>\n",
              "      <td>1</td>\n",
              "      <td>0</td>\n",
              "      <td>0</td>\n",
              "      <td>0</td>\n",
              "      <td>0</td>\n",
              "      <td>0</td>\n",
              "      <td>0</td>\n",
              "      <td>1</td>\n",
              "      <td>0</td>\n",
              "      <td>0</td>\n",
              "    </tr>\n",
              "  </tbody>\n",
              "</table>\n",
              "<p>3685486 rows × 44 columns</p>\n",
              "</div>"
            ],
            "text/plain": [
              "                               cc_num  ... week_Wednesday\n",
              "time_index                             ...               \n",
              "2019-01-01 00:00:18  2703186189652095  ...              0\n",
              "2019-01-01 00:00:44      630423337322  ...              0\n",
              "2019-01-01 00:00:51    38859492057661  ...              0\n",
              "2019-01-01 00:01:16  3534093764340240  ...              0\n",
              "2019-01-01 00:03:06   375534208663984  ...              0\n",
              "...                               ...  ...            ...\n",
              "2019-04-29 23:55:33     4079773899158  ...              0\n",
              "2019-11-26 22:47:19  4926376199189801  ...              0\n",
              "2020-05-01 01:25:30      580954173374  ...              0\n",
              "2020-11-27 22:38:31      676275912597  ...              0\n",
              "2020-01-09 22:18:00  6011693194885790  ...              0\n",
              "\n",
              "[3685486 rows x 44 columns]"
            ]
          },
          "metadata": {
            "tags": []
          },
          "execution_count": 49
        }
      ]
    },
    {
      "cell_type": "code",
      "metadata": {
        "id": "90ef7ba2-31f4-4a7a-909b-31001beb64f7"
      },
      "source": [
        "X = df1_oversampled.drop(['is_fraud','trans_date_trans_time','merchant','gender','category','first','last','street','year_month','job','city','state','trans_num','day_of_week','dob'],axis=1) \n",
        "y = df1_oversampled['is_fraud'] #target variable"
      ],
      "id": "90ef7ba2-31f4-4a7a-909b-31001beb64f7",
      "execution_count": 50,
      "outputs": []
    },
    {
      "cell_type": "code",
      "metadata": {
        "id": "683093ab-6c90-49d6-800c-2b1bb6eb6425",
        "colab": {
          "base_uri": "https://localhost:8080/"
        },
        "outputId": "7704fc85-8e61-480d-bd39-305e3df5d075"
      },
      "source": [
        "from sklearn.model_selection import train_test_split\n",
        "X_train, X_test, y_train, y_test = train_test_split(X,y , train_size=0.7, test_size=0.3, random_state=42)\n",
        "X_train.shape"
      ],
      "id": "683093ab-6c90-49d6-800c-2b1bb6eb6425",
      "execution_count": 51,
      "outputs": [
        {
          "output_type": "execute_result",
          "data": {
            "text/plain": [
              "(2579840, 30)"
            ]
          },
          "metadata": {
            "tags": []
          },
          "execution_count": 51
        }
      ]
    },
    {
      "cell_type": "code",
      "metadata": {
        "id": "5a53e7b4-0c61-4eee-a92b-9a954dbb8930",
        "colab": {
          "base_uri": "https://localhost:8080/"
        },
        "outputId": "9fa0da7f-6e33-45fa-f59c-ed5da6ea8b4d"
      },
      "source": [
        "X_train.columns\n",
        "X_train.dtypes\n"
      ],
      "id": "5a53e7b4-0c61-4eee-a92b-9a954dbb8930",
      "execution_count": 52,
      "outputs": [
        {
          "output_type": "execute_result",
          "data": {
            "text/plain": [
              "cc_num                       int64\n",
              "amt                        float64\n",
              "zip                          int64\n",
              "lat                        float64\n",
              "long                       float64\n",
              "city_pop                     int64\n",
              "unix_time                    int64\n",
              "merch_lat                  float64\n",
              "merch_long                 float64\n",
              "trans_hour                   int64\n",
              "category_food_dining         uint8\n",
              "category_gas_transport       uint8\n",
              "category_grocery_net         uint8\n",
              "category_grocery_pos         uint8\n",
              "category_health_fitness      uint8\n",
              "category_home                uint8\n",
              "category_kids_pets           uint8\n",
              "category_misc_net            uint8\n",
              "category_misc_pos            uint8\n",
              "category_personal_care       uint8\n",
              "category_shopping_net        uint8\n",
              "category_shopping_pos        uint8\n",
              "category_travel              uint8\n",
              "gender_M                     uint8\n",
              "week_Monday                  uint8\n",
              "week_Saturday                uint8\n",
              "week_Sunday                  uint8\n",
              "week_Thursday                uint8\n",
              "week_Tuesday                 uint8\n",
              "week_Wednesday               uint8\n",
              "dtype: object"
            ]
          },
          "metadata": {
            "tags": []
          },
          "execution_count": 52
        }
      ]
    },
    {
      "cell_type": "code",
      "metadata": {
        "id": "eccb7086-a45d-4d1a-b9d9-5cf02e372a2a",
        "colab": {
          "base_uri": "https://localhost:8080/"
        },
        "outputId": "97ef7356-6202-417a-efca-3b9a95f40429"
      },
      "source": [
        "y_train.dtypes"
      ],
      "id": "eccb7086-a45d-4d1a-b9d9-5cf02e372a2a",
      "execution_count": 53,
      "outputs": [
        {
          "output_type": "execute_result",
          "data": {
            "text/plain": [
              "dtype('int64')"
            ]
          },
          "metadata": {
            "tags": []
          },
          "execution_count": 53
        }
      ]
    },
    {
      "cell_type": "code",
      "metadata": {
        "id": "4b8ee0f1-117b-41f3-8123-4ed4636b952e",
        "colab": {
          "base_uri": "https://localhost:8080/",
          "height": 332
        },
        "outputId": "c9f42c59-3825-4faa-fee1-b7dd69c816f7"
      },
      "source": [
        "sm = SMOTE()\n",
        "X_train_new, y_train_new = sm.fit_resample(X_train, y_train.ravel())\n",
        "\n",
        "# to demonstrate the effect of SMOTE over imbalanced datasets\n",
        "fig, (ax1, ax2) = plt.subplots(ncols = 2, figsize =(15, 5))\n",
        "ax1.set_title('Before SMOTE')\n",
        "pd.Series(y_train).value_counts().plot.bar(ax=ax1)\n",
        "\n",
        "ax2.set_title('After SMOTE')  \n",
        "pd.Series(y_train_new).value_counts().plot.bar(ax=ax2)\n",
        "\n",
        "plt.show()"
      ],
      "id": "4b8ee0f1-117b-41f3-8123-4ed4636b952e",
      "execution_count": 54,
      "outputs": [
        {
          "output_type": "display_data",
          "data": {
            "image/png": "[encoded data removed]",
            "text/plain": [
              "<Figure size 1080x360 with 2 Axes>"
            ]
          },
          "metadata": {
            "tags": []
          }
        }
      ]
    },
    {
      "cell_type": "code",
      "metadata": {
        "id": "d8ceb614-04de-4a79-9796-65ed354f3fc0",
        "colab": {
          "base_uri": "https://localhost:8080/"
        },
        "outputId": "1f576b73-fb37-44c9-8d35-3470fbc9d3a9"
      },
      "source": [
        "X_test.shape"
      ],
      "id": "d8ceb614-04de-4a79-9796-65ed354f3fc0",
      "execution_count": 55,
      "outputs": [
        {
          "output_type": "execute_result",
          "data": {
            "text/plain": [
              "(1105646, 30)"
            ]
          },
          "metadata": {
            "tags": []
          },
          "execution_count": 55
        }
      ]
    },
    {
      "cell_type": "code",
      "metadata": {
        "id": "f108c747-3ce6-416b-a57b-7aa94fbc6a01",
        "colab": {
          "base_uri": "https://localhost:8080/"
        },
        "outputId": "ae6f109e-a95b-4476-929a-bbde0e412b84"
      },
      "source": [
        "#Building Decision Tree Model\n",
        "from sklearn.tree import DecisionTreeClassifier\n",
        "from sklearn.metrics import accuracy_score,confusion_matrix,classification_report\n",
        "dt_clf = DecisionTreeClassifier(criterion = 'gini', max_depth = 20, random_state=0)\n",
        "dt_clf.fit(X_train, y_train)\n",
        "pred_train = dt_clf.predict(X_train)\n",
        "\n",
        "print(confusion_matrix(y_train, pred_train))\n",
        "\n",
        "print(accuracy_score(y_train, pred_train))"
      ],
      "id": "f108c747-3ce6-416b-a57b-7aa94fbc6a01",
      "execution_count": 56,
      "outputs": [
        {
          "output_type": "stream",
          "text": [
            "[[1276597   13314]\n",
            " [      0 1289929]]\n",
            "0.9948392148350286\n"
          ],
          "name": "stdout"
        }
      ]
    },
    {
      "cell_type": "code",
      "metadata": {
        "id": "14760276-600b-4f4d-9224-dd69f5d54010",
        "colab": {
          "base_uri": "https://localhost:8080/"
        },
        "outputId": "8303b1f8-b991-42ff-f132-97a6a1704f32"
      },
      "source": [
        "pred_test = dt_clf.predict(X_test)\n",
        "\n",
        "print(confusion_matrix(y_test, pred_test))\n",
        "print(classification_report(y_test, pred_test))\n",
        "print(accuracy_score(y_test,pred_test))"
      ],
      "id": "14760276-600b-4f4d-9224-dd69f5d54010",
      "execution_count": 57,
      "outputs": [
        {
          "output_type": "stream",
          "text": [
            "[[546686   6146]\n",
            " [     0 552814]]\n",
            "              precision    recall  f1-score   support\n",
            "\n",
            "           0       1.00      0.99      0.99    552832\n",
            "           1       0.99      1.00      0.99    552814\n",
            "\n",
            "    accuracy                           0.99   1105646\n",
            "   macro avg       0.99      0.99      0.99   1105646\n",
            "weighted avg       0.99      0.99      0.99   1105646\n",
            "\n",
            "0.9944412587754128\n"
          ],
          "name": "stdout"
        }
      ]
    },
    {
      "cell_type": "code",
      "metadata": {
        "id": "3738cfbc-83f9-4a14-8057-c5ea762e284c",
        "colab": {
          "base_uri": "https://localhost:8080/"
        },
        "outputId": "a3e74747-9448-4c61-d0a3-1f346247e6d3"
      },
      "source": [
        "#Building Random Forest Model\n",
        "from sklearn.ensemble import RandomForestClassifier # Random Forest Classifier\n",
        "rf_clf = RandomForestClassifier(n_estimators = 50,max_depth = 20,verbose = 1)\n",
        "rf_clf.fit(X_train, y_train)\n",
        "pred_train1 = rf_clf.predict(X_train)\n",
        "\n",
        "\n",
        "print(confusion_matrix(y_train, pred_train1))\n",
        "print(classification_report(y_train, pred_train1))\n",
        "print(accuracy_score(y_train,pred_train1))"
      ],
      "id": "3738cfbc-83f9-4a14-8057-c5ea762e284c",
      "execution_count": 58,
      "outputs": [
        {
          "output_type": "stream",
          "text": [
            "[Parallel(n_jobs=1)]: Using backend SequentialBackend with 1 concurrent workers.\n",
            "[Parallel(n_jobs=1)]: Done  50 out of  50 | elapsed:  7.9min finished\n",
            "[Parallel(n_jobs=1)]: Using backend SequentialBackend with 1 concurrent workers.\n",
            "[Parallel(n_jobs=1)]: Done  50 out of  50 | elapsed:   22.1s finished\n"
          ],
          "name": "stderr"
        },
        {
          "output_type": "stream",
          "text": [
            "[[1282981    6930]\n",
            " [    254 1289675]]\n",
            "              precision    recall  f1-score   support\n",
            "\n",
            "           0       1.00      0.99      1.00   1289911\n",
            "           1       0.99      1.00      1.00   1289929\n",
            "\n",
            "    accuracy                           1.00   2579840\n",
            "   macro avg       1.00      1.00      1.00   2579840\n",
            "weighted avg       1.00      1.00      1.00   2579840\n",
            "\n",
            "0.9972153311833292\n"
          ],
          "name": "stdout"
        }
      ]
    },
    {
      "cell_type": "code",
      "metadata": {
        "id": "7fb509e0-953f-4ba1-89c2-65a375d905c5",
        "colab": {
          "base_uri": "https://localhost:8080/"
        },
        "outputId": "5e7eec51-dae3-4cd8-db29-b3d4fbdca8e0"
      },
      "source": [
        "pred_test1= rf_clf.predict(X_test)\n",
        "\n",
        "print(confusion_matrix(y_test, pred_test1))\n",
        "print(classification_report(y_test, pred_test1))\n",
        "print(accuracy_score(y_test,pred_test1))"
      ],
      "id": "7fb509e0-953f-4ba1-89c2-65a375d905c5",
      "execution_count": 59,
      "outputs": [
        {
          "output_type": "stream",
          "text": [
            "[Parallel(n_jobs=1)]: Using backend SequentialBackend with 1 concurrent workers.\n",
            "[Parallel(n_jobs=1)]: Done  50 out of  50 | elapsed:   10.4s finished\n"
          ],
          "name": "stderr"
        },
        {
          "output_type": "stream",
          "text": [
            "[[549545   3287]\n",
            " [   125 552689]]\n",
            "              precision    recall  f1-score   support\n",
            "\n",
            "           0       1.00      0.99      1.00    552832\n",
            "           1       0.99      1.00      1.00    552814\n",
            "\n",
            "    accuracy                           1.00   1105646\n",
            "   macro avg       1.00      1.00      1.00   1105646\n",
            "weighted avg       1.00      1.00      1.00   1105646\n",
            "\n",
            "0.9969140213051917\n"
          ],
          "name": "stdout"
        }
      ]
    },
    {
      "cell_type": "code",
      "metadata": {
        "id": "40G2vAkpMZFO",
        "colab": {
          "base_uri": "https://localhost:8080/"
        },
        "outputId": "5a4d07cf-c127-40c8-99a3-5f53ea4e040c"
      },
      "source": [
        "import xgboost as xgb\n",
        "xg_classifier = xgb.XGBClassifier(n_estimators = 30)   #there is also XGBRegressor\n",
        "xg_classifier.fit(X_train, y_train)"
      ],
      "id": "40G2vAkpMZFO",
      "execution_count": 60,
      "outputs": [
        {
          "output_type": "execute_result",
          "data": {
            "text/plain": [
              "XGBClassifier(base_score=0.5, booster='gbtree', colsample_bylevel=1,\n",
              "              colsample_bynode=1, colsample_bytree=1, gamma=0,\n",
              "              learning_rate=0.1, max_delta_step=0, max_depth=3,\n",
              "              min_child_weight=1, missing=None, n_estimators=30, n_jobs=1,\n",
              "              nthread=None, objective='binary:logistic', random_state=0,\n",
              "              reg_alpha=0, reg_lambda=1, scale_pos_weight=1, seed=None,\n",
              "              silent=None, subsample=1, verbosity=1)"
            ]
          },
          "metadata": {
            "tags": []
          },
          "execution_count": 60
        }
      ]
    },
    {
      "cell_type": "code",
      "metadata": {
        "id": "NP0wzay5VOB7",
        "colab": {
          "base_uri": "https://localhost:8080/"
        },
        "outputId": "e1367f18-f9d1-4ebe-b6e9-feae093877c9"
      },
      "source": [
        "pred_train2 = xg_classifier.predict(X_train)\n",
        "pred_test2 = xg_classifier.predict(X_test)\n",
        "print('Training Accuracy',accuracy_score(y_train,pred_train2))\n",
        "print('Testing Accuracy',accuracy_score(y_test,pred_test2))"
      ],
      "id": "NP0wzay5VOB7",
      "execution_count": 61,
      "outputs": [
        {
          "output_type": "stream",
          "text": [
            "Training Accuracy 0.9400005426693129\n",
            "Testing Accuracy 0.9401028900751235\n"
          ],
          "name": "stdout"
        }
      ]
    },
    {
      "cell_type": "code",
      "metadata": {
        "id": "8uWXZ9MFVOV7",
        "colab": {
          "base_uri": "https://localhost:8080/"
        },
        "outputId": "2e0d23e2-be93-41c7-c392-2960d599b8a7"
      },
      "source": [
        "from sklearn.linear_model import LogisticRegression\n",
        "model = LogisticRegression()\n",
        "model.fit(X_train , y_train)"
      ],
      "id": "8uWXZ9MFVOV7",
      "execution_count": 62,
      "outputs": [
        {
          "output_type": "execute_result",
          "data": {
            "text/plain": [
              "LogisticRegression(C=1.0, class_weight=None, dual=False, fit_intercept=True,\n",
              "                   intercept_scaling=1, l1_ratio=None, max_iter=100,\n",
              "                   multi_class='auto', n_jobs=None, penalty='l2',\n",
              "                   random_state=None, solver='lbfgs', tol=0.0001, verbose=0,\n",
              "                   warm_start=False)"
            ]
          },
          "metadata": {
            "tags": []
          },
          "execution_count": 62
        }
      ]
    },
    {
      "cell_type": "code",
      "metadata": {
        "id": "WKWNcPLuWjM_"
      },
      "source": [
        "y_pred = model.predict(X_test)"
      ],
      "id": "WKWNcPLuWjM_",
      "execution_count": 63,
      "outputs": []
    },
    {
      "cell_type": "code",
      "metadata": {
        "id": "7C0rQdJeWpMc",
        "colab": {
          "base_uri": "https://localhost:8080/"
        },
        "outputId": "ed75833e-4200-4592-9225-51b48060c33e"
      },
      "source": [
        "from sklearn.metrics import accuracy_score\n",
        "accuracy = accuracy_score(y_test , y_pred)\n",
        "accuracy "
      ],
      "id": "7C0rQdJeWpMc",
      "execution_count": 64,
      "outputs": [
        {
          "output_type": "execute_result",
          "data": {
            "text/plain": [
              "0.5000081400375889"
            ]
          },
          "metadata": {
            "tags": []
          },
          "execution_count": 64
        }
      ]
    },
    {
      "cell_type": "code",
      "metadata": {
        "id": "OizDCe7OWwWN",
        "colab": {
          "base_uri": "https://localhost:8080/"
        },
        "outputId": "d9b73aaa-0bee-42e8-a7b6-dd61b6df6e1b"
      },
      "source": [
        "from sklearn.neighbors import KNeighborsClassifier\n",
        "kn_classifier = KNeighborsClassifier(n_neighbors = 5,metric = 'minkowski',p=2)\n",
        "kn_classifier.fit(X_train,y_train)"
      ],
      "id": "OizDCe7OWwWN",
      "execution_count": 65,
      "outputs": [
        {
          "output_type": "execute_result",
          "data": {
            "text/plain": [
              "KNeighborsClassifier(algorithm='auto', leaf_size=30, metric='minkowski',\n",
              "                     metric_params=None, n_jobs=None, n_neighbors=5, p=2,\n",
              "                     weights='uniform')"
            ]
          },
          "metadata": {
            "tags": []
          },
          "execution_count": 65
        }
      ]
    },
    {
      "cell_type": "code",
      "metadata": {
        "id": "b6s5-Y2tW0B3",
        "colab": {
          "base_uri": "https://localhost:8080/"
        },
        "outputId": "863b1efe-0638-4145-968a-f9ceae84e4c9"
      },
      "source": [
        "pred_train3 = kn_classifier.predict(X_train)\n",
        "pred_test3 = kn_classifier.predict(X_test)\n",
        "print('Training Accuracy',accuracy_score(y_train,pred_train3))\n",
        "print('Testing Accuracy',accuracy_score(y_test,pred_test3))"
      ],
      "id": "b6s5-Y2tW0B3",
      "execution_count": 66,
      "outputs": [
        {
          "output_type": "stream",
          "text": [
            "Training Accuracy 0.9993906598858844\n",
            "Testing Accuracy 0.999081080201077\n"
          ],
          "name": "stdout"
        }
      ]
    },
    {
      "cell_type": "code",
      "metadata": {
        "id": "O7jg48z_XDwW",
        "colab": {
          "base_uri": "https://localhost:8080/"
        },
        "outputId": "ed36cf21-7c72-44e3-cf7f-0a495e4f1fe9"
      },
      "source": [
        "from sklearn.naive_bayes import GaussianNB\n",
        "gnb = GaussianNB()\n",
        "gnb.fit(X_train,y_train)\n",
        "gnb_pred = gnb.predict(X_test)\n",
        "\n",
        "print(confusion_matrix(y_test,gnb_pred))\n",
        "print(classification_report(y_test,gnb_pred))\n",
        "print(accuracy_score(y_test,gnb_pred))"
      ],
      "id": "O7jg48z_XDwW",
      "execution_count": 67,
      "outputs": [
        {
          "output_type": "stream",
          "text": [
            "[[ 50307 502525]\n",
            " [ 48693 504121]]\n",
            "              precision    recall  f1-score   support\n",
            "\n",
            "           0       0.51      0.09      0.15    552832\n",
            "           1       0.50      0.91      0.65    552814\n",
            "\n",
            "    accuracy                           0.50   1105646\n",
            "   macro avg       0.50      0.50      0.40   1105646\n",
            "weighted avg       0.50      0.50      0.40   1105646\n",
            "\n",
            "0.5014516400366844\n"
          ],
          "name": "stdout"
        }
      ]
    }
  ]
}